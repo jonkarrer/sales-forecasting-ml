{
  "nbformat": 4,
  "nbformat_minor": 0,
  "metadata": {
    "colab": {
      "provenance": [],
      "collapsed_sections": [
        "0NVBOo6wlVKK",
        "ZlONFzHqouqA",
        "JPMu6TaT1Noa"
      ],
      "toc_visible": true,
      "authorship_tag": "ABX9TyPbYSEg0SrMXFvD3jFAZQI9",
      "include_colab_link": true
    },
    "kernelspec": {
      "name": "python3",
      "display_name": "Python 3"
    },
    "language_info": {
      "name": "python"
    }
  },
  "cells": [
    {
      "cell_type": "markdown",
      "metadata": {
        "id": "view-in-github",
        "colab_type": "text"
      },
      "source": [
        "<a href=\"https://colab.research.google.com/github/jonkarrer/sales-forecasting-ml/blob/main/Sales_Time_Series.ipynb\" target=\"_parent\"><img src=\"https://colab.research.google.com/assets/colab-badge.svg\" alt=\"Open In Colab\"/></a>"
      ]
    },
    {
      "cell_type": "markdown",
      "source": [
        "# Store Sales - Time Series Forcasting"
      ],
      "metadata": {
        "id": "O_8YNfh-wB3N"
      }
    },
    {
      "cell_type": "markdown",
      "source": [
        "In this competition, we will predict sales for the thousands of product families sold at Favorita stores located in Ecuador. The training data includes dates, store and product information, whether that item was being promoted, as well as the sales numbers. Additional files include supplementary information that may be useful in building your models."
      ],
      "metadata": {
        "id": "FGuEQSpgwKhI"
      }
    },
    {
      "cell_type": "code",
      "source": [
        "from google.colab import userdata\n",
        "from pathlib import Path\n",
        "import os\n",
        "import pandas as pd\n",
        "import numpy as np\n",
        "from sklearn.preprocessing import LabelEncoder"
      ],
      "metadata": {
        "id": "wigP-BiQhmnA"
      },
      "execution_count": 1,
      "outputs": []
    },
    {
      "cell_type": "markdown",
      "source": [
        "Install Kaggle"
      ],
      "metadata": {
        "id": "0ErQ4uBGVVfZ"
      }
    },
    {
      "cell_type": "code",
      "execution_count": 2,
      "metadata": {
        "colab": {
          "base_uri": "https://localhost:8080/"
        },
        "id": "g3Kvk9kjCkIl",
        "outputId": "8c075add-502f-4887-f395-851d1033daab"
      },
      "outputs": [
        {
          "output_type": "stream",
          "name": "stdout",
          "text": [
            "Requirement already satisfied: kaggle in /usr/local/lib/python3.11/dist-packages (1.6.17)\n",
            "Collecting dtreeviz\n",
            "  Downloading dtreeviz-2.2.2-py3-none-any.whl.metadata (2.4 kB)\n",
            "Requirement already satisfied: six>=1.10 in /usr/local/lib/python3.11/dist-packages (from kaggle) (1.17.0)\n",
            "Requirement already satisfied: certifi>=2023.7.22 in /usr/local/lib/python3.11/dist-packages (from kaggle) (2024.12.14)\n",
            "Requirement already satisfied: python-dateutil in /usr/local/lib/python3.11/dist-packages (from kaggle) (2.8.2)\n",
            "Requirement already satisfied: requests in /usr/local/lib/python3.11/dist-packages (from kaggle) (2.32.3)\n",
            "Requirement already satisfied: tqdm in /usr/local/lib/python3.11/dist-packages (from kaggle) (4.67.1)\n",
            "Requirement already satisfied: python-slugify in /usr/local/lib/python3.11/dist-packages (from kaggle) (8.0.4)\n",
            "Requirement already satisfied: urllib3 in /usr/local/lib/python3.11/dist-packages (from kaggle) (2.3.0)\n",
            "Requirement already satisfied: bleach in /usr/local/lib/python3.11/dist-packages (from kaggle) (6.2.0)\n",
            "Requirement already satisfied: graphviz>=0.9 in /usr/local/lib/python3.11/dist-packages (from dtreeviz) (0.20.3)\n",
            "Requirement already satisfied: pandas in /usr/local/lib/python3.11/dist-packages (from dtreeviz) (2.2.2)\n",
            "Requirement already satisfied: numpy in /usr/local/lib/python3.11/dist-packages (from dtreeviz) (1.26.4)\n",
            "Requirement already satisfied: scikit-learn in /usr/local/lib/python3.11/dist-packages (from dtreeviz) (1.6.0)\n",
            "Requirement already satisfied: matplotlib in /usr/local/lib/python3.11/dist-packages (from dtreeviz) (3.10.0)\n",
            "Requirement already satisfied: colour in /usr/local/lib/python3.11/dist-packages (from dtreeviz) (0.1.5)\n",
            "Requirement already satisfied: pytest in /usr/local/lib/python3.11/dist-packages (from dtreeviz) (8.3.4)\n",
            "Requirement already satisfied: webencodings in /usr/local/lib/python3.11/dist-packages (from bleach->kaggle) (0.5.1)\n",
            "Requirement already satisfied: contourpy>=1.0.1 in /usr/local/lib/python3.11/dist-packages (from matplotlib->dtreeviz) (1.3.1)\n",
            "Requirement already satisfied: cycler>=0.10 in /usr/local/lib/python3.11/dist-packages (from matplotlib->dtreeviz) (0.12.1)\n",
            "Requirement already satisfied: fonttools>=4.22.0 in /usr/local/lib/python3.11/dist-packages (from matplotlib->dtreeviz) (4.55.3)\n",
            "Requirement already satisfied: kiwisolver>=1.3.1 in /usr/local/lib/python3.11/dist-packages (from matplotlib->dtreeviz) (1.4.8)\n",
            "Requirement already satisfied: packaging>=20.0 in /usr/local/lib/python3.11/dist-packages (from matplotlib->dtreeviz) (24.2)\n",
            "Requirement already satisfied: pillow>=8 in /usr/local/lib/python3.11/dist-packages (from matplotlib->dtreeviz) (11.1.0)\n",
            "Requirement already satisfied: pyparsing>=2.3.1 in /usr/local/lib/python3.11/dist-packages (from matplotlib->dtreeviz) (3.2.1)\n",
            "Requirement already satisfied: pytz>=2020.1 in /usr/local/lib/python3.11/dist-packages (from pandas->dtreeviz) (2024.2)\n",
            "Requirement already satisfied: tzdata>=2022.7 in /usr/local/lib/python3.11/dist-packages (from pandas->dtreeviz) (2024.2)\n",
            "Requirement already satisfied: iniconfig in /usr/local/lib/python3.11/dist-packages (from pytest->dtreeviz) (2.0.0)\n",
            "Requirement already satisfied: pluggy<2,>=1.5 in /usr/local/lib/python3.11/dist-packages (from pytest->dtreeviz) (1.5.0)\n",
            "Requirement already satisfied: text-unidecode>=1.3 in /usr/local/lib/python3.11/dist-packages (from python-slugify->kaggle) (1.3)\n",
            "Requirement already satisfied: charset-normalizer<4,>=2 in /usr/local/lib/python3.11/dist-packages (from requests->kaggle) (3.4.1)\n",
            "Requirement already satisfied: idna<4,>=2.5 in /usr/local/lib/python3.11/dist-packages (from requests->kaggle) (3.10)\n",
            "Requirement already satisfied: scipy>=1.6.0 in /usr/local/lib/python3.11/dist-packages (from scikit-learn->dtreeviz) (1.13.1)\n",
            "Requirement already satisfied: joblib>=1.2.0 in /usr/local/lib/python3.11/dist-packages (from scikit-learn->dtreeviz) (1.4.2)\n",
            "Requirement already satisfied: threadpoolctl>=3.1.0 in /usr/local/lib/python3.11/dist-packages (from scikit-learn->dtreeviz) (3.5.0)\n",
            "Downloading dtreeviz-2.2.2-py3-none-any.whl (91 kB)\n",
            "\u001b[2K   \u001b[90m━━━━━━━━━━━━━━━━━━━━━━━━━━━━━━━━━━━━━━━━\u001b[0m \u001b[32m91.8/91.8 kB\u001b[0m \u001b[31m2.2 MB/s\u001b[0m eta \u001b[36m0:00:00\u001b[0m\n",
            "\u001b[?25hInstalling collected packages: dtreeviz\n",
            "Successfully installed dtreeviz-2.2.2\n"
          ]
        }
      ],
      "source": [
        "!pip install kaggle dtreeviz"
      ]
    },
    {
      "cell_type": "markdown",
      "source": [
        "Sign into Kaggle using ENVs"
      ],
      "metadata": {
        "id": "Fib91IxZWGT8"
      }
    },
    {
      "cell_type": "code",
      "source": [
        "kaggle_username = userdata.get('KAGGLE_USERNAME')\n",
        "kaggle_key = userdata.get('KAGGLE_KEY')\n",
        "creds=f'{{\"username\":\"{kaggle_username}\",\"key\":\"{kaggle_key}\"}}'\n",
        "\n",
        "os.environ['KAGGLE_USERNAME'] = kaggle_username\n",
        "os.environ['KAGGLE_KEY'] = kaggle_key\n",
        "\n",
        "COMPETITION_NAME = \"store-sales-time-series-forecasting\""
      ],
      "metadata": {
        "id": "Hw_PRtuYYLyq"
      },
      "execution_count": 3,
      "outputs": []
    },
    {
      "cell_type": "markdown",
      "source": [
        "Grab the dataset from Kaggle"
      ],
      "metadata": {
        "id": "XrcJJMsBZnSf"
      }
    },
    {
      "cell_type": "code",
      "source": [
        "from kaggle import api\n",
        "\n",
        "if not os.path.exists(COMPETITION_NAME):\n",
        "    api.competition_download_cli(COMPETITION_NAME)\n",
        "\n",
        "!kaggle competitions download -c store-sales-time-series-forecasting\n",
        "\n",
        "# Unzip the dataset\n",
        "import zipfile\n",
        "import os\n",
        "\n",
        "with zipfile.ZipFile(f\"{COMPETITION_NAME}.zip\", \"r\") as zip_ref:\n",
        "    zip_ref.extractall(f\"{COMPETITION_NAME}\")\n",
        "\n",
        "data_path = f\"{COMPETITION_NAME}/train.csv\"\n",
        "df = pd.read_csv(data_path)\n",
        "print(df.head())"
      ],
      "metadata": {
        "colab": {
          "base_uri": "https://localhost:8080/"
        },
        "id": "0gGA1aQkZ1xX",
        "outputId": "60e256ef-02f2-46b5-f87a-4d0cb5b6a244"
      },
      "execution_count": 4,
      "outputs": [
        {
          "output_type": "stream",
          "name": "stdout",
          "text": [
            "Downloading store-sales-time-series-forecasting.zip to /content\n"
          ]
        },
        {
          "output_type": "stream",
          "name": "stderr",
          "text": [
            "100%|██████████| 21.4M/21.4M [00:00<00:00, 61.6MB/s]\n"
          ]
        },
        {
          "output_type": "stream",
          "name": "stdout",
          "text": [
            "\n",
            "store-sales-time-series-forecasting.zip: Skipping, found more recently modified local copy (use --force to force download)\n",
            "   id        date  store_nbr      family  sales  onpromotion\n",
            "0   0  2013-01-01          1  AUTOMOTIVE    0.0            0\n",
            "1   1  2013-01-01          1   BABY CARE    0.0            0\n",
            "2   2  2013-01-01          1      BEAUTY    0.0            0\n",
            "3   3  2013-01-01          1   BEVERAGES    0.0            0\n",
            "4   4  2013-01-01          1       BOOKS    0.0            0\n"
          ]
        }
      ]
    },
    {
      "cell_type": "markdown",
      "source": [
        "## Understanding the Data"
      ],
      "metadata": {
        "id": "dySru3c-clrS"
      }
    },
    {
      "cell_type": "code",
      "source": [
        "tables_in_data = [\"train.csv\", \"oil.csv\", \"stores.csv\", \"holidays_events.csv\", \"transactions.csv\", \"test.csv\", \"sample_submission.csv\"]\n",
        "for table in tables_in_data:\n",
        "    print(table)\n",
        "    df = pd.read_csv(f\"{COMPETITION_NAME}/{table}\", low_memory=False)\n",
        "    print(df.head())\n",
        "\n",
        "training_df = pd.read_csv(f\"{COMPETITION_NAME}/train.csv\", low_memory=False)\n",
        "test_df = pd.read_csv(f\"{COMPETITION_NAME}/test.csv\", low_memory=False)\n",
        "oil_df = pd.read_csv(f\"{COMPETITION_NAME}/oil.csv\", low_memory=False)\n",
        "stores_df = pd.read_csv(f\"{COMPETITION_NAME}/stores.csv\", low_memory=False)\n",
        "holiday_df = pd.read_csv(f\"{COMPETITION_NAME}/holidays_events.csv\", low_memory=False)\n",
        "transactions_df = pd.read_csv(f\"{COMPETITION_NAME}/transactions.csv\", low_memory=False)"
      ],
      "metadata": {
        "colab": {
          "base_uri": "https://localhost:8080/"
        },
        "id": "bGa4xD0Agn_9",
        "outputId": "90777ee9-c975-4e94-dd93-6927b09025dd"
      },
      "execution_count": 48,
      "outputs": [
        {
          "output_type": "stream",
          "name": "stdout",
          "text": [
            "train.csv\n",
            "   id        date  store_nbr      family  sales  onpromotion\n",
            "0   0  2013-01-01          1  AUTOMOTIVE    0.0            0\n",
            "1   1  2013-01-01          1   BABY CARE    0.0            0\n",
            "2   2  2013-01-01          1      BEAUTY    0.0            0\n",
            "3   3  2013-01-01          1   BEVERAGES    0.0            0\n",
            "4   4  2013-01-01          1       BOOKS    0.0            0\n",
            "oil.csv\n",
            "         date  dcoilwtico\n",
            "0  2013-01-01         NaN\n",
            "1  2013-01-02       93.14\n",
            "2  2013-01-03       92.97\n",
            "3  2013-01-04       93.12\n",
            "4  2013-01-07       93.20\n",
            "stores.csv\n",
            "   store_nbr           city                           state type  cluster\n",
            "0          1          Quito                       Pichincha    D       13\n",
            "1          2          Quito                       Pichincha    D       13\n",
            "2          3          Quito                       Pichincha    D        8\n",
            "3          4          Quito                       Pichincha    D        9\n",
            "4          5  Santo Domingo  Santo Domingo de los Tsachilas    D        4\n",
            "holidays_events.csv\n",
            "         date     type    locale locale_name                    description  \\\n",
            "0  2012-03-02  Holiday     Local       Manta             Fundacion de Manta   \n",
            "1  2012-04-01  Holiday  Regional    Cotopaxi  Provincializacion de Cotopaxi   \n",
            "2  2012-04-12  Holiday     Local      Cuenca            Fundacion de Cuenca   \n",
            "3  2012-04-14  Holiday     Local    Libertad      Cantonizacion de Libertad   \n",
            "4  2012-04-21  Holiday     Local    Riobamba      Cantonizacion de Riobamba   \n",
            "\n",
            "   transferred  \n",
            "0        False  \n",
            "1        False  \n",
            "2        False  \n",
            "3        False  \n",
            "4        False  \n",
            "transactions.csv\n",
            "         date  store_nbr  transactions\n",
            "0  2013-01-01         25           770\n",
            "1  2013-01-02          1          2111\n",
            "2  2013-01-02          2          2358\n",
            "3  2013-01-02          3          3487\n",
            "4  2013-01-02          4          1922\n",
            "test.csv\n",
            "        id        date  store_nbr      family  onpromotion\n",
            "0  3000888  2017-08-16          1  AUTOMOTIVE            0\n",
            "1  3000889  2017-08-16          1   BABY CARE            0\n",
            "2  3000890  2017-08-16          1      BEAUTY            2\n",
            "3  3000891  2017-08-16          1   BEVERAGES           20\n",
            "4  3000892  2017-08-16          1       BOOKS            0\n",
            "sample_submission.csv\n",
            "        id  sales\n",
            "0  3000888    0.0\n",
            "1  3000889    0.0\n",
            "2  3000890    0.0\n",
            "3  3000891    0.0\n",
            "4  3000892    0.0\n"
          ]
        }
      ]
    },
    {
      "cell_type": "markdown",
      "source": [
        "### Training Set"
      ],
      "metadata": {
        "id": "hdKNnrkJhY3w"
      }
    },
    {
      "cell_type": "code",
      "source": [
        "training_df.columns\n",
        "training_df.tail()"
      ],
      "metadata": {
        "colab": {
          "base_uri": "https://localhost:8080/",
          "height": 206
        },
        "id": "yhtlSORng-Or",
        "outputId": "6a60a515-52b5-4300-df3a-37954a9a28e1"
      },
      "execution_count": 6,
      "outputs": [
        {
          "output_type": "execute_result",
          "data": {
            "text/plain": [
              "              id        date  store_nbr                      family     sales  \\\n",
              "3000883  3000883  2017-08-15          9                     POULTRY   438.133   \n",
              "3000884  3000884  2017-08-15          9              PREPARED FOODS   154.553   \n",
              "3000885  3000885  2017-08-15          9                     PRODUCE  2419.729   \n",
              "3000886  3000886  2017-08-15          9  SCHOOL AND OFFICE SUPPLIES   121.000   \n",
              "3000887  3000887  2017-08-15          9                     SEAFOOD    16.000   \n",
              "\n",
              "         onpromotion  \n",
              "3000883            0  \n",
              "3000884            1  \n",
              "3000885          148  \n",
              "3000886            8  \n",
              "3000887            0  "
            ],
            "text/html": [
              "\n",
              "  <div id=\"df-35906dd8-b803-4a2a-a21a-966553f00ac4\" class=\"colab-df-container\">\n",
              "    <div>\n",
              "<style scoped>\n",
              "    .dataframe tbody tr th:only-of-type {\n",
              "        vertical-align: middle;\n",
              "    }\n",
              "\n",
              "    .dataframe tbody tr th {\n",
              "        vertical-align: top;\n",
              "    }\n",
              "\n",
              "    .dataframe thead th {\n",
              "        text-align: right;\n",
              "    }\n",
              "</style>\n",
              "<table border=\"1\" class=\"dataframe\">\n",
              "  <thead>\n",
              "    <tr style=\"text-align: right;\">\n",
              "      <th></th>\n",
              "      <th>id</th>\n",
              "      <th>date</th>\n",
              "      <th>store_nbr</th>\n",
              "      <th>family</th>\n",
              "      <th>sales</th>\n",
              "      <th>onpromotion</th>\n",
              "    </tr>\n",
              "  </thead>\n",
              "  <tbody>\n",
              "    <tr>\n",
              "      <th>3000883</th>\n",
              "      <td>3000883</td>\n",
              "      <td>2017-08-15</td>\n",
              "      <td>9</td>\n",
              "      <td>POULTRY</td>\n",
              "      <td>438.133</td>\n",
              "      <td>0</td>\n",
              "    </tr>\n",
              "    <tr>\n",
              "      <th>3000884</th>\n",
              "      <td>3000884</td>\n",
              "      <td>2017-08-15</td>\n",
              "      <td>9</td>\n",
              "      <td>PREPARED FOODS</td>\n",
              "      <td>154.553</td>\n",
              "      <td>1</td>\n",
              "    </tr>\n",
              "    <tr>\n",
              "      <th>3000885</th>\n",
              "      <td>3000885</td>\n",
              "      <td>2017-08-15</td>\n",
              "      <td>9</td>\n",
              "      <td>PRODUCE</td>\n",
              "      <td>2419.729</td>\n",
              "      <td>148</td>\n",
              "    </tr>\n",
              "    <tr>\n",
              "      <th>3000886</th>\n",
              "      <td>3000886</td>\n",
              "      <td>2017-08-15</td>\n",
              "      <td>9</td>\n",
              "      <td>SCHOOL AND OFFICE SUPPLIES</td>\n",
              "      <td>121.000</td>\n",
              "      <td>8</td>\n",
              "    </tr>\n",
              "    <tr>\n",
              "      <th>3000887</th>\n",
              "      <td>3000887</td>\n",
              "      <td>2017-08-15</td>\n",
              "      <td>9</td>\n",
              "      <td>SEAFOOD</td>\n",
              "      <td>16.000</td>\n",
              "      <td>0</td>\n",
              "    </tr>\n",
              "  </tbody>\n",
              "</table>\n",
              "</div>\n",
              "    <div class=\"colab-df-buttons\">\n",
              "\n",
              "  <div class=\"colab-df-container\">\n",
              "    <button class=\"colab-df-convert\" onclick=\"convertToInteractive('df-35906dd8-b803-4a2a-a21a-966553f00ac4')\"\n",
              "            title=\"Convert this dataframe to an interactive table.\"\n",
              "            style=\"display:none;\">\n",
              "\n",
              "  <svg xmlns=\"http://www.w3.org/2000/svg\" height=\"24px\" viewBox=\"0 -960 960 960\">\n",
              "    <path d=\"M120-120v-720h720v720H120Zm60-500h600v-160H180v160Zm220 220h160v-160H400v160Zm0 220h160v-160H400v160ZM180-400h160v-160H180v160Zm440 0h160v-160H620v160ZM180-180h160v-160H180v160Zm440 0h160v-160H620v160Z\"/>\n",
              "  </svg>\n",
              "    </button>\n",
              "\n",
              "  <style>\n",
              "    .colab-df-container {\n",
              "      display:flex;\n",
              "      gap: 12px;\n",
              "    }\n",
              "\n",
              "    .colab-df-convert {\n",
              "      background-color: #E8F0FE;\n",
              "      border: none;\n",
              "      border-radius: 50%;\n",
              "      cursor: pointer;\n",
              "      display: none;\n",
              "      fill: #1967D2;\n",
              "      height: 32px;\n",
              "      padding: 0 0 0 0;\n",
              "      width: 32px;\n",
              "    }\n",
              "\n",
              "    .colab-df-convert:hover {\n",
              "      background-color: #E2EBFA;\n",
              "      box-shadow: 0px 1px 2px rgba(60, 64, 67, 0.3), 0px 1px 3px 1px rgba(60, 64, 67, 0.15);\n",
              "      fill: #174EA6;\n",
              "    }\n",
              "\n",
              "    .colab-df-buttons div {\n",
              "      margin-bottom: 4px;\n",
              "    }\n",
              "\n",
              "    [theme=dark] .colab-df-convert {\n",
              "      background-color: #3B4455;\n",
              "      fill: #D2E3FC;\n",
              "    }\n",
              "\n",
              "    [theme=dark] .colab-df-convert:hover {\n",
              "      background-color: #434B5C;\n",
              "      box-shadow: 0px 1px 3px 1px rgba(0, 0, 0, 0.15);\n",
              "      filter: drop-shadow(0px 1px 2px rgba(0, 0, 0, 0.3));\n",
              "      fill: #FFFFFF;\n",
              "    }\n",
              "  </style>\n",
              "\n",
              "    <script>\n",
              "      const buttonEl =\n",
              "        document.querySelector('#df-35906dd8-b803-4a2a-a21a-966553f00ac4 button.colab-df-convert');\n",
              "      buttonEl.style.display =\n",
              "        google.colab.kernel.accessAllowed ? 'block' : 'none';\n",
              "\n",
              "      async function convertToInteractive(key) {\n",
              "        const element = document.querySelector('#df-35906dd8-b803-4a2a-a21a-966553f00ac4');\n",
              "        const dataTable =\n",
              "          await google.colab.kernel.invokeFunction('convertToInteractive',\n",
              "                                                    [key], {});\n",
              "        if (!dataTable) return;\n",
              "\n",
              "        const docLinkHtml = 'Like what you see? Visit the ' +\n",
              "          '<a target=\"_blank\" href=https://colab.research.google.com/notebooks/data_table.ipynb>data table notebook</a>'\n",
              "          + ' to learn more about interactive tables.';\n",
              "        element.innerHTML = '';\n",
              "        dataTable['output_type'] = 'display_data';\n",
              "        await google.colab.output.renderOutput(dataTable, element);\n",
              "        const docLink = document.createElement('div');\n",
              "        docLink.innerHTML = docLinkHtml;\n",
              "        element.appendChild(docLink);\n",
              "      }\n",
              "    </script>\n",
              "  </div>\n",
              "\n",
              "\n",
              "<div id=\"df-217bfdef-7330-4ac5-952c-0b71bb149c98\">\n",
              "  <button class=\"colab-df-quickchart\" onclick=\"quickchart('df-217bfdef-7330-4ac5-952c-0b71bb149c98')\"\n",
              "            title=\"Suggest charts\"\n",
              "            style=\"display:none;\">\n",
              "\n",
              "<svg xmlns=\"http://www.w3.org/2000/svg\" height=\"24px\"viewBox=\"0 0 24 24\"\n",
              "     width=\"24px\">\n",
              "    <g>\n",
              "        <path d=\"M19 3H5c-1.1 0-2 .9-2 2v14c0 1.1.9 2 2 2h14c1.1 0 2-.9 2-2V5c0-1.1-.9-2-2-2zM9 17H7v-7h2v7zm4 0h-2V7h2v10zm4 0h-2v-4h2v4z\"/>\n",
              "    </g>\n",
              "</svg>\n",
              "  </button>\n",
              "\n",
              "<style>\n",
              "  .colab-df-quickchart {\n",
              "      --bg-color: #E8F0FE;\n",
              "      --fill-color: #1967D2;\n",
              "      --hover-bg-color: #E2EBFA;\n",
              "      --hover-fill-color: #174EA6;\n",
              "      --disabled-fill-color: #AAA;\n",
              "      --disabled-bg-color: #DDD;\n",
              "  }\n",
              "\n",
              "  [theme=dark] .colab-df-quickchart {\n",
              "      --bg-color: #3B4455;\n",
              "      --fill-color: #D2E3FC;\n",
              "      --hover-bg-color: #434B5C;\n",
              "      --hover-fill-color: #FFFFFF;\n",
              "      --disabled-bg-color: #3B4455;\n",
              "      --disabled-fill-color: #666;\n",
              "  }\n",
              "\n",
              "  .colab-df-quickchart {\n",
              "    background-color: var(--bg-color);\n",
              "    border: none;\n",
              "    border-radius: 50%;\n",
              "    cursor: pointer;\n",
              "    display: none;\n",
              "    fill: var(--fill-color);\n",
              "    height: 32px;\n",
              "    padding: 0;\n",
              "    width: 32px;\n",
              "  }\n",
              "\n",
              "  .colab-df-quickchart:hover {\n",
              "    background-color: var(--hover-bg-color);\n",
              "    box-shadow: 0 1px 2px rgba(60, 64, 67, 0.3), 0 1px 3px 1px rgba(60, 64, 67, 0.15);\n",
              "    fill: var(--button-hover-fill-color);\n",
              "  }\n",
              "\n",
              "  .colab-df-quickchart-complete:disabled,\n",
              "  .colab-df-quickchart-complete:disabled:hover {\n",
              "    background-color: var(--disabled-bg-color);\n",
              "    fill: var(--disabled-fill-color);\n",
              "    box-shadow: none;\n",
              "  }\n",
              "\n",
              "  .colab-df-spinner {\n",
              "    border: 2px solid var(--fill-color);\n",
              "    border-color: transparent;\n",
              "    border-bottom-color: var(--fill-color);\n",
              "    animation:\n",
              "      spin 1s steps(1) infinite;\n",
              "  }\n",
              "\n",
              "  @keyframes spin {\n",
              "    0% {\n",
              "      border-color: transparent;\n",
              "      border-bottom-color: var(--fill-color);\n",
              "      border-left-color: var(--fill-color);\n",
              "    }\n",
              "    20% {\n",
              "      border-color: transparent;\n",
              "      border-left-color: var(--fill-color);\n",
              "      border-top-color: var(--fill-color);\n",
              "    }\n",
              "    30% {\n",
              "      border-color: transparent;\n",
              "      border-left-color: var(--fill-color);\n",
              "      border-top-color: var(--fill-color);\n",
              "      border-right-color: var(--fill-color);\n",
              "    }\n",
              "    40% {\n",
              "      border-color: transparent;\n",
              "      border-right-color: var(--fill-color);\n",
              "      border-top-color: var(--fill-color);\n",
              "    }\n",
              "    60% {\n",
              "      border-color: transparent;\n",
              "      border-right-color: var(--fill-color);\n",
              "    }\n",
              "    80% {\n",
              "      border-color: transparent;\n",
              "      border-right-color: var(--fill-color);\n",
              "      border-bottom-color: var(--fill-color);\n",
              "    }\n",
              "    90% {\n",
              "      border-color: transparent;\n",
              "      border-bottom-color: var(--fill-color);\n",
              "    }\n",
              "  }\n",
              "</style>\n",
              "\n",
              "  <script>\n",
              "    async function quickchart(key) {\n",
              "      const quickchartButtonEl =\n",
              "        document.querySelector('#' + key + ' button');\n",
              "      quickchartButtonEl.disabled = true;  // To prevent multiple clicks.\n",
              "      quickchartButtonEl.classList.add('colab-df-spinner');\n",
              "      try {\n",
              "        const charts = await google.colab.kernel.invokeFunction(\n",
              "            'suggestCharts', [key], {});\n",
              "      } catch (error) {\n",
              "        console.error('Error during call to suggestCharts:', error);\n",
              "      }\n",
              "      quickchartButtonEl.classList.remove('colab-df-spinner');\n",
              "      quickchartButtonEl.classList.add('colab-df-quickchart-complete');\n",
              "    }\n",
              "    (() => {\n",
              "      let quickchartButtonEl =\n",
              "        document.querySelector('#df-217bfdef-7330-4ac5-952c-0b71bb149c98 button');\n",
              "      quickchartButtonEl.style.display =\n",
              "        google.colab.kernel.accessAllowed ? 'block' : 'none';\n",
              "    })();\n",
              "  </script>\n",
              "</div>\n",
              "\n",
              "    </div>\n",
              "  </div>\n"
            ],
            "application/vnd.google.colaboratory.intrinsic+json": {
              "type": "dataframe",
              "repr_error": "0"
            }
          },
          "metadata": {},
          "execution_count": 6
        }
      ]
    },
    {
      "cell_type": "markdown",
      "source": [
        "The training data, comprising time series of features id, date, store_nbr, family, and onpromotion as well as the target sales.\n",
        "\n",
        "- store_nbr identifies the store at which the products are sold.\n",
        "- family identifies the type of product sold.\n",
        "- sales gives the total sales for a product family at a particular store at a - given date. Fractional values are possible since products can be sold in fractional units (1.5 kg of cheese, for instance, as opposed to 1 bag of chips).\n",
        "- onpromotion gives the total number of items in a product family that were being promoted at a store at a given date.\n",
        "- date is when the sales occured\n",
        "- id is the row identifier"
      ],
      "metadata": {
        "id": "hNsVwmnQiLaf"
      }
    },
    {
      "cell_type": "code",
      "source": [
        "training_df.nunique()"
      ],
      "metadata": {
        "colab": {
          "base_uri": "https://localhost:8080/",
          "height": 272
        },
        "id": "FbH4llB7h0Ii",
        "outputId": "4dacf0da-50f6-44f6-e99b-037b90ea8f3b"
      },
      "execution_count": 7,
      "outputs": [
        {
          "output_type": "execute_result",
          "data": {
            "text/plain": [
              "id             3000888\n",
              "date              1684\n",
              "store_nbr           54\n",
              "family              33\n",
              "sales           379610\n",
              "onpromotion        362\n",
              "dtype: int64"
            ],
            "text/html": [
              "<div>\n",
              "<style scoped>\n",
              "    .dataframe tbody tr th:only-of-type {\n",
              "        vertical-align: middle;\n",
              "    }\n",
              "\n",
              "    .dataframe tbody tr th {\n",
              "        vertical-align: top;\n",
              "    }\n",
              "\n",
              "    .dataframe thead th {\n",
              "        text-align: right;\n",
              "    }\n",
              "</style>\n",
              "<table border=\"1\" class=\"dataframe\">\n",
              "  <thead>\n",
              "    <tr style=\"text-align: right;\">\n",
              "      <th></th>\n",
              "      <th>0</th>\n",
              "    </tr>\n",
              "  </thead>\n",
              "  <tbody>\n",
              "    <tr>\n",
              "      <th>id</th>\n",
              "      <td>3000888</td>\n",
              "    </tr>\n",
              "    <tr>\n",
              "      <th>date</th>\n",
              "      <td>1684</td>\n",
              "    </tr>\n",
              "    <tr>\n",
              "      <th>store_nbr</th>\n",
              "      <td>54</td>\n",
              "    </tr>\n",
              "    <tr>\n",
              "      <th>family</th>\n",
              "      <td>33</td>\n",
              "    </tr>\n",
              "    <tr>\n",
              "      <th>sales</th>\n",
              "      <td>379610</td>\n",
              "    </tr>\n",
              "    <tr>\n",
              "      <th>onpromotion</th>\n",
              "      <td>362</td>\n",
              "    </tr>\n",
              "  </tbody>\n",
              "</table>\n",
              "</div><br><label><b>dtype:</b> int64</label>"
            ]
          },
          "metadata": {},
          "execution_count": 7
        }
      ]
    },
    {
      "cell_type": "markdown",
      "source": [
        "It seems that the family and store number are the most crucial aspects of this table."
      ],
      "metadata": {
        "id": "82NQGmDMkeJL"
      }
    },
    {
      "cell_type": "code",
      "source": [
        "print(\"** Store Number\")\n",
        "print(training_df[\"store_nbr\"].unique())\n",
        "\n",
        "print(\"** Family\")\n",
        "print(training_df[\"family\"].unique())"
      ],
      "metadata": {
        "colab": {
          "base_uri": "https://localhost:8080/"
        },
        "id": "iAU27wsaiuN2",
        "outputId": "b004b6db-2cb1-4e55-c0a6-2ff921b18f3c"
      },
      "execution_count": 8,
      "outputs": [
        {
          "output_type": "stream",
          "name": "stdout",
          "text": [
            "** Store Number\n",
            "[ 1 10 11 12 13 14 15 16 17 18 19  2 20 21 22 23 24 25 26 27 28 29  3 30\n",
            " 31 32 33 34 35 36 37 38 39  4 40 41 42 43 44 45 46 47 48 49  5 50 51 52\n",
            " 53 54  6  7  8  9]\n",
            "** Family\n",
            "['AUTOMOTIVE' 'BABY CARE' 'BEAUTY' 'BEVERAGES' 'BOOKS' 'BREAD/BAKERY'\n",
            " 'CELEBRATION' 'CLEANING' 'DAIRY' 'DELI' 'EGGS' 'FROZEN FOODS' 'GROCERY I'\n",
            " 'GROCERY II' 'HARDWARE' 'HOME AND KITCHEN I' 'HOME AND KITCHEN II'\n",
            " 'HOME APPLIANCES' 'HOME CARE' 'LADIESWEAR' 'LAWN AND GARDEN' 'LINGERIE'\n",
            " 'LIQUOR,WINE,BEER' 'MAGAZINES' 'MEATS' 'PERSONAL CARE' 'PET SUPPLIES'\n",
            " 'PLAYERS AND ELECTRONICS' 'POULTRY' 'PREPARED FOODS' 'PRODUCE'\n",
            " 'SCHOOL AND OFFICE SUPPLIES' 'SEAFOOD']\n"
          ]
        }
      ]
    },
    {
      "cell_type": "markdown",
      "source": [
        "### Stores"
      ],
      "metadata": {
        "id": "0NVBOo6wlVKK"
      }
    },
    {
      "cell_type": "markdown",
      "source": [
        "- Store metadata, including city, state, type, and cluster.\n",
        "- cluster is a grouping of similar stores.\n",
        "- store_nbr should be what is in the uniques of the training set"
      ],
      "metadata": {
        "id": "VcPci_RzlZ6C"
      }
    },
    {
      "cell_type": "code",
      "source": [
        "stores_df.nunique()"
      ],
      "metadata": {
        "colab": {
          "base_uri": "https://localhost:8080/",
          "height": 0
        },
        "id": "Xf7d1FQsjmPZ",
        "outputId": "36e331cf-6bb1-4934-9901-12a2dacdf64e"
      },
      "execution_count": 9,
      "outputs": [
        {
          "output_type": "execute_result",
          "data": {
            "text/plain": [
              "store_nbr    54\n",
              "city         22\n",
              "state        16\n",
              "type          5\n",
              "cluster      17\n",
              "dtype: int64"
            ],
            "text/html": [
              "<div>\n",
              "<style scoped>\n",
              "    .dataframe tbody tr th:only-of-type {\n",
              "        vertical-align: middle;\n",
              "    }\n",
              "\n",
              "    .dataframe tbody tr th {\n",
              "        vertical-align: top;\n",
              "    }\n",
              "\n",
              "    .dataframe thead th {\n",
              "        text-align: right;\n",
              "    }\n",
              "</style>\n",
              "<table border=\"1\" class=\"dataframe\">\n",
              "  <thead>\n",
              "    <tr style=\"text-align: right;\">\n",
              "      <th></th>\n",
              "      <th>0</th>\n",
              "    </tr>\n",
              "  </thead>\n",
              "  <tbody>\n",
              "    <tr>\n",
              "      <th>store_nbr</th>\n",
              "      <td>54</td>\n",
              "    </tr>\n",
              "    <tr>\n",
              "      <th>city</th>\n",
              "      <td>22</td>\n",
              "    </tr>\n",
              "    <tr>\n",
              "      <th>state</th>\n",
              "      <td>16</td>\n",
              "    </tr>\n",
              "    <tr>\n",
              "      <th>type</th>\n",
              "      <td>5</td>\n",
              "    </tr>\n",
              "    <tr>\n",
              "      <th>cluster</th>\n",
              "      <td>17</td>\n",
              "    </tr>\n",
              "  </tbody>\n",
              "</table>\n",
              "</div><br><label><b>dtype:</b> int64</label>"
            ]
          },
          "metadata": {},
          "execution_count": 9
        }
      ]
    },
    {
      "cell_type": "code",
      "source": [
        "print(\"** Type\")\n",
        "print(stores_df[\"type\"].unique())\n",
        "\n",
        "print(\"** Cluster\")\n",
        "print(stores_df[\"cluster\"].unique())\n",
        "\n",
        "print(\"** City\")\n",
        "print(stores_df[\"city\"].unique())\n",
        "\n",
        "print(\"** State\")\n",
        "print(stores_df[\"state\"].unique())"
      ],
      "metadata": {
        "colab": {
          "base_uri": "https://localhost:8080/"
        },
        "id": "7a9ODjzKloAq",
        "outputId": "3b8286aa-f326-441a-d539-2b81aa797ac0"
      },
      "execution_count": 10,
      "outputs": [
        {
          "output_type": "stream",
          "name": "stdout",
          "text": [
            "** Type\n",
            "['D' 'B' 'C' 'E' 'A']\n",
            "** Cluster\n",
            "[13  8  9  4  6 15  7  3 12 16  1 10  2  5 11 14 17]\n",
            "** City\n",
            "['Quito' 'Santo Domingo' 'Cayambe' 'Latacunga' 'Riobamba' 'Ibarra'\n",
            " 'Guaranda' 'Puyo' 'Ambato' 'Guayaquil' 'Salinas' 'Daule' 'Babahoyo'\n",
            " 'Quevedo' 'Playas' 'Libertad' 'Cuenca' 'Loja' 'Machala' 'Esmeraldas'\n",
            " 'Manta' 'El Carmen']\n",
            "** State\n",
            "['Pichincha' 'Santo Domingo de los Tsachilas' 'Cotopaxi' 'Chimborazo'\n",
            " 'Imbabura' 'Bolivar' 'Pastaza' 'Tungurahua' 'Guayas' 'Santa Elena'\n",
            " 'Los Rios' 'Azuay' 'Loja' 'El Oro' 'Esmeraldas' 'Manabi']\n"
          ]
        }
      ]
    },
    {
      "cell_type": "markdown",
      "source": [
        "### Oil"
      ],
      "metadata": {
        "id": "ZlONFzHqouqA"
      }
    },
    {
      "cell_type": "markdown",
      "source": [
        "Daily oil price. Includes values during both the train and test data timeframes. (Ecuador is an oil-dependent country and it's economical health is highly vulnerable to shocks in oil prices.)"
      ],
      "metadata": {
        "id": "jAk2o6wpow4L"
      }
    },
    {
      "cell_type": "code",
      "source": [
        "oil_df.nunique()"
      ],
      "metadata": {
        "colab": {
          "base_uri": "https://localhost:8080/",
          "height": 0
        },
        "id": "n3InIeXFl5zU",
        "outputId": "2323d573-9c07-48ba-edf7-6aca16f6edf8"
      },
      "execution_count": 11,
      "outputs": [
        {
          "output_type": "execute_result",
          "data": {
            "text/plain": [
              "date          1218\n",
              "dcoilwtico     998\n",
              "dtype: int64"
            ],
            "text/html": [
              "<div>\n",
              "<style scoped>\n",
              "    .dataframe tbody tr th:only-of-type {\n",
              "        vertical-align: middle;\n",
              "    }\n",
              "\n",
              "    .dataframe tbody tr th {\n",
              "        vertical-align: top;\n",
              "    }\n",
              "\n",
              "    .dataframe thead th {\n",
              "        text-align: right;\n",
              "    }\n",
              "</style>\n",
              "<table border=\"1\" class=\"dataframe\">\n",
              "  <thead>\n",
              "    <tr style=\"text-align: right;\">\n",
              "      <th></th>\n",
              "      <th>0</th>\n",
              "    </tr>\n",
              "  </thead>\n",
              "  <tbody>\n",
              "    <tr>\n",
              "      <th>date</th>\n",
              "      <td>1218</td>\n",
              "    </tr>\n",
              "    <tr>\n",
              "      <th>dcoilwtico</th>\n",
              "      <td>998</td>\n",
              "    </tr>\n",
              "  </tbody>\n",
              "</table>\n",
              "</div><br><label><b>dtype:</b> int64</label>"
            ]
          },
          "metadata": {},
          "execution_count": 11
        }
      ]
    },
    {
      "cell_type": "markdown",
      "source": [
        "### Holiday Events"
      ],
      "metadata": {
        "id": "29PhdK4JpMNd"
      }
    },
    {
      "cell_type": "markdown",
      "source": [
        "- Holidays and Events, with metadata\n",
        "- NOTE: Pay special attention to the transferred column. A holiday that is transferred officially falls on that calendar day, but was moved to another date by the government. A transferred day is more like a normal day than a holiday. To find the day that it was actually celebrated, look for the corresponding row where type is Transfer. For example, the holiday Independencia de Guayaquil was transferred from 2012-10-09 to 2012-10-12, which means it was celebrated on 2012-10-12. Days that are type Bridge are extra days that are added to a holiday (e.g., to extend the break across a long weekend). These are frequently made up by the type Work Day which is a day not normally scheduled for work (e.g., Saturday) that is meant to payback the Bridge.\n",
        "- Additional holidays are days added a regular calendar holiday, for example, as typically happens around Christmas (making Christmas Eve a holiday)."
      ],
      "metadata": {
        "id": "nzU149VSpQBi"
      }
    },
    {
      "cell_type": "code",
      "source": [
        "holiday_df.nunique()"
      ],
      "metadata": {
        "colab": {
          "base_uri": "https://localhost:8080/",
          "height": 272
        },
        "id": "ovkF1M7EpOqu",
        "outputId": "c1e3df78-6f7e-4b65-af20-15b0391313e3"
      },
      "execution_count": 12,
      "outputs": [
        {
          "output_type": "execute_result",
          "data": {
            "text/plain": [
              "date           312\n",
              "type             6\n",
              "locale           3\n",
              "locale_name     24\n",
              "description    103\n",
              "transferred      2\n",
              "dtype: int64"
            ],
            "text/html": [
              "<div>\n",
              "<style scoped>\n",
              "    .dataframe tbody tr th:only-of-type {\n",
              "        vertical-align: middle;\n",
              "    }\n",
              "\n",
              "    .dataframe tbody tr th {\n",
              "        vertical-align: top;\n",
              "    }\n",
              "\n",
              "    .dataframe thead th {\n",
              "        text-align: right;\n",
              "    }\n",
              "</style>\n",
              "<table border=\"1\" class=\"dataframe\">\n",
              "  <thead>\n",
              "    <tr style=\"text-align: right;\">\n",
              "      <th></th>\n",
              "      <th>0</th>\n",
              "    </tr>\n",
              "  </thead>\n",
              "  <tbody>\n",
              "    <tr>\n",
              "      <th>date</th>\n",
              "      <td>312</td>\n",
              "    </tr>\n",
              "    <tr>\n",
              "      <th>type</th>\n",
              "      <td>6</td>\n",
              "    </tr>\n",
              "    <tr>\n",
              "      <th>locale</th>\n",
              "      <td>3</td>\n",
              "    </tr>\n",
              "    <tr>\n",
              "      <th>locale_name</th>\n",
              "      <td>24</td>\n",
              "    </tr>\n",
              "    <tr>\n",
              "      <th>description</th>\n",
              "      <td>103</td>\n",
              "    </tr>\n",
              "    <tr>\n",
              "      <th>transferred</th>\n",
              "      <td>2</td>\n",
              "    </tr>\n",
              "  </tbody>\n",
              "</table>\n",
              "</div><br><label><b>dtype:</b> int64</label>"
            ]
          },
          "metadata": {},
          "execution_count": 12
        }
      ]
    },
    {
      "cell_type": "code",
      "source": [
        "print(\"** Type\")\n",
        "print(holiday_df[\"type\"].unique())\n",
        "\n",
        "print(\"** Locale\")\n",
        "print(holiday_df[\"locale\"].unique())\n",
        "\n",
        "print(\"** Locale Name\")\n",
        "print(holiday_df[\"locale_name\"].unique())\n",
        "\n",
        "print(\"Transferred\")\n",
        "print(holiday_df[\"transferred\"].unique())"
      ],
      "metadata": {
        "colab": {
          "base_uri": "https://localhost:8080/"
        },
        "id": "cCp5U7wfp4VA",
        "outputId": "3a9363b4-f4cb-4e4d-9613-aead541fb006"
      },
      "execution_count": 13,
      "outputs": [
        {
          "output_type": "stream",
          "name": "stdout",
          "text": [
            "** Type\n",
            "['Holiday' 'Transfer' 'Additional' 'Bridge' 'Work Day' 'Event']\n",
            "** Locale\n",
            "['Local' 'Regional' 'National']\n",
            "** Locale Name\n",
            "['Manta' 'Cotopaxi' 'Cuenca' 'Libertad' 'Riobamba' 'Puyo' 'Guaranda'\n",
            " 'Imbabura' 'Latacunga' 'Machala' 'Santo Domingo' 'El Carmen' 'Cayambe'\n",
            " 'Esmeraldas' 'Ecuador' 'Ambato' 'Ibarra' 'Quevedo'\n",
            " 'Santo Domingo de los Tsachilas' 'Santa Elena' 'Quito' 'Loja' 'Salinas'\n",
            " 'Guayaquil']\n",
            "Transferred\n",
            "[False  True]\n"
          ]
        }
      ]
    },
    {
      "cell_type": "markdown",
      "source": [
        "I would like to peak in and see how many holidays are type \"transfer\" or what is the count of \"trasferred\" is true"
      ],
      "metadata": {
        "id": "ZDOUosPgx3XN"
      }
    },
    {
      "cell_type": "code",
      "source": [
        "holiday_df[\"transferred\"].value_counts()"
      ],
      "metadata": {
        "colab": {
          "base_uri": "https://localhost:8080/",
          "height": 178
        },
        "id": "7zWJ_ggwyCVw",
        "outputId": "9deab973-a86f-43b7-ed06-e2e9aca93dd8"
      },
      "execution_count": 14,
      "outputs": [
        {
          "output_type": "execute_result",
          "data": {
            "text/plain": [
              "transferred\n",
              "False    338\n",
              "True      12\n",
              "Name: count, dtype: int64"
            ],
            "text/html": [
              "<div>\n",
              "<style scoped>\n",
              "    .dataframe tbody tr th:only-of-type {\n",
              "        vertical-align: middle;\n",
              "    }\n",
              "\n",
              "    .dataframe tbody tr th {\n",
              "        vertical-align: top;\n",
              "    }\n",
              "\n",
              "    .dataframe thead th {\n",
              "        text-align: right;\n",
              "    }\n",
              "</style>\n",
              "<table border=\"1\" class=\"dataframe\">\n",
              "  <thead>\n",
              "    <tr style=\"text-align: right;\">\n",
              "      <th></th>\n",
              "      <th>count</th>\n",
              "    </tr>\n",
              "    <tr>\n",
              "      <th>transferred</th>\n",
              "      <th></th>\n",
              "    </tr>\n",
              "  </thead>\n",
              "  <tbody>\n",
              "    <tr>\n",
              "      <th>False</th>\n",
              "      <td>338</td>\n",
              "    </tr>\n",
              "    <tr>\n",
              "      <th>True</th>\n",
              "      <td>12</td>\n",
              "    </tr>\n",
              "  </tbody>\n",
              "</table>\n",
              "</div><br><label><b>dtype:</b> int64</label>"
            ]
          },
          "metadata": {},
          "execution_count": 14
        }
      ]
    },
    {
      "cell_type": "markdown",
      "source": [
        "Seeing that the transfer count is so low, I will remove them as an outlier most likely during data prep."
      ],
      "metadata": {
        "id": "p4dZBC7Uy1KO"
      }
    },
    {
      "cell_type": "markdown",
      "source": [
        "### Transactions"
      ],
      "metadata": {
        "id": "JPMu6TaT1Noa"
      }
    },
    {
      "cell_type": "markdown",
      "source": [
        "The date, store number, and how many transactions occured that day."
      ],
      "metadata": {
        "id": "9zS4VX0i2I2F"
      }
    },
    {
      "cell_type": "code",
      "source": [
        "transactions_df.nunique()"
      ],
      "metadata": {
        "colab": {
          "base_uri": "https://localhost:8080/",
          "height": 0
        },
        "id": "DGqPp-mI10L4",
        "outputId": "3e884d3e-87dd-4d19-b52b-2e46cb0c8912"
      },
      "execution_count": 15,
      "outputs": [
        {
          "output_type": "execute_result",
          "data": {
            "text/plain": [
              "date            1682\n",
              "store_nbr         54\n",
              "transactions    4993\n",
              "dtype: int64"
            ],
            "text/html": [
              "<div>\n",
              "<style scoped>\n",
              "    .dataframe tbody tr th:only-of-type {\n",
              "        vertical-align: middle;\n",
              "    }\n",
              "\n",
              "    .dataframe tbody tr th {\n",
              "        vertical-align: top;\n",
              "    }\n",
              "\n",
              "    .dataframe thead th {\n",
              "        text-align: right;\n",
              "    }\n",
              "</style>\n",
              "<table border=\"1\" class=\"dataframe\">\n",
              "  <thead>\n",
              "    <tr style=\"text-align: right;\">\n",
              "      <th></th>\n",
              "      <th>0</th>\n",
              "    </tr>\n",
              "  </thead>\n",
              "  <tbody>\n",
              "    <tr>\n",
              "      <th>date</th>\n",
              "      <td>1682</td>\n",
              "    </tr>\n",
              "    <tr>\n",
              "      <th>store_nbr</th>\n",
              "      <td>54</td>\n",
              "    </tr>\n",
              "    <tr>\n",
              "      <th>transactions</th>\n",
              "      <td>4993</td>\n",
              "    </tr>\n",
              "  </tbody>\n",
              "</table>\n",
              "</div><br><label><b>dtype:</b> int64</label>"
            ]
          },
          "metadata": {},
          "execution_count": 15
        }
      ]
    },
    {
      "cell_type": "markdown",
      "source": [
        "## Data Preperation"
      ],
      "metadata": {
        "id": "CootcMfivv5m"
      }
    },
    {
      "cell_type": "markdown",
      "source": [
        "I think ultimatley we want a single table with as much enriched and useful data as possible on it. Our training dataset can enriched with data from our tables in theory."
      ],
      "metadata": {
        "id": "3zlMFFvbrhsF"
      }
    },
    {
      "cell_type": "markdown",
      "source": [
        "### Dates"
      ],
      "metadata": {
        "id": "NtYc33DxsYnJ"
      }
    },
    {
      "cell_type": "markdown",
      "source": [
        "A common approach for dates is to expand them into day of the week or month and if it is a holiday."
      ],
      "metadata": {
        "id": "ik9JOz-Hsdz7"
      }
    },
    {
      "cell_type": "code",
      "source": [
        "# Remove the transferred holidays from the holiday_events.csv\n",
        "if \"transferred\" in holiday_df.columns:\n",
        "    holiday_df = holiday_df[holiday_df[\"transferred\"] == False]\n",
        "    holiday_df = holiday_df.drop(columns=[\"transferred\", \"description\"])\n",
        "    holiday_df = holiday_df[holiday_df[\"type\"] != \"Transfer\"]\n",
        "\n",
        "# Merge events from holiday events csv into train csv on date\n",
        "merged_df = pd.merge(training_df, holiday_df[[\"date\",\"type\", \"locale_name\"]], on=\"date\", how=\"left\")\n",
        "merged_df[\"type\"] = merged_df[\"type\"].fillna(\"Regular\")\n",
        "merged_df[\"locale_name\"] = merged_df[\"locale_name\"].fillna(\"Regular\")\n",
        "merged_df = merged_df.rename(columns={\"type\": \"date_event\", \"locale_name\": \"date_event_locale\"})\n",
        "\n",
        "# Break dates into date parts\n",
        "merged_df[\"date\"] = pd.to_datetime(merged_df[\"date\"])\n",
        "merged_df[\"day_of_week\"] = merged_df[\"date\"].dt.dayofweek\n",
        "merged_df[\"month\"] = merged_df[\"date\"].dt.month\n",
        "merged_df[\"year\"] = merged_df[\"date\"].dt.year\n",
        "merged_df[\"day_of_month\"] = merged_df[\"date\"].dt.day\n",
        "merged_df[\"day_of_year\"] = merged_df[\"date\"].dt.dayofyear\n",
        "merged_df[\"quarter_of_year\"] = merged_df[\"date\"].dt.quarter\n",
        "merged_df[\"is_weekend\"] = merged_df[\"day_of_week\"].apply(lambda x: 1 if x in [5, 6] else 0)\n",
        "merged_df.head()"
      ],
      "metadata": {
        "colab": {
          "base_uri": "https://localhost:8080/",
          "height": 206
        },
        "id": "26zlnPDHsdIi",
        "outputId": "8c0b6f74-b4e9-4ec6-9a5d-96106bcb39e3"
      },
      "execution_count": 16,
      "outputs": [
        {
          "output_type": "execute_result",
          "data": {
            "text/plain": [
              "   id       date  store_nbr      family  sales  onpromotion date_event  \\\n",
              "0   0 2013-01-01          1  AUTOMOTIVE    0.0            0    Holiday   \n",
              "1   1 2013-01-01          1   BABY CARE    0.0            0    Holiday   \n",
              "2   2 2013-01-01          1      BEAUTY    0.0            0    Holiday   \n",
              "3   3 2013-01-01          1   BEVERAGES    0.0            0    Holiday   \n",
              "4   4 2013-01-01          1       BOOKS    0.0            0    Holiday   \n",
              "\n",
              "  date_event_locale  day_of_week  month  year  day_of_month  day_of_year  \\\n",
              "0           Ecuador            1      1  2013             1            1   \n",
              "1           Ecuador            1      1  2013             1            1   \n",
              "2           Ecuador            1      1  2013             1            1   \n",
              "3           Ecuador            1      1  2013             1            1   \n",
              "4           Ecuador            1      1  2013             1            1   \n",
              "\n",
              "   quarter_of_year  is_weekend  \n",
              "0                1           0  \n",
              "1                1           0  \n",
              "2                1           0  \n",
              "3                1           0  \n",
              "4                1           0  "
            ],
            "text/html": [
              "\n",
              "  <div id=\"df-6ff90b6e-801d-4f74-a52c-db9ea78b841b\" class=\"colab-df-container\">\n",
              "    <div>\n",
              "<style scoped>\n",
              "    .dataframe tbody tr th:only-of-type {\n",
              "        vertical-align: middle;\n",
              "    }\n",
              "\n",
              "    .dataframe tbody tr th {\n",
              "        vertical-align: top;\n",
              "    }\n",
              "\n",
              "    .dataframe thead th {\n",
              "        text-align: right;\n",
              "    }\n",
              "</style>\n",
              "<table border=\"1\" class=\"dataframe\">\n",
              "  <thead>\n",
              "    <tr style=\"text-align: right;\">\n",
              "      <th></th>\n",
              "      <th>id</th>\n",
              "      <th>date</th>\n",
              "      <th>store_nbr</th>\n",
              "      <th>family</th>\n",
              "      <th>sales</th>\n",
              "      <th>onpromotion</th>\n",
              "      <th>date_event</th>\n",
              "      <th>date_event_locale</th>\n",
              "      <th>day_of_week</th>\n",
              "      <th>month</th>\n",
              "      <th>year</th>\n",
              "      <th>day_of_month</th>\n",
              "      <th>day_of_year</th>\n",
              "      <th>quarter_of_year</th>\n",
              "      <th>is_weekend</th>\n",
              "    </tr>\n",
              "  </thead>\n",
              "  <tbody>\n",
              "    <tr>\n",
              "      <th>0</th>\n",
              "      <td>0</td>\n",
              "      <td>2013-01-01</td>\n",
              "      <td>1</td>\n",
              "      <td>AUTOMOTIVE</td>\n",
              "      <td>0.0</td>\n",
              "      <td>0</td>\n",
              "      <td>Holiday</td>\n",
              "      <td>Ecuador</td>\n",
              "      <td>1</td>\n",
              "      <td>1</td>\n",
              "      <td>2013</td>\n",
              "      <td>1</td>\n",
              "      <td>1</td>\n",
              "      <td>1</td>\n",
              "      <td>0</td>\n",
              "    </tr>\n",
              "    <tr>\n",
              "      <th>1</th>\n",
              "      <td>1</td>\n",
              "      <td>2013-01-01</td>\n",
              "      <td>1</td>\n",
              "      <td>BABY CARE</td>\n",
              "      <td>0.0</td>\n",
              "      <td>0</td>\n",
              "      <td>Holiday</td>\n",
              "      <td>Ecuador</td>\n",
              "      <td>1</td>\n",
              "      <td>1</td>\n",
              "      <td>2013</td>\n",
              "      <td>1</td>\n",
              "      <td>1</td>\n",
              "      <td>1</td>\n",
              "      <td>0</td>\n",
              "    </tr>\n",
              "    <tr>\n",
              "      <th>2</th>\n",
              "      <td>2</td>\n",
              "      <td>2013-01-01</td>\n",
              "      <td>1</td>\n",
              "      <td>BEAUTY</td>\n",
              "      <td>0.0</td>\n",
              "      <td>0</td>\n",
              "      <td>Holiday</td>\n",
              "      <td>Ecuador</td>\n",
              "      <td>1</td>\n",
              "      <td>1</td>\n",
              "      <td>2013</td>\n",
              "      <td>1</td>\n",
              "      <td>1</td>\n",
              "      <td>1</td>\n",
              "      <td>0</td>\n",
              "    </tr>\n",
              "    <tr>\n",
              "      <th>3</th>\n",
              "      <td>3</td>\n",
              "      <td>2013-01-01</td>\n",
              "      <td>1</td>\n",
              "      <td>BEVERAGES</td>\n",
              "      <td>0.0</td>\n",
              "      <td>0</td>\n",
              "      <td>Holiday</td>\n",
              "      <td>Ecuador</td>\n",
              "      <td>1</td>\n",
              "      <td>1</td>\n",
              "      <td>2013</td>\n",
              "      <td>1</td>\n",
              "      <td>1</td>\n",
              "      <td>1</td>\n",
              "      <td>0</td>\n",
              "    </tr>\n",
              "    <tr>\n",
              "      <th>4</th>\n",
              "      <td>4</td>\n",
              "      <td>2013-01-01</td>\n",
              "      <td>1</td>\n",
              "      <td>BOOKS</td>\n",
              "      <td>0.0</td>\n",
              "      <td>0</td>\n",
              "      <td>Holiday</td>\n",
              "      <td>Ecuador</td>\n",
              "      <td>1</td>\n",
              "      <td>1</td>\n",
              "      <td>2013</td>\n",
              "      <td>1</td>\n",
              "      <td>1</td>\n",
              "      <td>1</td>\n",
              "      <td>0</td>\n",
              "    </tr>\n",
              "  </tbody>\n",
              "</table>\n",
              "</div>\n",
              "    <div class=\"colab-df-buttons\">\n",
              "\n",
              "  <div class=\"colab-df-container\">\n",
              "    <button class=\"colab-df-convert\" onclick=\"convertToInteractive('df-6ff90b6e-801d-4f74-a52c-db9ea78b841b')\"\n",
              "            title=\"Convert this dataframe to an interactive table.\"\n",
              "            style=\"display:none;\">\n",
              "\n",
              "  <svg xmlns=\"http://www.w3.org/2000/svg\" height=\"24px\" viewBox=\"0 -960 960 960\">\n",
              "    <path d=\"M120-120v-720h720v720H120Zm60-500h600v-160H180v160Zm220 220h160v-160H400v160Zm0 220h160v-160H400v160ZM180-400h160v-160H180v160Zm440 0h160v-160H620v160ZM180-180h160v-160H180v160Zm440 0h160v-160H620v160Z\"/>\n",
              "  </svg>\n",
              "    </button>\n",
              "\n",
              "  <style>\n",
              "    .colab-df-container {\n",
              "      display:flex;\n",
              "      gap: 12px;\n",
              "    }\n",
              "\n",
              "    .colab-df-convert {\n",
              "      background-color: #E8F0FE;\n",
              "      border: none;\n",
              "      border-radius: 50%;\n",
              "      cursor: pointer;\n",
              "      display: none;\n",
              "      fill: #1967D2;\n",
              "      height: 32px;\n",
              "      padding: 0 0 0 0;\n",
              "      width: 32px;\n",
              "    }\n",
              "\n",
              "    .colab-df-convert:hover {\n",
              "      background-color: #E2EBFA;\n",
              "      box-shadow: 0px 1px 2px rgba(60, 64, 67, 0.3), 0px 1px 3px 1px rgba(60, 64, 67, 0.15);\n",
              "      fill: #174EA6;\n",
              "    }\n",
              "\n",
              "    .colab-df-buttons div {\n",
              "      margin-bottom: 4px;\n",
              "    }\n",
              "\n",
              "    [theme=dark] .colab-df-convert {\n",
              "      background-color: #3B4455;\n",
              "      fill: #D2E3FC;\n",
              "    }\n",
              "\n",
              "    [theme=dark] .colab-df-convert:hover {\n",
              "      background-color: #434B5C;\n",
              "      box-shadow: 0px 1px 3px 1px rgba(0, 0, 0, 0.15);\n",
              "      filter: drop-shadow(0px 1px 2px rgba(0, 0, 0, 0.3));\n",
              "      fill: #FFFFFF;\n",
              "    }\n",
              "  </style>\n",
              "\n",
              "    <script>\n",
              "      const buttonEl =\n",
              "        document.querySelector('#df-6ff90b6e-801d-4f74-a52c-db9ea78b841b button.colab-df-convert');\n",
              "      buttonEl.style.display =\n",
              "        google.colab.kernel.accessAllowed ? 'block' : 'none';\n",
              "\n",
              "      async function convertToInteractive(key) {\n",
              "        const element = document.querySelector('#df-6ff90b6e-801d-4f74-a52c-db9ea78b841b');\n",
              "        const dataTable =\n",
              "          await google.colab.kernel.invokeFunction('convertToInteractive',\n",
              "                                                    [key], {});\n",
              "        if (!dataTable) return;\n",
              "\n",
              "        const docLinkHtml = 'Like what you see? Visit the ' +\n",
              "          '<a target=\"_blank\" href=https://colab.research.google.com/notebooks/data_table.ipynb>data table notebook</a>'\n",
              "          + ' to learn more about interactive tables.';\n",
              "        element.innerHTML = '';\n",
              "        dataTable['output_type'] = 'display_data';\n",
              "        await google.colab.output.renderOutput(dataTable, element);\n",
              "        const docLink = document.createElement('div');\n",
              "        docLink.innerHTML = docLinkHtml;\n",
              "        element.appendChild(docLink);\n",
              "      }\n",
              "    </script>\n",
              "  </div>\n",
              "\n",
              "\n",
              "<div id=\"df-35133c59-6b83-4f1c-8674-83ce68f2f3fd\">\n",
              "  <button class=\"colab-df-quickchart\" onclick=\"quickchart('df-35133c59-6b83-4f1c-8674-83ce68f2f3fd')\"\n",
              "            title=\"Suggest charts\"\n",
              "            style=\"display:none;\">\n",
              "\n",
              "<svg xmlns=\"http://www.w3.org/2000/svg\" height=\"24px\"viewBox=\"0 0 24 24\"\n",
              "     width=\"24px\">\n",
              "    <g>\n",
              "        <path d=\"M19 3H5c-1.1 0-2 .9-2 2v14c0 1.1.9 2 2 2h14c1.1 0 2-.9 2-2V5c0-1.1-.9-2-2-2zM9 17H7v-7h2v7zm4 0h-2V7h2v10zm4 0h-2v-4h2v4z\"/>\n",
              "    </g>\n",
              "</svg>\n",
              "  </button>\n",
              "\n",
              "<style>\n",
              "  .colab-df-quickchart {\n",
              "      --bg-color: #E8F0FE;\n",
              "      --fill-color: #1967D2;\n",
              "      --hover-bg-color: #E2EBFA;\n",
              "      --hover-fill-color: #174EA6;\n",
              "      --disabled-fill-color: #AAA;\n",
              "      --disabled-bg-color: #DDD;\n",
              "  }\n",
              "\n",
              "  [theme=dark] .colab-df-quickchart {\n",
              "      --bg-color: #3B4455;\n",
              "      --fill-color: #D2E3FC;\n",
              "      --hover-bg-color: #434B5C;\n",
              "      --hover-fill-color: #FFFFFF;\n",
              "      --disabled-bg-color: #3B4455;\n",
              "      --disabled-fill-color: #666;\n",
              "  }\n",
              "\n",
              "  .colab-df-quickchart {\n",
              "    background-color: var(--bg-color);\n",
              "    border: none;\n",
              "    border-radius: 50%;\n",
              "    cursor: pointer;\n",
              "    display: none;\n",
              "    fill: var(--fill-color);\n",
              "    height: 32px;\n",
              "    padding: 0;\n",
              "    width: 32px;\n",
              "  }\n",
              "\n",
              "  .colab-df-quickchart:hover {\n",
              "    background-color: var(--hover-bg-color);\n",
              "    box-shadow: 0 1px 2px rgba(60, 64, 67, 0.3), 0 1px 3px 1px rgba(60, 64, 67, 0.15);\n",
              "    fill: var(--button-hover-fill-color);\n",
              "  }\n",
              "\n",
              "  .colab-df-quickchart-complete:disabled,\n",
              "  .colab-df-quickchart-complete:disabled:hover {\n",
              "    background-color: var(--disabled-bg-color);\n",
              "    fill: var(--disabled-fill-color);\n",
              "    box-shadow: none;\n",
              "  }\n",
              "\n",
              "  .colab-df-spinner {\n",
              "    border: 2px solid var(--fill-color);\n",
              "    border-color: transparent;\n",
              "    border-bottom-color: var(--fill-color);\n",
              "    animation:\n",
              "      spin 1s steps(1) infinite;\n",
              "  }\n",
              "\n",
              "  @keyframes spin {\n",
              "    0% {\n",
              "      border-color: transparent;\n",
              "      border-bottom-color: var(--fill-color);\n",
              "      border-left-color: var(--fill-color);\n",
              "    }\n",
              "    20% {\n",
              "      border-color: transparent;\n",
              "      border-left-color: var(--fill-color);\n",
              "      border-top-color: var(--fill-color);\n",
              "    }\n",
              "    30% {\n",
              "      border-color: transparent;\n",
              "      border-left-color: var(--fill-color);\n",
              "      border-top-color: var(--fill-color);\n",
              "      border-right-color: var(--fill-color);\n",
              "    }\n",
              "    40% {\n",
              "      border-color: transparent;\n",
              "      border-right-color: var(--fill-color);\n",
              "      border-top-color: var(--fill-color);\n",
              "    }\n",
              "    60% {\n",
              "      border-color: transparent;\n",
              "      border-right-color: var(--fill-color);\n",
              "    }\n",
              "    80% {\n",
              "      border-color: transparent;\n",
              "      border-right-color: var(--fill-color);\n",
              "      border-bottom-color: var(--fill-color);\n",
              "    }\n",
              "    90% {\n",
              "      border-color: transparent;\n",
              "      border-bottom-color: var(--fill-color);\n",
              "    }\n",
              "  }\n",
              "</style>\n",
              "\n",
              "  <script>\n",
              "    async function quickchart(key) {\n",
              "      const quickchartButtonEl =\n",
              "        document.querySelector('#' + key + ' button');\n",
              "      quickchartButtonEl.disabled = true;  // To prevent multiple clicks.\n",
              "      quickchartButtonEl.classList.add('colab-df-spinner');\n",
              "      try {\n",
              "        const charts = await google.colab.kernel.invokeFunction(\n",
              "            'suggestCharts', [key], {});\n",
              "      } catch (error) {\n",
              "        console.error('Error during call to suggestCharts:', error);\n",
              "      }\n",
              "      quickchartButtonEl.classList.remove('colab-df-spinner');\n",
              "      quickchartButtonEl.classList.add('colab-df-quickchart-complete');\n",
              "    }\n",
              "    (() => {\n",
              "      let quickchartButtonEl =\n",
              "        document.querySelector('#df-35133c59-6b83-4f1c-8674-83ce68f2f3fd button');\n",
              "      quickchartButtonEl.style.display =\n",
              "        google.colab.kernel.accessAllowed ? 'block' : 'none';\n",
              "    })();\n",
              "  </script>\n",
              "</div>\n",
              "\n",
              "    </div>\n",
              "  </div>\n"
            ],
            "application/vnd.google.colaboratory.intrinsic+json": {
              "type": "dataframe",
              "variable_name": "merged_df"
            }
          },
          "metadata": {},
          "execution_count": 16
        }
      ]
    },
    {
      "cell_type": "markdown",
      "source": [
        "### Empty Data"
      ],
      "metadata": {
        "id": "2MrZW6daiG37"
      }
    },
    {
      "cell_type": "markdown",
      "source": [
        "Need to handle empty rows of data. Depending on the type of data, there are a few techniques."
      ],
      "metadata": {
        "id": "J90vM_W1iJxK"
      }
    },
    {
      "cell_type": "code",
      "source": [
        "# What is empty\n",
        "merged_df.isna().sum()"
      ],
      "metadata": {
        "colab": {
          "base_uri": "https://localhost:8080/",
          "height": 554
        },
        "id": "004wnZVtkqSV",
        "outputId": "9c5520e3-9037-4b92-a3ff-702bbf0a71c6"
      },
      "execution_count": 17,
      "outputs": [
        {
          "output_type": "execute_result",
          "data": {
            "text/plain": [
              "id                   0\n",
              "date                 0\n",
              "store_nbr            0\n",
              "family               0\n",
              "sales                0\n",
              "onpromotion          0\n",
              "date_event           0\n",
              "date_event_locale    0\n",
              "day_of_week          0\n",
              "month                0\n",
              "year                 0\n",
              "day_of_month         0\n",
              "day_of_year          0\n",
              "quarter_of_year      0\n",
              "is_weekend           0\n",
              "dtype: int64"
            ],
            "text/html": [
              "<div>\n",
              "<style scoped>\n",
              "    .dataframe tbody tr th:only-of-type {\n",
              "        vertical-align: middle;\n",
              "    }\n",
              "\n",
              "    .dataframe tbody tr th {\n",
              "        vertical-align: top;\n",
              "    }\n",
              "\n",
              "    .dataframe thead th {\n",
              "        text-align: right;\n",
              "    }\n",
              "</style>\n",
              "<table border=\"1\" class=\"dataframe\">\n",
              "  <thead>\n",
              "    <tr style=\"text-align: right;\">\n",
              "      <th></th>\n",
              "      <th>0</th>\n",
              "    </tr>\n",
              "  </thead>\n",
              "  <tbody>\n",
              "    <tr>\n",
              "      <th>id</th>\n",
              "      <td>0</td>\n",
              "    </tr>\n",
              "    <tr>\n",
              "      <th>date</th>\n",
              "      <td>0</td>\n",
              "    </tr>\n",
              "    <tr>\n",
              "      <th>store_nbr</th>\n",
              "      <td>0</td>\n",
              "    </tr>\n",
              "    <tr>\n",
              "      <th>family</th>\n",
              "      <td>0</td>\n",
              "    </tr>\n",
              "    <tr>\n",
              "      <th>sales</th>\n",
              "      <td>0</td>\n",
              "    </tr>\n",
              "    <tr>\n",
              "      <th>onpromotion</th>\n",
              "      <td>0</td>\n",
              "    </tr>\n",
              "    <tr>\n",
              "      <th>date_event</th>\n",
              "      <td>0</td>\n",
              "    </tr>\n",
              "    <tr>\n",
              "      <th>date_event_locale</th>\n",
              "      <td>0</td>\n",
              "    </tr>\n",
              "    <tr>\n",
              "      <th>day_of_week</th>\n",
              "      <td>0</td>\n",
              "    </tr>\n",
              "    <tr>\n",
              "      <th>month</th>\n",
              "      <td>0</td>\n",
              "    </tr>\n",
              "    <tr>\n",
              "      <th>year</th>\n",
              "      <td>0</td>\n",
              "    </tr>\n",
              "    <tr>\n",
              "      <th>day_of_month</th>\n",
              "      <td>0</td>\n",
              "    </tr>\n",
              "    <tr>\n",
              "      <th>day_of_year</th>\n",
              "      <td>0</td>\n",
              "    </tr>\n",
              "    <tr>\n",
              "      <th>quarter_of_year</th>\n",
              "      <td>0</td>\n",
              "    </tr>\n",
              "    <tr>\n",
              "      <th>is_weekend</th>\n",
              "      <td>0</td>\n",
              "    </tr>\n",
              "  </tbody>\n",
              "</table>\n",
              "</div><br><label><b>dtype:</b> int64</label>"
            ]
          },
          "metadata": {},
          "execution_count": 17
        }
      ]
    },
    {
      "cell_type": "markdown",
      "source": [
        "Turns out, there is nothing empty."
      ],
      "metadata": {
        "id": "NZG7sNIXkzVe"
      }
    },
    {
      "cell_type": "markdown",
      "source": [
        "### Categorify"
      ],
      "metadata": {
        "id": "-xr9B3HEk2as"
      }
    },
    {
      "cell_type": "markdown",
      "source": [
        "Next step is to turn catagories into numerical representations. They could be ordinal or not. In this case, the product family, date event and it's local are non ordinal categories."
      ],
      "metadata": {
        "id": "WJK2vxv0k5eF"
      }
    },
    {
      "cell_type": "code",
      "source": [
        "merged_df[\"date_event\"] = LabelEncoder().fit_transform(merged_df[\"date_event\"])\n",
        "merged_df[\"date_event_locale\"] = LabelEncoder().fit_transform(merged_df[\"date_event_locale\"])\n",
        "merged_df[\"family\"] = LabelEncoder().fit_transform(merged_df[\"family\"])\n",
        "merged_df.head()"
      ],
      "metadata": {
        "colab": {
          "base_uri": "https://localhost:8080/",
          "height": 206
        },
        "id": "kriAMB3erJxG",
        "outputId": "ec014a53-d1a9-427c-b953-a4803b3d2e62"
      },
      "execution_count": 18,
      "outputs": [
        {
          "output_type": "execute_result",
          "data": {
            "text/plain": [
              "   id       date  store_nbr  family  sales  onpromotion  date_event  \\\n",
              "0   0 2013-01-01          1       0    0.0            0           3   \n",
              "1   1 2013-01-01          1       1    0.0            0           3   \n",
              "2   2 2013-01-01          1       2    0.0            0           3   \n",
              "3   3 2013-01-01          1       3    0.0            0           3   \n",
              "4   4 2013-01-01          1       4    0.0            0           3   \n",
              "\n",
              "   date_event_locale  day_of_week  month  year  day_of_month  day_of_year  \\\n",
              "0                  4            1      1  2013             1            1   \n",
              "1                  4            1      1  2013             1            1   \n",
              "2                  4            1      1  2013             1            1   \n",
              "3                  4            1      1  2013             1            1   \n",
              "4                  4            1      1  2013             1            1   \n",
              "\n",
              "   quarter_of_year  is_weekend  \n",
              "0                1           0  \n",
              "1                1           0  \n",
              "2                1           0  \n",
              "3                1           0  \n",
              "4                1           0  "
            ],
            "text/html": [
              "\n",
              "  <div id=\"df-f6dc8b6b-0791-4b36-8567-1d9bc0153ce8\" class=\"colab-df-container\">\n",
              "    <div>\n",
              "<style scoped>\n",
              "    .dataframe tbody tr th:only-of-type {\n",
              "        vertical-align: middle;\n",
              "    }\n",
              "\n",
              "    .dataframe tbody tr th {\n",
              "        vertical-align: top;\n",
              "    }\n",
              "\n",
              "    .dataframe thead th {\n",
              "        text-align: right;\n",
              "    }\n",
              "</style>\n",
              "<table border=\"1\" class=\"dataframe\">\n",
              "  <thead>\n",
              "    <tr style=\"text-align: right;\">\n",
              "      <th></th>\n",
              "      <th>id</th>\n",
              "      <th>date</th>\n",
              "      <th>store_nbr</th>\n",
              "      <th>family</th>\n",
              "      <th>sales</th>\n",
              "      <th>onpromotion</th>\n",
              "      <th>date_event</th>\n",
              "      <th>date_event_locale</th>\n",
              "      <th>day_of_week</th>\n",
              "      <th>month</th>\n",
              "      <th>year</th>\n",
              "      <th>day_of_month</th>\n",
              "      <th>day_of_year</th>\n",
              "      <th>quarter_of_year</th>\n",
              "      <th>is_weekend</th>\n",
              "    </tr>\n",
              "  </thead>\n",
              "  <tbody>\n",
              "    <tr>\n",
              "      <th>0</th>\n",
              "      <td>0</td>\n",
              "      <td>2013-01-01</td>\n",
              "      <td>1</td>\n",
              "      <td>0</td>\n",
              "      <td>0.0</td>\n",
              "      <td>0</td>\n",
              "      <td>3</td>\n",
              "      <td>4</td>\n",
              "      <td>1</td>\n",
              "      <td>1</td>\n",
              "      <td>2013</td>\n",
              "      <td>1</td>\n",
              "      <td>1</td>\n",
              "      <td>1</td>\n",
              "      <td>0</td>\n",
              "    </tr>\n",
              "    <tr>\n",
              "      <th>1</th>\n",
              "      <td>1</td>\n",
              "      <td>2013-01-01</td>\n",
              "      <td>1</td>\n",
              "      <td>1</td>\n",
              "      <td>0.0</td>\n",
              "      <td>0</td>\n",
              "      <td>3</td>\n",
              "      <td>4</td>\n",
              "      <td>1</td>\n",
              "      <td>1</td>\n",
              "      <td>2013</td>\n",
              "      <td>1</td>\n",
              "      <td>1</td>\n",
              "      <td>1</td>\n",
              "      <td>0</td>\n",
              "    </tr>\n",
              "    <tr>\n",
              "      <th>2</th>\n",
              "      <td>2</td>\n",
              "      <td>2013-01-01</td>\n",
              "      <td>1</td>\n",
              "      <td>2</td>\n",
              "      <td>0.0</td>\n",
              "      <td>0</td>\n",
              "      <td>3</td>\n",
              "      <td>4</td>\n",
              "      <td>1</td>\n",
              "      <td>1</td>\n",
              "      <td>2013</td>\n",
              "      <td>1</td>\n",
              "      <td>1</td>\n",
              "      <td>1</td>\n",
              "      <td>0</td>\n",
              "    </tr>\n",
              "    <tr>\n",
              "      <th>3</th>\n",
              "      <td>3</td>\n",
              "      <td>2013-01-01</td>\n",
              "      <td>1</td>\n",
              "      <td>3</td>\n",
              "      <td>0.0</td>\n",
              "      <td>0</td>\n",
              "      <td>3</td>\n",
              "      <td>4</td>\n",
              "      <td>1</td>\n",
              "      <td>1</td>\n",
              "      <td>2013</td>\n",
              "      <td>1</td>\n",
              "      <td>1</td>\n",
              "      <td>1</td>\n",
              "      <td>0</td>\n",
              "    </tr>\n",
              "    <tr>\n",
              "      <th>4</th>\n",
              "      <td>4</td>\n",
              "      <td>2013-01-01</td>\n",
              "      <td>1</td>\n",
              "      <td>4</td>\n",
              "      <td>0.0</td>\n",
              "      <td>0</td>\n",
              "      <td>3</td>\n",
              "      <td>4</td>\n",
              "      <td>1</td>\n",
              "      <td>1</td>\n",
              "      <td>2013</td>\n",
              "      <td>1</td>\n",
              "      <td>1</td>\n",
              "      <td>1</td>\n",
              "      <td>0</td>\n",
              "    </tr>\n",
              "  </tbody>\n",
              "</table>\n",
              "</div>\n",
              "    <div class=\"colab-df-buttons\">\n",
              "\n",
              "  <div class=\"colab-df-container\">\n",
              "    <button class=\"colab-df-convert\" onclick=\"convertToInteractive('df-f6dc8b6b-0791-4b36-8567-1d9bc0153ce8')\"\n",
              "            title=\"Convert this dataframe to an interactive table.\"\n",
              "            style=\"display:none;\">\n",
              "\n",
              "  <svg xmlns=\"http://www.w3.org/2000/svg\" height=\"24px\" viewBox=\"0 -960 960 960\">\n",
              "    <path d=\"M120-120v-720h720v720H120Zm60-500h600v-160H180v160Zm220 220h160v-160H400v160Zm0 220h160v-160H400v160ZM180-400h160v-160H180v160Zm440 0h160v-160H620v160ZM180-180h160v-160H180v160Zm440 0h160v-160H620v160Z\"/>\n",
              "  </svg>\n",
              "    </button>\n",
              "\n",
              "  <style>\n",
              "    .colab-df-container {\n",
              "      display:flex;\n",
              "      gap: 12px;\n",
              "    }\n",
              "\n",
              "    .colab-df-convert {\n",
              "      background-color: #E8F0FE;\n",
              "      border: none;\n",
              "      border-radius: 50%;\n",
              "      cursor: pointer;\n",
              "      display: none;\n",
              "      fill: #1967D2;\n",
              "      height: 32px;\n",
              "      padding: 0 0 0 0;\n",
              "      width: 32px;\n",
              "    }\n",
              "\n",
              "    .colab-df-convert:hover {\n",
              "      background-color: #E2EBFA;\n",
              "      box-shadow: 0px 1px 2px rgba(60, 64, 67, 0.3), 0px 1px 3px 1px rgba(60, 64, 67, 0.15);\n",
              "      fill: #174EA6;\n",
              "    }\n",
              "\n",
              "    .colab-df-buttons div {\n",
              "      margin-bottom: 4px;\n",
              "    }\n",
              "\n",
              "    [theme=dark] .colab-df-convert {\n",
              "      background-color: #3B4455;\n",
              "      fill: #D2E3FC;\n",
              "    }\n",
              "\n",
              "    [theme=dark] .colab-df-convert:hover {\n",
              "      background-color: #434B5C;\n",
              "      box-shadow: 0px 1px 3px 1px rgba(0, 0, 0, 0.15);\n",
              "      filter: drop-shadow(0px 1px 2px rgba(0, 0, 0, 0.3));\n",
              "      fill: #FFFFFF;\n",
              "    }\n",
              "  </style>\n",
              "\n",
              "    <script>\n",
              "      const buttonEl =\n",
              "        document.querySelector('#df-f6dc8b6b-0791-4b36-8567-1d9bc0153ce8 button.colab-df-convert');\n",
              "      buttonEl.style.display =\n",
              "        google.colab.kernel.accessAllowed ? 'block' : 'none';\n",
              "\n",
              "      async function convertToInteractive(key) {\n",
              "        const element = document.querySelector('#df-f6dc8b6b-0791-4b36-8567-1d9bc0153ce8');\n",
              "        const dataTable =\n",
              "          await google.colab.kernel.invokeFunction('convertToInteractive',\n",
              "                                                    [key], {});\n",
              "        if (!dataTable) return;\n",
              "\n",
              "        const docLinkHtml = 'Like what you see? Visit the ' +\n",
              "          '<a target=\"_blank\" href=https://colab.research.google.com/notebooks/data_table.ipynb>data table notebook</a>'\n",
              "          + ' to learn more about interactive tables.';\n",
              "        element.innerHTML = '';\n",
              "        dataTable['output_type'] = 'display_data';\n",
              "        await google.colab.output.renderOutput(dataTable, element);\n",
              "        const docLink = document.createElement('div');\n",
              "        docLink.innerHTML = docLinkHtml;\n",
              "        element.appendChild(docLink);\n",
              "      }\n",
              "    </script>\n",
              "  </div>\n",
              "\n",
              "\n",
              "<div id=\"df-0a99b068-ced0-480c-8d94-6b4fdca8e28b\">\n",
              "  <button class=\"colab-df-quickchart\" onclick=\"quickchart('df-0a99b068-ced0-480c-8d94-6b4fdca8e28b')\"\n",
              "            title=\"Suggest charts\"\n",
              "            style=\"display:none;\">\n",
              "\n",
              "<svg xmlns=\"http://www.w3.org/2000/svg\" height=\"24px\"viewBox=\"0 0 24 24\"\n",
              "     width=\"24px\">\n",
              "    <g>\n",
              "        <path d=\"M19 3H5c-1.1 0-2 .9-2 2v14c0 1.1.9 2 2 2h14c1.1 0 2-.9 2-2V5c0-1.1-.9-2-2-2zM9 17H7v-7h2v7zm4 0h-2V7h2v10zm4 0h-2v-4h2v4z\"/>\n",
              "    </g>\n",
              "</svg>\n",
              "  </button>\n",
              "\n",
              "<style>\n",
              "  .colab-df-quickchart {\n",
              "      --bg-color: #E8F0FE;\n",
              "      --fill-color: #1967D2;\n",
              "      --hover-bg-color: #E2EBFA;\n",
              "      --hover-fill-color: #174EA6;\n",
              "      --disabled-fill-color: #AAA;\n",
              "      --disabled-bg-color: #DDD;\n",
              "  }\n",
              "\n",
              "  [theme=dark] .colab-df-quickchart {\n",
              "      --bg-color: #3B4455;\n",
              "      --fill-color: #D2E3FC;\n",
              "      --hover-bg-color: #434B5C;\n",
              "      --hover-fill-color: #FFFFFF;\n",
              "      --disabled-bg-color: #3B4455;\n",
              "      --disabled-fill-color: #666;\n",
              "  }\n",
              "\n",
              "  .colab-df-quickchart {\n",
              "    background-color: var(--bg-color);\n",
              "    border: none;\n",
              "    border-radius: 50%;\n",
              "    cursor: pointer;\n",
              "    display: none;\n",
              "    fill: var(--fill-color);\n",
              "    height: 32px;\n",
              "    padding: 0;\n",
              "    width: 32px;\n",
              "  }\n",
              "\n",
              "  .colab-df-quickchart:hover {\n",
              "    background-color: var(--hover-bg-color);\n",
              "    box-shadow: 0 1px 2px rgba(60, 64, 67, 0.3), 0 1px 3px 1px rgba(60, 64, 67, 0.15);\n",
              "    fill: var(--button-hover-fill-color);\n",
              "  }\n",
              "\n",
              "  .colab-df-quickchart-complete:disabled,\n",
              "  .colab-df-quickchart-complete:disabled:hover {\n",
              "    background-color: var(--disabled-bg-color);\n",
              "    fill: var(--disabled-fill-color);\n",
              "    box-shadow: none;\n",
              "  }\n",
              "\n",
              "  .colab-df-spinner {\n",
              "    border: 2px solid var(--fill-color);\n",
              "    border-color: transparent;\n",
              "    border-bottom-color: var(--fill-color);\n",
              "    animation:\n",
              "      spin 1s steps(1) infinite;\n",
              "  }\n",
              "\n",
              "  @keyframes spin {\n",
              "    0% {\n",
              "      border-color: transparent;\n",
              "      border-bottom-color: var(--fill-color);\n",
              "      border-left-color: var(--fill-color);\n",
              "    }\n",
              "    20% {\n",
              "      border-color: transparent;\n",
              "      border-left-color: var(--fill-color);\n",
              "      border-top-color: var(--fill-color);\n",
              "    }\n",
              "    30% {\n",
              "      border-color: transparent;\n",
              "      border-left-color: var(--fill-color);\n",
              "      border-top-color: var(--fill-color);\n",
              "      border-right-color: var(--fill-color);\n",
              "    }\n",
              "    40% {\n",
              "      border-color: transparent;\n",
              "      border-right-color: var(--fill-color);\n",
              "      border-top-color: var(--fill-color);\n",
              "    }\n",
              "    60% {\n",
              "      border-color: transparent;\n",
              "      border-right-color: var(--fill-color);\n",
              "    }\n",
              "    80% {\n",
              "      border-color: transparent;\n",
              "      border-right-color: var(--fill-color);\n",
              "      border-bottom-color: var(--fill-color);\n",
              "    }\n",
              "    90% {\n",
              "      border-color: transparent;\n",
              "      border-bottom-color: var(--fill-color);\n",
              "    }\n",
              "  }\n",
              "</style>\n",
              "\n",
              "  <script>\n",
              "    async function quickchart(key) {\n",
              "      const quickchartButtonEl =\n",
              "        document.querySelector('#' + key + ' button');\n",
              "      quickchartButtonEl.disabled = true;  // To prevent multiple clicks.\n",
              "      quickchartButtonEl.classList.add('colab-df-spinner');\n",
              "      try {\n",
              "        const charts = await google.colab.kernel.invokeFunction(\n",
              "            'suggestCharts', [key], {});\n",
              "      } catch (error) {\n",
              "        console.error('Error during call to suggestCharts:', error);\n",
              "      }\n",
              "      quickchartButtonEl.classList.remove('colab-df-spinner');\n",
              "      quickchartButtonEl.classList.add('colab-df-quickchart-complete');\n",
              "    }\n",
              "    (() => {\n",
              "      let quickchartButtonEl =\n",
              "        document.querySelector('#df-0a99b068-ced0-480c-8d94-6b4fdca8e28b button');\n",
              "      quickchartButtonEl.style.display =\n",
              "        google.colab.kernel.accessAllowed ? 'block' : 'none';\n",
              "    })();\n",
              "  </script>\n",
              "</div>\n",
              "\n",
              "    </div>\n",
              "  </div>\n"
            ],
            "application/vnd.google.colaboratory.intrinsic+json": {
              "type": "dataframe",
              "variable_name": "merged_df"
            }
          },
          "metadata": {},
          "execution_count": 18
        }
      ]
    },
    {
      "cell_type": "markdown",
      "source": [
        "### Validation Set"
      ],
      "metadata": {
        "id": "sxiH7k14cd0t"
      }
    },
    {
      "cell_type": "markdown",
      "source": [
        "Need to break off some of the training csv data into a validation csv. Since this is time series data, the validation set needs to be in the future."
      ],
      "metadata": {
        "id": "wFgWY8RAcloM"
      }
    },
    {
      "cell_type": "code",
      "source": [
        "# What are the date ranges\n",
        "print(merged_df[\"date\"].min())\n",
        "print(merged_df[\"date\"].max())"
      ],
      "metadata": {
        "colab": {
          "base_uri": "https://localhost:8080/"
        },
        "id": "O6ARuCAeWY-i",
        "outputId": "6c4da498-ac9e-40a2-a96a-b65f392705be"
      },
      "execution_count": 19,
      "outputs": [
        {
          "output_type": "stream",
          "name": "stdout",
          "text": [
            "2013-01-01 00:00:00\n",
            "2017-08-15 00:00:00\n"
          ]
        }
      ]
    },
    {
      "cell_type": "code",
      "source": [
        "cutoff_date = pd.to_datetime(\"2017-01-01\")\n",
        "train_df = merged_df[merged_df[\"date\"] < cutoff_date]\n",
        "val_df = merged_df[merged_df[\"date\"] >= cutoff_date]\n",
        "\n",
        "train_df.shape, val_df.shape"
      ],
      "metadata": {
        "colab": {
          "base_uri": "https://localhost:8080/"
        },
        "id": "ZBy3W9uXImp7",
        "outputId": "8302ed1c-e697-41a8-8973-2ba0838730a9"
      },
      "execution_count": 49,
      "outputs": [
        {
          "output_type": "execute_result",
          "data": {
            "text/plain": [
              "((2640924, 15), (411642, 15))"
            ]
          },
          "metadata": {},
          "execution_count": 49
        }
      ]
    },
    {
      "cell_type": "markdown",
      "source": [
        "## Modeling"
      ],
      "metadata": {
        "id": "L5YggwJEMYBl"
      }
    },
    {
      "cell_type": "markdown",
      "source": [
        "Now that the data prep is done, we can get into deriving some insights on the data in terms of each features predictive power. The preffered first pass is a decision tree."
      ],
      "metadata": {
        "id": "7ZzMGlGGM5sf"
      }
    },
    {
      "cell_type": "markdown",
      "source": [
        "### Dependent and Independent Variables"
      ],
      "metadata": {
        "id": "Seh8CapeRI8M"
      }
    },
    {
      "cell_type": "markdown",
      "source": [
        "This Kaggle competition tells us to use Root Mean Squared Log Error as our metric, and our goal is to predict the sales column. So we should go ahead and make the sales column the log of the sales, but we need to handle zero sales. To do this we use the log1p method from numpy."
      ],
      "metadata": {
        "id": "GQfRZKaXRYJV"
      }
    },
    {
      "cell_type": "code",
      "source": [
        "dep_var = \"sales\"\n",
        "val_df[dep_var] = np.log1p(val_df[dep_var])\n",
        "train_df[dep_var] = np.log1p(train_df[dep_var])\n",
        "\n",
        "y_train = train_df[dep_var]\n",
        "x_train = train_df.drop(columns=[dep_var, \"id\", \"date\"])\n",
        "indep_vars = x_train.columns.tolist()\n",
        "print(indep_vars)\n",
        "\n",
        "y_val = val_df[dep_var]\n",
        "x_val = val_df.drop(columns=[dep_var, \"id\", \"date\"])"
      ],
      "metadata": {
        "colab": {
          "base_uri": "https://localhost:8080/"
        },
        "id": "UFl9EgfSMa31",
        "outputId": "f3db0671-b3ac-4c90-bdcc-e8c6e846e76b"
      },
      "execution_count": 21,
      "outputs": [
        {
          "output_type": "stream",
          "name": "stderr",
          "text": [
            "<ipython-input-21-1cfb32b13a1d>:2: SettingWithCopyWarning: \n",
            "A value is trying to be set on a copy of a slice from a DataFrame.\n",
            "Try using .loc[row_indexer,col_indexer] = value instead\n",
            "\n",
            "See the caveats in the documentation: https://pandas.pydata.org/pandas-docs/stable/user_guide/indexing.html#returning-a-view-versus-a-copy\n",
            "  val_df[dep_var] = np.log1p(val_df[dep_var])\n",
            "<ipython-input-21-1cfb32b13a1d>:3: SettingWithCopyWarning: \n",
            "A value is trying to be set on a copy of a slice from a DataFrame.\n",
            "Try using .loc[row_indexer,col_indexer] = value instead\n",
            "\n",
            "See the caveats in the documentation: https://pandas.pydata.org/pandas-docs/stable/user_guide/indexing.html#returning-a-view-versus-a-copy\n",
            "  train_df[dep_var] = np.log1p(train_df[dep_var])\n"
          ]
        },
        {
          "output_type": "stream",
          "name": "stdout",
          "text": [
            "['store_nbr', 'family', 'onpromotion', 'date_event', 'date_event_locale', 'day_of_week', 'month', 'year', 'day_of_month', 'day_of_year', 'quarter_of_year', 'is_weekend']\n"
          ]
        }
      ]
    },
    {
      "cell_type": "markdown",
      "source": [
        "### Decision Tree Training"
      ],
      "metadata": {
        "id": "xrW15Xx_UM5i"
      }
    },
    {
      "cell_type": "code",
      "source": [
        "from sklearn.tree import DecisionTreeRegressor, export_graphviz\n",
        "import graphviz\n",
        "import matplotlib.pyplot as plt\n",
        "from sklearn.tree import plot_tree\n",
        "\n",
        "model = DecisionTreeRegressor(max_leaf_nodes=32)\n",
        "model.fit(x_train, y_train)\n",
        "\n",
        "# Plot the decision tree\n",
        "# plt.figure(figsize=(40,10))\n",
        "# plot_tree(model, filled=True, feature_names=indep_vars)\n",
        "# plt.show()\n",
        "\n",
        "def draw_tree(t, df, size=10, ratio=0.6, precision=2, **kwargs):\n",
        "    s=export_graphviz(t, out_file=None, feature_names=df.columns, filled=True, rounded=True,\n",
        "                      special_characters=True, rotate=False, precision=precision, impurity=True, **kwargs)\n",
        "    return graphviz.Source(s)\n",
        "\n",
        "draw_tree(model, x_train, size=20)"
      ],
      "metadata": {
        "colab": {
          "base_uri": "https://localhost:8080/",
          "height": 1000
        },
        "collapsed": true,
        "id": "vQnJwnO0RUpE",
        "outputId": "219e4ae8-542d-40dd-bf07-e8fdd87172c5"
      },
      "execution_count": 22,
      "outputs": [
        {
          "output_type": "execute_result",
          "data": {
            "image/svg+xml": "<?xml version=\"1.0\" encoding=\"UTF-8\" standalone=\"no\"?>\n<!DOCTYPE svg PUBLIC \"-//W3C//DTD SVG 1.1//EN\"\n \"http://www.w3.org/Graphics/SVG/1.1/DTD/svg11.dtd\">\n<!-- Generated by graphviz version 2.43.0 (0)\n -->\n<!-- Title: Tree Pages: 1 -->\n<svg width=\"2379pt\" height=\"997pt\"\n viewBox=\"0.00 0.00 2379.00 997.00\" xmlns=\"http://www.w3.org/2000/svg\" xmlns:xlink=\"http://www.w3.org/1999/xlink\">\n<g id=\"graph0\" class=\"graph\" transform=\"scale(1 1) rotate(0) translate(4 993)\">\n<title>Tree</title>\n<polygon fill=\"white\" stroke=\"transparent\" points=\"-4,4 -4,-993 2375,-993 2375,4 -4,4\"/>\n<!-- 0 -->\n<g id=\"node1\" class=\"node\">\n<title>0</title>\n<path fill=\"#f6d4bb\" stroke=\"black\" d=\"M1415,-989C1415,-989 1296,-989 1296,-989 1290,-989 1284,-983 1284,-977 1284,-977 1284,-933 1284,-933 1284,-927 1290,-921 1296,-921 1296,-921 1415,-921 1415,-921 1421,-921 1427,-927 1427,-933 1427,-933 1427,-977 1427,-977 1427,-983 1421,-989 1415,-989\"/>\n<text text-anchor=\"start\" x=\"1300.5\" y=\"-973.8\" font-family=\"Helvetica,sans-Serif\" font-size=\"14.00\">onpromotion ≤ 0.5</text>\n<text text-anchor=\"start\" x=\"1292\" y=\"-958.8\" font-family=\"Helvetica,sans-Serif\" font-size=\"14.00\">squared_error = 7.31</text>\n<text text-anchor=\"start\" x=\"1295.5\" y=\"-943.8\" font-family=\"Helvetica,sans-Serif\" font-size=\"14.00\">samples = 2640924</text>\n<text text-anchor=\"start\" x=\"1318\" y=\"-928.8\" font-family=\"Helvetica,sans-Serif\" font-size=\"14.00\">value = 2.83</text>\n</g>\n<!-- 1 -->\n<g id=\"node2\" class=\"node\">\n<title>1</title>\n<path fill=\"#f8ddca\" stroke=\"black\" d=\"M1116,-885C1116,-885 997,-885 997,-885 991,-885 985,-879 985,-873 985,-873 985,-829 985,-829 985,-823 991,-817 997,-817 997,-817 1116,-817 1116,-817 1122,-817 1128,-823 1128,-829 1128,-829 1128,-873 1128,-873 1128,-879 1122,-885 1116,-885\"/>\n<text text-anchor=\"start\" x=\"1021.5\" y=\"-869.8\" font-family=\"Helvetica,sans-Serif\" font-size=\"14.00\">family ≤ 2.5</text>\n<text text-anchor=\"start\" x=\"993\" y=\"-854.8\" font-family=\"Helvetica,sans-Serif\" font-size=\"14.00\">squared_error = 5.82</text>\n<text text-anchor=\"start\" x=\"996.5\" y=\"-839.8\" font-family=\"Helvetica,sans-Serif\" font-size=\"14.00\">samples = 2202155</text>\n<text text-anchor=\"start\" x=\"1023\" y=\"-824.8\" font-family=\"Helvetica,sans-Serif\" font-size=\"14.00\">value = 2.2</text>\n</g>\n<!-- 0&#45;&gt;1 -->\n<g id=\"edge1\" class=\"edge\">\n<title>0&#45;&gt;1</title>\n<path fill=\"none\" stroke=\"black\" d=\"M1283.88,-929.57C1239.85,-914.55 1183.31,-895.26 1137.63,-879.68\"/>\n<polygon fill=\"black\" stroke=\"black\" points=\"1138.65,-876.32 1128.05,-876.41 1136.39,-882.95 1138.65,-876.32\"/>\n<text text-anchor=\"middle\" x=\"1139.07\" y=\"-895.15\" font-family=\"Helvetica,sans-Serif\" font-size=\"14.00\">True</text>\n</g>\n<!-- 2 -->\n<g id=\"node49\" class=\"node\">\n<title>2</title>\n<path fill=\"#eca36f\" stroke=\"black\" d=\"M1911.5,-885C1911.5,-885 1799.5,-885 1799.5,-885 1793.5,-885 1787.5,-879 1787.5,-873 1787.5,-873 1787.5,-829 1787.5,-829 1787.5,-823 1793.5,-817 1799.5,-817 1799.5,-817 1911.5,-817 1911.5,-817 1917.5,-817 1923.5,-823 1923.5,-829 1923.5,-829 1923.5,-873 1923.5,-873 1923.5,-879 1917.5,-885 1911.5,-885\"/>\n<text text-anchor=\"start\" x=\"1816.5\" y=\"-869.8\" font-family=\"Helvetica,sans-Serif\" font-size=\"14.00\">family ≤ 12.5</text>\n<text text-anchor=\"start\" x=\"1795.5\" y=\"-854.8\" font-family=\"Helvetica,sans-Serif\" font-size=\"14.00\">squared_error = 3.0</text>\n<text text-anchor=\"start\" x=\"1799.5\" y=\"-839.8\" font-family=\"Helvetica,sans-Serif\" font-size=\"14.00\">samples = 438769</text>\n<text text-anchor=\"start\" x=\"1818\" y=\"-824.8\" font-family=\"Helvetica,sans-Serif\" font-size=\"14.00\">value = 5.96</text>\n</g>\n<!-- 0&#45;&gt;2 -->\n<g id=\"edge48\" class=\"edge\">\n<title>0&#45;&gt;2</title>\n<path fill=\"none\" stroke=\"black\" d=\"M1427.14,-939.39C1519.98,-920.45 1681.31,-887.54 1777.27,-867.96\"/>\n<polygon fill=\"black\" stroke=\"black\" points=\"1778.11,-871.36 1787.21,-865.93 1776.71,-864.5 1778.11,-871.36\"/>\n<text text-anchor=\"middle\" x=\"1773.42\" y=\"-883.09\" font-family=\"Helvetica,sans-Serif\" font-size=\"14.00\">False</text>\n</g>\n<!-- 3 -->\n<g id=\"node3\" class=\"node\">\n<title>3</title>\n<path fill=\"#fcf2ea\" stroke=\"black\" d=\"M835,-781C835,-781 716,-781 716,-781 710,-781 704,-775 704,-769 704,-769 704,-725 704,-725 704,-719 710,-713 716,-713 716,-713 835,-713 835,-713 841,-713 847,-719 847,-725 847,-725 847,-769 847,-769 847,-775 841,-781 835,-781\"/>\n<text text-anchor=\"start\" x=\"740.5\" y=\"-765.8\" font-family=\"Helvetica,sans-Serif\" font-size=\"14.00\">family ≤ 0.5</text>\n<text text-anchor=\"start\" x=\"712\" y=\"-750.8\" font-family=\"Helvetica,sans-Serif\" font-size=\"14.00\">squared_error = 0.91</text>\n<text text-anchor=\"start\" x=\"719.5\" y=\"-735.8\" font-family=\"Helvetica,sans-Serif\" font-size=\"14.00\">samples = 232725</text>\n<text text-anchor=\"start\" x=\"738\" y=\"-720.8\" font-family=\"Helvetica,sans-Serif\" font-size=\"14.00\">value = 0.86</text>\n</g>\n<!-- 1&#45;&gt;3 -->\n<g id=\"edge2\" class=\"edge\">\n<title>1&#45;&gt;3</title>\n<path fill=\"none\" stroke=\"black\" d=\"M984.86,-824C945.73,-809.79 897.11,-792.14 856.59,-777.43\"/>\n<polygon fill=\"black\" stroke=\"black\" points=\"857.6,-774.08 847,-773.96 855.21,-780.66 857.6,-774.08\"/>\n</g>\n<!-- 4 -->\n<g id=\"node6\" class=\"node\">\n<title>4</title>\n<path fill=\"#f8dbc6\" stroke=\"black\" d=\"M1116,-781C1116,-781 997,-781 997,-781 991,-781 985,-775 985,-769 985,-769 985,-725 985,-725 985,-719 991,-713 997,-713 997,-713 1116,-713 1116,-713 1122,-713 1128,-719 1128,-725 1128,-725 1128,-769 1128,-769 1128,-775 1122,-781 1116,-781\"/>\n<text text-anchor=\"start\" x=\"1017.5\" y=\"-765.8\" font-family=\"Helvetica,sans-Serif\" font-size=\"14.00\">family ≤ 12.5</text>\n<text text-anchor=\"start\" x=\"993\" y=\"-750.8\" font-family=\"Helvetica,sans-Serif\" font-size=\"14.00\">squared_error = 6.16</text>\n<text text-anchor=\"start\" x=\"996.5\" y=\"-735.8\" font-family=\"Helvetica,sans-Serif\" font-size=\"14.00\">samples = 1969430</text>\n<text text-anchor=\"start\" x=\"1019\" y=\"-720.8\" font-family=\"Helvetica,sans-Serif\" font-size=\"14.00\">value = 2.36</text>\n</g>\n<!-- 1&#45;&gt;4 -->\n<g id=\"edge5\" class=\"edge\">\n<title>1&#45;&gt;4</title>\n<path fill=\"none\" stroke=\"black\" d=\"M1056.5,-816.88C1056.5,-808.78 1056.5,-799.98 1056.5,-791.47\"/>\n<polygon fill=\"black\" stroke=\"black\" points=\"1060,-791.3 1056.5,-781.3 1053,-791.3 1060,-791.3\"/>\n</g>\n<!-- 55 -->\n<g id=\"node4\" class=\"node\">\n<title>55</title>\n<path fill=\"#fae7da\" stroke=\"black\" d=\"M674,-669.5C674,-669.5 555,-669.5 555,-669.5 549,-669.5 543,-663.5 543,-657.5 543,-657.5 543,-628.5 543,-628.5 543,-622.5 549,-616.5 555,-616.5 555,-616.5 674,-616.5 674,-616.5 680,-616.5 686,-622.5 686,-628.5 686,-628.5 686,-657.5 686,-657.5 686,-663.5 680,-669.5 674,-669.5\"/>\n<text text-anchor=\"start\" x=\"551\" y=\"-654.3\" font-family=\"Helvetica,sans-Serif\" font-size=\"14.00\">squared_error = 0.79</text>\n<text text-anchor=\"start\" x=\"562\" y=\"-639.3\" font-family=\"Helvetica,sans-Serif\" font-size=\"14.00\">samples = 78125</text>\n<text text-anchor=\"start\" x=\"577\" y=\"-624.3\" font-family=\"Helvetica,sans-Serif\" font-size=\"14.00\">value = 1.55</text>\n</g>\n<!-- 3&#45;&gt;55 -->\n<g id=\"edge3\" class=\"edge\">\n<title>3&#45;&gt;55</title>\n<path fill=\"none\" stroke=\"black\" d=\"M723.23,-712.88C703.96,-700.68 682.22,-686.9 663.27,-674.9\"/>\n<polygon fill=\"black\" stroke=\"black\" points=\"665.1,-671.92 654.78,-669.52 661.36,-677.83 665.1,-671.92\"/>\n</g>\n<!-- 56 -->\n<g id=\"node5\" class=\"node\">\n<title>56</title>\n<path fill=\"#fdf7f2\" stroke=\"black\" d=\"M835,-669.5C835,-669.5 716,-669.5 716,-669.5 710,-669.5 704,-663.5 704,-657.5 704,-657.5 704,-628.5 704,-628.5 704,-622.5 710,-616.5 716,-616.5 716,-616.5 835,-616.5 835,-616.5 841,-616.5 847,-622.5 847,-628.5 847,-628.5 847,-657.5 847,-657.5 847,-663.5 841,-669.5 835,-669.5\"/>\n<text text-anchor=\"start\" x=\"712\" y=\"-654.3\" font-family=\"Helvetica,sans-Serif\" font-size=\"14.00\">squared_error = 0.62</text>\n<text text-anchor=\"start\" x=\"719.5\" y=\"-639.3\" font-family=\"Helvetica,sans-Serif\" font-size=\"14.00\">samples = 154600</text>\n<text text-anchor=\"start\" x=\"738\" y=\"-624.3\" font-family=\"Helvetica,sans-Serif\" font-size=\"14.00\">value = 0.52</text>\n</g>\n<!-- 3&#45;&gt;56 -->\n<g id=\"edge4\" class=\"edge\">\n<title>3&#45;&gt;56</title>\n<path fill=\"none\" stroke=\"black\" d=\"M775.5,-712.88C775.5,-702.33 775.5,-690.6 775.5,-679.85\"/>\n<polygon fill=\"black\" stroke=\"black\" points=\"779,-679.52 775.5,-669.52 772,-679.52 779,-679.52\"/>\n</g>\n<!-- 5 -->\n<g id=\"node7\" class=\"node\">\n<title>5</title>\n<path fill=\"#f3c7a7\" stroke=\"black\" d=\"M996,-677C996,-677 877,-677 877,-677 871,-677 865,-671 865,-665 865,-665 865,-621 865,-621 865,-615 871,-609 877,-609 877,-609 996,-609 996,-609 1002,-609 1008,-615 1008,-621 1008,-621 1008,-665 1008,-665 1008,-671 1002,-677 996,-677\"/>\n<text text-anchor=\"start\" x=\"901.5\" y=\"-661.8\" font-family=\"Helvetica,sans-Serif\" font-size=\"14.00\">family ≤ 6.5</text>\n<text text-anchor=\"start\" x=\"873\" y=\"-646.8\" font-family=\"Helvetica,sans-Serif\" font-size=\"14.00\">squared_error = 8.43</text>\n<text text-anchor=\"start\" x=\"880.5\" y=\"-631.8\" font-family=\"Helvetica,sans-Serif\" font-size=\"14.00\">samples = 534698</text>\n<text text-anchor=\"start\" x=\"899\" y=\"-616.8\" font-family=\"Helvetica,sans-Serif\" font-size=\"14.00\">value = 3.64</text>\n</g>\n<!-- 4&#45;&gt;5 -->\n<g id=\"edge6\" class=\"edge\">\n<title>4&#45;&gt;5</title>\n<path fill=\"none\" stroke=\"black\" d=\"M1017.54,-712.88C1006.64,-703.62 994.68,-693.45 983.38,-683.85\"/>\n<polygon fill=\"black\" stroke=\"black\" points=\"985.56,-681.11 975.68,-677.3 981.03,-686.44 985.56,-681.11\"/>\n</g>\n<!-- 6 -->\n<g id=\"node24\" class=\"node\">\n<title>6</title>\n<path fill=\"#f9e2d2\" stroke=\"black\" d=\"M1237,-677C1237,-677 1118,-677 1118,-677 1112,-677 1106,-671 1106,-665 1106,-665 1106,-621 1106,-621 1106,-615 1112,-609 1118,-609 1118,-609 1237,-609 1237,-609 1243,-609 1249,-615 1249,-621 1249,-621 1249,-665 1249,-665 1249,-671 1243,-677 1237,-677\"/>\n<text text-anchor=\"start\" x=\"1138.5\" y=\"-661.8\" font-family=\"Helvetica,sans-Serif\" font-size=\"14.00\">family ≤ 23.5</text>\n<text text-anchor=\"start\" x=\"1114\" y=\"-646.8\" font-family=\"Helvetica,sans-Serif\" font-size=\"14.00\">squared_error = 4.48</text>\n<text text-anchor=\"start\" x=\"1117.5\" y=\"-631.8\" font-family=\"Helvetica,sans-Serif\" font-size=\"14.00\">samples = 1434732</text>\n<text text-anchor=\"start\" x=\"1140\" y=\"-616.8\" font-family=\"Helvetica,sans-Serif\" font-size=\"14.00\">value = 1.89</text>\n</g>\n<!-- 4&#45;&gt;6 -->\n<g id=\"edge23\" class=\"edge\">\n<title>4&#45;&gt;6</title>\n<path fill=\"none\" stroke=\"black\" d=\"M1095.79,-712.88C1106.77,-703.62 1118.83,-693.45 1130.23,-683.85\"/>\n<polygon fill=\"black\" stroke=\"black\" points=\"1132.61,-686.42 1138,-677.3 1128.1,-681.07 1132.61,-686.42\"/>\n</g>\n<!-- 7 -->\n<g id=\"node8\" class=\"node\">\n<title>7</title>\n<path fill=\"#f8dbc7\" stroke=\"black\" d=\"M288.5,-573C288.5,-573 176.5,-573 176.5,-573 170.5,-573 164.5,-567 164.5,-561 164.5,-561 164.5,-517 164.5,-517 164.5,-511 170.5,-505 176.5,-505 176.5,-505 288.5,-505 288.5,-505 294.5,-505 300.5,-511 300.5,-517 300.5,-517 300.5,-561 300.5,-561 300.5,-567 294.5,-573 288.5,-573\"/>\n<text text-anchor=\"start\" x=\"197.5\" y=\"-557.8\" font-family=\"Helvetica,sans-Serif\" font-size=\"14.00\">family ≤ 3.5</text>\n<text text-anchor=\"start\" x=\"172.5\" y=\"-542.8\" font-family=\"Helvetica,sans-Serif\" font-size=\"14.00\">squared_error = 8.3</text>\n<text text-anchor=\"start\" x=\"176.5\" y=\"-527.8\" font-family=\"Helvetica,sans-Serif\" font-size=\"14.00\">samples = 248396</text>\n<text text-anchor=\"start\" x=\"195\" y=\"-512.8\" font-family=\"Helvetica,sans-Serif\" font-size=\"14.00\">value = 2.33</text>\n</g>\n<!-- 5&#45;&gt;7 -->\n<g id=\"edge7\" class=\"edge\">\n<title>5&#45;&gt;7</title>\n<path fill=\"none\" stroke=\"black\" d=\"M864.86,-611.61C861.72,-610.66 858.59,-609.78 855.5,-609 663.85,-560.35 430.4,-546 311.04,-541.77\"/>\n<polygon fill=\"black\" stroke=\"black\" points=\"311.01,-538.27 300.89,-541.42 310.77,-545.26 311.01,-538.27\"/>\n</g>\n<!-- 8 -->\n<g id=\"node15\" class=\"node\">\n<title>8</title>\n<path fill=\"#f0b68c\" stroke=\"black\" d=\"M856,-573C856,-573 737,-573 737,-573 731,-573 725,-567 725,-561 725,-561 725,-517 725,-517 725,-511 731,-505 737,-505 737,-505 856,-505 856,-505 862,-505 868,-511 868,-517 868,-517 868,-561 868,-561 868,-567 862,-573 856,-573\"/>\n<text text-anchor=\"start\" x=\"747\" y=\"-557.8\" font-family=\"Helvetica,sans-Serif\" font-size=\"14.00\">store_nbr ≤ 51.5</text>\n<text text-anchor=\"start\" x=\"733\" y=\"-542.8\" font-family=\"Helvetica,sans-Serif\" font-size=\"14.00\">squared_error = 5.77</text>\n<text text-anchor=\"start\" x=\"740.5\" y=\"-527.8\" font-family=\"Helvetica,sans-Serif\" font-size=\"14.00\">samples = 286302</text>\n<text text-anchor=\"start\" x=\"759\" y=\"-512.8\" font-family=\"Helvetica,sans-Serif\" font-size=\"14.00\">value = 4.78</text>\n</g>\n<!-- 5&#45;&gt;8 -->\n<g id=\"edge14\" class=\"edge\">\n<title>5&#45;&gt;8</title>\n<path fill=\"none\" stroke=\"black\" d=\"M891.05,-608.88C878.09,-599.44 863.84,-589.06 850.43,-579.29\"/>\n<polygon fill=\"black\" stroke=\"black\" points=\"852.35,-576.36 842.21,-573.3 848.23,-582.02 852.35,-576.36\"/>\n</g>\n<!-- 9 -->\n<g id=\"node9\" class=\"node\">\n<title>9</title>\n<path fill=\"#eda674\" stroke=\"black\" d=\"M131,-461.5C131,-461.5 12,-461.5 12,-461.5 6,-461.5 0,-455.5 0,-449.5 0,-449.5 0,-420.5 0,-420.5 0,-414.5 6,-408.5 12,-408.5 12,-408.5 131,-408.5 131,-408.5 137,-408.5 143,-414.5 143,-420.5 143,-420.5 143,-449.5 143,-449.5 143,-455.5 137,-461.5 131,-461.5\"/>\n<text text-anchor=\"start\" x=\"8\" y=\"-446.3\" font-family=\"Helvetica,sans-Serif\" font-size=\"14.00\">squared_error = 7.98</text>\n<text text-anchor=\"start\" x=\"19\" y=\"-431.3\" font-family=\"Helvetica,sans-Serif\" font-size=\"14.00\">samples = 39524</text>\n<text text-anchor=\"start\" x=\"34\" y=\"-416.3\" font-family=\"Helvetica,sans-Serif\" font-size=\"14.00\">value = 5.77</text>\n</g>\n<!-- 7&#45;&gt;9 -->\n<g id=\"edge8\" class=\"edge\">\n<title>7&#45;&gt;9</title>\n<path fill=\"none\" stroke=\"black\" d=\"M180.23,-504.88C160.96,-492.68 139.22,-478.9 120.27,-466.9\"/>\n<polygon fill=\"black\" stroke=\"black\" points=\"122.1,-463.92 111.78,-461.52 118.36,-469.83 122.1,-463.92\"/>\n</g>\n<!-- 10 -->\n<g id=\"node10\" class=\"node\">\n<title>10</title>\n<path fill=\"#fae5d6\" stroke=\"black\" d=\"M292,-469C292,-469 173,-469 173,-469 167,-469 161,-463 161,-457 161,-457 161,-413 161,-413 161,-407 167,-401 173,-401 173,-401 292,-401 292,-401 298,-401 304,-407 304,-413 304,-413 304,-457 304,-457 304,-463 298,-469 292,-469\"/>\n<text text-anchor=\"start\" x=\"197.5\" y=\"-453.8\" font-family=\"Helvetica,sans-Serif\" font-size=\"14.00\">family ≤ 4.5</text>\n<text text-anchor=\"start\" x=\"169\" y=\"-438.8\" font-family=\"Helvetica,sans-Serif\" font-size=\"14.00\">squared_error = 5.69</text>\n<text text-anchor=\"start\" x=\"176.5\" y=\"-423.8\" font-family=\"Helvetica,sans-Serif\" font-size=\"14.00\">samples = 208872</text>\n<text text-anchor=\"start\" x=\"195\" y=\"-408.8\" font-family=\"Helvetica,sans-Serif\" font-size=\"14.00\">value = 1.68</text>\n</g>\n<!-- 7&#45;&gt;10 -->\n<g id=\"edge9\" class=\"edge\">\n<title>7&#45;&gt;10</title>\n<path fill=\"none\" stroke=\"black\" d=\"M232.5,-504.88C232.5,-496.78 232.5,-487.98 232.5,-479.47\"/>\n<polygon fill=\"black\" stroke=\"black\" points=\"236,-479.3 232.5,-469.3 229,-479.3 236,-479.3\"/>\n</g>\n<!-- 15 -->\n<g id=\"node11\" class=\"node\">\n<title>15</title>\n<path fill=\"#fffffe\" stroke=\"black\" d=\"M131,-357.5C131,-357.5 12,-357.5 12,-357.5 6,-357.5 0,-351.5 0,-345.5 0,-345.5 0,-316.5 0,-316.5 0,-310.5 6,-304.5 12,-304.5 12,-304.5 131,-304.5 131,-304.5 137,-304.5 143,-310.5 143,-316.5 143,-316.5 143,-345.5 143,-345.5 143,-351.5 137,-357.5 131,-357.5\"/>\n<text text-anchor=\"start\" x=\"8\" y=\"-342.3\" font-family=\"Helvetica,sans-Serif\" font-size=\"14.00\">squared_error = 0.03</text>\n<text text-anchor=\"start\" x=\"19\" y=\"-327.3\" font-family=\"Helvetica,sans-Serif\" font-size=\"14.00\">samples = 80028</text>\n<text text-anchor=\"start\" x=\"34\" y=\"-312.3\" font-family=\"Helvetica,sans-Serif\" font-size=\"14.00\">value = 0.02</text>\n</g>\n<!-- 10&#45;&gt;15 -->\n<g id=\"edge10\" class=\"edge\">\n<title>10&#45;&gt;15</title>\n<path fill=\"none\" stroke=\"black\" d=\"M180.23,-400.88C160.96,-388.68 139.22,-374.9 120.27,-362.9\"/>\n<polygon fill=\"black\" stroke=\"black\" points=\"122.1,-359.92 111.78,-357.52 118.36,-365.83 122.1,-359.92\"/>\n</g>\n<!-- 16 -->\n<g id=\"node12\" class=\"node\">\n<title>16</title>\n<path fill=\"#f6d5be\" stroke=\"black\" d=\"M292,-365C292,-365 173,-365 173,-365 167,-365 161,-359 161,-353 161,-353 161,-309 161,-309 161,-303 167,-297 173,-297 173,-297 292,-297 292,-297 298,-297 304,-303 304,-309 304,-309 304,-353 304,-353 304,-359 298,-365 292,-365\"/>\n<text text-anchor=\"start\" x=\"197.5\" y=\"-349.8\" font-family=\"Helvetica,sans-Serif\" font-size=\"14.00\">family ≤ 5.5</text>\n<text text-anchor=\"start\" x=\"169\" y=\"-334.8\" font-family=\"Helvetica,sans-Serif\" font-size=\"14.00\">squared_error = 6.44</text>\n<text text-anchor=\"start\" x=\"176.5\" y=\"-319.8\" font-family=\"Helvetica,sans-Serif\" font-size=\"14.00\">samples = 128844</text>\n<text text-anchor=\"start\" x=\"195\" y=\"-304.8\" font-family=\"Helvetica,sans-Serif\" font-size=\"14.00\">value = 2.71</text>\n</g>\n<!-- 10&#45;&gt;16 -->\n<g id=\"edge11\" class=\"edge\">\n<title>10&#45;&gt;16</title>\n<path fill=\"none\" stroke=\"black\" d=\"M232.5,-400.88C232.5,-392.78 232.5,-383.98 232.5,-375.47\"/>\n<polygon fill=\"black\" stroke=\"black\" points=\"236,-375.3 232.5,-365.3 229,-375.3 236,-375.3\"/>\n</g>\n<!-- 17 -->\n<g id=\"node13\" class=\"node\">\n<title>17</title>\n<path fill=\"#efb286\" stroke=\"black\" d=\"M131,-253.5C131,-253.5 12,-253.5 12,-253.5 6,-253.5 0,-247.5 0,-241.5 0,-241.5 0,-212.5 0,-212.5 0,-206.5 6,-200.5 12,-200.5 12,-200.5 131,-200.5 131,-200.5 137,-200.5 143,-206.5 143,-212.5 143,-212.5 143,-241.5 143,-241.5 143,-247.5 137,-253.5 131,-253.5\"/>\n<text text-anchor=\"start\" x=\"8\" y=\"-238.3\" font-family=\"Helvetica,sans-Serif\" font-size=\"14.00\">squared_error = 4.58</text>\n<text text-anchor=\"start\" x=\"19\" y=\"-223.3\" font-family=\"Helvetica,sans-Serif\" font-size=\"14.00\">samples = 51440</text>\n<text text-anchor=\"start\" x=\"34\" y=\"-208.3\" font-family=\"Helvetica,sans-Serif\" font-size=\"14.00\">value = 5.02</text>\n</g>\n<!-- 16&#45;&gt;17 -->\n<g id=\"edge12\" class=\"edge\">\n<title>16&#45;&gt;17</title>\n<path fill=\"none\" stroke=\"black\" d=\"M180.23,-296.88C160.96,-284.68 139.22,-270.9 120.27,-258.9\"/>\n<polygon fill=\"black\" stroke=\"black\" points=\"122.1,-255.92 111.78,-253.52 118.36,-261.83 122.1,-255.92\"/>\n</g>\n<!-- 18 -->\n<g id=\"node14\" class=\"node\">\n<title>18</title>\n<path fill=\"#fbede3\" stroke=\"black\" d=\"M292,-253.5C292,-253.5 173,-253.5 173,-253.5 167,-253.5 161,-247.5 161,-241.5 161,-241.5 161,-212.5 161,-212.5 161,-206.5 167,-200.5 173,-200.5 173,-200.5 292,-200.5 292,-200.5 298,-200.5 304,-206.5 304,-212.5 304,-212.5 304,-241.5 304,-241.5 304,-247.5 298,-253.5 292,-253.5\"/>\n<text text-anchor=\"start\" x=\"169\" y=\"-238.3\" font-family=\"Helvetica,sans-Serif\" font-size=\"14.00\">squared_error = 1.79</text>\n<text text-anchor=\"start\" x=\"180\" y=\"-223.3\" font-family=\"Helvetica,sans-Serif\" font-size=\"14.00\">samples = 77404</text>\n<text text-anchor=\"start\" x=\"195\" y=\"-208.3\" font-family=\"Helvetica,sans-Serif\" font-size=\"14.00\">value = 1.18</text>\n</g>\n<!-- 16&#45;&gt;18 -->\n<g id=\"edge13\" class=\"edge\">\n<title>16&#45;&gt;18</title>\n<path fill=\"none\" stroke=\"black\" d=\"M232.5,-296.88C232.5,-286.33 232.5,-274.6 232.5,-263.85\"/>\n<polygon fill=\"black\" stroke=\"black\" points=\"236,-263.52 232.5,-253.52 229,-263.52 236,-263.52\"/>\n</g>\n<!-- 25 -->\n<g id=\"node16\" class=\"node\">\n<title>25</title>\n<path fill=\"#efb287\" stroke=\"black\" d=\"M614,-469C614,-469 495,-469 495,-469 489,-469 483,-463 483,-457 483,-457 483,-413 483,-413 483,-407 489,-401 495,-401 495,-401 614,-401 614,-401 620,-401 626,-407 626,-413 626,-413 626,-457 626,-457 626,-463 620,-469 614,-469\"/>\n<text text-anchor=\"start\" x=\"515.5\" y=\"-453.8\" font-family=\"Helvetica,sans-Serif\" font-size=\"14.00\">family ≤ 11.5</text>\n<text text-anchor=\"start\" x=\"491\" y=\"-438.8\" font-family=\"Helvetica,sans-Serif\" font-size=\"14.00\">squared_error = 5.05</text>\n<text text-anchor=\"start\" x=\"498.5\" y=\"-423.8\" font-family=\"Helvetica,sans-Serif\" font-size=\"14.00\">samples = 267414</text>\n<text text-anchor=\"start\" x=\"517\" y=\"-408.8\" font-family=\"Helvetica,sans-Serif\" font-size=\"14.00\">value = 4.99</text>\n</g>\n<!-- 8&#45;&gt;25 -->\n<g id=\"edge15\" class=\"edge\">\n<title>8&#45;&gt;25</title>\n<path fill=\"none\" stroke=\"black\" d=\"M724.87,-507.81C696.83,-495.99 664.51,-482.37 635.61,-470.19\"/>\n<polygon fill=\"black\" stroke=\"black\" points=\"636.93,-466.95 626.36,-466.29 634.22,-473.4 636.93,-466.95\"/>\n</g>\n<!-- 26 -->\n<g id=\"node21\" class=\"node\">\n<title>26</title>\n<path fill=\"#f9e4d5\" stroke=\"black\" d=\"M856,-469C856,-469 737,-469 737,-469 731,-469 725,-463 725,-457 725,-457 725,-413 725,-413 725,-407 731,-401 737,-401 737,-401 856,-401 856,-401 862,-401 868,-407 868,-413 868,-413 868,-457 868,-457 868,-463 862,-469 856,-469\"/>\n<text text-anchor=\"start\" x=\"747\" y=\"-453.8\" font-family=\"Helvetica,sans-Serif\" font-size=\"14.00\">store_nbr ≤ 53.5</text>\n<text text-anchor=\"start\" x=\"733\" y=\"-438.8\" font-family=\"Helvetica,sans-Serif\" font-size=\"14.00\">squared_error = 6.21</text>\n<text text-anchor=\"start\" x=\"744\" y=\"-423.8\" font-family=\"Helvetica,sans-Serif\" font-size=\"14.00\">samples = 18888</text>\n<text text-anchor=\"start\" x=\"759\" y=\"-408.8\" font-family=\"Helvetica,sans-Serif\" font-size=\"14.00\">value = 1.76</text>\n</g>\n<!-- 8&#45;&gt;26 -->\n<g id=\"edge20\" class=\"edge\">\n<title>8&#45;&gt;26</title>\n<path fill=\"none\" stroke=\"black\" d=\"M796.5,-504.88C796.5,-496.78 796.5,-487.98 796.5,-479.47\"/>\n<polygon fill=\"black\" stroke=\"black\" points=\"800,-479.3 796.5,-469.3 793,-479.3 800,-479.3\"/>\n</g>\n<!-- 35 -->\n<g id=\"node17\" class=\"node\">\n<title>35</title>\n<path fill=\"#f0b68c\" stroke=\"black\" d=\"M453,-365C453,-365 334,-365 334,-365 328,-365 322,-359 322,-353 322,-353 322,-309 322,-309 322,-303 328,-297 334,-297 334,-297 453,-297 453,-297 459,-297 465,-303 465,-309 465,-309 465,-353 465,-353 465,-359 459,-365 453,-365\"/>\n<text text-anchor=\"start\" x=\"358.5\" y=\"-349.8\" font-family=\"Helvetica,sans-Serif\" font-size=\"14.00\">family ≤ 8.5</text>\n<text text-anchor=\"start\" x=\"330\" y=\"-334.8\" font-family=\"Helvetica,sans-Serif\" font-size=\"14.00\">squared_error = 4.07</text>\n<text text-anchor=\"start\" x=\"337.5\" y=\"-319.8\" font-family=\"Helvetica,sans-Serif\" font-size=\"14.00\">samples = 235739</text>\n<text text-anchor=\"start\" x=\"356\" y=\"-304.8\" font-family=\"Helvetica,sans-Serif\" font-size=\"14.00\">value = 4.76</text>\n</g>\n<!-- 25&#45;&gt;35 -->\n<g id=\"edge16\" class=\"edge\">\n<title>25&#45;&gt;35</title>\n<path fill=\"none\" stroke=\"black\" d=\"M502.23,-400.88C486.97,-391.21 470.15,-380.56 454.41,-370.59\"/>\n<polygon fill=\"black\" stroke=\"black\" points=\"456.11,-367.52 445.79,-365.12 452.36,-373.43 456.11,-367.52\"/>\n</g>\n<!-- 36 -->\n<g id=\"node20\" class=\"node\">\n<title>36</title>\n<path fill=\"#ea995e\" stroke=\"black\" d=\"M614,-357.5C614,-357.5 495,-357.5 495,-357.5 489,-357.5 483,-351.5 483,-345.5 483,-345.5 483,-316.5 483,-316.5 483,-310.5 489,-304.5 495,-304.5 495,-304.5 614,-304.5 614,-304.5 620,-304.5 626,-310.5 626,-316.5 626,-316.5 626,-345.5 626,-345.5 626,-351.5 620,-357.5 614,-357.5\"/>\n<text text-anchor=\"start\" x=\"491\" y=\"-342.3\" font-family=\"Helvetica,sans-Serif\" font-size=\"14.00\">squared_error = 9.12</text>\n<text text-anchor=\"start\" x=\"502\" y=\"-327.3\" font-family=\"Helvetica,sans-Serif\" font-size=\"14.00\">samples = 31675</text>\n<text text-anchor=\"start\" x=\"517\" y=\"-312.3\" font-family=\"Helvetica,sans-Serif\" font-size=\"14.00\">value = 6.67</text>\n</g>\n<!-- 25&#45;&gt;36 -->\n<g id=\"edge19\" class=\"edge\">\n<title>25&#45;&gt;36</title>\n<path fill=\"none\" stroke=\"black\" d=\"M554.5,-400.88C554.5,-390.33 554.5,-378.6 554.5,-367.85\"/>\n<polygon fill=\"black\" stroke=\"black\" points=\"558,-367.52 554.5,-357.52 551,-367.52 558,-367.52\"/>\n</g>\n<!-- 43 -->\n<g id=\"node18\" class=\"node\">\n<title>43</title>\n<path fill=\"#edaa79\" stroke=\"black\" d=\"M453,-253.5C453,-253.5 334,-253.5 334,-253.5 328,-253.5 322,-247.5 322,-241.5 322,-241.5 322,-212.5 322,-212.5 322,-206.5 328,-200.5 334,-200.5 334,-200.5 453,-200.5 453,-200.5 459,-200.5 465,-206.5 465,-212.5 465,-212.5 465,-241.5 465,-241.5 465,-247.5 459,-253.5 453,-253.5\"/>\n<text text-anchor=\"start\" x=\"330\" y=\"-238.3\" font-family=\"Helvetica,sans-Serif\" font-size=\"14.00\">squared_error = 5.25</text>\n<text text-anchor=\"start\" x=\"341\" y=\"-223.3\" font-family=\"Helvetica,sans-Serif\" font-size=\"14.00\">samples = 80700</text>\n<text text-anchor=\"start\" x=\"356\" y=\"-208.3\" font-family=\"Helvetica,sans-Serif\" font-size=\"14.00\">value = 5.57</text>\n</g>\n<!-- 35&#45;&gt;43 -->\n<g id=\"edge17\" class=\"edge\">\n<title>35&#45;&gt;43</title>\n<path fill=\"none\" stroke=\"black\" d=\"M393.5,-296.88C393.5,-286.33 393.5,-274.6 393.5,-263.85\"/>\n<polygon fill=\"black\" stroke=\"black\" points=\"397,-263.52 393.5,-253.52 390,-263.52 397,-263.52\"/>\n</g>\n<!-- 44 -->\n<g id=\"node19\" class=\"node\">\n<title>44</title>\n<path fill=\"#f1bc96\" stroke=\"black\" d=\"M614,-253.5C614,-253.5 495,-253.5 495,-253.5 489,-253.5 483,-247.5 483,-241.5 483,-241.5 483,-212.5 483,-212.5 483,-206.5 489,-200.5 495,-200.5 495,-200.5 614,-200.5 614,-200.5 620,-200.5 626,-206.5 626,-212.5 626,-212.5 626,-241.5 626,-241.5 626,-247.5 620,-253.5 614,-253.5\"/>\n<text text-anchor=\"start\" x=\"491\" y=\"-238.3\" font-family=\"Helvetica,sans-Serif\" font-size=\"14.00\">squared_error = 2.95</text>\n<text text-anchor=\"start\" x=\"498.5\" y=\"-223.3\" font-family=\"Helvetica,sans-Serif\" font-size=\"14.00\">samples = 155039</text>\n<text text-anchor=\"start\" x=\"517\" y=\"-208.3\" font-family=\"Helvetica,sans-Serif\" font-size=\"14.00\">value = 4.34</text>\n</g>\n<!-- 35&#45;&gt;44 -->\n<g id=\"edge18\" class=\"edge\">\n<title>35&#45;&gt;44</title>\n<path fill=\"none\" stroke=\"black\" d=\"M445.77,-296.88C465.04,-284.68 486.78,-270.9 505.73,-258.9\"/>\n<polygon fill=\"black\" stroke=\"black\" points=\"507.64,-261.83 514.22,-253.52 503.9,-255.92 507.64,-261.83\"/>\n</g>\n<!-- 49 -->\n<g id=\"node22\" class=\"node\">\n<title>49</title>\n<path fill=\"#fdf6f1\" stroke=\"black\" d=\"M775,-357.5C775,-357.5 656,-357.5 656,-357.5 650,-357.5 644,-351.5 644,-345.5 644,-345.5 644,-316.5 644,-316.5 644,-310.5 650,-304.5 656,-304.5 656,-304.5 775,-304.5 775,-304.5 781,-304.5 787,-310.5 787,-316.5 787,-316.5 787,-345.5 787,-345.5 787,-351.5 781,-357.5 775,-357.5\"/>\n<text text-anchor=\"start\" x=\"652\" y=\"-342.3\" font-family=\"Helvetica,sans-Serif\" font-size=\"14.00\">squared_error = 2.65</text>\n<text text-anchor=\"start\" x=\"663\" y=\"-327.3\" font-family=\"Helvetica,sans-Serif\" font-size=\"14.00\">samples = 13532</text>\n<text text-anchor=\"start\" x=\"678\" y=\"-312.3\" font-family=\"Helvetica,sans-Serif\" font-size=\"14.00\">value = 0.57</text>\n</g>\n<!-- 26&#45;&gt;49 -->\n<g id=\"edge21\" class=\"edge\">\n<title>26&#45;&gt;49</title>\n<path fill=\"none\" stroke=\"black\" d=\"M770.2,-400.88C761.21,-389.56 751.14,-376.88 742.12,-365.52\"/>\n<polygon fill=\"black\" stroke=\"black\" points=\"744.73,-363.17 735.77,-357.52 739.24,-367.53 744.73,-363.17\"/>\n</g>\n<!-- 50 -->\n<g id=\"node23\" class=\"node\">\n<title>50</title>\n<path fill=\"#f0b68c\" stroke=\"black\" d=\"M936,-357.5C936,-357.5 817,-357.5 817,-357.5 811,-357.5 805,-351.5 805,-345.5 805,-345.5 805,-316.5 805,-316.5 805,-310.5 811,-304.5 817,-304.5 817,-304.5 936,-304.5 936,-304.5 942,-304.5 948,-310.5 948,-316.5 948,-316.5 948,-345.5 948,-345.5 948,-351.5 942,-357.5 936,-357.5\"/>\n<text text-anchor=\"start\" x=\"813\" y=\"-342.3\" font-family=\"Helvetica,sans-Serif\" font-size=\"14.00\">squared_error = 2.61</text>\n<text text-anchor=\"start\" x=\"828\" y=\"-327.3\" font-family=\"Helvetica,sans-Serif\" font-size=\"14.00\">samples = 5356</text>\n<text text-anchor=\"start\" x=\"839\" y=\"-312.3\" font-family=\"Helvetica,sans-Serif\" font-size=\"14.00\">value = 4.76</text>\n</g>\n<!-- 26&#45;&gt;50 -->\n<g id=\"edge22\" class=\"edge\">\n<title>26&#45;&gt;50</title>\n<path fill=\"none\" stroke=\"black\" d=\"M822.47,-400.88C831.36,-389.56 841.3,-376.88 850.21,-365.52\"/>\n<polygon fill=\"black\" stroke=\"black\" points=\"853.07,-367.55 856.48,-357.52 847.56,-363.23 853.07,-367.55\"/>\n</g>\n<!-- 11 -->\n<g id=\"node25\" class=\"node\">\n<title>11</title>\n<path fill=\"#fbeade\" stroke=\"black\" d=\"M1237,-573C1237,-573 1118,-573 1118,-573 1112,-573 1106,-567 1106,-561 1106,-561 1106,-517 1106,-517 1106,-511 1112,-505 1118,-505 1118,-505 1237,-505 1237,-505 1243,-505 1249,-511 1249,-517 1249,-517 1249,-561 1249,-561 1249,-567 1243,-573 1237,-573\"/>\n<text text-anchor=\"start\" x=\"1136\" y=\"-557.8\" font-family=\"Helvetica,sans-Serif\" font-size=\"14.00\">year ≤ 2013.5</text>\n<text text-anchor=\"start\" x=\"1114\" y=\"-542.8\" font-family=\"Helvetica,sans-Serif\" font-size=\"14.00\">squared_error = 2.64</text>\n<text text-anchor=\"start\" x=\"1121.5\" y=\"-527.8\" font-family=\"Helvetica,sans-Serif\" font-size=\"14.00\">samples = 827202</text>\n<text text-anchor=\"start\" x=\"1140\" y=\"-512.8\" font-family=\"Helvetica,sans-Serif\" font-size=\"14.00\">value = 1.38</text>\n</g>\n<!-- 6&#45;&gt;11 -->\n<g id=\"edge24\" class=\"edge\">\n<title>6&#45;&gt;11</title>\n<path fill=\"none\" stroke=\"black\" d=\"M1177.5,-608.88C1177.5,-600.78 1177.5,-591.98 1177.5,-583.47\"/>\n<polygon fill=\"black\" stroke=\"black\" points=\"1181,-583.3 1177.5,-573.3 1174,-583.3 1181,-583.3\"/>\n</g>\n<!-- 12 -->\n<g id=\"node34\" class=\"node\">\n<title>12</title>\n<path fill=\"#f7d7c1\" stroke=\"black\" d=\"M1515,-573C1515,-573 1396,-573 1396,-573 1390,-573 1384,-567 1384,-561 1384,-561 1384,-517 1384,-517 1384,-511 1390,-505 1396,-505 1396,-505 1515,-505 1515,-505 1521,-505 1527,-511 1527,-517 1527,-517 1527,-561 1527,-561 1527,-567 1521,-573 1515,-573\"/>\n<text text-anchor=\"start\" x=\"1416.5\" y=\"-557.8\" font-family=\"Helvetica,sans-Serif\" font-size=\"14.00\">family ≤ 25.5</text>\n<text text-anchor=\"start\" x=\"1392\" y=\"-542.8\" font-family=\"Helvetica,sans-Serif\" font-size=\"14.00\">squared_error = 6.15</text>\n<text text-anchor=\"start\" x=\"1399.5\" y=\"-527.8\" font-family=\"Helvetica,sans-Serif\" font-size=\"14.00\">samples = 607530</text>\n<text text-anchor=\"start\" x=\"1418\" y=\"-512.8\" font-family=\"Helvetica,sans-Serif\" font-size=\"14.00\">value = 2.58</text>\n</g>\n<!-- 6&#45;&gt;12 -->\n<g id=\"edge33\" class=\"edge\">\n<title>6&#45;&gt;12</title>\n<path fill=\"none\" stroke=\"black\" d=\"M1249.09,-615.73C1287.29,-601.72 1334.44,-584.42 1374.04,-569.89\"/>\n<polygon fill=\"black\" stroke=\"black\" points=\"1375.49,-573.09 1383.67,-566.36 1373.07,-566.51 1375.49,-573.09\"/>\n</g>\n<!-- 33 -->\n<g id=\"node26\" class=\"node\">\n<title>33</title>\n<path fill=\"#fdf3ed\" stroke=\"black\" d=\"M1116,-469C1116,-469 997,-469 997,-469 991,-469 985,-463 985,-457 985,-457 985,-413 985,-413 985,-407 991,-401 997,-401 997,-401 1116,-401 1116,-401 1122,-401 1128,-407 1128,-413 1128,-413 1128,-457 1128,-457 1128,-463 1122,-469 1116,-469\"/>\n<text text-anchor=\"start\" x=\"1017.5\" y=\"-453.8\" font-family=\"Helvetica,sans-Serif\" font-size=\"14.00\">family ≤ 20.5</text>\n<text text-anchor=\"start\" x=\"993\" y=\"-438.8\" font-family=\"Helvetica,sans-Serif\" font-size=\"14.00\">squared_error = 1.78</text>\n<text text-anchor=\"start\" x=\"1000.5\" y=\"-423.8\" font-family=\"Helvetica,sans-Serif\" font-size=\"14.00\">samples = 219186</text>\n<text text-anchor=\"start\" x=\"1019\" y=\"-408.8\" font-family=\"Helvetica,sans-Serif\" font-size=\"14.00\">value = 0.76</text>\n</g>\n<!-- 11&#45;&gt;33 -->\n<g id=\"edge25\" class=\"edge\">\n<title>11&#45;&gt;33</title>\n<path fill=\"none\" stroke=\"black\" d=\"M1138.21,-504.88C1127.23,-495.62 1115.17,-485.45 1103.77,-475.85\"/>\n<polygon fill=\"black\" stroke=\"black\" points=\"1105.9,-473.07 1096,-469.3 1101.39,-478.42 1105.9,-473.07\"/>\n</g>\n<!-- 34 -->\n<g id=\"node33\" class=\"node\">\n<title>34</title>\n<path fill=\"#fae6d8\" stroke=\"black\" d=\"M1277,-461.5C1277,-461.5 1158,-461.5 1158,-461.5 1152,-461.5 1146,-455.5 1146,-449.5 1146,-449.5 1146,-420.5 1146,-420.5 1146,-414.5 1152,-408.5 1158,-408.5 1158,-408.5 1277,-408.5 1277,-408.5 1283,-408.5 1289,-414.5 1289,-420.5 1289,-420.5 1289,-449.5 1289,-449.5 1289,-455.5 1283,-461.5 1277,-461.5\"/>\n<text text-anchor=\"start\" x=\"1154\" y=\"-446.3\" font-family=\"Helvetica,sans-Serif\" font-size=\"14.00\">squared_error = 2.76</text>\n<text text-anchor=\"start\" x=\"1161.5\" y=\"-431.3\" font-family=\"Helvetica,sans-Serif\" font-size=\"14.00\">samples = 608016</text>\n<text text-anchor=\"start\" x=\"1184\" y=\"-416.3\" font-family=\"Helvetica,sans-Serif\" font-size=\"14.00\">value = 1.6</text>\n</g>\n<!-- 11&#45;&gt;34 -->\n<g id=\"edge32\" class=\"edge\">\n<title>11&#45;&gt;34</title>\n<path fill=\"none\" stroke=\"black\" d=\"M1190.49,-504.88C1194.76,-494 1199.51,-481.86 1203.83,-470.85\"/>\n<polygon fill=\"black\" stroke=\"black\" points=\"1207.1,-472.11 1207.49,-461.52 1200.58,-469.55 1207.1,-472.11\"/>\n</g>\n<!-- 57 -->\n<g id=\"node27\" class=\"node\">\n<title>57</title>\n<path fill=\"#fef8f4\" stroke=\"black\" d=\"M1097,-365C1097,-365 978,-365 978,-365 972,-365 966,-359 966,-353 966,-353 966,-309 966,-309 966,-303 972,-297 978,-297 978,-297 1097,-297 1097,-297 1103,-297 1109,-303 1109,-309 1109,-309 1109,-353 1109,-353 1109,-359 1103,-365 1097,-365\"/>\n<text text-anchor=\"start\" x=\"998.5\" y=\"-349.8\" font-family=\"Helvetica,sans-Serif\" font-size=\"14.00\">family ≤ 13.5</text>\n<text text-anchor=\"start\" x=\"974\" y=\"-334.8\" font-family=\"Helvetica,sans-Serif\" font-size=\"14.00\">squared_error = 0.94</text>\n<text text-anchor=\"start\" x=\"981.5\" y=\"-319.8\" font-family=\"Helvetica,sans-Serif\" font-size=\"14.00\">samples = 159408</text>\n<text text-anchor=\"start\" x=\"1000\" y=\"-304.8\" font-family=\"Helvetica,sans-Serif\" font-size=\"14.00\">value = 0.46</text>\n</g>\n<!-- 33&#45;&gt;57 -->\n<g id=\"edge26\" class=\"edge\">\n<title>33&#45;&gt;57</title>\n<path fill=\"none\" stroke=\"black\" d=\"M1050.33,-400.88C1048.8,-392.69 1047.15,-383.79 1045.55,-375.19\"/>\n<polygon fill=\"black\" stroke=\"black\" points=\"1048.97,-374.49 1043.7,-365.3 1042.09,-375.77 1048.97,-374.49\"/>\n</g>\n<!-- 58 -->\n<g id=\"node30\" class=\"node\">\n<title>58</title>\n<path fill=\"#fae7da\" stroke=\"black\" d=\"M1258,-365C1258,-365 1139,-365 1139,-365 1133,-365 1127,-359 1127,-353 1127,-353 1127,-309 1127,-309 1127,-303 1133,-297 1139,-297 1139,-297 1258,-297 1258,-297 1264,-297 1270,-303 1270,-309 1270,-309 1270,-353 1270,-353 1270,-359 1264,-365 1258,-365\"/>\n<text text-anchor=\"start\" x=\"1159.5\" y=\"-349.8\" font-family=\"Helvetica,sans-Serif\" font-size=\"14.00\">family ≤ 22.5</text>\n<text text-anchor=\"start\" x=\"1135\" y=\"-334.8\" font-family=\"Helvetica,sans-Serif\" font-size=\"14.00\">squared_error = 3.17</text>\n<text text-anchor=\"start\" x=\"1146\" y=\"-319.8\" font-family=\"Helvetica,sans-Serif\" font-size=\"14.00\">samples = 59778</text>\n<text text-anchor=\"start\" x=\"1161\" y=\"-304.8\" font-family=\"Helvetica,sans-Serif\" font-size=\"14.00\">value = 1.55</text>\n</g>\n<!-- 33&#45;&gt;58 -->\n<g id=\"edge29\" class=\"edge\">\n<title>33&#45;&gt;58</title>\n<path fill=\"none\" stroke=\"black\" d=\"M1102.6,-400.88C1115.75,-391.44 1130.2,-381.06 1143.8,-371.29\"/>\n<polygon fill=\"black\" stroke=\"black\" points=\"1146.06,-373.98 1152.14,-365.3 1141.98,-368.29 1146.06,-373.98\"/>\n</g>\n<!-- 59 -->\n<g id=\"node28\" class=\"node\">\n<title>59</title>\n<path fill=\"#f8dcc8\" stroke=\"black\" d=\"M936,-253.5C936,-253.5 817,-253.5 817,-253.5 811,-253.5 805,-247.5 805,-241.5 805,-241.5 805,-212.5 805,-212.5 805,-206.5 811,-200.5 817,-200.5 817,-200.5 936,-200.5 936,-200.5 942,-200.5 948,-206.5 948,-212.5 948,-212.5 948,-241.5 948,-241.5 948,-247.5 942,-253.5 936,-253.5\"/>\n<text text-anchor=\"start\" x=\"813\" y=\"-238.3\" font-family=\"Helvetica,sans-Serif\" font-size=\"14.00\">squared_error = 1.82</text>\n<text text-anchor=\"start\" x=\"824\" y=\"-223.3\" font-family=\"Helvetica,sans-Serif\" font-size=\"14.00\">samples = 19926</text>\n<text text-anchor=\"start\" x=\"839\" y=\"-208.3\" font-family=\"Helvetica,sans-Serif\" font-size=\"14.00\">value = 2.26</text>\n</g>\n<!-- 57&#45;&gt;59 -->\n<g id=\"edge27\" class=\"edge\">\n<title>57&#45;&gt;59</title>\n<path fill=\"none\" stroke=\"black\" d=\"M985.23,-296.88C965.96,-284.68 944.22,-270.9 925.27,-258.9\"/>\n<polygon fill=\"black\" stroke=\"black\" points=\"927.1,-255.92 916.78,-253.52 923.36,-261.83 927.1,-255.92\"/>\n</g>\n<!-- 60 -->\n<g id=\"node29\" class=\"node\">\n<title>60</title>\n<path fill=\"#fefcfa\" stroke=\"black\" d=\"M1097,-253.5C1097,-253.5 978,-253.5 978,-253.5 972,-253.5 966,-247.5 966,-241.5 966,-241.5 966,-212.5 966,-212.5 966,-206.5 972,-200.5 978,-200.5 978,-200.5 1097,-200.5 1097,-200.5 1103,-200.5 1109,-206.5 1109,-212.5 1109,-212.5 1109,-241.5 1109,-241.5 1109,-247.5 1103,-253.5 1097,-253.5\"/>\n<text text-anchor=\"start\" x=\"974\" y=\"-238.3\" font-family=\"Helvetica,sans-Serif\" font-size=\"14.00\">squared_error = 0.28</text>\n<text text-anchor=\"start\" x=\"981.5\" y=\"-223.3\" font-family=\"Helvetica,sans-Serif\" font-size=\"14.00\">samples = 139482</text>\n<text text-anchor=\"start\" x=\"1000\" y=\"-208.3\" font-family=\"Helvetica,sans-Serif\" font-size=\"14.00\">value = 0.21</text>\n</g>\n<!-- 57&#45;&gt;60 -->\n<g id=\"edge28\" class=\"edge\">\n<title>57&#45;&gt;60</title>\n<path fill=\"none\" stroke=\"black\" d=\"M1037.5,-296.88C1037.5,-286.33 1037.5,-274.6 1037.5,-263.85\"/>\n<polygon fill=\"black\" stroke=\"black\" points=\"1041,-263.52 1037.5,-253.52 1034,-263.52 1041,-263.52\"/>\n</g>\n<!-- 61 -->\n<g id=\"node31\" class=\"node\">\n<title>61</title>\n<path fill=\"#f8dbc7\" stroke=\"black\" d=\"M1258,-253.5C1258,-253.5 1139,-253.5 1139,-253.5 1133,-253.5 1127,-247.5 1127,-241.5 1127,-241.5 1127,-212.5 1127,-212.5 1127,-206.5 1133,-200.5 1139,-200.5 1139,-200.5 1258,-200.5 1258,-200.5 1264,-200.5 1270,-206.5 1270,-212.5 1270,-212.5 1270,-241.5 1270,-241.5 1270,-247.5 1264,-253.5 1258,-253.5\"/>\n<text text-anchor=\"start\" x=\"1135\" y=\"-238.3\" font-family=\"Helvetica,sans-Serif\" font-size=\"14.00\">squared_error = 2.95</text>\n<text text-anchor=\"start\" x=\"1146\" y=\"-223.3\" font-family=\"Helvetica,sans-Serif\" font-size=\"14.00\">samples = 39852</text>\n<text text-anchor=\"start\" x=\"1161\" y=\"-208.3\" font-family=\"Helvetica,sans-Serif\" font-size=\"14.00\">value = 2.33</text>\n</g>\n<!-- 58&#45;&gt;61 -->\n<g id=\"edge30\" class=\"edge\">\n<title>58&#45;&gt;61</title>\n<path fill=\"none\" stroke=\"black\" d=\"M1198.5,-296.88C1198.5,-286.33 1198.5,-274.6 1198.5,-263.85\"/>\n<polygon fill=\"black\" stroke=\"black\" points=\"1202,-263.52 1198.5,-253.52 1195,-263.52 1202,-263.52\"/>\n</g>\n<!-- 62 -->\n<g id=\"node32\" class=\"node\">\n<title>62</title>\n<path fill=\"#ffffff\" stroke=\"black\" d=\"M1416.5,-253.5C1416.5,-253.5 1300.5,-253.5 1300.5,-253.5 1294.5,-253.5 1288.5,-247.5 1288.5,-241.5 1288.5,-241.5 1288.5,-212.5 1288.5,-212.5 1288.5,-206.5 1294.5,-200.5 1300.5,-200.5 1300.5,-200.5 1416.5,-200.5 1416.5,-200.5 1422.5,-200.5 1428.5,-206.5 1428.5,-212.5 1428.5,-212.5 1428.5,-241.5 1428.5,-241.5 1428.5,-247.5 1422.5,-253.5 1416.5,-253.5\"/>\n<text text-anchor=\"start\" x=\"1296.5\" y=\"-238.3\" font-family=\"Helvetica,sans-Serif\" font-size=\"14.00\">squared_error = &#45;0.0</text>\n<text text-anchor=\"start\" x=\"1306\" y=\"-223.3\" font-family=\"Helvetica,sans-Serif\" font-size=\"14.00\">samples = 19926</text>\n<text text-anchor=\"start\" x=\"1325\" y=\"-208.3\" font-family=\"Helvetica,sans-Serif\" font-size=\"14.00\">value = 0.0</text>\n</g>\n<!-- 58&#45;&gt;62 -->\n<g id=\"edge31\" class=\"edge\">\n<title>58&#45;&gt;62</title>\n<path fill=\"none\" stroke=\"black\" d=\"M1250.45,-296.88C1269.6,-284.68 1291.2,-270.9 1310.03,-258.9\"/>\n<polygon fill=\"black\" stroke=\"black\" points=\"1311.92,-261.85 1318.47,-253.52 1308.15,-255.94 1311.92,-261.85\"/>\n</g>\n<!-- 13 -->\n<g id=\"node35\" class=\"node\">\n<title>13</title>\n<path fill=\"#f0b68d\" stroke=\"black\" d=\"M1515,-469C1515,-469 1396,-469 1396,-469 1390,-469 1384,-463 1384,-457 1384,-457 1384,-413 1384,-413 1384,-407 1390,-401 1396,-401 1396,-401 1515,-401 1515,-401 1521,-401 1527,-407 1527,-413 1527,-413 1527,-457 1527,-457 1527,-463 1521,-469 1515,-469\"/>\n<text text-anchor=\"start\" x=\"1406\" y=\"-453.8\" font-family=\"Helvetica,sans-Serif\" font-size=\"14.00\">store_nbr ≤ 51.5</text>\n<text text-anchor=\"start\" x=\"1392\" y=\"-438.8\" font-family=\"Helvetica,sans-Serif\" font-size=\"14.00\">squared_error = 3.74</text>\n<text text-anchor=\"start\" x=\"1399.5\" y=\"-423.8\" font-family=\"Helvetica,sans-Serif\" font-size=\"14.00\">samples = 115448</text>\n<text text-anchor=\"start\" x=\"1418\" y=\"-408.8\" font-family=\"Helvetica,sans-Serif\" font-size=\"14.00\">value = 4.74</text>\n</g>\n<!-- 12&#45;&gt;13 -->\n<g id=\"edge34\" class=\"edge\">\n<title>12&#45;&gt;13</title>\n<path fill=\"none\" stroke=\"black\" d=\"M1455.5,-504.88C1455.5,-496.78 1455.5,-487.98 1455.5,-479.47\"/>\n<polygon fill=\"black\" stroke=\"black\" points=\"1459,-479.3 1455.5,-469.3 1452,-479.3 1459,-479.3\"/>\n</g>\n<!-- 14 -->\n<g id=\"node38\" class=\"node\">\n<title>14</title>\n<path fill=\"#f8dfcd\" stroke=\"black\" d=\"M1715,-469C1715,-469 1596,-469 1596,-469 1590,-469 1584,-463 1584,-457 1584,-457 1584,-413 1584,-413 1584,-407 1590,-401 1596,-401 1596,-401 1715,-401 1715,-401 1721,-401 1727,-407 1727,-413 1727,-413 1727,-457 1727,-457 1727,-463 1721,-469 1715,-469\"/>\n<text text-anchor=\"start\" x=\"1616.5\" y=\"-453.8\" font-family=\"Helvetica,sans-Serif\" font-size=\"14.00\">family ≤ 27.5</text>\n<text text-anchor=\"start\" x=\"1592\" y=\"-438.8\" font-family=\"Helvetica,sans-Serif\" font-size=\"14.00\">squared_error = 5.36</text>\n<text text-anchor=\"start\" x=\"1599.5\" y=\"-423.8\" font-family=\"Helvetica,sans-Serif\" font-size=\"14.00\">samples = 492082</text>\n<text text-anchor=\"start\" x=\"1618\" y=\"-408.8\" font-family=\"Helvetica,sans-Serif\" font-size=\"14.00\">value = 2.07</text>\n</g>\n<!-- 12&#45;&gt;14 -->\n<g id=\"edge37\" class=\"edge\">\n<title>12&#45;&gt;14</title>\n<path fill=\"none\" stroke=\"black\" d=\"M1520.43,-504.88C1539.92,-494.95 1561.44,-483.97 1581.47,-473.76\"/>\n<polygon fill=\"black\" stroke=\"black\" points=\"1583.23,-476.79 1590.55,-469.12 1580.05,-470.55 1583.23,-476.79\"/>\n</g>\n<!-- 53 -->\n<g id=\"node36\" class=\"node\">\n<title>53</title>\n<path fill=\"#efb488\" stroke=\"black\" d=\"M1412.5,-357.5C1412.5,-357.5 1300.5,-357.5 1300.5,-357.5 1294.5,-357.5 1288.5,-351.5 1288.5,-345.5 1288.5,-345.5 1288.5,-316.5 1288.5,-316.5 1288.5,-310.5 1294.5,-304.5 1300.5,-304.5 1300.5,-304.5 1412.5,-304.5 1412.5,-304.5 1418.5,-304.5 1424.5,-310.5 1424.5,-316.5 1424.5,-316.5 1424.5,-345.5 1424.5,-345.5 1424.5,-351.5 1418.5,-357.5 1412.5,-357.5\"/>\n<text text-anchor=\"start\" x=\"1296.5\" y=\"-342.3\" font-family=\"Helvetica,sans-Serif\" font-size=\"14.00\">squared_error = 3.1</text>\n<text text-anchor=\"start\" x=\"1300.5\" y=\"-327.3\" font-family=\"Helvetica,sans-Serif\" font-size=\"14.00\">samples = 108389</text>\n<text text-anchor=\"start\" x=\"1319\" y=\"-312.3\" font-family=\"Helvetica,sans-Serif\" font-size=\"14.00\">value = 4.92</text>\n</g>\n<!-- 13&#45;&gt;53 -->\n<g id=\"edge35\" class=\"edge\">\n<title>13&#45;&gt;53</title>\n<path fill=\"none\" stroke=\"black\" d=\"M1423.36,-400.88C1412.15,-389.34 1399.58,-376.39 1388.39,-364.86\"/>\n<polygon fill=\"black\" stroke=\"black\" points=\"1390.75,-362.26 1381.27,-357.52 1385.72,-367.13 1390.75,-362.26\"/>\n</g>\n<!-- 54 -->\n<g id=\"node37\" class=\"node\">\n<title>54</title>\n<path fill=\"#f9e0cf\" stroke=\"black\" d=\"M1574,-357.5C1574,-357.5 1455,-357.5 1455,-357.5 1449,-357.5 1443,-351.5 1443,-345.5 1443,-345.5 1443,-316.5 1443,-316.5 1443,-310.5 1449,-304.5 1455,-304.5 1455,-304.5 1574,-304.5 1574,-304.5 1580,-304.5 1586,-310.5 1586,-316.5 1586,-316.5 1586,-345.5 1586,-345.5 1586,-351.5 1580,-357.5 1574,-357.5\"/>\n<text text-anchor=\"start\" x=\"1451\" y=\"-342.3\" font-family=\"Helvetica,sans-Serif\" font-size=\"14.00\">squared_error = 5.46</text>\n<text text-anchor=\"start\" x=\"1466\" y=\"-327.3\" font-family=\"Helvetica,sans-Serif\" font-size=\"14.00\">samples = 7059</text>\n<text text-anchor=\"start\" x=\"1477\" y=\"-312.3\" font-family=\"Helvetica,sans-Serif\" font-size=\"14.00\">value = 1.99</text>\n</g>\n<!-- 13&#45;&gt;54 -->\n<g id=\"edge36\" class=\"edge\">\n<title>13&#45;&gt;54</title>\n<path fill=\"none\" stroke=\"black\" d=\"M1474.66,-400.88C1481.08,-389.78 1488.26,-377.37 1494.73,-366.18\"/>\n<polygon fill=\"black\" stroke=\"black\" points=\"1497.76,-367.93 1499.74,-357.52 1491.7,-364.42 1497.76,-367.93\"/>\n</g>\n<!-- 19 -->\n<g id=\"node39\" class=\"node\">\n<title>19</title>\n<path fill=\"#fcf2ea\" stroke=\"black\" d=\"M1735,-357.5C1735,-357.5 1616,-357.5 1616,-357.5 1610,-357.5 1604,-351.5 1604,-345.5 1604,-345.5 1604,-316.5 1604,-316.5 1604,-310.5 1610,-304.5 1616,-304.5 1616,-304.5 1735,-304.5 1735,-304.5 1741,-304.5 1747,-310.5 1747,-316.5 1747,-316.5 1747,-345.5 1747,-345.5 1747,-351.5 1741,-357.5 1735,-357.5\"/>\n<text text-anchor=\"start\" x=\"1612\" y=\"-342.3\" font-family=\"Helvetica,sans-Serif\" font-size=\"14.00\">squared_error = 1.28</text>\n<text text-anchor=\"start\" x=\"1619.5\" y=\"-327.3\" font-family=\"Helvetica,sans-Serif\" font-size=\"14.00\">samples = 157500</text>\n<text text-anchor=\"start\" x=\"1638\" y=\"-312.3\" font-family=\"Helvetica,sans-Serif\" font-size=\"14.00\">value = 0.86</text>\n</g>\n<!-- 14&#45;&gt;19 -->\n<g id=\"edge38\" class=\"edge\">\n<title>14&#45;&gt;19</title>\n<path fill=\"none\" stroke=\"black\" d=\"M1661.99,-400.88C1664.09,-390.22 1666.41,-378.35 1668.54,-367.52\"/>\n<polygon fill=\"black\" stroke=\"black\" points=\"1672.01,-368.01 1670.5,-357.52 1665.14,-366.66 1672.01,-368.01\"/>\n</g>\n<!-- 20 -->\n<g id=\"node40\" class=\"node\">\n<title>20</title>\n<path fill=\"#f7d6bf\" stroke=\"black\" d=\"M1896,-365C1896,-365 1777,-365 1777,-365 1771,-365 1765,-359 1765,-353 1765,-353 1765,-309 1765,-309 1765,-303 1771,-297 1777,-297 1777,-297 1896,-297 1896,-297 1902,-297 1908,-303 1908,-309 1908,-309 1908,-353 1908,-353 1908,-359 1902,-365 1896,-365\"/>\n<text text-anchor=\"start\" x=\"1797.5\" y=\"-349.8\" font-family=\"Helvetica,sans-Serif\" font-size=\"14.00\">family ≤ 30.5</text>\n<text text-anchor=\"start\" x=\"1773\" y=\"-334.8\" font-family=\"Helvetica,sans-Serif\" font-size=\"14.00\">squared_error = 6.26</text>\n<text text-anchor=\"start\" x=\"1780.5\" y=\"-319.8\" font-family=\"Helvetica,sans-Serif\" font-size=\"14.00\">samples = 334582</text>\n<text text-anchor=\"start\" x=\"1799\" y=\"-304.8\" font-family=\"Helvetica,sans-Serif\" font-size=\"14.00\">value = 2.65</text>\n</g>\n<!-- 14&#45;&gt;20 -->\n<g id=\"edge39\" class=\"edge\">\n<title>14&#45;&gt;20</title>\n<path fill=\"none\" stroke=\"black\" d=\"M1714.27,-400.88C1731.58,-391.12 1750.67,-380.37 1768.52,-370.31\"/>\n<polygon fill=\"black\" stroke=\"black\" points=\"1770.73,-373.08 1777.72,-365.12 1767.29,-366.99 1770.73,-373.08\"/>\n</g>\n<!-- 21 -->\n<g id=\"node41\" class=\"node\">\n<title>21</title>\n<path fill=\"#f3c4a2\" stroke=\"black\" d=\"M1811.5,-261C1811.5,-261 1699.5,-261 1699.5,-261 1693.5,-261 1687.5,-255 1687.5,-249 1687.5,-249 1687.5,-205 1687.5,-205 1687.5,-199 1693.5,-193 1699.5,-193 1699.5,-193 1811.5,-193 1811.5,-193 1817.5,-193 1823.5,-199 1823.5,-205 1823.5,-205 1823.5,-249 1823.5,-249 1823.5,-255 1817.5,-261 1811.5,-261\"/>\n<text text-anchor=\"start\" x=\"1714\" y=\"-245.8\" font-family=\"Helvetica,sans-Serif\" font-size=\"14.00\">year ≤ 2013.5</text>\n<text text-anchor=\"start\" x=\"1695.5\" y=\"-230.8\" font-family=\"Helvetica,sans-Serif\" font-size=\"14.00\">squared_error = 6.1</text>\n<text text-anchor=\"start\" x=\"1699.5\" y=\"-215.8\" font-family=\"Helvetica,sans-Serif\" font-size=\"14.00\">samples = 189706</text>\n<text text-anchor=\"start\" x=\"1718\" y=\"-200.8\" font-family=\"Helvetica,sans-Serif\" font-size=\"14.00\">value = 3.86</text>\n</g>\n<!-- 20&#45;&gt;21 -->\n<g id=\"edge40\" class=\"edge\">\n<title>20&#45;&gt;21</title>\n<path fill=\"none\" stroke=\"black\" d=\"M1810.2,-296.88C1803.2,-288.07 1795.55,-278.43 1788.25,-269.24\"/>\n<polygon fill=\"black\" stroke=\"black\" points=\"1790.9,-266.95 1781.94,-261.3 1785.42,-271.31 1790.9,-266.95\"/>\n</g>\n<!-- 22 -->\n<g id=\"node46\" class=\"node\">\n<title>22</title>\n<path fill=\"#fcefe5\" stroke=\"black\" d=\"M1976,-261C1976,-261 1857,-261 1857,-261 1851,-261 1845,-255 1845,-249 1845,-249 1845,-205 1845,-205 1845,-199 1851,-193 1857,-193 1857,-193 1976,-193 1976,-193 1982,-193 1988,-199 1988,-205 1988,-205 1988,-249 1988,-249 1988,-255 1982,-261 1976,-261\"/>\n<text text-anchor=\"start\" x=\"1877.5\" y=\"-245.8\" font-family=\"Helvetica,sans-Serif\" font-size=\"14.00\">family ≤ 31.5</text>\n<text text-anchor=\"start\" x=\"1853\" y=\"-230.8\" font-family=\"Helvetica,sans-Serif\" font-size=\"14.00\">squared_error = 2.02</text>\n<text text-anchor=\"start\" x=\"1860.5\" y=\"-215.8\" font-family=\"Helvetica,sans-Serif\" font-size=\"14.00\">samples = 144876</text>\n<text text-anchor=\"start\" x=\"1879\" y=\"-200.8\" font-family=\"Helvetica,sans-Serif\" font-size=\"14.00\">value = 1.06</text>\n</g>\n<!-- 20&#45;&gt;22 -->\n<g id=\"edge45\" class=\"edge\">\n<title>20&#45;&gt;22</title>\n<path fill=\"none\" stroke=\"black\" d=\"M1862.47,-296.88C1869.39,-288.07 1876.95,-278.43 1884.16,-269.24\"/>\n<polygon fill=\"black\" stroke=\"black\" points=\"1886.97,-271.33 1890.38,-261.3 1881.46,-267.01 1886.97,-271.33\"/>\n</g>\n<!-- 39 -->\n<g id=\"node42\" class=\"node\">\n<title>39</title>\n<path fill=\"#f6d3ba\" stroke=\"black\" d=\"M1654,-157C1654,-157 1535,-157 1535,-157 1529,-157 1523,-151 1523,-145 1523,-145 1523,-101 1523,-101 1523,-95 1529,-89 1535,-89 1535,-89 1654,-89 1654,-89 1660,-89 1666,-95 1666,-101 1666,-101 1666,-145 1666,-145 1666,-151 1660,-157 1654,-157\"/>\n<text text-anchor=\"start\" x=\"1555.5\" y=\"-141.8\" font-family=\"Helvetica,sans-Serif\" font-size=\"14.00\">family ≤ 29.5</text>\n<text text-anchor=\"start\" x=\"1531\" y=\"-126.8\" font-family=\"Helvetica,sans-Serif\" font-size=\"14.00\">squared_error = 5.26</text>\n<text text-anchor=\"start\" x=\"1542\" y=\"-111.8\" font-family=\"Helvetica,sans-Serif\" font-size=\"14.00\">samples = 59778</text>\n<text text-anchor=\"start\" x=\"1557\" y=\"-96.8\" font-family=\"Helvetica,sans-Serif\" font-size=\"14.00\">value = 2.87</text>\n</g>\n<!-- 21&#45;&gt;39 -->\n<g id=\"edge41\" class=\"edge\">\n<title>21&#45;&gt;39</title>\n<path fill=\"none\" stroke=\"black\" d=\"M1703.23,-192.88C1687.97,-183.21 1671.15,-172.56 1655.41,-162.59\"/>\n<polygon fill=\"black\" stroke=\"black\" points=\"1657.11,-159.52 1646.79,-157.12 1653.36,-165.43 1657.11,-159.52\"/>\n</g>\n<!-- 40 -->\n<g id=\"node45\" class=\"node\">\n<title>40</title>\n<path fill=\"#f1bd97\" stroke=\"black\" d=\"M1815,-149.5C1815,-149.5 1696,-149.5 1696,-149.5 1690,-149.5 1684,-143.5 1684,-137.5 1684,-137.5 1684,-108.5 1684,-108.5 1684,-102.5 1690,-96.5 1696,-96.5 1696,-96.5 1815,-96.5 1815,-96.5 1821,-96.5 1827,-102.5 1827,-108.5 1827,-108.5 1827,-137.5 1827,-137.5 1827,-143.5 1821,-149.5 1815,-149.5\"/>\n<text text-anchor=\"start\" x=\"1692\" y=\"-134.3\" font-family=\"Helvetica,sans-Serif\" font-size=\"14.00\">squared_error = 5.82</text>\n<text text-anchor=\"start\" x=\"1699.5\" y=\"-119.3\" font-family=\"Helvetica,sans-Serif\" font-size=\"14.00\">samples = 129928</text>\n<text text-anchor=\"start\" x=\"1718\" y=\"-104.3\" font-family=\"Helvetica,sans-Serif\" font-size=\"14.00\">value = 4.32</text>\n</g>\n<!-- 21&#45;&gt;40 -->\n<g id=\"edge44\" class=\"edge\">\n<title>21&#45;&gt;40</title>\n<path fill=\"none\" stroke=\"black\" d=\"M1755.5,-192.88C1755.5,-182.33 1755.5,-170.6 1755.5,-159.85\"/>\n<polygon fill=\"black\" stroke=\"black\" points=\"1759,-159.52 1755.5,-149.52 1752,-159.52 1759,-159.52\"/>\n</g>\n<!-- 41 -->\n<g id=\"node43\" class=\"node\">\n<title>41</title>\n<path fill=\"#f2c29f\" stroke=\"black\" d=\"M1574,-53C1574,-53 1455,-53 1455,-53 1449,-53 1443,-47 1443,-41 1443,-41 1443,-12 1443,-12 1443,-6 1449,0 1455,0 1455,0 1574,0 1574,0 1580,0 1586,-6 1586,-12 1586,-12 1586,-41 1586,-41 1586,-47 1580,-53 1574,-53\"/>\n<text text-anchor=\"start\" x=\"1451\" y=\"-37.8\" font-family=\"Helvetica,sans-Serif\" font-size=\"14.00\">squared_error = 3.63</text>\n<text text-anchor=\"start\" x=\"1462\" y=\"-22.8\" font-family=\"Helvetica,sans-Serif\" font-size=\"14.00\">samples = 39852</text>\n<text text-anchor=\"start\" x=\"1477\" y=\"-7.8\" font-family=\"Helvetica,sans-Serif\" font-size=\"14.00\">value = 3.97</text>\n</g>\n<!-- 39&#45;&gt;41 -->\n<g id=\"edge42\" class=\"edge\">\n<title>39&#45;&gt;41</title>\n<path fill=\"none\" stroke=\"black\" d=\"M1566.52,-88.95C1558.85,-79.89 1550.54,-70.07 1542.85,-60.99\"/>\n<polygon fill=\"black\" stroke=\"black\" points=\"1545.42,-58.61 1536.29,-53.24 1540.08,-63.13 1545.42,-58.61\"/>\n</g>\n<!-- 42 -->\n<g id=\"node44\" class=\"node\">\n<title>42</title>\n<path fill=\"#fdf5ef\" stroke=\"black\" d=\"M1735,-53C1735,-53 1616,-53 1616,-53 1610,-53 1604,-47 1604,-41 1604,-41 1604,-12 1604,-12 1604,-6 1610,0 1616,0 1616,0 1735,0 1735,0 1741,0 1747,-6 1747,-12 1747,-12 1747,-41 1747,-41 1747,-47 1741,-53 1735,-53\"/>\n<text text-anchor=\"start\" x=\"1612\" y=\"-37.8\" font-family=\"Helvetica,sans-Serif\" font-size=\"14.00\">squared_error = 1.22</text>\n<text text-anchor=\"start\" x=\"1623\" y=\"-22.8\" font-family=\"Helvetica,sans-Serif\" font-size=\"14.00\">samples = 19926</text>\n<text text-anchor=\"start\" x=\"1638\" y=\"-7.8\" font-family=\"Helvetica,sans-Serif\" font-size=\"14.00\">value = 0.66</text>\n</g>\n<!-- 39&#45;&gt;42 -->\n<g id=\"edge43\" class=\"edge\">\n<title>39&#45;&gt;42</title>\n<path fill=\"none\" stroke=\"black\" d=\"M1622.83,-88.95C1630.59,-79.89 1639.01,-70.07 1646.8,-60.99\"/>\n<polygon fill=\"black\" stroke=\"black\" points=\"1649.59,-63.11 1653.44,-53.24 1644.27,-58.55 1649.59,-63.11\"/>\n</g>\n<!-- 37 -->\n<g id=\"node47\" class=\"node\">\n<title>37</title>\n<path fill=\"#fefbf8\" stroke=\"black\" d=\"M1976,-149.5C1976,-149.5 1857,-149.5 1857,-149.5 1851,-149.5 1845,-143.5 1845,-137.5 1845,-137.5 1845,-108.5 1845,-108.5 1845,-102.5 1851,-96.5 1857,-96.5 1857,-96.5 1976,-96.5 1976,-96.5 1982,-96.5 1988,-102.5 1988,-108.5 1988,-108.5 1988,-137.5 1988,-137.5 1988,-143.5 1982,-149.5 1976,-149.5\"/>\n<text text-anchor=\"start\" x=\"1853\" y=\"-134.3\" font-family=\"Helvetica,sans-Serif\" font-size=\"14.00\">squared_error = 0.42</text>\n<text text-anchor=\"start\" x=\"1864\" y=\"-119.3\" font-family=\"Helvetica,sans-Serif\" font-size=\"14.00\">samples = 77875</text>\n<text text-anchor=\"start\" x=\"1879\" y=\"-104.3\" font-family=\"Helvetica,sans-Serif\" font-size=\"14.00\">value = 0.28</text>\n</g>\n<!-- 22&#45;&gt;37 -->\n<g id=\"edge46\" class=\"edge\">\n<title>22&#45;&gt;37</title>\n<path fill=\"none\" stroke=\"black\" d=\"M1916.5,-192.88C1916.5,-182.33 1916.5,-170.6 1916.5,-159.85\"/>\n<polygon fill=\"black\" stroke=\"black\" points=\"1920,-159.52 1916.5,-149.52 1913,-159.52 1920,-159.52\"/>\n</g>\n<!-- 38 -->\n<g id=\"node48\" class=\"node\">\n<title>38</title>\n<path fill=\"#f9e1d0\" stroke=\"black\" d=\"M2137,-149.5C2137,-149.5 2018,-149.5 2018,-149.5 2012,-149.5 2006,-143.5 2006,-137.5 2006,-137.5 2006,-108.5 2006,-108.5 2006,-102.5 2012,-96.5 2018,-96.5 2018,-96.5 2137,-96.5 2137,-96.5 2143,-96.5 2149,-102.5 2149,-108.5 2149,-108.5 2149,-137.5 2149,-137.5 2149,-143.5 2143,-149.5 2137,-149.5\"/>\n<text text-anchor=\"start\" x=\"2014\" y=\"-134.3\" font-family=\"Helvetica,sans-Serif\" font-size=\"14.00\">squared_error = 2.37</text>\n<text text-anchor=\"start\" x=\"2025\" y=\"-119.3\" font-family=\"Helvetica,sans-Serif\" font-size=\"14.00\">samples = 67001</text>\n<text text-anchor=\"start\" x=\"2040\" y=\"-104.3\" font-family=\"Helvetica,sans-Serif\" font-size=\"14.00\">value = 1.96</text>\n</g>\n<!-- 22&#45;&gt;38 -->\n<g id=\"edge47\" class=\"edge\">\n<title>22&#45;&gt;38</title>\n<path fill=\"none\" stroke=\"black\" d=\"M1968.77,-192.88C1988.04,-180.68 2009.78,-166.9 2028.73,-154.9\"/>\n<polygon fill=\"black\" stroke=\"black\" points=\"2030.64,-157.83 2037.22,-149.52 2026.9,-151.92 2030.64,-157.83\"/>\n</g>\n<!-- 23 -->\n<g id=\"node50\" class=\"node\">\n<title>23</title>\n<path fill=\"#ea9b62\" stroke=\"black\" d=\"M1915,-781C1915,-781 1796,-781 1796,-781 1790,-781 1784,-775 1784,-769 1784,-769 1784,-725 1784,-725 1784,-719 1790,-713 1796,-713 1796,-713 1915,-713 1915,-713 1921,-713 1927,-719 1927,-725 1927,-725 1927,-769 1927,-769 1927,-775 1921,-781 1915,-781\"/>\n<text text-anchor=\"start\" x=\"1816.5\" y=\"-765.8\" font-family=\"Helvetica,sans-Serif\" font-size=\"14.00\">family ≤ 11.5</text>\n<text text-anchor=\"start\" x=\"1792\" y=\"-750.8\" font-family=\"Helvetica,sans-Serif\" font-size=\"14.00\">squared_error = 2.35</text>\n<text text-anchor=\"start\" x=\"1799.5\" y=\"-735.8\" font-family=\"Helvetica,sans-Serif\" font-size=\"14.00\">samples = 272941</text>\n<text text-anchor=\"start\" x=\"1818\" y=\"-720.8\" font-family=\"Helvetica,sans-Serif\" font-size=\"14.00\">value = 6.52</text>\n</g>\n<!-- 2&#45;&gt;23 -->\n<g id=\"edge49\" class=\"edge\">\n<title>2&#45;&gt;23</title>\n<path fill=\"none\" stroke=\"black\" d=\"M1855.5,-816.88C1855.5,-808.78 1855.5,-799.98 1855.5,-791.47\"/>\n<polygon fill=\"black\" stroke=\"black\" points=\"1859,-791.3 1855.5,-781.3 1852,-791.3 1859,-791.3\"/>\n</g>\n<!-- 24 -->\n<g id=\"node57\" class=\"node\">\n<title>24</title>\n<path fill=\"#efb285\" stroke=\"black\" d=\"M2198,-781C2198,-781 2079,-781 2079,-781 2073,-781 2067,-775 2067,-769 2067,-769 2067,-725 2067,-725 2067,-719 2073,-713 2079,-713 2079,-713 2198,-713 2198,-713 2204,-713 2210,-719 2210,-725 2210,-725 2210,-769 2210,-769 2210,-775 2204,-781 2198,-781\"/>\n<text text-anchor=\"start\" x=\"2099.5\" y=\"-765.8\" font-family=\"Helvetica,sans-Serif\" font-size=\"14.00\">family ≤ 30.5</text>\n<text text-anchor=\"start\" x=\"2075\" y=\"-750.8\" font-family=\"Helvetica,sans-Serif\" font-size=\"14.00\">squared_error = 2.71</text>\n<text text-anchor=\"start\" x=\"2082.5\" y=\"-735.8\" font-family=\"Helvetica,sans-Serif\" font-size=\"14.00\">samples = 165828</text>\n<text text-anchor=\"start\" x=\"2101\" y=\"-720.8\" font-family=\"Helvetica,sans-Serif\" font-size=\"14.00\">value = 5.05</text>\n</g>\n<!-- 2&#45;&gt;24 -->\n<g id=\"edge56\" class=\"edge\">\n<title>2&#45;&gt;24</title>\n<path fill=\"none\" stroke=\"black\" d=\"M1923.65,-825.44C1963.94,-810.92 2015.2,-792.44 2057.55,-777.18\"/>\n<polygon fill=\"black\" stroke=\"black\" points=\"2058.78,-780.46 2067,-773.77 2056.4,-773.87 2058.78,-780.46\"/>\n</g>\n<!-- 27 -->\n<g id=\"node51\" class=\"node\">\n<title>27</title>\n<path fill=\"#eba06a\" stroke=\"black\" d=\"M1835,-677C1835,-677 1716,-677 1716,-677 1710,-677 1704,-671 1704,-665 1704,-665 1704,-621 1704,-621 1704,-615 1710,-609 1716,-609 1716,-609 1835,-609 1835,-609 1841,-609 1847,-615 1847,-621 1847,-621 1847,-665 1847,-665 1847,-671 1841,-677 1835,-677\"/>\n<text text-anchor=\"start\" x=\"1740.5\" y=\"-661.8\" font-family=\"Helvetica,sans-Serif\" font-size=\"14.00\">family ≤ 2.5</text>\n<text text-anchor=\"start\" x=\"1712\" y=\"-646.8\" font-family=\"Helvetica,sans-Serif\" font-size=\"14.00\">squared_error = 2.07</text>\n<text text-anchor=\"start\" x=\"1719.5\" y=\"-631.8\" font-family=\"Helvetica,sans-Serif\" font-size=\"14.00\">samples = 227188</text>\n<text text-anchor=\"start\" x=\"1738\" y=\"-616.8\" font-family=\"Helvetica,sans-Serif\" font-size=\"14.00\">value = 6.18</text>\n</g>\n<!-- 23&#45;&gt;27 -->\n<g id=\"edge50\" class=\"edge\">\n<title>23&#45;&gt;27</title>\n<path fill=\"none\" stroke=\"black\" d=\"M1829.53,-712.88C1822.61,-704.07 1815.05,-694.43 1807.84,-685.24\"/>\n<polygon fill=\"black\" stroke=\"black\" points=\"1810.54,-683.01 1801.62,-677.3 1805.03,-687.33 1810.54,-683.01\"/>\n</g>\n<!-- 28 -->\n<g id=\"node56\" class=\"node\">\n<title>28</title>\n<path fill=\"#e58139\" stroke=\"black\" d=\"M1996,-669.5C1996,-669.5 1877,-669.5 1877,-669.5 1871,-669.5 1865,-663.5 1865,-657.5 1865,-657.5 1865,-628.5 1865,-628.5 1865,-622.5 1871,-616.5 1877,-616.5 1877,-616.5 1996,-616.5 1996,-616.5 2002,-616.5 2008,-622.5 2008,-628.5 2008,-628.5 2008,-657.5 2008,-657.5 2008,-663.5 2002,-669.5 1996,-669.5\"/>\n<text text-anchor=\"start\" x=\"1873\" y=\"-654.3\" font-family=\"Helvetica,sans-Serif\" font-size=\"14.00\">squared_error = 0.32</text>\n<text text-anchor=\"start\" x=\"1884\" y=\"-639.3\" font-family=\"Helvetica,sans-Serif\" font-size=\"14.00\">samples = 45753</text>\n<text text-anchor=\"start\" x=\"1899\" y=\"-624.3\" font-family=\"Helvetica,sans-Serif\" font-size=\"14.00\">value = 8.21</text>\n</g>\n<!-- 23&#45;&gt;28 -->\n<g id=\"edge55\" class=\"edge\">\n<title>23&#45;&gt;28</title>\n<path fill=\"none\" stroke=\"black\" d=\"M1881.8,-712.88C1890.79,-701.56 1900.86,-688.88 1909.88,-677.52\"/>\n<polygon fill=\"black\" stroke=\"black\" points=\"1912.76,-679.53 1916.23,-669.52 1907.27,-675.17 1912.76,-679.53\"/>\n</g>\n<!-- 29 -->\n<g id=\"node52\" class=\"node\">\n<title>29</title>\n<path fill=\"#f8decb\" stroke=\"black\" d=\"M1755,-565.5C1755,-565.5 1636,-565.5 1636,-565.5 1630,-565.5 1624,-559.5 1624,-553.5 1624,-553.5 1624,-524.5 1624,-524.5 1624,-518.5 1630,-512.5 1636,-512.5 1636,-512.5 1755,-512.5 1755,-512.5 1761,-512.5 1767,-518.5 1767,-524.5 1767,-524.5 1767,-553.5 1767,-553.5 1767,-559.5 1761,-565.5 1755,-565.5\"/>\n<text text-anchor=\"start\" x=\"1632\" y=\"-550.3\" font-family=\"Helvetica,sans-Serif\" font-size=\"14.00\">squared_error = 0.51</text>\n<text text-anchor=\"start\" x=\"1647\" y=\"-535.3\" font-family=\"Helvetica,sans-Serif\" font-size=\"14.00\">samples = 7359</text>\n<text text-anchor=\"start\" x=\"1658\" y=\"-520.3\" font-family=\"Helvetica,sans-Serif\" font-size=\"14.00\">value = 2.16</text>\n</g>\n<!-- 27&#45;&gt;29 -->\n<g id=\"edge51\" class=\"edge\">\n<title>27&#45;&gt;29</title>\n<path fill=\"none\" stroke=\"black\" d=\"M1749.53,-608.88C1740.64,-597.56 1730.7,-584.88 1721.79,-573.52\"/>\n<polygon fill=\"black\" stroke=\"black\" points=\"1724.44,-571.23 1715.52,-565.52 1718.93,-575.55 1724.44,-571.23\"/>\n</g>\n<!-- 30 -->\n<g id=\"node53\" class=\"node\">\n<title>30</title>\n<path fill=\"#eb9e67\" stroke=\"black\" d=\"M1916,-573C1916,-573 1797,-573 1797,-573 1791,-573 1785,-567 1785,-561 1785,-561 1785,-517 1785,-517 1785,-511 1791,-505 1797,-505 1797,-505 1916,-505 1916,-505 1922,-505 1928,-511 1928,-517 1928,-517 1928,-561 1928,-561 1928,-567 1922,-573 1916,-573\"/>\n<text text-anchor=\"start\" x=\"1821.5\" y=\"-557.8\" font-family=\"Helvetica,sans-Serif\" font-size=\"14.00\">family ≤ 8.5</text>\n<text text-anchor=\"start\" x=\"1793\" y=\"-542.8\" font-family=\"Helvetica,sans-Serif\" font-size=\"14.00\">squared_error = 1.56</text>\n<text text-anchor=\"start\" x=\"1800.5\" y=\"-527.8\" font-family=\"Helvetica,sans-Serif\" font-size=\"14.00\">samples = 219829</text>\n<text text-anchor=\"start\" x=\"1819\" y=\"-512.8\" font-family=\"Helvetica,sans-Serif\" font-size=\"14.00\">value = 6.32</text>\n</g>\n<!-- 27&#45;&gt;30 -->\n<g id=\"edge52\" class=\"edge\">\n<title>27&#45;&gt;30</title>\n<path fill=\"none\" stroke=\"black\" d=\"M1801.8,-608.88C1808.8,-600.07 1816.45,-590.43 1823.75,-581.24\"/>\n<polygon fill=\"black\" stroke=\"black\" points=\"1826.58,-583.31 1830.06,-573.3 1821.1,-578.95 1826.58,-583.31\"/>\n</g>\n<!-- 31 -->\n<g id=\"node54\" class=\"node\">\n<title>31</title>\n<path fill=\"#e99659\" stroke=\"black\" d=\"M1876,-461.5C1876,-461.5 1757,-461.5 1757,-461.5 1751,-461.5 1745,-455.5 1745,-449.5 1745,-449.5 1745,-420.5 1745,-420.5 1745,-414.5 1751,-408.5 1757,-408.5 1757,-408.5 1876,-408.5 1876,-408.5 1882,-408.5 1888,-414.5 1888,-420.5 1888,-420.5 1888,-449.5 1888,-449.5 1888,-455.5 1882,-461.5 1876,-461.5\"/>\n<text text-anchor=\"start\" x=\"1753\" y=\"-446.3\" font-family=\"Helvetica,sans-Serif\" font-size=\"14.00\">squared_error = 1.13</text>\n<text text-anchor=\"start\" x=\"1760.5\" y=\"-431.3\" font-family=\"Helvetica,sans-Serif\" font-size=\"14.00\">samples = 145130</text>\n<text text-anchor=\"start\" x=\"1779\" y=\"-416.3\" font-family=\"Helvetica,sans-Serif\" font-size=\"14.00\">value = 6.86</text>\n</g>\n<!-- 30&#45;&gt;31 -->\n<g id=\"edge53\" class=\"edge\">\n<title>30&#45;&gt;31</title>\n<path fill=\"none\" stroke=\"black\" d=\"M1843.51,-504.88C1839.24,-494 1834.49,-481.86 1830.17,-470.85\"/>\n<polygon fill=\"black\" stroke=\"black\" points=\"1833.42,-469.55 1826.51,-461.52 1826.9,-472.11 1833.42,-469.55\"/>\n</g>\n<!-- 32 -->\n<g id=\"node55\" class=\"node\">\n<title>32</title>\n<path fill=\"#eeae80\" stroke=\"black\" d=\"M2037,-461.5C2037,-461.5 1918,-461.5 1918,-461.5 1912,-461.5 1906,-455.5 1906,-449.5 1906,-449.5 1906,-420.5 1906,-420.5 1906,-414.5 1912,-408.5 1918,-408.5 1918,-408.5 2037,-408.5 2037,-408.5 2043,-408.5 2049,-414.5 2049,-420.5 2049,-420.5 2049,-449.5 2049,-449.5 2049,-455.5 2043,-461.5 2037,-461.5\"/>\n<text text-anchor=\"start\" x=\"1914\" y=\"-446.3\" font-family=\"Helvetica,sans-Serif\" font-size=\"14.00\">squared_error = 0.69</text>\n<text text-anchor=\"start\" x=\"1925\" y=\"-431.3\" font-family=\"Helvetica,sans-Serif\" font-size=\"14.00\">samples = 74699</text>\n<text text-anchor=\"start\" x=\"1940\" y=\"-416.3\" font-family=\"Helvetica,sans-Serif\" font-size=\"14.00\">value = 5.25</text>\n</g>\n<!-- 30&#45;&gt;32 -->\n<g id=\"edge54\" class=\"edge\">\n<title>30&#45;&gt;32</title>\n<path fill=\"none\" stroke=\"black\" d=\"M1895.79,-504.88C1909.74,-493.12 1925.43,-479.89 1939.3,-468.2\"/>\n<polygon fill=\"black\" stroke=\"black\" points=\"1941.84,-470.64 1947.23,-461.52 1937.32,-465.29 1941.84,-470.64\"/>\n</g>\n<!-- 45 -->\n<g id=\"node58\" class=\"node\">\n<title>45</title>\n<path fill=\"#eeae80\" stroke=\"black\" d=\"M2198,-677C2198,-677 2079,-677 2079,-677 2073,-677 2067,-671 2067,-665 2067,-665 2067,-621 2067,-621 2067,-615 2073,-609 2079,-609 2079,-609 2198,-609 2198,-609 2204,-609 2210,-615 2210,-621 2210,-621 2210,-665 2210,-665 2210,-671 2204,-677 2198,-677\"/>\n<text text-anchor=\"start\" x=\"2099.5\" y=\"-661.8\" font-family=\"Helvetica,sans-Serif\" font-size=\"14.00\">family ≤ 29.5</text>\n<text text-anchor=\"start\" x=\"2075\" y=\"-646.8\" font-family=\"Helvetica,sans-Serif\" font-size=\"14.00\">squared_error = 2.38</text>\n<text text-anchor=\"start\" x=\"2082.5\" y=\"-631.8\" font-family=\"Helvetica,sans-Serif\" font-size=\"14.00\">samples = 150648</text>\n<text text-anchor=\"start\" x=\"2101\" y=\"-616.8\" font-family=\"Helvetica,sans-Serif\" font-size=\"14.00\">value = 5.25</text>\n</g>\n<!-- 24&#45;&gt;45 -->\n<g id=\"edge57\" class=\"edge\">\n<title>24&#45;&gt;45</title>\n<path fill=\"none\" stroke=\"black\" d=\"M2138.5,-712.88C2138.5,-704.78 2138.5,-695.98 2138.5,-687.47\"/>\n<polygon fill=\"black\" stroke=\"black\" points=\"2142,-687.3 2138.5,-677.3 2135,-687.3 2142,-687.3\"/>\n</g>\n<!-- 46 -->\n<g id=\"node63\" class=\"node\">\n<title>46</title>\n<path fill=\"#f5d1b7\" stroke=\"black\" d=\"M2352.5,-669.5C2352.5,-669.5 2240.5,-669.5 2240.5,-669.5 2234.5,-669.5 2228.5,-663.5 2228.5,-657.5 2228.5,-657.5 2228.5,-628.5 2228.5,-628.5 2228.5,-622.5 2234.5,-616.5 2240.5,-616.5 2240.5,-616.5 2352.5,-616.5 2352.5,-616.5 2358.5,-616.5 2364.5,-622.5 2364.5,-628.5 2364.5,-628.5 2364.5,-657.5 2364.5,-657.5 2364.5,-663.5 2358.5,-669.5 2352.5,-669.5\"/>\n<text text-anchor=\"start\" x=\"2236.5\" y=\"-654.3\" font-family=\"Helvetica,sans-Serif\" font-size=\"14.00\">squared_error = 1.4</text>\n<text text-anchor=\"start\" x=\"2244\" y=\"-639.3\" font-family=\"Helvetica,sans-Serif\" font-size=\"14.00\">samples = 15180</text>\n<text text-anchor=\"start\" x=\"2263\" y=\"-624.3\" font-family=\"Helvetica,sans-Serif\" font-size=\"14.00\">value = 3.0</text>\n</g>\n<!-- 24&#45;&gt;46 -->\n<g id=\"edge62\" class=\"edge\">\n<title>24&#45;&gt;46</title>\n<path fill=\"none\" stroke=\"black\" d=\"M2189.8,-712.88C2208.62,-700.73 2229.85,-687.03 2248.39,-675.06\"/>\n<polygon fill=\"black\" stroke=\"black\" points=\"2250.47,-677.88 2256.97,-669.52 2246.67,-672 2250.47,-677.88\"/>\n</g>\n<!-- 47 -->\n<g id=\"node59\" class=\"node\">\n<title>47</title>\n<path fill=\"#efb388\" stroke=\"black\" d=\"M2198,-573C2198,-573 2079,-573 2079,-573 2073,-573 2067,-567 2067,-561 2067,-561 2067,-517 2067,-517 2067,-511 2073,-505 2079,-505 2079,-505 2198,-505 2198,-505 2204,-505 2210,-511 2210,-517 2210,-517 2210,-561 2210,-561 2210,-567 2204,-573 2198,-573\"/>\n<text text-anchor=\"start\" x=\"2099.5\" y=\"-557.8\" font-family=\"Helvetica,sans-Serif\" font-size=\"14.00\">family ≤ 17.5</text>\n<text text-anchor=\"start\" x=\"2075\" y=\"-542.8\" font-family=\"Helvetica,sans-Serif\" font-size=\"14.00\">squared_error = 1.77</text>\n<text text-anchor=\"start\" x=\"2082.5\" y=\"-527.8\" font-family=\"Helvetica,sans-Serif\" font-size=\"14.00\">samples = 130228</text>\n<text text-anchor=\"start\" x=\"2101\" y=\"-512.8\" font-family=\"Helvetica,sans-Serif\" font-size=\"14.00\">value = 4.95</text>\n</g>\n<!-- 45&#45;&gt;47 -->\n<g id=\"edge58\" class=\"edge\">\n<title>45&#45;&gt;47</title>\n<path fill=\"none\" stroke=\"black\" d=\"M2138.5,-608.88C2138.5,-600.78 2138.5,-591.98 2138.5,-583.47\"/>\n<polygon fill=\"black\" stroke=\"black\" points=\"2142,-583.3 2138.5,-573.3 2135,-583.3 2142,-583.3\"/>\n</g>\n<!-- 48 -->\n<g id=\"node62\" class=\"node\">\n<title>48</title>\n<path fill=\"#e89152\" stroke=\"black\" d=\"M2359,-565.5C2359,-565.5 2240,-565.5 2240,-565.5 2234,-565.5 2228,-559.5 2228,-553.5 2228,-553.5 2228,-524.5 2228,-524.5 2228,-518.5 2234,-512.5 2240,-512.5 2240,-512.5 2359,-512.5 2359,-512.5 2365,-512.5 2371,-518.5 2371,-524.5 2371,-524.5 2371,-553.5 2371,-553.5 2371,-559.5 2365,-565.5 2359,-565.5\"/>\n<text text-anchor=\"start\" x=\"2236\" y=\"-550.3\" font-family=\"Helvetica,sans-Serif\" font-size=\"14.00\">squared_error = 1.97</text>\n<text text-anchor=\"start\" x=\"2247\" y=\"-535.3\" font-family=\"Helvetica,sans-Serif\" font-size=\"14.00\">samples = 20420</text>\n<text text-anchor=\"start\" x=\"2262\" y=\"-520.3\" font-family=\"Helvetica,sans-Serif\" font-size=\"14.00\">value = 7.18</text>\n</g>\n<!-- 45&#45;&gt;48 -->\n<g id=\"edge61\" class=\"edge\">\n<title>45&#45;&gt;48</title>\n<path fill=\"none\" stroke=\"black\" d=\"M2190.77,-608.88C2210.04,-596.68 2231.78,-582.9 2250.73,-570.9\"/>\n<polygon fill=\"black\" stroke=\"black\" points=\"2252.64,-573.83 2259.22,-565.52 2248.9,-567.92 2252.64,-573.83\"/>\n</g>\n<!-- 51 -->\n<g id=\"node60\" class=\"node\">\n<title>51</title>\n<path fill=\"#f4ccaf\" stroke=\"black\" d=\"M2198,-461.5C2198,-461.5 2079,-461.5 2079,-461.5 2073,-461.5 2067,-455.5 2067,-449.5 2067,-449.5 2067,-420.5 2067,-420.5 2067,-414.5 2073,-408.5 2079,-408.5 2079,-408.5 2198,-408.5 2198,-408.5 2204,-408.5 2210,-414.5 2210,-420.5 2210,-420.5 2210,-449.5 2210,-449.5 2210,-455.5 2204,-461.5 2198,-461.5\"/>\n<text text-anchor=\"start\" x=\"2075\" y=\"-446.3\" font-family=\"Helvetica,sans-Serif\" font-size=\"14.00\">squared_error = 0.85</text>\n<text text-anchor=\"start\" x=\"2086\" y=\"-431.3\" font-family=\"Helvetica,sans-Serif\" font-size=\"14.00\">samples = 18780</text>\n<text text-anchor=\"start\" x=\"2101\" y=\"-416.3\" font-family=\"Helvetica,sans-Serif\" font-size=\"14.00\">value = 3.33</text>\n</g>\n<!-- 47&#45;&gt;51 -->\n<g id=\"edge59\" class=\"edge\">\n<title>47&#45;&gt;51</title>\n<path fill=\"none\" stroke=\"black\" d=\"M2138.5,-504.88C2138.5,-494.33 2138.5,-482.6 2138.5,-471.85\"/>\n<polygon fill=\"black\" stroke=\"black\" points=\"2142,-471.52 2138.5,-461.52 2135,-471.52 2142,-471.52\"/>\n</g>\n<!-- 52 -->\n<g id=\"node61\" class=\"node\">\n<title>52</title>\n<path fill=\"#eeaf81\" stroke=\"black\" d=\"M2359,-461.5C2359,-461.5 2240,-461.5 2240,-461.5 2234,-461.5 2228,-455.5 2228,-449.5 2228,-449.5 2228,-420.5 2228,-420.5 2228,-414.5 2234,-408.5 2240,-408.5 2240,-408.5 2359,-408.5 2359,-408.5 2365,-408.5 2371,-414.5 2371,-420.5 2371,-420.5 2371,-449.5 2371,-449.5 2371,-455.5 2365,-461.5 2359,-461.5\"/>\n<text text-anchor=\"start\" x=\"2236\" y=\"-446.3\" font-family=\"Helvetica,sans-Serif\" font-size=\"14.00\">squared_error = 1.41</text>\n<text text-anchor=\"start\" x=\"2243.5\" y=\"-431.3\" font-family=\"Helvetica,sans-Serif\" font-size=\"14.00\">samples = 111448</text>\n<text text-anchor=\"start\" x=\"2262\" y=\"-416.3\" font-family=\"Helvetica,sans-Serif\" font-size=\"14.00\">value = 5.22</text>\n</g>\n<!-- 47&#45;&gt;52 -->\n<g id=\"edge60\" class=\"edge\">\n<title>47&#45;&gt;52</title>\n<path fill=\"none\" stroke=\"black\" d=\"M2190.77,-504.88C2210.04,-492.68 2231.78,-478.9 2250.73,-466.9\"/>\n<polygon fill=\"black\" stroke=\"black\" points=\"2252.64,-469.83 2259.22,-461.52 2248.9,-463.92 2252.64,-469.83\"/>\n</g>\n</g>\n</svg>\n",
            "text/plain": [
              "<graphviz.sources.Source at 0x7cde6e4b8c50>"
            ]
          },
          "metadata": {},
          "execution_count": 22
        }
      ]
    },
    {
      "cell_type": "markdown",
      "source": [
        "### Decision Tree Validation"
      ],
      "metadata": {
        "id": "WJkqELqwiRQ2"
      }
    },
    {
      "cell_type": "code",
      "source": [
        "from logging import root\n",
        "from sklearn.metrics import root_mean_squared_log_error\n",
        "\n",
        "y_pred = model.predict(x_val)\n",
        "rmsle = root_mean_squared_log_error(y_val, y_pred)\n",
        "print(f\"RMSLE: {rmsle}\")"
      ],
      "metadata": {
        "colab": {
          "base_uri": "https://localhost:8080/"
        },
        "id": "RlaNGvKnU_5g",
        "outputId": "21f72150-9158-46ab-a0d6-96d2fbe7b6a8"
      },
      "execution_count": 23,
      "outputs": [
        {
          "output_type": "stream",
          "name": "stdout",
          "text": [
            "RMSLE: 0.39841535421097896\n"
          ]
        }
      ]
    },
    {
      "cell_type": "markdown",
      "source": [
        "### Decision Tree Test"
      ],
      "metadata": {
        "id": "UjY8d_EinEm0"
      }
    },
    {
      "cell_type": "code",
      "source": [
        "test_df = pd.read_csv(f\"{COMPETITION_NAME}/test.csv\", low_memory=False)\n",
        "\n",
        "# Add event data\n",
        "prepped_test_df = pd.merge(test_df, holiday_df[[\"date\",\"type\", \"locale_name\"]], on=\"date\", how=\"left\")\n",
        "prepped_test_df[\"type\"] = prepped_test_df[\"type\"].fillna(\"Regular\")\n",
        "prepped_test_df[\"locale_name\"] = prepped_test_df[\"locale_name\"].fillna(\"Regular\")\n",
        "prepped_test_df = prepped_test_df.rename(columns={\"type\": \"date_event\", \"locale_name\": \"date_event_locale\"})\n",
        "\n",
        "# Datepart dates\n",
        "prepped_test_df[\"date\"] = pd.to_datetime(prepped_test_df[\"date\"])\n",
        "prepped_test_df[\"day_of_week\"] = prepped_test_df[\"date\"].dt.dayofweek\n",
        "prepped_test_df[\"month\"] = prepped_test_df[\"date\"].dt.month\n",
        "prepped_test_df[\"year\"] = prepped_test_df[\"date\"].dt.year\n",
        "prepped_test_df[\"day_of_month\"] = prepped_test_df[\"date\"].dt.day\n",
        "prepped_test_df[\"day_of_year\"] = prepped_test_df[\"date\"].dt.dayofyear\n",
        "prepped_test_df[\"quarter_of_year\"] = prepped_test_df[\"date\"].dt.quarter\n",
        "prepped_test_df[\"is_weekend\"] = prepped_test_df[\"day_of_week\"].apply(lambda x: 1 if x in [5, 6] else 0)\n",
        "\n",
        "# Encode categories\n",
        "prepped_test_df[\"date_event\"] = LabelEncoder().fit_transform(prepped_test_df[\"date_event\"])\n",
        "prepped_test_df[\"date_event_locale\"] = LabelEncoder().fit_transform(prepped_test_df[\"date_event_locale\"])\n",
        "prepped_test_df[\"family\"] = LabelEncoder().fit_transform(prepped_test_df[\"family\"])\n",
        "\n",
        "x_test = prepped_test_df.drop(columns=[\"id\", \"date\"])\n",
        "\n",
        "y_pred = model.predict(x_test)\n",
        "\n",
        "test_df[\"sales\"] = np.expm1(y_pred)\n",
        "sub_df = test_df[[\"id\",\"sales\"]]\n",
        "sub_df.to_csv(f'sub-sales-forcasting.csv', index=False)"
      ],
      "metadata": {
        "id": "SEFcWeVxi2Yu"
      },
      "execution_count": 24,
      "outputs": []
    },
    {
      "cell_type": "markdown",
      "source": [
        "A single decision tree is not all that powerful of course, but serves as a good data analysis tool. Though our loss metric was 0.05, the Kaggle score thus far is 4.20226. Rather pathetic, but hey the mvp was submitted. Time to gain some insights and see what can be done to improve on the single decision tree."
      ],
      "metadata": {
        "id": "xiZqNtXewJq3"
      }
    },
    {
      "cell_type": "markdown",
      "source": [
        "## Experimenting"
      ],
      "metadata": {
        "id": "3gYr078gM3Ve"
      }
    },
    {
      "cell_type": "markdown",
      "source": [
        "### Hypothesis: Product Family is noise"
      ],
      "metadata": {
        "id": "dB_JKgY0M-6S"
      }
    },
    {
      "cell_type": "markdown",
      "source": [
        "The decision tree decided to split on family after onpromotion. I suspect this is not the next best split."
      ],
      "metadata": {
        "id": "7sfPRmctNVHq"
      }
    },
    {
      "cell_type": "code",
      "source": [
        "dep_var = \"sales\"\n",
        "val_df[dep_var] = np.log1p(val_df[dep_var])\n",
        "train_df[dep_var] = np.log1p(train_df[dep_var])\n",
        "\n",
        "y_train = train_df[dep_var]\n",
        "x_train = train_df.drop(columns=[dep_var, \"id\", \"date\", \"family\"])\n",
        "indep_vars = x_train.columns.tolist()\n",
        "\n",
        "y_val = val_df[dep_var]\n",
        "x_val = val_df.drop(columns=[dep_var, \"id\", \"date\", \"family\"])\n",
        "\n",
        "model = DecisionTreeRegressor(max_leaf_nodes=16)\n",
        "model.fit(x_train, y_train)\n",
        "\n",
        "draw_tree(model, x_train, size=20)"
      ],
      "metadata": {
        "colab": {
          "base_uri": "https://localhost:8080/",
          "height": 1000
        },
        "collapsed": true,
        "id": "f0hlsqKHM6FJ",
        "outputId": "4ea52db2-78b6-4860-96ca-c1629a2d084a"
      },
      "execution_count": 25,
      "outputs": [
        {
          "output_type": "stream",
          "name": "stderr",
          "text": [
            "<ipython-input-25-a6b8f2a523de>:2: SettingWithCopyWarning: \n",
            "A value is trying to be set on a copy of a slice from a DataFrame.\n",
            "Try using .loc[row_indexer,col_indexer] = value instead\n",
            "\n",
            "See the caveats in the documentation: https://pandas.pydata.org/pandas-docs/stable/user_guide/indexing.html#returning-a-view-versus-a-copy\n",
            "  val_df[dep_var] = np.log1p(val_df[dep_var])\n",
            "<ipython-input-25-a6b8f2a523de>:3: SettingWithCopyWarning: \n",
            "A value is trying to be set on a copy of a slice from a DataFrame.\n",
            "Try using .loc[row_indexer,col_indexer] = value instead\n",
            "\n",
            "See the caveats in the documentation: https://pandas.pydata.org/pandas-docs/stable/user_guide/indexing.html#returning-a-view-versus-a-copy\n",
            "  train_df[dep_var] = np.log1p(train_df[dep_var])\n"
          ]
        },
        {
          "output_type": "execute_result",
          "data": {
            "image/svg+xml": "<?xml version=\"1.0\" encoding=\"UTF-8\" standalone=\"no\"?>\n<!DOCTYPE svg PUBLIC \"-//W3C//DTD SVG 1.1//EN\"\n \"http://www.w3.org/Graphics/SVG/1.1/DTD/svg11.dtd\">\n<!-- Generated by graphviz version 2.43.0 (0)\n -->\n<!-- Title: Tree Pages: 1 -->\n<svg width=\"1112pt\" height=\"1101pt\"\n viewBox=\"0.00 0.00 1111.50 1101.00\" xmlns=\"http://www.w3.org/2000/svg\" xmlns:xlink=\"http://www.w3.org/1999/xlink\">\n<g id=\"graph0\" class=\"graph\" transform=\"scale(1 1) rotate(0) translate(4 1097)\">\n<title>Tree</title>\n<polygon fill=\"white\" stroke=\"transparent\" points=\"-4,4 -4,-1097 1107.5,-1097 1107.5,4 -4,4\"/>\n<!-- 0 -->\n<g id=\"node1\" class=\"node\">\n<title>0</title>\n<path fill=\"#f2be99\" stroke=\"black\" d=\"M846,-1093C846,-1093 734,-1093 734,-1093 728,-1093 722,-1087 722,-1081 722,-1081 722,-1037 722,-1037 722,-1031 728,-1025 734,-1025 734,-1025 846,-1025 846,-1025 852,-1025 858,-1031 858,-1037 858,-1037 858,-1081 858,-1081 858,-1087 852,-1093 846,-1093\"/>\n<text text-anchor=\"start\" x=\"735\" y=\"-1077.8\" font-family=\"Helvetica,sans-Serif\" font-size=\"14.00\">onpromotion ≤ 0.5</text>\n<text text-anchor=\"start\" x=\"730\" y=\"-1062.8\" font-family=\"Helvetica,sans-Serif\" font-size=\"14.00\">squared_error = 0.7</text>\n<text text-anchor=\"start\" x=\"730\" y=\"-1047.8\" font-family=\"Helvetica,sans-Serif\" font-size=\"14.00\">samples = 2640924</text>\n<text text-anchor=\"start\" x=\"752.5\" y=\"-1032.8\" font-family=\"Helvetica,sans-Serif\" font-size=\"14.00\">value = 1.03</text>\n</g>\n<!-- 1 -->\n<g id=\"node2\" class=\"node\">\n<title>1</title>\n<path fill=\"#f4c9aa\" stroke=\"black\" d=\"M769.5,-989C769.5,-989 650.5,-989 650.5,-989 644.5,-989 638.5,-983 638.5,-977 638.5,-977 638.5,-933 638.5,-933 638.5,-927 644.5,-921 650.5,-921 650.5,-921 769.5,-921 769.5,-921 775.5,-921 781.5,-927 781.5,-933 781.5,-933 781.5,-977 781.5,-977 781.5,-983 775.5,-989 769.5,-989\"/>\n<text text-anchor=\"start\" x=\"660.5\" y=\"-973.8\" font-family=\"Helvetica,sans-Serif\" font-size=\"14.00\">store_nbr ≤ 51.5</text>\n<text text-anchor=\"start\" x=\"646.5\" y=\"-958.8\" font-family=\"Helvetica,sans-Serif\" font-size=\"14.00\">squared_error = 0.64</text>\n<text text-anchor=\"start\" x=\"650\" y=\"-943.8\" font-family=\"Helvetica,sans-Serif\" font-size=\"14.00\">samples = 2202155</text>\n<text text-anchor=\"start\" x=\"672.5\" y=\"-928.8\" font-family=\"Helvetica,sans-Serif\" font-size=\"14.00\">value = 0.86</text>\n</g>\n<!-- 0&#45;&gt;1 -->\n<g id=\"edge1\" class=\"edge\">\n<title>0&#45;&gt;1</title>\n<path fill=\"none\" stroke=\"black\" d=\"M764.03,-1024.88C757.11,-1016.07 749.55,-1006.43 742.34,-997.24\"/>\n<polygon fill=\"black\" stroke=\"black\" points=\"745.04,-995.01 736.12,-989.3 739.53,-999.33 745.04,-995.01\"/>\n<text text-anchor=\"middle\" x=\"733.12\" y=\"-1010.42\" font-family=\"Helvetica,sans-Serif\" font-size=\"14.00\">True</text>\n</g>\n<!-- 2 -->\n<g id=\"node29\" class=\"node\">\n<title>2</title>\n<path fill=\"#e68743\" stroke=\"black\" d=\"M930.5,-989C930.5,-989 811.5,-989 811.5,-989 805.5,-989 799.5,-983 799.5,-977 799.5,-977 799.5,-933 799.5,-933 799.5,-927 805.5,-921 811.5,-921 811.5,-921 930.5,-921 930.5,-921 936.5,-921 942.5,-927 942.5,-933 942.5,-933 942.5,-977 942.5,-977 942.5,-983 936.5,-989 930.5,-989\"/>\n<text text-anchor=\"start\" x=\"816\" y=\"-973.8\" font-family=\"Helvetica,sans-Serif\" font-size=\"14.00\">onpromotion ≤ 2.5</text>\n<text text-anchor=\"start\" x=\"807.5\" y=\"-958.8\" font-family=\"Helvetica,sans-Serif\" font-size=\"14.00\">squared_error = 0.09</text>\n<text text-anchor=\"start\" x=\"815\" y=\"-943.8\" font-family=\"Helvetica,sans-Serif\" font-size=\"14.00\">samples = 438769</text>\n<text text-anchor=\"start\" x=\"837.5\" y=\"-928.8\" font-family=\"Helvetica,sans-Serif\" font-size=\"14.00\">value = 1.9</text>\n</g>\n<!-- 0&#45;&gt;2 -->\n<g id=\"edge28\" class=\"edge\">\n<title>0&#45;&gt;2</title>\n<path fill=\"none\" stroke=\"black\" d=\"M816.3,-1024.88C823.3,-1016.07 830.95,-1006.43 838.25,-997.24\"/>\n<polygon fill=\"black\" stroke=\"black\" points=\"841.08,-999.31 844.56,-989.3 835.6,-994.95 841.08,-999.31\"/>\n<text text-anchor=\"middle\" x=\"847.41\" y=\"-1010.44\" font-family=\"Helvetica,sans-Serif\" font-size=\"14.00\">False</text>\n</g>\n<!-- 3 -->\n<g id=\"node3\" class=\"node\">\n<title>3</title>\n<path fill=\"#f3c7a7\" stroke=\"black\" d=\"M608.5,-885C608.5,-885 489.5,-885 489.5,-885 483.5,-885 477.5,-879 477.5,-873 477.5,-873 477.5,-829 477.5,-829 477.5,-823 483.5,-817 489.5,-817 489.5,-817 608.5,-817 608.5,-817 614.5,-817 620.5,-823 620.5,-829 620.5,-829 620.5,-873 620.5,-873 620.5,-879 614.5,-885 608.5,-885\"/>\n<text text-anchor=\"start\" x=\"499.5\" y=\"-869.8\" font-family=\"Helvetica,sans-Serif\" font-size=\"14.00\">store_nbr ≤ 43.5</text>\n<text text-anchor=\"start\" x=\"485.5\" y=\"-854.8\" font-family=\"Helvetica,sans-Serif\" font-size=\"14.00\">squared_error = 0.64</text>\n<text text-anchor=\"start\" x=\"489\" y=\"-839.8\" font-family=\"Helvetica,sans-Serif\" font-size=\"14.00\">samples = 2073513</text>\n<text text-anchor=\"start\" x=\"511.5\" y=\"-824.8\" font-family=\"Helvetica,sans-Serif\" font-size=\"14.00\">value = 0.89</text>\n</g>\n<!-- 1&#45;&gt;3 -->\n<g id=\"edge2\" class=\"edge\">\n<title>1&#45;&gt;3</title>\n<path fill=\"none\" stroke=\"black\" d=\"M657.73,-920.88C642.47,-911.21 625.65,-900.56 609.91,-890.59\"/>\n<polygon fill=\"black\" stroke=\"black\" points=\"611.61,-887.52 601.29,-885.12 607.86,-893.43 611.61,-887.52\"/>\n</g>\n<!-- 4 -->\n<g id=\"node26\" class=\"node\">\n<title>4</title>\n<path fill=\"#fae6d8\" stroke=\"black\" d=\"M769.5,-885C769.5,-885 650.5,-885 650.5,-885 644.5,-885 638.5,-879 638.5,-873 638.5,-873 638.5,-829 638.5,-829 638.5,-823 644.5,-817 650.5,-817 650.5,-817 769.5,-817 769.5,-817 775.5,-817 781.5,-823 781.5,-829 781.5,-829 781.5,-873 781.5,-873 781.5,-879 775.5,-885 769.5,-885\"/>\n<text text-anchor=\"start\" x=\"660.5\" y=\"-869.8\" font-family=\"Helvetica,sans-Serif\" font-size=\"14.00\">store_nbr ≤ 52.5</text>\n<text text-anchor=\"start\" x=\"646.5\" y=\"-854.8\" font-family=\"Helvetica,sans-Serif\" font-size=\"14.00\">squared_error = 0.44</text>\n<text text-anchor=\"start\" x=\"654\" y=\"-839.8\" font-family=\"Helvetica,sans-Serif\" font-size=\"14.00\">samples = 128642</text>\n<text text-anchor=\"start\" x=\"676.5\" y=\"-824.8\" font-family=\"Helvetica,sans-Serif\" font-size=\"14.00\">value = 0.4</text>\n</g>\n<!-- 1&#45;&gt;4 -->\n<g id=\"edge25\" class=\"edge\">\n<title>1&#45;&gt;4</title>\n<path fill=\"none\" stroke=\"black\" d=\"M710,-920.88C710,-912.78 710,-903.98 710,-895.47\"/>\n<polygon fill=\"black\" stroke=\"black\" points=\"713.5,-895.3 710,-885.3 706.5,-895.3 713.5,-895.3\"/>\n</g>\n<!-- 5 -->\n<g id=\"node4\" class=\"node\">\n<title>5</title>\n<path fill=\"#f4caab\" stroke=\"black\" d=\"M448.5,-781C448.5,-781 329.5,-781 329.5,-781 323.5,-781 317.5,-775 317.5,-769 317.5,-769 317.5,-725 317.5,-725 317.5,-719 323.5,-713 329.5,-713 329.5,-713 448.5,-713 448.5,-713 454.5,-713 460.5,-719 460.5,-725 460.5,-725 460.5,-769 460.5,-769 460.5,-775 454.5,-781 448.5,-781\"/>\n<text text-anchor=\"start\" x=\"343.5\" y=\"-765.8\" font-family=\"Helvetica,sans-Serif\" font-size=\"14.00\">store_nbr ≤ 9.5</text>\n<text text-anchor=\"start\" x=\"325.5\" y=\"-750.8\" font-family=\"Helvetica,sans-Serif\" font-size=\"14.00\">squared_error = 0.62</text>\n<text text-anchor=\"start\" x=\"329\" y=\"-735.8\" font-family=\"Helvetica,sans-Serif\" font-size=\"14.00\">samples = 1767504</text>\n<text text-anchor=\"start\" x=\"351.5\" y=\"-720.8\" font-family=\"Helvetica,sans-Serif\" font-size=\"14.00\">value = 0.85</text>\n</g>\n<!-- 3&#45;&gt;5 -->\n<g id=\"edge3\" class=\"edge\">\n<title>3&#45;&gt;5</title>\n<path fill=\"none\" stroke=\"black\" d=\"M497.05,-816.88C481.89,-807.21 465.18,-796.56 449.53,-786.59\"/>\n<polygon fill=\"black\" stroke=\"black\" points=\"451.27,-783.55 440.96,-781.12 447.51,-789.45 451.27,-783.55\"/>\n</g>\n<!-- 6 -->\n<g id=\"node25\" class=\"node\">\n<title>6</title>\n<path fill=\"#f0b890\" stroke=\"black\" d=\"M609.5,-773.5C609.5,-773.5 490.5,-773.5 490.5,-773.5 484.5,-773.5 478.5,-767.5 478.5,-761.5 478.5,-761.5 478.5,-732.5 478.5,-732.5 478.5,-726.5 484.5,-720.5 490.5,-720.5 490.5,-720.5 609.5,-720.5 609.5,-720.5 615.5,-720.5 621.5,-726.5 621.5,-732.5 621.5,-732.5 621.5,-761.5 621.5,-761.5 621.5,-767.5 615.5,-773.5 609.5,-773.5\"/>\n<text text-anchor=\"start\" x=\"486.5\" y=\"-758.3\" font-family=\"Helvetica,sans-Serif\" font-size=\"14.00\">squared_error = 0.63</text>\n<text text-anchor=\"start\" x=\"494\" y=\"-743.3\" font-family=\"Helvetica,sans-Serif\" font-size=\"14.00\">samples = 306009</text>\n<text text-anchor=\"start\" x=\"512.5\" y=\"-728.3\" font-family=\"Helvetica,sans-Serif\" font-size=\"14.00\">value = 1.13</text>\n</g>\n<!-- 3&#45;&gt;6 -->\n<g id=\"edge24\" class=\"edge\">\n<title>3&#45;&gt;6</title>\n<path fill=\"none\" stroke=\"black\" d=\"M549.32,-816.88C549.43,-806.33 549.54,-794.6 549.65,-783.85\"/>\n<polygon fill=\"black\" stroke=\"black\" points=\"553.15,-783.55 549.75,-773.52 546.15,-783.49 553.15,-783.55\"/>\n</g>\n<!-- 7 -->\n<g id=\"node5\" class=\"node\">\n<title>7</title>\n<path fill=\"#f1bc96\" stroke=\"black\" d=\"M368.5,-669.5C368.5,-669.5 249.5,-669.5 249.5,-669.5 243.5,-669.5 237.5,-663.5 237.5,-657.5 237.5,-657.5 237.5,-628.5 237.5,-628.5 237.5,-622.5 243.5,-616.5 249.5,-616.5 249.5,-616.5 368.5,-616.5 368.5,-616.5 374.5,-616.5 380.5,-622.5 380.5,-628.5 380.5,-628.5 380.5,-657.5 380.5,-657.5 380.5,-663.5 374.5,-669.5 368.5,-669.5\"/>\n<text text-anchor=\"start\" x=\"245.5\" y=\"-654.3\" font-family=\"Helvetica,sans-Serif\" font-size=\"14.00\">squared_error = 0.61</text>\n<text text-anchor=\"start\" x=\"253\" y=\"-639.3\" font-family=\"Helvetica,sans-Serif\" font-size=\"14.00\">samples = 354131</text>\n<text text-anchor=\"start\" x=\"271.5\" y=\"-624.3\" font-family=\"Helvetica,sans-Serif\" font-size=\"14.00\">value = 1.06</text>\n</g>\n<!-- 5&#45;&gt;7 -->\n<g id=\"edge4\" class=\"edge\">\n<title>5&#45;&gt;7</title>\n<path fill=\"none\" stroke=\"black\" d=\"M363.03,-712.88C354.14,-701.56 344.2,-688.88 335.29,-677.52\"/>\n<polygon fill=\"black\" stroke=\"black\" points=\"337.94,-675.23 329.02,-669.52 332.43,-679.55 337.94,-675.23\"/>\n</g>\n<!-- 8 -->\n<g id=\"node6\" class=\"node\">\n<title>8</title>\n<path fill=\"#f5cdb1\" stroke=\"black\" d=\"M529.5,-677C529.5,-677 410.5,-677 410.5,-677 404.5,-677 398.5,-671 398.5,-665 398.5,-665 398.5,-621 398.5,-621 398.5,-615 404.5,-609 410.5,-609 410.5,-609 529.5,-609 529.5,-609 535.5,-609 541.5,-615 541.5,-621 541.5,-621 541.5,-665 541.5,-665 541.5,-671 535.5,-677 529.5,-677\"/>\n<text text-anchor=\"start\" x=\"420.5\" y=\"-661.8\" font-family=\"Helvetica,sans-Serif\" font-size=\"14.00\">store_nbr ≤ 41.5</text>\n<text text-anchor=\"start\" x=\"406.5\" y=\"-646.8\" font-family=\"Helvetica,sans-Serif\" font-size=\"14.00\">squared_error = 0.61</text>\n<text text-anchor=\"start\" x=\"410\" y=\"-631.8\" font-family=\"Helvetica,sans-Serif\" font-size=\"14.00\">samples = 1413373</text>\n<text text-anchor=\"start\" x=\"432.5\" y=\"-616.8\" font-family=\"Helvetica,sans-Serif\" font-size=\"14.00\">value = 0.79</text>\n</g>\n<!-- 5&#45;&gt;8 -->\n<g id=\"edge5\" class=\"edge\">\n<title>5&#45;&gt;8</title>\n<path fill=\"none\" stroke=\"black\" d=\"M415.3,-712.88C422.3,-704.07 429.95,-694.43 437.25,-685.24\"/>\n<polygon fill=\"black\" stroke=\"black\" points=\"440.08,-687.31 443.56,-677.3 434.6,-682.95 440.08,-687.31\"/>\n</g>\n<!-- 13 -->\n<g id=\"node7\" class=\"node\">\n<title>13</title>\n<path fill=\"#f5ccaf\" stroke=\"black\" d=\"M449.5,-573C449.5,-573 330.5,-573 330.5,-573 324.5,-573 318.5,-567 318.5,-561 318.5,-561 318.5,-517 318.5,-517 318.5,-511 324.5,-505 330.5,-505 330.5,-505 449.5,-505 449.5,-505 455.5,-505 461.5,-511 461.5,-517 461.5,-517 461.5,-561 461.5,-561 461.5,-567 455.5,-573 449.5,-573\"/>\n<text text-anchor=\"start\" x=\"340.5\" y=\"-557.8\" font-family=\"Helvetica,sans-Serif\" font-size=\"14.00\">store_nbr ≤ 36.5</text>\n<text text-anchor=\"start\" x=\"326.5\" y=\"-542.8\" font-family=\"Helvetica,sans-Serif\" font-size=\"14.00\">squared_error = 0.61</text>\n<text text-anchor=\"start\" x=\"330\" y=\"-527.8\" font-family=\"Helvetica,sans-Serif\" font-size=\"14.00\">samples = 1327362</text>\n<text text-anchor=\"start\" x=\"352.5\" y=\"-512.8\" font-family=\"Helvetica,sans-Serif\" font-size=\"14.00\">value = 0.81</text>\n</g>\n<!-- 8&#45;&gt;13 -->\n<g id=\"edge6\" class=\"edge\">\n<title>8&#45;&gt;13</title>\n<path fill=\"none\" stroke=\"black\" d=\"M444.03,-608.88C437.11,-600.07 429.55,-590.43 422.34,-581.24\"/>\n<polygon fill=\"black\" stroke=\"black\" points=\"425.04,-579.01 416.12,-573.3 419.53,-583.33 425.04,-579.01\"/>\n</g>\n<!-- 14 -->\n<g id=\"node20\" class=\"node\">\n<title>14</title>\n<path fill=\"#f8dcc8\" stroke=\"black\" d=\"M610.5,-573C610.5,-573 491.5,-573 491.5,-573 485.5,-573 479.5,-567 479.5,-561 479.5,-561 479.5,-517 479.5,-517 479.5,-511 485.5,-505 491.5,-505 491.5,-505 610.5,-505 610.5,-505 616.5,-505 622.5,-511 622.5,-517 622.5,-517 622.5,-561 622.5,-561 622.5,-567 616.5,-573 610.5,-573\"/>\n<text text-anchor=\"start\" x=\"501.5\" y=\"-557.8\" font-family=\"Helvetica,sans-Serif\" font-size=\"14.00\">store_nbr ≤ 42.5</text>\n<text text-anchor=\"start\" x=\"487.5\" y=\"-542.8\" font-family=\"Helvetica,sans-Serif\" font-size=\"14.00\">squared_error = 0.57</text>\n<text text-anchor=\"start\" x=\"498.5\" y=\"-527.8\" font-family=\"Helvetica,sans-Serif\" font-size=\"14.00\">samples = 86011</text>\n<text text-anchor=\"start\" x=\"513.5\" y=\"-512.8\" font-family=\"Helvetica,sans-Serif\" font-size=\"14.00\">value = 0.56</text>\n</g>\n<!-- 8&#45;&gt;14 -->\n<g id=\"edge19\" class=\"edge\">\n<title>8&#45;&gt;14</title>\n<path fill=\"none\" stroke=\"black\" d=\"M496.3,-608.88C503.3,-600.07 510.95,-590.43 518.25,-581.24\"/>\n<polygon fill=\"black\" stroke=\"black\" points=\"521.08,-583.31 524.56,-573.3 515.6,-578.95 521.08,-583.31\"/>\n</g>\n<!-- 15 -->\n<g id=\"node8\" class=\"node\">\n<title>15</title>\n<path fill=\"#f5ceb2\" stroke=\"black\" d=\"M288.5,-469C288.5,-469 169.5,-469 169.5,-469 163.5,-469 157.5,-463 157.5,-457 157.5,-457 157.5,-413 157.5,-413 157.5,-407 163.5,-401 169.5,-401 169.5,-401 288.5,-401 288.5,-401 294.5,-401 300.5,-407 300.5,-413 300.5,-413 300.5,-457 300.5,-457 300.5,-463 294.5,-469 288.5,-469\"/>\n<text text-anchor=\"start\" x=\"179.5\" y=\"-453.8\" font-family=\"Helvetica,sans-Serif\" font-size=\"14.00\">store_nbr ≤ 19.5</text>\n<text text-anchor=\"start\" x=\"165.5\" y=\"-438.8\" font-family=\"Helvetica,sans-Serif\" font-size=\"14.00\">squared_error = 0.61</text>\n<text text-anchor=\"start\" x=\"169\" y=\"-423.8\" font-family=\"Helvetica,sans-Serif\" font-size=\"14.00\">samples = 1128398</text>\n<text text-anchor=\"start\" x=\"191.5\" y=\"-408.8\" font-family=\"Helvetica,sans-Serif\" font-size=\"14.00\">value = 0.78</text>\n</g>\n<!-- 13&#45;&gt;15 -->\n<g id=\"edge7\" class=\"edge\">\n<title>13&#45;&gt;15</title>\n<path fill=\"none\" stroke=\"black\" d=\"M337.73,-504.88C322.47,-495.21 305.65,-484.56 289.91,-474.59\"/>\n<polygon fill=\"black\" stroke=\"black\" points=\"291.61,-471.52 281.29,-469.12 287.86,-477.43 291.61,-471.52\"/>\n</g>\n<!-- 16 -->\n<g id=\"node19\" class=\"node\">\n<title>16</title>\n<path fill=\"#f2c19e\" stroke=\"black\" d=\"M449.5,-461.5C449.5,-461.5 330.5,-461.5 330.5,-461.5 324.5,-461.5 318.5,-455.5 318.5,-449.5 318.5,-449.5 318.5,-420.5 318.5,-420.5 318.5,-414.5 324.5,-408.5 330.5,-408.5 330.5,-408.5 449.5,-408.5 449.5,-408.5 455.5,-408.5 461.5,-414.5 461.5,-420.5 461.5,-420.5 461.5,-449.5 461.5,-449.5 461.5,-455.5 455.5,-461.5 449.5,-461.5\"/>\n<text text-anchor=\"start\" x=\"326.5\" y=\"-446.3\" font-family=\"Helvetica,sans-Serif\" font-size=\"14.00\">squared_error = 0.59</text>\n<text text-anchor=\"start\" x=\"334\" y=\"-431.3\" font-family=\"Helvetica,sans-Serif\" font-size=\"14.00\">samples = 198964</text>\n<text text-anchor=\"start\" x=\"352.5\" y=\"-416.3\" font-family=\"Helvetica,sans-Serif\" font-size=\"14.00\">value = 0.98</text>\n</g>\n<!-- 13&#45;&gt;16 -->\n<g id=\"edge18\" class=\"edge\">\n<title>13&#45;&gt;16</title>\n<path fill=\"none\" stroke=\"black\" d=\"M390,-504.88C390,-494.33 390,-482.6 390,-471.85\"/>\n<polygon fill=\"black\" stroke=\"black\" points=\"393.5,-471.52 390,-461.52 386.5,-471.52 393.5,-471.52\"/>\n</g>\n<!-- 19 -->\n<g id=\"node9\" class=\"node\">\n<title>19</title>\n<path fill=\"#f4c8a9\" stroke=\"black\" d=\"M212.5,-357.5C212.5,-357.5 93.5,-357.5 93.5,-357.5 87.5,-357.5 81.5,-351.5 81.5,-345.5 81.5,-345.5 81.5,-316.5 81.5,-316.5 81.5,-310.5 87.5,-304.5 93.5,-304.5 93.5,-304.5 212.5,-304.5 212.5,-304.5 218.5,-304.5 224.5,-310.5 224.5,-316.5 224.5,-316.5 224.5,-345.5 224.5,-345.5 224.5,-351.5 218.5,-357.5 212.5,-357.5\"/>\n<text text-anchor=\"start\" x=\"89.5\" y=\"-342.3\" font-family=\"Helvetica,sans-Serif\" font-size=\"14.00\">squared_error = 0.62</text>\n<text text-anchor=\"start\" x=\"97\" y=\"-327.3\" font-family=\"Helvetica,sans-Serif\" font-size=\"14.00\">samples = 424227</text>\n<text text-anchor=\"start\" x=\"115.5\" y=\"-312.3\" font-family=\"Helvetica,sans-Serif\" font-size=\"14.00\">value = 0.87</text>\n</g>\n<!-- 15&#45;&gt;19 -->\n<g id=\"edge8\" class=\"edge\">\n<title>15&#45;&gt;19</title>\n<path fill=\"none\" stroke=\"black\" d=\"M204.32,-400.88C195.97,-389.67 186.62,-377.13 178.22,-365.85\"/>\n<polygon fill=\"black\" stroke=\"black\" points=\"180.8,-363.45 172.01,-357.52 175.18,-367.63 180.8,-363.45\"/>\n</g>\n<!-- 20 -->\n<g id=\"node10\" class=\"node\">\n<title>20</title>\n<path fill=\"#f6d2b8\" stroke=\"black\" d=\"M367,-365C367,-365 255,-365 255,-365 249,-365 243,-359 243,-353 243,-353 243,-309 243,-309 243,-303 249,-297 255,-297 255,-297 367,-297 367,-297 373,-297 379,-303 379,-309 379,-309 379,-353 379,-353 379,-359 373,-365 367,-365\"/>\n<text text-anchor=\"start\" x=\"261.5\" y=\"-349.8\" font-family=\"Helvetica,sans-Serif\" font-size=\"14.00\">store_nbr ≤ 22.5</text>\n<text text-anchor=\"start\" x=\"251\" y=\"-334.8\" font-family=\"Helvetica,sans-Serif\" font-size=\"14.00\">squared_error = 0.6</text>\n<text text-anchor=\"start\" x=\"255\" y=\"-319.8\" font-family=\"Helvetica,sans-Serif\" font-size=\"14.00\">samples = 704171</text>\n<text text-anchor=\"start\" x=\"273.5\" y=\"-304.8\" font-family=\"Helvetica,sans-Serif\" font-size=\"14.00\">value = 0.72</text>\n</g>\n<!-- 15&#45;&gt;20 -->\n<g id=\"edge9\" class=\"edge\">\n<title>15&#45;&gt;20</title>\n<path fill=\"none\" stroke=\"black\" d=\"M255.62,-400.88C262.71,-392.07 270.46,-382.43 277.85,-373.24\"/>\n<polygon fill=\"black\" stroke=\"black\" points=\"280.69,-375.29 284.23,-365.3 275.24,-370.9 280.69,-375.29\"/>\n</g>\n<!-- 21 -->\n<g id=\"node11\" class=\"node\">\n<title>21</title>\n<path fill=\"#fbede3\" stroke=\"black\" d=\"M289.5,-261C289.5,-261 170.5,-261 170.5,-261 164.5,-261 158.5,-255 158.5,-249 158.5,-249 158.5,-205 158.5,-205 158.5,-199 164.5,-193 170.5,-193 170.5,-193 289.5,-193 289.5,-193 295.5,-193 301.5,-199 301.5,-205 301.5,-205 301.5,-249 301.5,-249 301.5,-255 295.5,-261 289.5,-261\"/>\n<text text-anchor=\"start\" x=\"188.5\" y=\"-245.8\" font-family=\"Helvetica,sans-Serif\" font-size=\"14.00\">year ≤ 2014.5</text>\n<text text-anchor=\"start\" x=\"166.5\" y=\"-230.8\" font-family=\"Helvetica,sans-Serif\" font-size=\"14.00\">squared_error = 0.33</text>\n<text text-anchor=\"start\" x=\"174\" y=\"-215.8\" font-family=\"Helvetica,sans-Serif\" font-size=\"14.00\">samples = 129753</text>\n<text text-anchor=\"start\" x=\"192.5\" y=\"-200.8\" font-family=\"Helvetica,sans-Serif\" font-size=\"14.00\">value = 0.29</text>\n</g>\n<!-- 20&#45;&gt;21 -->\n<g id=\"edge10\" class=\"edge\">\n<title>20&#45;&gt;21</title>\n<path fill=\"none\" stroke=\"black\" d=\"M284.7,-296.88C277.7,-288.07 270.05,-278.43 262.75,-269.24\"/>\n<polygon fill=\"black\" stroke=\"black\" points=\"265.4,-266.95 256.44,-261.3 259.92,-271.31 265.4,-266.95\"/>\n</g>\n<!-- 22 -->\n<g id=\"node14\" class=\"node\">\n<title>22</title>\n<path fill=\"#f4ccae\" stroke=\"black\" d=\"M450.5,-261C450.5,-261 331.5,-261 331.5,-261 325.5,-261 319.5,-255 319.5,-249 319.5,-249 319.5,-205 319.5,-205 319.5,-199 325.5,-193 331.5,-193 331.5,-193 450.5,-193 450.5,-193 456.5,-193 462.5,-199 462.5,-205 462.5,-205 462.5,-249 462.5,-249 462.5,-255 456.5,-261 450.5,-261\"/>\n<text text-anchor=\"start\" x=\"341.5\" y=\"-245.8\" font-family=\"Helvetica,sans-Serif\" font-size=\"14.00\">store_nbr ≤ 28.5</text>\n<text text-anchor=\"start\" x=\"327.5\" y=\"-230.8\" font-family=\"Helvetica,sans-Serif\" font-size=\"14.00\">squared_error = 0.61</text>\n<text text-anchor=\"start\" x=\"335\" y=\"-215.8\" font-family=\"Helvetica,sans-Serif\" font-size=\"14.00\">samples = 574418</text>\n<text text-anchor=\"start\" x=\"353.5\" y=\"-200.8\" font-family=\"Helvetica,sans-Serif\" font-size=\"14.00\">value = 0.82</text>\n</g>\n<!-- 20&#45;&gt;22 -->\n<g id=\"edge13\" class=\"edge\">\n<title>20&#45;&gt;22</title>\n<path fill=\"none\" stroke=\"black\" d=\"M336.97,-296.88C343.89,-288.07 351.45,-278.43 358.66,-269.24\"/>\n<polygon fill=\"black\" stroke=\"black\" points=\"361.47,-271.33 364.88,-261.3 355.96,-267.01 361.47,-271.33\"/>\n</g>\n<!-- 23 -->\n<g id=\"node12\" class=\"node\">\n<title>23</title>\n<path fill=\"#ffffff\" stroke=\"black\" d=\"M128,-149.5C128,-149.5 12,-149.5 12,-149.5 6,-149.5 0,-143.5 0,-137.5 0,-137.5 0,-108.5 0,-108.5 0,-102.5 6,-96.5 12,-96.5 12,-96.5 128,-96.5 128,-96.5 134,-96.5 140,-102.5 140,-108.5 140,-108.5 140,-137.5 140,-137.5 140,-143.5 134,-149.5 128,-149.5\"/>\n<text text-anchor=\"start\" x=\"8\" y=\"-134.3\" font-family=\"Helvetica,sans-Serif\" font-size=\"14.00\">squared_error = &#45;0.0</text>\n<text text-anchor=\"start\" x=\"17.5\" y=\"-119.3\" font-family=\"Helvetica,sans-Serif\" font-size=\"14.00\">samples = 73161</text>\n<text text-anchor=\"start\" x=\"36.5\" y=\"-104.3\" font-family=\"Helvetica,sans-Serif\" font-size=\"14.00\">value = 0.0</text>\n</g>\n<!-- 21&#45;&gt;23 -->\n<g id=\"edge11\" class=\"edge\">\n<title>21&#45;&gt;23</title>\n<path fill=\"none\" stroke=\"black\" d=\"M178.05,-192.88C158.9,-180.68 137.3,-166.9 118.47,-154.9\"/>\n<polygon fill=\"black\" stroke=\"black\" points=\"120.35,-151.94 110.03,-149.52 116.58,-157.85 120.35,-151.94\"/>\n</g>\n<!-- 24 -->\n<g id=\"node13\" class=\"node\">\n<title>24</title>\n<path fill=\"#f6d6be\" stroke=\"black\" d=\"M289.5,-149.5C289.5,-149.5 170.5,-149.5 170.5,-149.5 164.5,-149.5 158.5,-143.5 158.5,-137.5 158.5,-137.5 158.5,-108.5 158.5,-108.5 158.5,-102.5 164.5,-96.5 170.5,-96.5 170.5,-96.5 289.5,-96.5 289.5,-96.5 295.5,-96.5 301.5,-102.5 301.5,-108.5 301.5,-108.5 301.5,-137.5 301.5,-137.5 301.5,-143.5 295.5,-149.5 289.5,-149.5\"/>\n<text text-anchor=\"start\" x=\"166.5\" y=\"-134.3\" font-family=\"Helvetica,sans-Serif\" font-size=\"14.00\">squared_error = 0.51</text>\n<text text-anchor=\"start\" x=\"177.5\" y=\"-119.3\" font-family=\"Helvetica,sans-Serif\" font-size=\"14.00\">samples = 56592</text>\n<text text-anchor=\"start\" x=\"192.5\" y=\"-104.3\" font-family=\"Helvetica,sans-Serif\" font-size=\"14.00\">value = 0.66</text>\n</g>\n<!-- 21&#45;&gt;24 -->\n<g id=\"edge12\" class=\"edge\">\n<title>21&#45;&gt;24</title>\n<path fill=\"none\" stroke=\"black\" d=\"M230,-192.88C230,-182.33 230,-170.6 230,-159.85\"/>\n<polygon fill=\"black\" stroke=\"black\" points=\"233.5,-159.52 230,-149.52 226.5,-159.52 233.5,-159.52\"/>\n</g>\n<!-- 27 -->\n<g id=\"node15\" class=\"node\">\n<title>27</title>\n<path fill=\"#f3c6a5\" stroke=\"black\" d=\"M450.5,-149.5C450.5,-149.5 331.5,-149.5 331.5,-149.5 325.5,-149.5 319.5,-143.5 319.5,-137.5 319.5,-137.5 319.5,-108.5 319.5,-108.5 319.5,-102.5 325.5,-96.5 331.5,-96.5 331.5,-96.5 450.5,-96.5 450.5,-96.5 456.5,-96.5 462.5,-102.5 462.5,-108.5 462.5,-108.5 462.5,-137.5 462.5,-137.5 462.5,-143.5 456.5,-149.5 450.5,-149.5\"/>\n<text text-anchor=\"start\" x=\"327.5\" y=\"-134.3\" font-family=\"Helvetica,sans-Serif\" font-size=\"14.00\">squared_error = 0.61</text>\n<text text-anchor=\"start\" x=\"335\" y=\"-119.3\" font-family=\"Helvetica,sans-Serif\" font-size=\"14.00\">samples = 242100</text>\n<text text-anchor=\"start\" x=\"353.5\" y=\"-104.3\" font-family=\"Helvetica,sans-Serif\" font-size=\"14.00\">value = 0.91</text>\n</g>\n<!-- 22&#45;&gt;27 -->\n<g id=\"edge14\" class=\"edge\">\n<title>22&#45;&gt;27</title>\n<path fill=\"none\" stroke=\"black\" d=\"M391,-192.88C391,-182.33 391,-170.6 391,-159.85\"/>\n<polygon fill=\"black\" stroke=\"black\" points=\"394.5,-159.52 391,-149.52 387.5,-159.52 394.5,-159.52\"/>\n</g>\n<!-- 28 -->\n<g id=\"node16\" class=\"node\">\n<title>28</title>\n<path fill=\"#f5d0b5\" stroke=\"black\" d=\"M605,-157C605,-157 493,-157 493,-157 487,-157 481,-151 481,-145 481,-145 481,-101 481,-101 481,-95 487,-89 493,-89 493,-89 605,-89 605,-89 611,-89 617,-95 617,-101 617,-101 617,-145 617,-145 617,-151 611,-157 605,-157\"/>\n<text text-anchor=\"start\" x=\"499.5\" y=\"-141.8\" font-family=\"Helvetica,sans-Serif\" font-size=\"14.00\">store_nbr ≤ 29.5</text>\n<text text-anchor=\"start\" x=\"489\" y=\"-126.8\" font-family=\"Helvetica,sans-Serif\" font-size=\"14.00\">squared_error = 0.6</text>\n<text text-anchor=\"start\" x=\"493\" y=\"-111.8\" font-family=\"Helvetica,sans-Serif\" font-size=\"14.00\">samples = 332318</text>\n<text text-anchor=\"start\" x=\"511.5\" y=\"-96.8\" font-family=\"Helvetica,sans-Serif\" font-size=\"14.00\">value = 0.75</text>\n</g>\n<!-- 22&#45;&gt;28 -->\n<g id=\"edge15\" class=\"edge\">\n<title>22&#45;&gt;28</title>\n<path fill=\"none\" stroke=\"black\" d=\"M442.3,-192.88C457.28,-183.21 473.77,-172.56 489.23,-162.59\"/>\n<polygon fill=\"black\" stroke=\"black\" points=\"491.19,-165.49 497.69,-157.12 487.39,-159.61 491.19,-165.49\"/>\n</g>\n<!-- 29 -->\n<g id=\"node17\" class=\"node\">\n<title>29</title>\n<path fill=\"#fbeade\" stroke=\"black\" d=\"M529.5,-53C529.5,-53 410.5,-53 410.5,-53 404.5,-53 398.5,-47 398.5,-41 398.5,-41 398.5,-12 398.5,-12 398.5,-6 404.5,0 410.5,0 410.5,0 529.5,0 529.5,0 535.5,0 541.5,-6 541.5,-12 541.5,-12 541.5,-41 541.5,-41 541.5,-47 535.5,-53 529.5,-53\"/>\n<text text-anchor=\"start\" x=\"406.5\" y=\"-37.8\" font-family=\"Helvetica,sans-Serif\" font-size=\"14.00\">squared_error = 0.37</text>\n<text text-anchor=\"start\" x=\"417.5\" y=\"-22.8\" font-family=\"Helvetica,sans-Serif\" font-size=\"14.00\">samples = 42419</text>\n<text text-anchor=\"start\" x=\"432.5\" y=\"-7.8\" font-family=\"Helvetica,sans-Serif\" font-size=\"14.00\">value = 0.34</text>\n</g>\n<!-- 28&#45;&gt;29 -->\n<g id=\"edge16\" class=\"edge\">\n<title>28&#45;&gt;29</title>\n<path fill=\"none\" stroke=\"black\" d=\"M521.37,-88.95C513.8,-79.89 505.59,-70.07 497.99,-60.99\"/>\n<polygon fill=\"black\" stroke=\"black\" points=\"500.61,-58.66 491.52,-53.24 495.24,-63.15 500.61,-58.66\"/>\n</g>\n<!-- 30 -->\n<g id=\"node18\" class=\"node\">\n<title>30</title>\n<path fill=\"#f4ccaf\" stroke=\"black\" d=\"M684,-53C684,-53 572,-53 572,-53 566,-53 560,-47 560,-41 560,-41 560,-12 560,-12 560,-6 566,0 572,0 572,0 684,0 684,0 690,0 696,-6 696,-12 696,-12 696,-41 696,-41 696,-47 690,-53 684,-53\"/>\n<text text-anchor=\"start\" x=\"568\" y=\"-37.8\" font-family=\"Helvetica,sans-Serif\" font-size=\"14.00\">squared_error = 0.6</text>\n<text text-anchor=\"start\" x=\"572\" y=\"-22.8\" font-family=\"Helvetica,sans-Serif\" font-size=\"14.00\">samples = 289899</text>\n<text text-anchor=\"start\" x=\"590.5\" y=\"-7.8\" font-family=\"Helvetica,sans-Serif\" font-size=\"14.00\">value = 0.81</text>\n</g>\n<!-- 28&#45;&gt;30 -->\n<g id=\"edge17\" class=\"edge\">\n<title>28&#45;&gt;30</title>\n<path fill=\"none\" stroke=\"black\" d=\"M576.63,-88.95C584.2,-79.89 592.41,-70.07 600.01,-60.99\"/>\n<polygon fill=\"black\" stroke=\"black\" points=\"602.76,-63.15 606.48,-53.24 597.39,-58.66 602.76,-63.15\"/>\n</g>\n<!-- 17 -->\n<g id=\"node21\" class=\"node\">\n<title>17</title>\n<path fill=\"#fbeee4\" stroke=\"black\" d=\"M610.5,-469C610.5,-469 491.5,-469 491.5,-469 485.5,-469 479.5,-463 479.5,-457 479.5,-457 479.5,-413 479.5,-413 479.5,-407 485.5,-401 491.5,-401 491.5,-401 610.5,-401 610.5,-401 616.5,-401 622.5,-407 622.5,-413 622.5,-413 622.5,-457 622.5,-457 622.5,-463 616.5,-469 610.5,-469\"/>\n<text text-anchor=\"start\" x=\"509.5\" y=\"-453.8\" font-family=\"Helvetica,sans-Serif\" font-size=\"14.00\">year ≤ 2015.5</text>\n<text text-anchor=\"start\" x=\"487.5\" y=\"-438.8\" font-family=\"Helvetica,sans-Serif\" font-size=\"14.00\">squared_error = 0.33</text>\n<text text-anchor=\"start\" x=\"498.5\" y=\"-423.8\" font-family=\"Helvetica,sans-Serif\" font-size=\"14.00\">samples = 43222</text>\n<text text-anchor=\"start\" x=\"513.5\" y=\"-408.8\" font-family=\"Helvetica,sans-Serif\" font-size=\"14.00\">value = 0.28</text>\n</g>\n<!-- 14&#45;&gt;17 -->\n<g id=\"edge20\" class=\"edge\">\n<title>14&#45;&gt;17</title>\n<path fill=\"none\" stroke=\"black\" d=\"M551,-504.88C551,-496.78 551,-487.98 551,-479.47\"/>\n<polygon fill=\"black\" stroke=\"black\" points=\"554.5,-479.3 551,-469.3 547.5,-479.3 554.5,-479.3\"/>\n</g>\n<!-- 18 -->\n<g id=\"node24\" class=\"node\">\n<title>18</title>\n<path fill=\"#f4caab\" stroke=\"black\" d=\"M771.5,-461.5C771.5,-461.5 652.5,-461.5 652.5,-461.5 646.5,-461.5 640.5,-455.5 640.5,-449.5 640.5,-449.5 640.5,-420.5 640.5,-420.5 640.5,-414.5 646.5,-408.5 652.5,-408.5 652.5,-408.5 771.5,-408.5 771.5,-408.5 777.5,-408.5 783.5,-414.5 783.5,-420.5 783.5,-420.5 783.5,-449.5 783.5,-449.5 783.5,-455.5 777.5,-461.5 771.5,-461.5\"/>\n<text text-anchor=\"start\" x=\"648.5\" y=\"-446.3\" font-family=\"Helvetica,sans-Serif\" font-size=\"14.00\">squared_error = 0.65</text>\n<text text-anchor=\"start\" x=\"659.5\" y=\"-431.3\" font-family=\"Helvetica,sans-Serif\" font-size=\"14.00\">samples = 42789</text>\n<text text-anchor=\"start\" x=\"674.5\" y=\"-416.3\" font-family=\"Helvetica,sans-Serif\" font-size=\"14.00\">value = 0.85</text>\n</g>\n<!-- 14&#45;&gt;18 -->\n<g id=\"edge23\" class=\"edge\">\n<title>14&#45;&gt;18</title>\n<path fill=\"none\" stroke=\"black\" d=\"M603.27,-504.88C622.54,-492.68 644.28,-478.9 663.23,-466.9\"/>\n<polygon fill=\"black\" stroke=\"black\" points=\"665.14,-469.83 671.72,-461.52 661.4,-463.92 665.14,-469.83\"/>\n</g>\n<!-- 25 -->\n<g id=\"node22\" class=\"node\">\n<title>25</title>\n<path fill=\"#fef9f5\" stroke=\"black\" d=\"M569.5,-357.5C569.5,-357.5 450.5,-357.5 450.5,-357.5 444.5,-357.5 438.5,-351.5 438.5,-345.5 438.5,-345.5 438.5,-316.5 438.5,-316.5 438.5,-310.5 444.5,-304.5 450.5,-304.5 450.5,-304.5 569.5,-304.5 569.5,-304.5 575.5,-304.5 581.5,-310.5 581.5,-316.5 581.5,-316.5 581.5,-345.5 581.5,-345.5 581.5,-351.5 575.5,-357.5 569.5,-357.5\"/>\n<text text-anchor=\"start\" x=\"446.5\" y=\"-342.3\" font-family=\"Helvetica,sans-Serif\" font-size=\"14.00\">squared_error = 0.14</text>\n<text text-anchor=\"start\" x=\"457.5\" y=\"-327.3\" font-family=\"Helvetica,sans-Serif\" font-size=\"14.00\">samples = 35323</text>\n<text text-anchor=\"start\" x=\"476.5\" y=\"-312.3\" font-family=\"Helvetica,sans-Serif\" font-size=\"14.00\">value = 0.1</text>\n</g>\n<!-- 17&#45;&gt;25 -->\n<g id=\"edge21\" class=\"edge\">\n<title>17&#45;&gt;25</title>\n<path fill=\"none\" stroke=\"black\" d=\"M537.69,-400.88C533.31,-390 528.43,-377.86 524.01,-366.85\"/>\n<polygon fill=\"black\" stroke=\"black\" points=\"527.24,-365.49 520.26,-357.52 520.74,-368.1 527.24,-365.49\"/>\n</g>\n<!-- 26 -->\n<g id=\"node23\" class=\"node\">\n<title>26</title>\n<path fill=\"#f1bc96\" stroke=\"black\" d=\"M724,-357.5C724,-357.5 612,-357.5 612,-357.5 606,-357.5 600,-351.5 600,-345.5 600,-345.5 600,-316.5 600,-316.5 600,-310.5 606,-304.5 612,-304.5 612,-304.5 724,-304.5 724,-304.5 730,-304.5 736,-310.5 736,-316.5 736,-316.5 736,-345.5 736,-345.5 736,-351.5 730,-357.5 724,-357.5\"/>\n<text text-anchor=\"start\" x=\"608\" y=\"-342.3\" font-family=\"Helvetica,sans-Serif\" font-size=\"14.00\">squared_error = 0.4</text>\n<text text-anchor=\"start\" x=\"619.5\" y=\"-327.3\" font-family=\"Helvetica,sans-Serif\" font-size=\"14.00\">samples = 7899</text>\n<text text-anchor=\"start\" x=\"630.5\" y=\"-312.3\" font-family=\"Helvetica,sans-Serif\" font-size=\"14.00\">value = 1.06</text>\n</g>\n<!-- 17&#45;&gt;26 -->\n<g id=\"edge22\" class=\"edge\">\n<title>17&#45;&gt;26</title>\n<path fill=\"none\" stroke=\"black\" d=\"M588.99,-400.88C602.48,-389.12 617.65,-375.89 631.06,-364.2\"/>\n<polygon fill=\"black\" stroke=\"black\" points=\"633.49,-366.73 638.73,-357.52 628.89,-361.45 633.49,-366.73\"/>\n</g>\n<!-- 9 -->\n<g id=\"node27\" class=\"node\">\n<title>9</title>\n<path fill=\"#ffffff\" stroke=\"black\" d=\"M765,-773.5C765,-773.5 653,-773.5 653,-773.5 647,-773.5 641,-767.5 641,-761.5 641,-761.5 641,-732.5 641,-732.5 641,-726.5 647,-720.5 653,-720.5 653,-720.5 765,-720.5 765,-720.5 771,-720.5 777,-726.5 777,-732.5 777,-732.5 777,-761.5 777,-761.5 777,-767.5 771,-773.5 765,-773.5\"/>\n<text text-anchor=\"start\" x=\"649\" y=\"-758.3\" font-family=\"Helvetica,sans-Serif\" font-size=\"14.00\">squared_error = 0.0</text>\n<text text-anchor=\"start\" x=\"656.5\" y=\"-743.3\" font-family=\"Helvetica,sans-Serif\" font-size=\"14.00\">samples = 48906</text>\n<text text-anchor=\"start\" x=\"675.5\" y=\"-728.3\" font-family=\"Helvetica,sans-Serif\" font-size=\"14.00\">value = 0.0</text>\n</g>\n<!-- 4&#45;&gt;9 -->\n<g id=\"edge26\" class=\"edge\">\n<title>4&#45;&gt;9</title>\n<path fill=\"none\" stroke=\"black\" d=\"M709.68,-816.88C709.57,-806.33 709.46,-794.6 709.35,-783.85\"/>\n<polygon fill=\"black\" stroke=\"black\" points=\"712.85,-783.49 709.25,-773.52 705.85,-783.55 712.85,-783.49\"/>\n</g>\n<!-- 10 -->\n<g id=\"node28\" class=\"node\">\n<title>10</title>\n<path fill=\"#f7d6bf\" stroke=\"black\" d=\"M926.5,-773.5C926.5,-773.5 807.5,-773.5 807.5,-773.5 801.5,-773.5 795.5,-767.5 795.5,-761.5 795.5,-761.5 795.5,-732.5 795.5,-732.5 795.5,-726.5 801.5,-720.5 807.5,-720.5 807.5,-720.5 926.5,-720.5 926.5,-720.5 932.5,-720.5 938.5,-726.5 938.5,-732.5 938.5,-732.5 938.5,-761.5 938.5,-761.5 938.5,-767.5 932.5,-773.5 926.5,-773.5\"/>\n<text text-anchor=\"start\" x=\"803.5\" y=\"-758.3\" font-family=\"Helvetica,sans-Serif\" font-size=\"14.00\">squared_error = 0.55</text>\n<text text-anchor=\"start\" x=\"814.5\" y=\"-743.3\" font-family=\"Helvetica,sans-Serif\" font-size=\"14.00\">samples = 79736</text>\n<text text-anchor=\"start\" x=\"829.5\" y=\"-728.3\" font-family=\"Helvetica,sans-Serif\" font-size=\"14.00\">value = 0.64</text>\n</g>\n<!-- 4&#45;&gt;10 -->\n<g id=\"edge27\" class=\"edge\">\n<title>4&#45;&gt;10</title>\n<path fill=\"none\" stroke=\"black\" d=\"M760.97,-816.88C779.68,-804.73 800.77,-791.03 819.19,-779.06\"/>\n<polygon fill=\"black\" stroke=\"black\" points=\"821.24,-781.9 827.72,-773.52 817.43,-776.03 821.24,-781.9\"/>\n</g>\n<!-- 11 -->\n<g id=\"node30\" class=\"node\">\n<title>11</title>\n<path fill=\"#e88f4f\" stroke=\"black\" d=\"M930.5,-877.5C930.5,-877.5 811.5,-877.5 811.5,-877.5 805.5,-877.5 799.5,-871.5 799.5,-865.5 799.5,-865.5 799.5,-836.5 799.5,-836.5 799.5,-830.5 805.5,-824.5 811.5,-824.5 811.5,-824.5 930.5,-824.5 930.5,-824.5 936.5,-824.5 942.5,-830.5 942.5,-836.5 942.5,-836.5 942.5,-865.5 942.5,-865.5 942.5,-871.5 936.5,-877.5 930.5,-877.5\"/>\n<text text-anchor=\"start\" x=\"807.5\" y=\"-862.3\" font-family=\"Helvetica,sans-Serif\" font-size=\"14.00\">squared_error = 0.11</text>\n<text text-anchor=\"start\" x=\"815\" y=\"-847.3\" font-family=\"Helvetica,sans-Serif\" font-size=\"14.00\">samples = 203126</text>\n<text text-anchor=\"start\" x=\"833.5\" y=\"-832.3\" font-family=\"Helvetica,sans-Serif\" font-size=\"14.00\">value = 1.78</text>\n</g>\n<!-- 2&#45;&gt;11 -->\n<g id=\"edge29\" class=\"edge\">\n<title>2&#45;&gt;11</title>\n<path fill=\"none\" stroke=\"black\" d=\"M871,-920.88C871,-910.33 871,-898.6 871,-887.85\"/>\n<polygon fill=\"black\" stroke=\"black\" points=\"874.5,-887.52 871,-877.52 867.5,-887.52 874.5,-887.52\"/>\n</g>\n<!-- 12 -->\n<g id=\"node31\" class=\"node\">\n<title>12</title>\n<path fill=\"#e58139\" stroke=\"black\" d=\"M1091.5,-877.5C1091.5,-877.5 972.5,-877.5 972.5,-877.5 966.5,-877.5 960.5,-871.5 960.5,-865.5 960.5,-865.5 960.5,-836.5 960.5,-836.5 960.5,-830.5 966.5,-824.5 972.5,-824.5 972.5,-824.5 1091.5,-824.5 1091.5,-824.5 1097.5,-824.5 1103.5,-830.5 1103.5,-836.5 1103.5,-836.5 1103.5,-865.5 1103.5,-865.5 1103.5,-871.5 1097.5,-877.5 1091.5,-877.5\"/>\n<text text-anchor=\"start\" x=\"968.5\" y=\"-862.3\" font-family=\"Helvetica,sans-Serif\" font-size=\"14.00\">squared_error = 0.04</text>\n<text text-anchor=\"start\" x=\"976\" y=\"-847.3\" font-family=\"Helvetica,sans-Serif\" font-size=\"14.00\">samples = 235643</text>\n<text text-anchor=\"start\" x=\"998.5\" y=\"-832.3\" font-family=\"Helvetica,sans-Serif\" font-size=\"14.00\">value = 2.0</text>\n</g>\n<!-- 2&#45;&gt;12 -->\n<g id=\"edge30\" class=\"edge\">\n<title>2&#45;&gt;12</title>\n<path fill=\"none\" stroke=\"black\" d=\"M923.27,-920.88C942.54,-908.68 964.28,-894.9 983.23,-882.9\"/>\n<polygon fill=\"black\" stroke=\"black\" points=\"985.14,-885.83 991.72,-877.52 981.4,-879.92 985.14,-885.83\"/>\n</g>\n</g>\n</svg>\n",
            "text/plain": [
              "<graphviz.sources.Source at 0x7cde645abf50>"
            ]
          },
          "metadata": {},
          "execution_count": 25
        }
      ]
    },
    {
      "cell_type": "code",
      "source": [
        "y_pred = model.predict(x_val)\n",
        "rmsle = root_mean_squared_log_error(y_val, y_pred)\n",
        "print(f\"RMSLE: {rmsle}\")"
      ],
      "metadata": {
        "colab": {
          "base_uri": "https://localhost:8080/"
        },
        "id": "Mtvd8aAYQoNi",
        "outputId": "3be846e9-9068-42cb-9b8a-b85072e8bebc"
      },
      "execution_count": 26,
      "outputs": [
        {
          "output_type": "stream",
          "name": "stdout",
          "text": [
            "RMSLE: 0.2975966424902258\n"
          ]
        }
      ]
    },
    {
      "cell_type": "markdown",
      "source": [
        "This does reduce our rmsle."
      ],
      "metadata": {
        "id": "WELkI32LVdzn"
      }
    },
    {
      "cell_type": "markdown",
      "source": [
        "### Hypothesis: Year is noise"
      ],
      "metadata": {
        "id": "xwSoZU1YeQYF"
      }
    },
    {
      "cell_type": "markdown",
      "source": [
        "Year does not seem to matter much for sales prediction."
      ],
      "metadata": {
        "id": "G0wwbao6eX5J"
      }
    },
    {
      "cell_type": "code",
      "source": [
        "dep_var = \"sales\"\n",
        "val_df[dep_var] = np.log1p(val_df[dep_var])\n",
        "train_df[dep_var] = np.log1p(train_df[dep_var])\n",
        "\n",
        "y_train = train_df[dep_var]\n",
        "x_train = train_df.drop(columns=[dep_var, \"id\", \"date\", \"family\", \"year\"])\n",
        "indep_vars = x_train.columns.tolist()\n",
        "\n",
        "y_val = val_df[dep_var]\n",
        "x_val = val_df.drop(columns=[dep_var, \"id\", \"date\", \"family\", \"year\"])\n",
        "\n",
        "model = DecisionTreeRegressor(max_leaf_nodes=16)\n",
        "model.fit(x_train, y_train)\n",
        "\n",
        "draw_tree(model, x_train, size=20)"
      ],
      "metadata": {
        "colab": {
          "base_uri": "https://localhost:8080/",
          "height": 1000
        },
        "id": "o3-OMLJyeWLe",
        "outputId": "8406dd31-b62a-46d1-9e7a-25174da37fa6"
      },
      "execution_count": 27,
      "outputs": [
        {
          "output_type": "stream",
          "name": "stderr",
          "text": [
            "<ipython-input-27-22dd024f279f>:2: SettingWithCopyWarning: \n",
            "A value is trying to be set on a copy of a slice from a DataFrame.\n",
            "Try using .loc[row_indexer,col_indexer] = value instead\n",
            "\n",
            "See the caveats in the documentation: https://pandas.pydata.org/pandas-docs/stable/user_guide/indexing.html#returning-a-view-versus-a-copy\n",
            "  val_df[dep_var] = np.log1p(val_df[dep_var])\n",
            "<ipython-input-27-22dd024f279f>:3: SettingWithCopyWarning: \n",
            "A value is trying to be set on a copy of a slice from a DataFrame.\n",
            "Try using .loc[row_indexer,col_indexer] = value instead\n",
            "\n",
            "See the caveats in the documentation: https://pandas.pydata.org/pandas-docs/stable/user_guide/indexing.html#returning-a-view-versus-a-copy\n",
            "  train_df[dep_var] = np.log1p(train_df[dep_var])\n"
          ]
        },
        {
          "output_type": "execute_result",
          "data": {
            "image/svg+xml": "<?xml version=\"1.0\" encoding=\"UTF-8\" standalone=\"no\"?>\n<!DOCTYPE svg PUBLIC \"-//W3C//DTD SVG 1.1//EN\"\n \"http://www.w3.org/Graphics/SVG/1.1/DTD/svg11.dtd\">\n<!-- Generated by graphviz version 2.43.0 (0)\n -->\n<!-- Title: Tree Pages: 1 -->\n<svg width=\"948pt\" height=\"1101pt\"\n viewBox=\"0.00 0.00 947.50 1101.00\" xmlns=\"http://www.w3.org/2000/svg\" xmlns:xlink=\"http://www.w3.org/1999/xlink\">\n<g id=\"graph0\" class=\"graph\" transform=\"scale(1 1) rotate(0) translate(4 1097)\">\n<title>Tree</title>\n<polygon fill=\"white\" stroke=\"transparent\" points=\"-4,4 -4,-1097 943.5,-1097 943.5,4 -4,4\"/>\n<!-- 0 -->\n<g id=\"node1\" class=\"node\">\n<title>0</title>\n<path fill=\"#f1b991\" stroke=\"black\" d=\"M685.5,-1093C685.5,-1093 566.5,-1093 566.5,-1093 560.5,-1093 554.5,-1087 554.5,-1081 554.5,-1081 554.5,-1037 554.5,-1037 554.5,-1031 560.5,-1025 566.5,-1025 566.5,-1025 685.5,-1025 685.5,-1025 691.5,-1025 697.5,-1031 697.5,-1037 697.5,-1037 697.5,-1081 697.5,-1081 697.5,-1087 691.5,-1093 685.5,-1093\"/>\n<text text-anchor=\"start\" x=\"571\" y=\"-1077.8\" font-family=\"Helvetica,sans-Serif\" font-size=\"14.00\">onpromotion ≤ 0.5</text>\n<text text-anchor=\"start\" x=\"562.5\" y=\"-1062.8\" font-family=\"Helvetica,sans-Serif\" font-size=\"14.00\">squared_error = 0.22</text>\n<text text-anchor=\"start\" x=\"566\" y=\"-1047.8\" font-family=\"Helvetica,sans-Serif\" font-size=\"14.00\">samples = 2640924</text>\n<text text-anchor=\"start\" x=\"588.5\" y=\"-1032.8\" font-family=\"Helvetica,sans-Serif\" font-size=\"14.00\">value = 0.61</text>\n</g>\n<!-- 1 -->\n<g id=\"node2\" class=\"node\">\n<title>1</title>\n<path fill=\"#f3c3a1\" stroke=\"black\" d=\"M605.5,-989C605.5,-989 486.5,-989 486.5,-989 480.5,-989 474.5,-983 474.5,-977 474.5,-977 474.5,-933 474.5,-933 474.5,-927 480.5,-921 486.5,-921 486.5,-921 605.5,-921 605.5,-921 611.5,-921 617.5,-927 617.5,-933 617.5,-933 617.5,-977 617.5,-977 617.5,-983 611.5,-989 605.5,-989\"/>\n<text text-anchor=\"start\" x=\"496.5\" y=\"-973.8\" font-family=\"Helvetica,sans-Serif\" font-size=\"14.00\">store_nbr ≤ 51.5</text>\n<text text-anchor=\"start\" x=\"482.5\" y=\"-958.8\" font-family=\"Helvetica,sans-Serif\" font-size=\"14.00\">squared_error = 0.21</text>\n<text text-anchor=\"start\" x=\"486\" y=\"-943.8\" font-family=\"Helvetica,sans-Serif\" font-size=\"14.00\">samples = 2202155</text>\n<text text-anchor=\"start\" x=\"508.5\" y=\"-928.8\" font-family=\"Helvetica,sans-Serif\" font-size=\"14.00\">value = 0.52</text>\n</g>\n<!-- 0&#45;&gt;1 -->\n<g id=\"edge1\" class=\"edge\">\n<title>0&#45;&gt;1</title>\n<path fill=\"none\" stroke=\"black\" d=\"M600.03,-1024.88C593.11,-1016.07 585.55,-1006.43 578.34,-997.24\"/>\n<polygon fill=\"black\" stroke=\"black\" points=\"581.04,-995.01 572.12,-989.3 575.53,-999.33 581.04,-995.01\"/>\n<text text-anchor=\"middle\" x=\"569.12\" y=\"-1010.42\" font-family=\"Helvetica,sans-Serif\" font-size=\"14.00\">True</text>\n</g>\n<!-- 2 -->\n<g id=\"node29\" class=\"node\">\n<title>2</title>\n<path fill=\"#e68540\" stroke=\"black\" d=\"M766.5,-989C766.5,-989 647.5,-989 647.5,-989 641.5,-989 635.5,-983 635.5,-977 635.5,-977 635.5,-933 635.5,-933 635.5,-927 641.5,-921 647.5,-921 647.5,-921 766.5,-921 766.5,-921 772.5,-921 778.5,-927 778.5,-933 778.5,-933 778.5,-977 778.5,-977 778.5,-983 772.5,-989 766.5,-989\"/>\n<text text-anchor=\"start\" x=\"652\" y=\"-973.8\" font-family=\"Helvetica,sans-Serif\" font-size=\"14.00\">onpromotion ≤ 2.5</text>\n<text text-anchor=\"start\" x=\"643.5\" y=\"-958.8\" font-family=\"Helvetica,sans-Serif\" font-size=\"14.00\">squared_error = 0.01</text>\n<text text-anchor=\"start\" x=\"651\" y=\"-943.8\" font-family=\"Helvetica,sans-Serif\" font-size=\"14.00\">samples = 438769</text>\n<text text-anchor=\"start\" x=\"669.5\" y=\"-928.8\" font-family=\"Helvetica,sans-Serif\" font-size=\"14.00\">value = 1.06</text>\n</g>\n<!-- 0&#45;&gt;2 -->\n<g id=\"edge28\" class=\"edge\">\n<title>0&#45;&gt;2</title>\n<path fill=\"none\" stroke=\"black\" d=\"M652.3,-1024.88C659.3,-1016.07 666.95,-1006.43 674.25,-997.24\"/>\n<polygon fill=\"black\" stroke=\"black\" points=\"677.08,-999.31 680.56,-989.3 671.6,-994.95 677.08,-999.31\"/>\n<text text-anchor=\"middle\" x=\"683.41\" y=\"-1010.44\" font-family=\"Helvetica,sans-Serif\" font-size=\"14.00\">False</text>\n</g>\n<!-- 3 -->\n<g id=\"node3\" class=\"node\">\n<title>3</title>\n<path fill=\"#f2c19e\" stroke=\"black\" d=\"M444.5,-885C444.5,-885 325.5,-885 325.5,-885 319.5,-885 313.5,-879 313.5,-873 313.5,-873 313.5,-829 313.5,-829 313.5,-823 319.5,-817 325.5,-817 325.5,-817 444.5,-817 444.5,-817 450.5,-817 456.5,-823 456.5,-829 456.5,-829 456.5,-873 456.5,-873 456.5,-879 450.5,-885 444.5,-885\"/>\n<text text-anchor=\"start\" x=\"335.5\" y=\"-869.8\" font-family=\"Helvetica,sans-Serif\" font-size=\"14.00\">store_nbr ≤ 43.5</text>\n<text text-anchor=\"start\" x=\"321.5\" y=\"-854.8\" font-family=\"Helvetica,sans-Serif\" font-size=\"14.00\">squared_error = 0.21</text>\n<text text-anchor=\"start\" x=\"325\" y=\"-839.8\" font-family=\"Helvetica,sans-Serif\" font-size=\"14.00\">samples = 2073513</text>\n<text text-anchor=\"start\" x=\"347.5\" y=\"-824.8\" font-family=\"Helvetica,sans-Serif\" font-size=\"14.00\">value = 0.54</text>\n</g>\n<!-- 1&#45;&gt;3 -->\n<g id=\"edge2\" class=\"edge\">\n<title>1&#45;&gt;3</title>\n<path fill=\"none\" stroke=\"black\" d=\"M493.73,-920.88C478.47,-911.21 461.65,-900.56 445.91,-890.59\"/>\n<polygon fill=\"black\" stroke=\"black\" points=\"447.61,-887.52 437.29,-885.12 443.86,-893.43 447.61,-887.52\"/>\n</g>\n<!-- 4 -->\n<g id=\"node24\" class=\"node\">\n<title>4</title>\n<path fill=\"#f9e3d2\" stroke=\"black\" d=\"M605.5,-885C605.5,-885 486.5,-885 486.5,-885 480.5,-885 474.5,-879 474.5,-873 474.5,-873 474.5,-829 474.5,-829 474.5,-823 480.5,-817 486.5,-817 486.5,-817 605.5,-817 605.5,-817 611.5,-817 617.5,-823 617.5,-829 617.5,-829 617.5,-873 617.5,-873 617.5,-879 611.5,-885 605.5,-885\"/>\n<text text-anchor=\"start\" x=\"496.5\" y=\"-869.8\" font-family=\"Helvetica,sans-Serif\" font-size=\"14.00\">store_nbr ≤ 52.5</text>\n<text text-anchor=\"start\" x=\"482.5\" y=\"-854.8\" font-family=\"Helvetica,sans-Serif\" font-size=\"14.00\">squared_error = 0.16</text>\n<text text-anchor=\"start\" x=\"490\" y=\"-839.8\" font-family=\"Helvetica,sans-Serif\" font-size=\"14.00\">samples = 128642</text>\n<text text-anchor=\"start\" x=\"508.5\" y=\"-824.8\" font-family=\"Helvetica,sans-Serif\" font-size=\"14.00\">value = 0.25</text>\n</g>\n<!-- 1&#45;&gt;4 -->\n<g id=\"edge23\" class=\"edge\">\n<title>1&#45;&gt;4</title>\n<path fill=\"none\" stroke=\"black\" d=\"M546,-920.88C546,-912.78 546,-903.98 546,-895.47\"/>\n<polygon fill=\"black\" stroke=\"black\" points=\"549.5,-895.3 546,-885.3 542.5,-895.3 549.5,-895.3\"/>\n</g>\n<!-- 5 -->\n<g id=\"node4\" class=\"node\">\n<title>5</title>\n<path fill=\"#f3c4a2\" stroke=\"black\" d=\"M289.5,-781C289.5,-781 170.5,-781 170.5,-781 164.5,-781 158.5,-775 158.5,-769 158.5,-769 158.5,-725 158.5,-725 158.5,-719 164.5,-713 170.5,-713 170.5,-713 289.5,-713 289.5,-713 295.5,-713 301.5,-719 301.5,-725 301.5,-725 301.5,-769 301.5,-769 301.5,-775 295.5,-781 289.5,-781\"/>\n<text text-anchor=\"start\" x=\"184.5\" y=\"-765.8\" font-family=\"Helvetica,sans-Serif\" font-size=\"14.00\">store_nbr ≤ 9.5</text>\n<text text-anchor=\"start\" x=\"166.5\" y=\"-750.8\" font-family=\"Helvetica,sans-Serif\" font-size=\"14.00\">squared_error = 0.21</text>\n<text text-anchor=\"start\" x=\"170\" y=\"-735.8\" font-family=\"Helvetica,sans-Serif\" font-size=\"14.00\">samples = 1767504</text>\n<text text-anchor=\"start\" x=\"192.5\" y=\"-720.8\" font-family=\"Helvetica,sans-Serif\" font-size=\"14.00\">value = 0.51</text>\n</g>\n<!-- 3&#45;&gt;5 -->\n<g id=\"edge3\" class=\"edge\">\n<title>3&#45;&gt;5</title>\n<path fill=\"none\" stroke=\"black\" d=\"M334.68,-816.88C320.12,-807.3 304.1,-796.76 289.06,-786.86\"/>\n<polygon fill=\"black\" stroke=\"black\" points=\"290.61,-783.7 280.34,-781.12 286.77,-789.55 290.61,-783.7\"/>\n</g>\n<!-- 6 -->\n<g id=\"node23\" class=\"node\">\n<title>6</title>\n<path fill=\"#efb287\" stroke=\"black\" d=\"M444,-773.5C444,-773.5 332,-773.5 332,-773.5 326,-773.5 320,-767.5 320,-761.5 320,-761.5 320,-732.5 320,-732.5 320,-726.5 326,-720.5 332,-720.5 332,-720.5 444,-720.5 444,-720.5 450,-720.5 456,-726.5 456,-732.5 456,-732.5 456,-761.5 456,-761.5 456,-767.5 450,-773.5 444,-773.5\"/>\n<text text-anchor=\"start\" x=\"328\" y=\"-758.3\" font-family=\"Helvetica,sans-Serif\" font-size=\"14.00\">squared_error = 0.2</text>\n<text text-anchor=\"start\" x=\"332\" y=\"-743.3\" font-family=\"Helvetica,sans-Serif\" font-size=\"14.00\">samples = 306009</text>\n<text text-anchor=\"start\" x=\"350.5\" y=\"-728.3\" font-family=\"Helvetica,sans-Serif\" font-size=\"14.00\">value = 0.67</text>\n</g>\n<!-- 3&#45;&gt;6 -->\n<g id=\"edge22\" class=\"edge\">\n<title>3&#45;&gt;6</title>\n<path fill=\"none\" stroke=\"black\" d=\"M385.97,-816.88C386.29,-806.22 386.64,-794.35 386.96,-783.52\"/>\n<polygon fill=\"black\" stroke=\"black\" points=\"390.45,-783.62 387.25,-773.52 383.46,-783.41 390.45,-783.62\"/>\n</g>\n<!-- 7 -->\n<g id=\"node5\" class=\"node\">\n<title>7</title>\n<path fill=\"#f0b68d\" stroke=\"black\" d=\"M284.5,-677C284.5,-677 165.5,-677 165.5,-677 159.5,-677 153.5,-671 153.5,-665 153.5,-665 153.5,-621 153.5,-621 153.5,-615 159.5,-609 165.5,-609 165.5,-609 284.5,-609 284.5,-609 290.5,-609 296.5,-615 296.5,-621 296.5,-621 296.5,-665 296.5,-665 296.5,-671 290.5,-677 284.5,-677\"/>\n<text text-anchor=\"start\" x=\"170.5\" y=\"-661.8\" font-family=\"Helvetica,sans-Serif\" font-size=\"14.00\">day_of_year ≤ 1.5</text>\n<text text-anchor=\"start\" x=\"161.5\" y=\"-646.8\" font-family=\"Helvetica,sans-Serif\" font-size=\"14.00\">squared_error = 0.19</text>\n<text text-anchor=\"start\" x=\"169\" y=\"-631.8\" font-family=\"Helvetica,sans-Serif\" font-size=\"14.00\">samples = 354131</text>\n<text text-anchor=\"start\" x=\"187.5\" y=\"-616.8\" font-family=\"Helvetica,sans-Serif\" font-size=\"14.00\">value = 0.63</text>\n</g>\n<!-- 5&#45;&gt;7 -->\n<g id=\"edge4\" class=\"edge\">\n<title>5&#45;&gt;7</title>\n<path fill=\"none\" stroke=\"black\" d=\"M228.38,-712.88C227.98,-704.78 227.55,-695.98 227.13,-687.47\"/>\n<polygon fill=\"black\" stroke=\"black\" points=\"230.62,-687.12 226.63,-677.3 223.63,-687.46 230.62,-687.12\"/>\n</g>\n<!-- 8 -->\n<g id=\"node8\" class=\"node\">\n<title>8</title>\n<path fill=\"#f4c8a8\" stroke=\"black\" d=\"M445.5,-677C445.5,-677 326.5,-677 326.5,-677 320.5,-677 314.5,-671 314.5,-665 314.5,-665 314.5,-621 314.5,-621 314.5,-615 320.5,-609 326.5,-609 326.5,-609 445.5,-609 445.5,-609 451.5,-609 457.5,-615 457.5,-621 457.5,-621 457.5,-665 457.5,-665 457.5,-671 451.5,-677 445.5,-677\"/>\n<text text-anchor=\"start\" x=\"336.5\" y=\"-661.8\" font-family=\"Helvetica,sans-Serif\" font-size=\"14.00\">store_nbr ≤ 41.5</text>\n<text text-anchor=\"start\" x=\"322.5\" y=\"-646.8\" font-family=\"Helvetica,sans-Serif\" font-size=\"14.00\">squared_error = 0.21</text>\n<text text-anchor=\"start\" x=\"326\" y=\"-631.8\" font-family=\"Helvetica,sans-Serif\" font-size=\"14.00\">samples = 1413373</text>\n<text text-anchor=\"start\" x=\"348.5\" y=\"-616.8\" font-family=\"Helvetica,sans-Serif\" font-size=\"14.00\">value = 0.48</text>\n</g>\n<!-- 5&#45;&gt;8 -->\n<g id=\"edge7\" class=\"edge\">\n<title>5&#45;&gt;8</title>\n<path fill=\"none\" stroke=\"black\" d=\"M280.65,-712.88C295.3,-703.3 311.42,-692.76 326.56,-682.86\"/>\n<polygon fill=\"black\" stroke=\"black\" points=\"328.88,-685.53 335.34,-677.12 325.05,-679.67 328.88,-685.53\"/>\n</g>\n<!-- 29 -->\n<g id=\"node6\" class=\"node\">\n<title>29</title>\n<path fill=\"#ffffff\" stroke=\"black\" d=\"M124,-565.5C124,-565.5 12,-565.5 12,-565.5 6,-565.5 0,-559.5 0,-553.5 0,-553.5 0,-524.5 0,-524.5 0,-518.5 6,-512.5 12,-512.5 12,-512.5 124,-512.5 124,-512.5 130,-512.5 136,-518.5 136,-524.5 136,-524.5 136,-553.5 136,-553.5 136,-559.5 130,-565.5 124,-565.5\"/>\n<text text-anchor=\"start\" x=\"8\" y=\"-550.3\" font-family=\"Helvetica,sans-Serif\" font-size=\"14.00\">squared_error = 0.0</text>\n<text text-anchor=\"start\" x=\"19.5\" y=\"-535.3\" font-family=\"Helvetica,sans-Serif\" font-size=\"14.00\">samples = 1188</text>\n<text text-anchor=\"start\" x=\"34.5\" y=\"-520.3\" font-family=\"Helvetica,sans-Serif\" font-size=\"14.00\">value = 0.0</text>\n</g>\n<!-- 7&#45;&gt;29 -->\n<g id=\"edge5\" class=\"edge\">\n<title>7&#45;&gt;29</title>\n<path fill=\"none\" stroke=\"black\" d=\"M174.03,-608.88C155.32,-596.73 134.23,-583.03 115.81,-571.06\"/>\n<polygon fill=\"black\" stroke=\"black\" points=\"117.57,-568.03 107.28,-565.52 113.76,-573.9 117.57,-568.03\"/>\n</g>\n<!-- 30 -->\n<g id=\"node7\" class=\"node\">\n<title>30</title>\n<path fill=\"#f0b68c\" stroke=\"black\" d=\"M285.5,-565.5C285.5,-565.5 166.5,-565.5 166.5,-565.5 160.5,-565.5 154.5,-559.5 154.5,-553.5 154.5,-553.5 154.5,-524.5 154.5,-524.5 154.5,-518.5 160.5,-512.5 166.5,-512.5 166.5,-512.5 285.5,-512.5 285.5,-512.5 291.5,-512.5 297.5,-518.5 297.5,-524.5 297.5,-524.5 297.5,-553.5 297.5,-553.5 297.5,-559.5 291.5,-565.5 285.5,-565.5\"/>\n<text text-anchor=\"start\" x=\"162.5\" y=\"-550.3\" font-family=\"Helvetica,sans-Serif\" font-size=\"14.00\">squared_error = 0.19</text>\n<text text-anchor=\"start\" x=\"170\" y=\"-535.3\" font-family=\"Helvetica,sans-Serif\" font-size=\"14.00\">samples = 352943</text>\n<text text-anchor=\"start\" x=\"188.5\" y=\"-520.3\" font-family=\"Helvetica,sans-Serif\" font-size=\"14.00\">value = 0.64</text>\n</g>\n<!-- 7&#45;&gt;30 -->\n<g id=\"edge6\" class=\"edge\">\n<title>7&#45;&gt;30</title>\n<path fill=\"none\" stroke=\"black\" d=\"M225.32,-608.88C225.43,-598.33 225.54,-586.6 225.65,-575.85\"/>\n<polygon fill=\"black\" stroke=\"black\" points=\"229.15,-575.55 225.75,-565.52 222.15,-575.49 229.15,-575.55\"/>\n</g>\n<!-- 11 -->\n<g id=\"node9\" class=\"node\">\n<title>11</title>\n<path fill=\"#f3c7a6\" stroke=\"black\" d=\"M441,-573C441,-573 329,-573 329,-573 323,-573 317,-567 317,-561 317,-561 317,-517 317,-517 317,-511 323,-505 329,-505 329,-505 441,-505 441,-505 447,-505 453,-511 453,-517 453,-517 453,-561 453,-561 453,-567 447,-573 441,-573\"/>\n<text text-anchor=\"start\" x=\"335.5\" y=\"-557.8\" font-family=\"Helvetica,sans-Serif\" font-size=\"14.00\">store_nbr ≤ 36.5</text>\n<text text-anchor=\"start\" x=\"325\" y=\"-542.8\" font-family=\"Helvetica,sans-Serif\" font-size=\"14.00\">squared_error = 0.2</text>\n<text text-anchor=\"start\" x=\"325\" y=\"-527.8\" font-family=\"Helvetica,sans-Serif\" font-size=\"14.00\">samples = 1327362</text>\n<text text-anchor=\"start\" x=\"347.5\" y=\"-512.8\" font-family=\"Helvetica,sans-Serif\" font-size=\"14.00\">value = 0.49</text>\n</g>\n<!-- 8&#45;&gt;11 -->\n<g id=\"edge8\" class=\"edge\">\n<title>8&#45;&gt;11</title>\n<path fill=\"none\" stroke=\"black\" d=\"M385.68,-608.88C385.6,-600.78 385.51,-591.98 385.43,-583.47\"/>\n<polygon fill=\"black\" stroke=\"black\" points=\"388.92,-583.26 385.33,-573.3 381.92,-583.33 388.92,-583.26\"/>\n</g>\n<!-- 12 -->\n<g id=\"node20\" class=\"node\">\n<title>12</title>\n<path fill=\"#f7d8c2\" stroke=\"black\" d=\"M602,-573C602,-573 490,-573 490,-573 484,-573 478,-567 478,-561 478,-561 478,-517 478,-517 478,-511 484,-505 490,-505 490,-505 602,-505 602,-505 608,-505 614,-511 614,-517 614,-517 614,-561 614,-561 614,-567 608,-573 602,-573\"/>\n<text text-anchor=\"start\" x=\"496.5\" y=\"-557.8\" font-family=\"Helvetica,sans-Serif\" font-size=\"14.00\">store_nbr ≤ 42.5</text>\n<text text-anchor=\"start\" x=\"486\" y=\"-542.8\" font-family=\"Helvetica,sans-Serif\" font-size=\"14.00\">squared_error = 0.2</text>\n<text text-anchor=\"start\" x=\"493.5\" y=\"-527.8\" font-family=\"Helvetica,sans-Serif\" font-size=\"14.00\">samples = 86011</text>\n<text text-anchor=\"start\" x=\"508.5\" y=\"-512.8\" font-family=\"Helvetica,sans-Serif\" font-size=\"14.00\">value = 0.34</text>\n</g>\n<!-- 8&#45;&gt;12 -->\n<g id=\"edge19\" class=\"edge\">\n<title>8&#45;&gt;12</title>\n<path fill=\"none\" stroke=\"black\" d=\"M437.95,-608.88C453.11,-599.21 469.82,-588.56 485.47,-578.59\"/>\n<polygon fill=\"black\" stroke=\"black\" points=\"487.49,-581.45 494.04,-573.12 483.73,-575.55 487.49,-581.45\"/>\n</g>\n<!-- 13 -->\n<g id=\"node10\" class=\"node\">\n<title>13</title>\n<path fill=\"#f4c9aa\" stroke=\"black\" d=\"M283,-469C283,-469 171,-469 171,-469 165,-469 159,-463 159,-457 159,-457 159,-413 159,-413 159,-407 165,-401 171,-401 171,-401 283,-401 283,-401 289,-401 295,-407 295,-413 295,-413 295,-457 295,-457 295,-463 289,-469 283,-469\"/>\n<text text-anchor=\"start\" x=\"177.5\" y=\"-453.8\" font-family=\"Helvetica,sans-Serif\" font-size=\"14.00\">store_nbr ≤ 19.5</text>\n<text text-anchor=\"start\" x=\"167\" y=\"-438.8\" font-family=\"Helvetica,sans-Serif\" font-size=\"14.00\">squared_error = 0.2</text>\n<text text-anchor=\"start\" x=\"167\" y=\"-423.8\" font-family=\"Helvetica,sans-Serif\" font-size=\"14.00\">samples = 1128398</text>\n<text text-anchor=\"start\" x=\"189.5\" y=\"-408.8\" font-family=\"Helvetica,sans-Serif\" font-size=\"14.00\">value = 0.47</text>\n</g>\n<!-- 11&#45;&gt;13 -->\n<g id=\"edge9\" class=\"edge\">\n<title>11&#45;&gt;13</title>\n<path fill=\"none\" stroke=\"black\" d=\"M333.7,-504.88C318.72,-495.21 302.23,-484.56 286.77,-474.59\"/>\n<polygon fill=\"black\" stroke=\"black\" points=\"288.61,-471.61 278.31,-469.12 284.81,-477.49 288.61,-471.61\"/>\n</g>\n<!-- 14 -->\n<g id=\"node19\" class=\"node\">\n<title>14</title>\n<path fill=\"#f1ba93\" stroke=\"black\" d=\"M444.5,-461.5C444.5,-461.5 325.5,-461.5 325.5,-461.5 319.5,-461.5 313.5,-455.5 313.5,-449.5 313.5,-449.5 313.5,-420.5 313.5,-420.5 313.5,-414.5 319.5,-408.5 325.5,-408.5 325.5,-408.5 444.5,-408.5 444.5,-408.5 450.5,-408.5 456.5,-414.5 456.5,-420.5 456.5,-420.5 456.5,-449.5 456.5,-449.5 456.5,-455.5 450.5,-461.5 444.5,-461.5\"/>\n<text text-anchor=\"start\" x=\"321.5\" y=\"-446.3\" font-family=\"Helvetica,sans-Serif\" font-size=\"14.00\">squared_error = 0.19</text>\n<text text-anchor=\"start\" x=\"329\" y=\"-431.3\" font-family=\"Helvetica,sans-Serif\" font-size=\"14.00\">samples = 198964</text>\n<text text-anchor=\"start\" x=\"351.5\" y=\"-416.3\" font-family=\"Helvetica,sans-Serif\" font-size=\"14.00\">value = 0.6</text>\n</g>\n<!-- 11&#45;&gt;14 -->\n<g id=\"edge18\" class=\"edge\">\n<title>11&#45;&gt;14</title>\n<path fill=\"none\" stroke=\"black\" d=\"M385,-504.88C385,-494.33 385,-482.6 385,-471.85\"/>\n<polygon fill=\"black\" stroke=\"black\" points=\"388.5,-471.52 385,-461.52 381.5,-471.52 388.5,-471.52\"/>\n</g>\n<!-- 17 -->\n<g id=\"node11\" class=\"node\">\n<title>17</title>\n<path fill=\"#f2c2a0\" stroke=\"black\" d=\"M206,-357.5C206,-357.5 94,-357.5 94,-357.5 88,-357.5 82,-351.5 82,-345.5 82,-345.5 82,-316.5 82,-316.5 82,-310.5 88,-304.5 94,-304.5 94,-304.5 206,-304.5 206,-304.5 212,-304.5 218,-310.5 218,-316.5 218,-316.5 218,-345.5 218,-345.5 218,-351.5 212,-357.5 206,-357.5\"/>\n<text text-anchor=\"start\" x=\"90\" y=\"-342.3\" font-family=\"Helvetica,sans-Serif\" font-size=\"14.00\">squared_error = 0.2</text>\n<text text-anchor=\"start\" x=\"94\" y=\"-327.3\" font-family=\"Helvetica,sans-Serif\" font-size=\"14.00\">samples = 424227</text>\n<text text-anchor=\"start\" x=\"112.5\" y=\"-312.3\" font-family=\"Helvetica,sans-Serif\" font-size=\"14.00\">value = 0.53</text>\n</g>\n<!-- 13&#45;&gt;17 -->\n<g id=\"edge10\" class=\"edge\">\n<title>13&#45;&gt;17</title>\n<path fill=\"none\" stroke=\"black\" d=\"M202,-400.88C193.45,-389.56 183.88,-376.88 175.3,-365.52\"/>\n<polygon fill=\"black\" stroke=\"black\" points=\"178.08,-363.39 169.27,-357.52 172.5,-367.61 178.08,-363.39\"/>\n</g>\n<!-- 18 -->\n<g id=\"node12\" class=\"node\">\n<title>18</title>\n<path fill=\"#f5ccb0\" stroke=\"black\" d=\"M360,-365C360,-365 248,-365 248,-365 242,-365 236,-359 236,-353 236,-353 236,-309 236,-309 236,-303 242,-297 248,-297 248,-297 360,-297 360,-297 366,-297 372,-303 372,-309 372,-309 372,-353 372,-353 372,-359 366,-365 360,-365\"/>\n<text text-anchor=\"start\" x=\"254.5\" y=\"-349.8\" font-family=\"Helvetica,sans-Serif\" font-size=\"14.00\">store_nbr ≤ 22.5</text>\n<text text-anchor=\"start\" x=\"244\" y=\"-334.8\" font-family=\"Helvetica,sans-Serif\" font-size=\"14.00\">squared_error = 0.2</text>\n<text text-anchor=\"start\" x=\"248\" y=\"-319.8\" font-family=\"Helvetica,sans-Serif\" font-size=\"14.00\">samples = 704171</text>\n<text text-anchor=\"start\" x=\"266.5\" y=\"-304.8\" font-family=\"Helvetica,sans-Serif\" font-size=\"14.00\">value = 0.44</text>\n</g>\n<!-- 13&#45;&gt;18 -->\n<g id=\"edge11\" class=\"edge\">\n<title>13&#45;&gt;18</title>\n<path fill=\"none\" stroke=\"black\" d=\"M252,-400.88C258.59,-392.15 265.78,-382.62 272.66,-373.51\"/>\n<polygon fill=\"black\" stroke=\"black\" points=\"275.63,-375.39 278.86,-365.3 270.04,-371.17 275.63,-375.39\"/>\n</g>\n<!-- 19 -->\n<g id=\"node13\" class=\"node\">\n<title>19</title>\n<path fill=\"#fbeadf\" stroke=\"black\" d=\"M284.5,-253.5C284.5,-253.5 165.5,-253.5 165.5,-253.5 159.5,-253.5 153.5,-247.5 153.5,-241.5 153.5,-241.5 153.5,-212.5 153.5,-212.5 153.5,-206.5 159.5,-200.5 165.5,-200.5 165.5,-200.5 284.5,-200.5 284.5,-200.5 290.5,-200.5 296.5,-206.5 296.5,-212.5 296.5,-212.5 296.5,-241.5 296.5,-241.5 296.5,-247.5 290.5,-253.5 284.5,-253.5\"/>\n<text text-anchor=\"start\" x=\"161.5\" y=\"-238.3\" font-family=\"Helvetica,sans-Serif\" font-size=\"14.00\">squared_error = 0.12</text>\n<text text-anchor=\"start\" x=\"169\" y=\"-223.3\" font-family=\"Helvetica,sans-Serif\" font-size=\"14.00\">samples = 129753</text>\n<text text-anchor=\"start\" x=\"187.5\" y=\"-208.3\" font-family=\"Helvetica,sans-Serif\" font-size=\"14.00\">value = 0.18</text>\n</g>\n<!-- 18&#45;&gt;19 -->\n<g id=\"edge12\" class=\"edge\">\n<title>18&#45;&gt;19</title>\n<path fill=\"none\" stroke=\"black\" d=\"M278.35,-296.88C269.58,-285.56 259.76,-272.88 250.96,-261.52\"/>\n<polygon fill=\"black\" stroke=\"black\" points=\"253.66,-259.28 244.77,-253.52 248.12,-263.57 253.66,-259.28\"/>\n</g>\n<!-- 20 -->\n<g id=\"node14\" class=\"node\">\n<title>20</title>\n<path fill=\"#f3c6a5\" stroke=\"black\" d=\"M439,-261C439,-261 327,-261 327,-261 321,-261 315,-255 315,-249 315,-249 315,-205 315,-205 315,-199 321,-193 327,-193 327,-193 439,-193 439,-193 445,-193 451,-199 451,-205 451,-205 451,-249 451,-249 451,-255 445,-261 439,-261\"/>\n<text text-anchor=\"start\" x=\"333.5\" y=\"-245.8\" font-family=\"Helvetica,sans-Serif\" font-size=\"14.00\">store_nbr ≤ 28.5</text>\n<text text-anchor=\"start\" x=\"323\" y=\"-230.8\" font-family=\"Helvetica,sans-Serif\" font-size=\"14.00\">squared_error = 0.2</text>\n<text text-anchor=\"start\" x=\"327\" y=\"-215.8\" font-family=\"Helvetica,sans-Serif\" font-size=\"14.00\">samples = 574418</text>\n<text text-anchor=\"start\" x=\"349.5\" y=\"-200.8\" font-family=\"Helvetica,sans-Serif\" font-size=\"14.00\">value = 0.5</text>\n</g>\n<!-- 18&#45;&gt;20 -->\n<g id=\"edge13\" class=\"edge\">\n<title>18&#45;&gt;20</title>\n<path fill=\"none\" stroke=\"black\" d=\"M329.65,-296.88C336.48,-288.07 343.94,-278.43 351.06,-269.24\"/>\n<polygon fill=\"black\" stroke=\"black\" points=\"353.85,-271.35 357.21,-261.3 348.32,-267.06 353.85,-271.35\"/>\n</g>\n<!-- 21 -->\n<g id=\"node15\" class=\"node\">\n<title>21</title>\n<path fill=\"#f2c09b\" stroke=\"black\" d=\"M362,-149.5C362,-149.5 250,-149.5 250,-149.5 244,-149.5 238,-143.5 238,-137.5 238,-137.5 238,-108.5 238,-108.5 238,-102.5 244,-96.5 250,-96.5 250,-96.5 362,-96.5 362,-96.5 368,-96.5 374,-102.5 374,-108.5 374,-108.5 374,-137.5 374,-137.5 374,-143.5 368,-149.5 362,-149.5\"/>\n<text text-anchor=\"start\" x=\"246\" y=\"-134.3\" font-family=\"Helvetica,sans-Serif\" font-size=\"14.00\">squared_error = 0.2</text>\n<text text-anchor=\"start\" x=\"250\" y=\"-119.3\" font-family=\"Helvetica,sans-Serif\" font-size=\"14.00\">samples = 242100</text>\n<text text-anchor=\"start\" x=\"268.5\" y=\"-104.3\" font-family=\"Helvetica,sans-Serif\" font-size=\"14.00\">value = 0.55</text>\n</g>\n<!-- 20&#45;&gt;21 -->\n<g id=\"edge14\" class=\"edge\">\n<title>20&#45;&gt;21</title>\n<path fill=\"none\" stroke=\"black\" d=\"M358,-192.88C349.45,-181.56 339.88,-168.88 331.3,-157.52\"/>\n<polygon fill=\"black\" stroke=\"black\" points=\"334.08,-155.39 325.27,-149.52 328.5,-159.61 334.08,-155.39\"/>\n</g>\n<!-- 22 -->\n<g id=\"node16\" class=\"node\">\n<title>22</title>\n<path fill=\"#f4caac\" stroke=\"black\" d=\"M516,-157C516,-157 404,-157 404,-157 398,-157 392,-151 392,-145 392,-145 392,-101 392,-101 392,-95 398,-89 404,-89 404,-89 516,-89 516,-89 522,-89 528,-95 528,-101 528,-101 528,-145 528,-145 528,-151 522,-157 516,-157\"/>\n<text text-anchor=\"start\" x=\"410.5\" y=\"-141.8\" font-family=\"Helvetica,sans-Serif\" font-size=\"14.00\">store_nbr ≤ 29.5</text>\n<text text-anchor=\"start\" x=\"400\" y=\"-126.8\" font-family=\"Helvetica,sans-Serif\" font-size=\"14.00\">squared_error = 0.2</text>\n<text text-anchor=\"start\" x=\"404\" y=\"-111.8\" font-family=\"Helvetica,sans-Serif\" font-size=\"14.00\">samples = 332318</text>\n<text text-anchor=\"start\" x=\"422.5\" y=\"-96.8\" font-family=\"Helvetica,sans-Serif\" font-size=\"14.00\">value = 0.46</text>\n</g>\n<!-- 20&#45;&gt;22 -->\n<g id=\"edge15\" class=\"edge\">\n<title>20&#45;&gt;22</title>\n<path fill=\"none\" stroke=\"black\" d=\"M408,-192.88C414.59,-184.15 421.78,-174.62 428.66,-165.51\"/>\n<polygon fill=\"black\" stroke=\"black\" points=\"431.63,-167.39 434.86,-157.3 426.04,-163.17 431.63,-167.39\"/>\n</g>\n<!-- 23 -->\n<g id=\"node17\" class=\"node\">\n<title>23</title>\n<path fill=\"#fae7d9\" stroke=\"black\" d=\"M440.5,-53C440.5,-53 321.5,-53 321.5,-53 315.5,-53 309.5,-47 309.5,-41 309.5,-41 309.5,-12 309.5,-12 309.5,-6 315.5,0 321.5,0 321.5,0 440.5,0 440.5,0 446.5,0 452.5,-6 452.5,-12 452.5,-12 452.5,-41 452.5,-41 452.5,-47 446.5,-53 440.5,-53\"/>\n<text text-anchor=\"start\" x=\"317.5\" y=\"-37.8\" font-family=\"Helvetica,sans-Serif\" font-size=\"14.00\">squared_error = 0.14</text>\n<text text-anchor=\"start\" x=\"328.5\" y=\"-22.8\" font-family=\"Helvetica,sans-Serif\" font-size=\"14.00\">samples = 42419</text>\n<text text-anchor=\"start\" x=\"343.5\" y=\"-7.8\" font-family=\"Helvetica,sans-Serif\" font-size=\"14.00\">value = 0.21</text>\n</g>\n<!-- 22&#45;&gt;23 -->\n<g id=\"edge16\" class=\"edge\">\n<title>22&#45;&gt;23</title>\n<path fill=\"none\" stroke=\"black\" d=\"M432.37,-88.95C424.8,-79.89 416.59,-70.07 408.99,-60.99\"/>\n<polygon fill=\"black\" stroke=\"black\" points=\"411.61,-58.66 402.52,-53.24 406.24,-63.15 411.61,-58.66\"/>\n</g>\n<!-- 24 -->\n<g id=\"node18\" class=\"node\">\n<title>24</title>\n<path fill=\"#f3c6a5\" stroke=\"black\" d=\"M595,-53C595,-53 483,-53 483,-53 477,-53 471,-47 471,-41 471,-41 471,-12 471,-12 471,-6 477,0 483,0 483,0 595,0 595,0 601,0 607,-6 607,-12 607,-12 607,-41 607,-41 607,-47 601,-53 595,-53\"/>\n<text text-anchor=\"start\" x=\"479\" y=\"-37.8\" font-family=\"Helvetica,sans-Serif\" font-size=\"14.00\">squared_error = 0.2</text>\n<text text-anchor=\"start\" x=\"483\" y=\"-22.8\" font-family=\"Helvetica,sans-Serif\" font-size=\"14.00\">samples = 289899</text>\n<text text-anchor=\"start\" x=\"505.5\" y=\"-7.8\" font-family=\"Helvetica,sans-Serif\" font-size=\"14.00\">value = 0.5</text>\n</g>\n<!-- 22&#45;&gt;24 -->\n<g id=\"edge17\" class=\"edge\">\n<title>22&#45;&gt;24</title>\n<path fill=\"none\" stroke=\"black\" d=\"M487.63,-88.95C495.2,-79.89 503.41,-70.07 511.01,-60.99\"/>\n<polygon fill=\"black\" stroke=\"black\" points=\"513.76,-63.15 517.48,-53.24 508.39,-58.66 513.76,-63.15\"/>\n</g>\n<!-- 15 -->\n<g id=\"node21\" class=\"node\">\n<title>15</title>\n<path fill=\"#fbebe0\" stroke=\"black\" d=\"M605.5,-461.5C605.5,-461.5 486.5,-461.5 486.5,-461.5 480.5,-461.5 474.5,-455.5 474.5,-449.5 474.5,-449.5 474.5,-420.5 474.5,-420.5 474.5,-414.5 480.5,-408.5 486.5,-408.5 486.5,-408.5 605.5,-408.5 605.5,-408.5 611.5,-408.5 617.5,-414.5 617.5,-420.5 617.5,-420.5 617.5,-449.5 617.5,-449.5 617.5,-455.5 611.5,-461.5 605.5,-461.5\"/>\n<text text-anchor=\"start\" x=\"482.5\" y=\"-446.3\" font-family=\"Helvetica,sans-Serif\" font-size=\"14.00\">squared_error = 0.12</text>\n<text text-anchor=\"start\" x=\"493.5\" y=\"-431.3\" font-family=\"Helvetica,sans-Serif\" font-size=\"14.00\">samples = 43222</text>\n<text text-anchor=\"start\" x=\"508.5\" y=\"-416.3\" font-family=\"Helvetica,sans-Serif\" font-size=\"14.00\">value = 0.17</text>\n</g>\n<!-- 12&#45;&gt;15 -->\n<g id=\"edge20\" class=\"edge\">\n<title>12&#45;&gt;15</title>\n<path fill=\"none\" stroke=\"black\" d=\"M546,-504.88C546,-494.33 546,-482.6 546,-471.85\"/>\n<polygon fill=\"black\" stroke=\"black\" points=\"549.5,-471.52 546,-461.52 542.5,-471.52 549.5,-471.52\"/>\n</g>\n<!-- 16 -->\n<g id=\"node22\" class=\"node\">\n<title>16</title>\n<path fill=\"#f3c4a3\" stroke=\"black\" d=\"M766.5,-461.5C766.5,-461.5 647.5,-461.5 647.5,-461.5 641.5,-461.5 635.5,-455.5 635.5,-449.5 635.5,-449.5 635.5,-420.5 635.5,-420.5 635.5,-414.5 641.5,-408.5 647.5,-408.5 647.5,-408.5 766.5,-408.5 766.5,-408.5 772.5,-408.5 778.5,-414.5 778.5,-420.5 778.5,-420.5 778.5,-449.5 778.5,-449.5 778.5,-455.5 772.5,-461.5 766.5,-461.5\"/>\n<text text-anchor=\"start\" x=\"643.5\" y=\"-446.3\" font-family=\"Helvetica,sans-Serif\" font-size=\"14.00\">squared_error = 0.21</text>\n<text text-anchor=\"start\" x=\"654.5\" y=\"-431.3\" font-family=\"Helvetica,sans-Serif\" font-size=\"14.00\">samples = 42789</text>\n<text text-anchor=\"start\" x=\"669.5\" y=\"-416.3\" font-family=\"Helvetica,sans-Serif\" font-size=\"14.00\">value = 0.51</text>\n</g>\n<!-- 12&#45;&gt;16 -->\n<g id=\"edge21\" class=\"edge\">\n<title>12&#45;&gt;16</title>\n<path fill=\"none\" stroke=\"black\" d=\"M598.27,-504.88C617.54,-492.68 639.28,-478.9 658.23,-466.9\"/>\n<polygon fill=\"black\" stroke=\"black\" points=\"660.14,-469.83 666.72,-461.52 656.4,-463.92 660.14,-469.83\"/>\n</g>\n<!-- 9 -->\n<g id=\"node25\" class=\"node\">\n<title>9</title>\n<path fill=\"#ffffff\" stroke=\"black\" d=\"M600,-773.5C600,-773.5 488,-773.5 488,-773.5 482,-773.5 476,-767.5 476,-761.5 476,-761.5 476,-732.5 476,-732.5 476,-726.5 482,-720.5 488,-720.5 488,-720.5 600,-720.5 600,-720.5 606,-720.5 612,-726.5 612,-732.5 612,-732.5 612,-761.5 612,-761.5 612,-767.5 606,-773.5 600,-773.5\"/>\n<text text-anchor=\"start\" x=\"484\" y=\"-758.3\" font-family=\"Helvetica,sans-Serif\" font-size=\"14.00\">squared_error = 0.0</text>\n<text text-anchor=\"start\" x=\"491.5\" y=\"-743.3\" font-family=\"Helvetica,sans-Serif\" font-size=\"14.00\">samples = 48906</text>\n<text text-anchor=\"start\" x=\"510.5\" y=\"-728.3\" font-family=\"Helvetica,sans-Serif\" font-size=\"14.00\">value = 0.0</text>\n</g>\n<!-- 4&#45;&gt;9 -->\n<g id=\"edge24\" class=\"edge\">\n<title>4&#45;&gt;9</title>\n<path fill=\"none\" stroke=\"black\" d=\"M545.35,-816.88C545.14,-806.22 544.91,-794.35 544.7,-783.52\"/>\n<polygon fill=\"black\" stroke=\"black\" points=\"548.2,-783.45 544.5,-773.52 541.2,-783.59 548.2,-783.45\"/>\n</g>\n<!-- 10 -->\n<g id=\"node26\" class=\"node\">\n<title>10</title>\n<path fill=\"#f6d1b7\" stroke=\"black\" d=\"M761.5,-781C761.5,-781 642.5,-781 642.5,-781 636.5,-781 630.5,-775 630.5,-769 630.5,-769 630.5,-725 630.5,-725 630.5,-719 636.5,-713 642.5,-713 642.5,-713 761.5,-713 761.5,-713 767.5,-713 773.5,-719 773.5,-725 773.5,-725 773.5,-769 773.5,-769 773.5,-775 767.5,-781 761.5,-781\"/>\n<text text-anchor=\"start\" x=\"652.5\" y=\"-765.8\" font-family=\"Helvetica,sans-Serif\" font-size=\"14.00\">store_nbr ≤ 53.5</text>\n<text text-anchor=\"start\" x=\"638.5\" y=\"-750.8\" font-family=\"Helvetica,sans-Serif\" font-size=\"14.00\">squared_error = 0.19</text>\n<text text-anchor=\"start\" x=\"649.5\" y=\"-735.8\" font-family=\"Helvetica,sans-Serif\" font-size=\"14.00\">samples = 79736</text>\n<text text-anchor=\"start\" x=\"668.5\" y=\"-720.8\" font-family=\"Helvetica,sans-Serif\" font-size=\"14.00\">value = 0.4</text>\n</g>\n<!-- 4&#45;&gt;10 -->\n<g id=\"edge25\" class=\"edge\">\n<title>4&#45;&gt;10</title>\n<path fill=\"none\" stroke=\"black\" d=\"M596.65,-816.88C611.3,-807.3 627.42,-796.76 642.56,-786.86\"/>\n<polygon fill=\"black\" stroke=\"black\" points=\"644.88,-789.53 651.34,-781.12 641.05,-783.67 644.88,-789.53\"/>\n</g>\n<!-- 27 -->\n<g id=\"node27\" class=\"node\">\n<title>27</title>\n<path fill=\"#f7dbc6\" stroke=\"black\" d=\"M683.5,-669.5C683.5,-669.5 564.5,-669.5 564.5,-669.5 558.5,-669.5 552.5,-663.5 552.5,-657.5 552.5,-657.5 552.5,-628.5 552.5,-628.5 552.5,-622.5 558.5,-616.5 564.5,-616.5 564.5,-616.5 683.5,-616.5 683.5,-616.5 689.5,-616.5 695.5,-622.5 695.5,-628.5 695.5,-628.5 695.5,-657.5 695.5,-657.5 695.5,-663.5 689.5,-669.5 683.5,-669.5\"/>\n<text text-anchor=\"start\" x=\"560.5\" y=\"-654.3\" font-family=\"Helvetica,sans-Serif\" font-size=\"14.00\">squared_error = 0.17</text>\n<text text-anchor=\"start\" x=\"571.5\" y=\"-639.3\" font-family=\"Helvetica,sans-Serif\" font-size=\"14.00\">samples = 39003</text>\n<text text-anchor=\"start\" x=\"586.5\" y=\"-624.3\" font-family=\"Helvetica,sans-Serif\" font-size=\"14.00\">value = 0.32</text>\n</g>\n<!-- 10&#45;&gt;27 -->\n<g id=\"edge26\" class=\"edge\">\n<title>10&#45;&gt;27</title>\n<path fill=\"none\" stroke=\"black\" d=\"M676.68,-712.88C668.01,-701.56 658.32,-688.88 649.63,-677.52\"/>\n<polygon fill=\"black\" stroke=\"black\" points=\"652.37,-675.34 643.52,-669.52 646.81,-679.59 652.37,-675.34\"/>\n</g>\n<!-- 28 -->\n<g id=\"node28\" class=\"node\">\n<title>28</title>\n<path fill=\"#f4c8a9\" stroke=\"black\" d=\"M838,-669.5C838,-669.5 726,-669.5 726,-669.5 720,-669.5 714,-663.5 714,-657.5 714,-657.5 714,-628.5 714,-628.5 714,-622.5 720,-616.5 726,-616.5 726,-616.5 838,-616.5 838,-616.5 844,-616.5 850,-622.5 850,-628.5 850,-628.5 850,-657.5 850,-657.5 850,-663.5 844,-669.5 838,-669.5\"/>\n<text text-anchor=\"start\" x=\"722\" y=\"-654.3\" font-family=\"Helvetica,sans-Serif\" font-size=\"14.00\">squared_error = 0.2</text>\n<text text-anchor=\"start\" x=\"729.5\" y=\"-639.3\" font-family=\"Helvetica,sans-Serif\" font-size=\"14.00\">samples = 40733</text>\n<text text-anchor=\"start\" x=\"744.5\" y=\"-624.3\" font-family=\"Helvetica,sans-Serif\" font-size=\"14.00\">value = 0.48</text>\n</g>\n<!-- 10&#45;&gt;28 -->\n<g id=\"edge27\" class=\"edge\">\n<title>10&#45;&gt;28</title>\n<path fill=\"none\" stroke=\"black\" d=\"M727.97,-712.88C736.86,-701.56 746.8,-688.88 755.71,-677.52\"/>\n<polygon fill=\"black\" stroke=\"black\" points=\"758.57,-679.55 761.98,-669.52 753.06,-675.23 758.57,-679.55\"/>\n</g>\n<!-- 25 -->\n<g id=\"node30\" class=\"node\">\n<title>25</title>\n<path fill=\"#e78a48\" stroke=\"black\" d=\"M766.5,-877.5C766.5,-877.5 647.5,-877.5 647.5,-877.5 641.5,-877.5 635.5,-871.5 635.5,-865.5 635.5,-865.5 635.5,-836.5 635.5,-836.5 635.5,-830.5 641.5,-824.5 647.5,-824.5 647.5,-824.5 766.5,-824.5 766.5,-824.5 772.5,-824.5 778.5,-830.5 778.5,-836.5 778.5,-836.5 778.5,-865.5 778.5,-865.5 778.5,-871.5 772.5,-877.5 766.5,-877.5\"/>\n<text text-anchor=\"start\" x=\"643.5\" y=\"-862.3\" font-family=\"Helvetica,sans-Serif\" font-size=\"14.00\">squared_error = 0.02</text>\n<text text-anchor=\"start\" x=\"651\" y=\"-847.3\" font-family=\"Helvetica,sans-Serif\" font-size=\"14.00\">samples = 203126</text>\n<text text-anchor=\"start\" x=\"669.5\" y=\"-832.3\" font-family=\"Helvetica,sans-Serif\" font-size=\"14.00\">value = 1.02</text>\n</g>\n<!-- 2&#45;&gt;25 -->\n<g id=\"edge29\" class=\"edge\">\n<title>2&#45;&gt;25</title>\n<path fill=\"none\" stroke=\"black\" d=\"M707,-920.88C707,-910.33 707,-898.6 707,-887.85\"/>\n<polygon fill=\"black\" stroke=\"black\" points=\"710.5,-887.52 707,-877.52 703.5,-887.52 710.5,-887.52\"/>\n</g>\n<!-- 26 -->\n<g id=\"node31\" class=\"node\">\n<title>26</title>\n<path fill=\"#e58139\" stroke=\"black\" d=\"M927.5,-877.5C927.5,-877.5 808.5,-877.5 808.5,-877.5 802.5,-877.5 796.5,-871.5 796.5,-865.5 796.5,-865.5 796.5,-836.5 796.5,-836.5 796.5,-830.5 802.5,-824.5 808.5,-824.5 808.5,-824.5 927.5,-824.5 927.5,-824.5 933.5,-824.5 939.5,-830.5 939.5,-836.5 939.5,-836.5 939.5,-865.5 939.5,-865.5 939.5,-871.5 933.5,-877.5 927.5,-877.5\"/>\n<text text-anchor=\"start\" x=\"804.5\" y=\"-862.3\" font-family=\"Helvetica,sans-Serif\" font-size=\"14.00\">squared_error = 0.01</text>\n<text text-anchor=\"start\" x=\"812\" y=\"-847.3\" font-family=\"Helvetica,sans-Serif\" font-size=\"14.00\">samples = 235643</text>\n<text text-anchor=\"start\" x=\"834.5\" y=\"-832.3\" font-family=\"Helvetica,sans-Serif\" font-size=\"14.00\">value = 1.1</text>\n</g>\n<!-- 2&#45;&gt;26 -->\n<g id=\"edge30\" class=\"edge\">\n<title>2&#45;&gt;26</title>\n<path fill=\"none\" stroke=\"black\" d=\"M759.27,-920.88C778.54,-908.68 800.28,-894.9 819.23,-882.9\"/>\n<polygon fill=\"black\" stroke=\"black\" points=\"821.14,-885.83 827.72,-877.52 817.4,-879.92 821.14,-885.83\"/>\n</g>\n</g>\n</svg>\n",
            "text/plain": [
              "<graphviz.sources.Source at 0x7cde6c0bd8d0>"
            ]
          },
          "metadata": {},
          "execution_count": 27
        }
      ]
    },
    {
      "cell_type": "code",
      "source": [
        "y_pred = model.predict(x_val)\n",
        "rmsle = root_mean_squared_log_error(y_val, y_pred)\n",
        "print(f\"RMSLE: {rmsle}\")"
      ],
      "metadata": {
        "colab": {
          "base_uri": "https://localhost:8080/"
        },
        "id": "jrMPGl6AetOb",
        "outputId": "9f947c25-5e2e-40cf-b6c4-c468cd9e132e"
      },
      "execution_count": 28,
      "outputs": [
        {
          "output_type": "stream",
          "name": "stdout",
          "text": [
            "RMSLE: 0.2097042766921296\n"
          ]
        }
      ]
    },
    {
      "cell_type": "markdown",
      "source": [
        "Conclusion: removing the year does improve the RMSLE"
      ],
      "metadata": {
        "id": "rgTBC9BKfPal"
      }
    },
    {
      "cell_type": "markdown",
      "source": [
        "### Hypothesis: Need to run some coefficent calcs and imortance calcs."
      ],
      "metadata": {
        "id": "77-QxnjrcvO_"
      }
    },
    {
      "cell_type": "code",
      "source": [
        "importances = model.feature_importances_\n",
        "feature_importance_df = pd.DataFrame({'Feature': x_train.columns, 'Importance': importances})\n",
        "feature_importance_df = feature_importance_df.sort_values(by='Importance', ascending=False)\n",
        "\n",
        "print(feature_importance_df)"
      ],
      "metadata": {
        "colab": {
          "base_uri": "https://localhost:8080/"
        },
        "id": "Z0_ezCXFfU0D",
        "outputId": "4d940123-eff6-48d8-f604-298b6347ed7b"
      },
      "execution_count": 29,
      "outputs": [
        {
          "output_type": "stream",
          "name": "stdout",
          "text": [
            "             Feature  Importance\n",
            "1        onpromotion    0.672278\n",
            "0          store_nbr    0.324727\n",
            "7        day_of_year    0.002995\n",
            "2         date_event    0.000000\n",
            "3  date_event_locale    0.000000\n",
            "4        day_of_week    0.000000\n",
            "5              month    0.000000\n",
            "6       day_of_month    0.000000\n",
            "8    quarter_of_year    0.000000\n",
            "9         is_weekend    0.000000\n"
          ]
        }
      ]
    },
    {
      "cell_type": "markdown",
      "source": [
        "Given these importance readings, we could grow the tree for more insights. A pearson correlation could work too."
      ],
      "metadata": {
        "id": "nNioFPWciiIx"
      }
    },
    {
      "cell_type": "code",
      "source": [
        "x_train = train_df.drop(columns=[\"id\", \"date\", \"year\"])\n",
        "\n",
        "correlations = x_train.corr()['sales']\n",
        "print(correlations)"
      ],
      "metadata": {
        "colab": {
          "base_uri": "https://localhost:8080/"
        },
        "id": "7NeE7m1_jGBd",
        "outputId": "4f164d33-e172-4b16-da23-7bb7fe3b54fa"
      },
      "execution_count": 30,
      "outputs": [
        {
          "output_type": "stream",
          "name": "stdout",
          "text": [
            "store_nbr           -0.035124\n",
            "family              -0.035717\n",
            "sales                1.000000\n",
            "onpromotion          0.195420\n",
            "date_event          -0.030947\n",
            "date_event_locale   -0.016235\n",
            "day_of_week          0.014141\n",
            "month                0.075663\n",
            "day_of_month         0.003067\n",
            "day_of_year          0.076155\n",
            "quarter_of_year      0.073056\n",
            "is_weekend           0.020491\n",
            "Name: sales, dtype: float64\n"
          ]
        }
      ]
    },
    {
      "cell_type": "markdown",
      "source": [
        "Seems store_nbr, family, date_event, date_event_locale, day_of_week, and is_weekend can be dropped with little issue."
      ],
      "metadata": {
        "id": "DhIqwiZTeQ-v"
      }
    },
    {
      "cell_type": "code",
      "source": [
        "dep_var = \"sales\"\n",
        "val_df[dep_var] = np.log1p(val_df[dep_var])\n",
        "train_df[dep_var] = np.log1p(train_df[dep_var])\n",
        "\n",
        "y_train = train_df[dep_var]\n",
        "x_train = train_df.drop(columns=[dep_var, \"id\", \"date\", \"family\", \"year\", \"store_nbr\", \"date_event\", \"date_event_locale\", \"day_of_week\", \"is_weekend\"])\n",
        "indep_vars = x_train.columns.tolist()\n",
        "\n",
        "y_val = val_df[dep_var]\n",
        "x_val = val_df.drop(columns=[dep_var, \"id\", \"date\", \"family\", \"year\", \"store_nbr\", \"date_event\", \"date_event_locale\", \"day_of_week\", \"is_weekend\"])\n",
        "\n",
        "model = DecisionTreeRegressor(max_leaf_nodes=16)\n",
        "model.fit(x_train, y_train)\n",
        "\n",
        "draw_tree(model, x_train, size=20)"
      ],
      "metadata": {
        "colab": {
          "base_uri": "https://localhost:8080/",
          "height": 1000
        },
        "id": "DFFM4zwgeeMD",
        "outputId": "83b74cc9-67fd-4877-d373-c76140e50c28"
      },
      "execution_count": 31,
      "outputs": [
        {
          "output_type": "stream",
          "name": "stderr",
          "text": [
            "<ipython-input-31-76f38907dceb>:2: SettingWithCopyWarning: \n",
            "A value is trying to be set on a copy of a slice from a DataFrame.\n",
            "Try using .loc[row_indexer,col_indexer] = value instead\n",
            "\n",
            "See the caveats in the documentation: https://pandas.pydata.org/pandas-docs/stable/user_guide/indexing.html#returning-a-view-versus-a-copy\n",
            "  val_df[dep_var] = np.log1p(val_df[dep_var])\n",
            "<ipython-input-31-76f38907dceb>:3: SettingWithCopyWarning: \n",
            "A value is trying to be set on a copy of a slice from a DataFrame.\n",
            "Try using .loc[row_indexer,col_indexer] = value instead\n",
            "\n",
            "See the caveats in the documentation: https://pandas.pydata.org/pandas-docs/stable/user_guide/indexing.html#returning-a-view-versus-a-copy\n",
            "  train_df[dep_var] = np.log1p(train_df[dep_var])\n"
          ]
        },
        {
          "output_type": "execute_result",
          "data": {
            "image/svg+xml": "<?xml version=\"1.0\" encoding=\"UTF-8\" standalone=\"no\"?>\n<!DOCTYPE svg PUBLIC \"-//W3C//DTD SVG 1.1//EN\"\n \"http://www.w3.org/Graphics/SVG/1.1/DTD/svg11.dtd\">\n<!-- Generated by graphviz version 2.43.0 (0)\n -->\n<!-- Title: Tree Pages: 1 -->\n<svg width=\"1638pt\" height=\"789pt\"\n viewBox=\"0.00 0.00 1638.00 789.00\" xmlns=\"http://www.w3.org/2000/svg\" xmlns:xlink=\"http://www.w3.org/1999/xlink\">\n<g id=\"graph0\" class=\"graph\" transform=\"scale(1 1) rotate(0) translate(4 785)\">\n<title>Tree</title>\n<polygon fill=\"white\" stroke=\"transparent\" points=\"-4,4 -4,-785 1634,-785 1634,4 -4,4\"/>\n<!-- 0 -->\n<g id=\"node1\" class=\"node\">\n<title>0</title>\n<path fill=\"#f0b890\" stroke=\"black\" d=\"M1072,-781C1072,-781 960,-781 960,-781 954,-781 948,-775 948,-769 948,-769 948,-725 948,-725 948,-719 954,-713 960,-713 960,-713 1072,-713 1072,-713 1078,-713 1084,-719 1084,-725 1084,-725 1084,-769 1084,-769 1084,-775 1078,-781 1072,-781\"/>\n<text text-anchor=\"start\" x=\"961\" y=\"-765.8\" font-family=\"Helvetica,sans-Serif\" font-size=\"14.00\">onpromotion ≤ 0.5</text>\n<text text-anchor=\"start\" x=\"956\" y=\"-750.8\" font-family=\"Helvetica,sans-Serif\" font-size=\"14.00\">squared_error = 0.1</text>\n<text text-anchor=\"start\" x=\"956\" y=\"-735.8\" font-family=\"Helvetica,sans-Serif\" font-size=\"14.00\">samples = 2640924</text>\n<text text-anchor=\"start\" x=\"978.5\" y=\"-720.8\" font-family=\"Helvetica,sans-Serif\" font-size=\"14.00\">value = 0.43</text>\n</g>\n<!-- 1 -->\n<g id=\"node2\" class=\"node\">\n<title>1</title>\n<path fill=\"#f2c29f\" stroke=\"black\" d=\"M992,-677C992,-677 880,-677 880,-677 874,-677 868,-671 868,-665 868,-665 868,-621 868,-621 868,-615 874,-609 880,-609 880,-609 992,-609 992,-609 998,-609 1004,-615 1004,-621 1004,-621 1004,-665 1004,-665 1004,-671 998,-677 992,-677\"/>\n<text text-anchor=\"start\" x=\"881.5\" y=\"-661.8\" font-family=\"Helvetica,sans-Serif\" font-size=\"14.00\">day_of_year ≤ 1.5</text>\n<text text-anchor=\"start\" x=\"876\" y=\"-646.8\" font-family=\"Helvetica,sans-Serif\" font-size=\"14.00\">squared_error = 0.1</text>\n<text text-anchor=\"start\" x=\"876\" y=\"-631.8\" font-family=\"Helvetica,sans-Serif\" font-size=\"14.00\">samples = 2202155</text>\n<text text-anchor=\"start\" x=\"898.5\" y=\"-616.8\" font-family=\"Helvetica,sans-Serif\" font-size=\"14.00\">value = 0.37</text>\n</g>\n<!-- 0&#45;&gt;1 -->\n<g id=\"edge1\" class=\"edge\">\n<title>0&#45;&gt;1</title>\n<path fill=\"none\" stroke=\"black\" d=\"M990.03,-712.88C983.11,-704.07 975.55,-694.43 968.34,-685.24\"/>\n<polygon fill=\"black\" stroke=\"black\" points=\"971.04,-683.01 962.12,-677.3 965.53,-687.33 971.04,-683.01\"/>\n<text text-anchor=\"middle\" x=\"959.12\" y=\"-698.42\" font-family=\"Helvetica,sans-Serif\" font-size=\"14.00\">True</text>\n</g>\n<!-- 2 -->\n<g id=\"node25\" class=\"node\">\n<title>2</title>\n<path fill=\"#e68641\" stroke=\"black\" d=\"M1229,-677C1229,-677 1117,-677 1117,-677 1111,-677 1105,-671 1105,-665 1105,-665 1105,-621 1105,-621 1105,-615 1111,-609 1117,-609 1117,-609 1229,-609 1229,-609 1235,-609 1241,-615 1241,-621 1241,-621 1241,-665 1241,-665 1241,-671 1235,-677 1229,-677\"/>\n<text text-anchor=\"start\" x=\"1118\" y=\"-661.8\" font-family=\"Helvetica,sans-Serif\" font-size=\"14.00\">onpromotion ≤ 2.5</text>\n<text text-anchor=\"start\" x=\"1113\" y=\"-646.8\" font-family=\"Helvetica,sans-Serif\" font-size=\"14.00\">squared_error = 0.0</text>\n<text text-anchor=\"start\" x=\"1117\" y=\"-631.8\" font-family=\"Helvetica,sans-Serif\" font-size=\"14.00\">samples = 438769</text>\n<text text-anchor=\"start\" x=\"1135.5\" y=\"-616.8\" font-family=\"Helvetica,sans-Serif\" font-size=\"14.00\">value = 0.72</text>\n</g>\n<!-- 0&#45;&gt;2 -->\n<g id=\"edge24\" class=\"edge\">\n<title>0&#45;&gt;2</title>\n<path fill=\"none\" stroke=\"black\" d=\"M1066.97,-712.88C1081.86,-703.21 1098.25,-692.56 1113.61,-682.59\"/>\n<polygon fill=\"black\" stroke=\"black\" points=\"1115.54,-685.51 1122.01,-677.12 1111.72,-679.64 1115.54,-685.51\"/>\n<text text-anchor=\"middle\" x=\"1116.82\" y=\"-697.88\" font-family=\"Helvetica,sans-Serif\" font-size=\"14.00\">False</text>\n</g>\n<!-- 3 -->\n<g id=\"node3\" class=\"node\">\n<title>3</title>\n<path fill=\"#ffffff\" stroke=\"black\" d=\"M835.5,-565.5C835.5,-565.5 716.5,-565.5 716.5,-565.5 710.5,-565.5 704.5,-559.5 704.5,-553.5 704.5,-553.5 704.5,-524.5 704.5,-524.5 704.5,-518.5 710.5,-512.5 716.5,-512.5 716.5,-512.5 835.5,-512.5 835.5,-512.5 841.5,-512.5 847.5,-518.5 847.5,-524.5 847.5,-524.5 847.5,-553.5 847.5,-553.5 847.5,-559.5 841.5,-565.5 835.5,-565.5\"/>\n<text text-anchor=\"start\" x=\"712.5\" y=\"-550.3\" font-family=\"Helvetica,sans-Serif\" font-size=\"14.00\">squared_error = 0.01</text>\n<text text-anchor=\"start\" x=\"727.5\" y=\"-535.3\" font-family=\"Helvetica,sans-Serif\" font-size=\"14.00\">samples = 7113</text>\n<text text-anchor=\"start\" x=\"738.5\" y=\"-520.3\" font-family=\"Helvetica,sans-Serif\" font-size=\"14.00\">value = 0.01</text>\n</g>\n<!-- 1&#45;&gt;3 -->\n<g id=\"edge2\" class=\"edge\">\n<title>1&#45;&gt;3</title>\n<path fill=\"none\" stroke=\"black\" d=\"M884.05,-608.88C864.9,-596.68 843.3,-582.9 824.47,-570.9\"/>\n<polygon fill=\"black\" stroke=\"black\" points=\"826.35,-567.94 816.03,-565.52 822.58,-573.85 826.35,-567.94\"/>\n</g>\n<!-- 4 -->\n<g id=\"node4\" class=\"node\">\n<title>4</title>\n<path fill=\"#f2c29f\" stroke=\"black\" d=\"M994,-573C994,-573 878,-573 878,-573 872,-573 866,-567 866,-561 866,-561 866,-517 866,-517 866,-511 872,-505 878,-505 878,-505 994,-505 994,-505 1000,-505 1006,-511 1006,-517 1006,-517 1006,-561 1006,-561 1006,-567 1000,-573 994,-573\"/>\n<text text-anchor=\"start\" x=\"874\" y=\"-557.8\" font-family=\"Helvetica,sans-Serif\" font-size=\"14.00\">day_of_year ≤ 243.5</text>\n<text text-anchor=\"start\" x=\"876\" y=\"-542.8\" font-family=\"Helvetica,sans-Serif\" font-size=\"14.00\">squared_error = 0.1</text>\n<text text-anchor=\"start\" x=\"876\" y=\"-527.8\" font-family=\"Helvetica,sans-Serif\" font-size=\"14.00\">samples = 2195042</text>\n<text text-anchor=\"start\" x=\"898.5\" y=\"-512.8\" font-family=\"Helvetica,sans-Serif\" font-size=\"14.00\">value = 0.37</text>\n</g>\n<!-- 1&#45;&gt;4 -->\n<g id=\"edge3\" class=\"edge\">\n<title>1&#45;&gt;4</title>\n<path fill=\"none\" stroke=\"black\" d=\"M936,-608.88C936,-600.78 936,-591.98 936,-583.47\"/>\n<polygon fill=\"black\" stroke=\"black\" points=\"939.5,-583.3 936,-573.3 932.5,-583.3 939.5,-583.3\"/>\n</g>\n<!-- 5 -->\n<g id=\"node5\" class=\"node\">\n<title>5</title>\n<path fill=\"#f3c3a1\" stroke=\"black\" d=\"M836,-469C836,-469 714,-469 714,-469 708,-469 702,-463 702,-457 702,-457 702,-413 702,-413 702,-407 708,-401 714,-401 714,-401 836,-401 836,-401 842,-401 848,-407 848,-413 848,-413 848,-457 848,-457 848,-463 842,-469 836,-469\"/>\n<text text-anchor=\"start\" x=\"710\" y=\"-453.8\" font-family=\"Helvetica,sans-Serif\" font-size=\"14.00\">quarter_of_year ≤ 1.5</text>\n<text text-anchor=\"start\" x=\"715\" y=\"-438.8\" font-family=\"Helvetica,sans-Serif\" font-size=\"14.00\">squared_error = 0.1</text>\n<text text-anchor=\"start\" x=\"715\" y=\"-423.8\" font-family=\"Helvetica,sans-Serif\" font-size=\"14.00\">samples = 1505519</text>\n<text text-anchor=\"start\" x=\"737.5\" y=\"-408.8\" font-family=\"Helvetica,sans-Serif\" font-size=\"14.00\">value = 0.36</text>\n</g>\n<!-- 4&#45;&gt;5 -->\n<g id=\"edge4\" class=\"edge\">\n<title>4&#45;&gt;5</title>\n<path fill=\"none\" stroke=\"black\" d=\"M883.73,-504.88C868.47,-495.21 851.65,-484.56 835.91,-474.59\"/>\n<polygon fill=\"black\" stroke=\"black\" points=\"837.61,-471.52 827.29,-469.12 833.86,-477.43 837.61,-471.52\"/>\n</g>\n<!-- 6 -->\n<g id=\"node22\" class=\"node\">\n<title>6</title>\n<path fill=\"#f2be99\" stroke=\"black\" d=\"M994,-469C994,-469 878,-469 878,-469 872,-469 866,-463 866,-457 866,-457 866,-413 866,-413 866,-407 872,-401 878,-401 878,-401 994,-401 994,-401 1000,-401 1006,-407 1006,-413 1006,-413 1006,-457 1006,-457 1006,-463 1000,-469 994,-469\"/>\n<text text-anchor=\"start\" x=\"874\" y=\"-453.8\" font-family=\"Helvetica,sans-Serif\" font-size=\"14.00\">day_of_year ≤ 352.5</text>\n<text text-anchor=\"start\" x=\"876\" y=\"-438.8\" font-family=\"Helvetica,sans-Serif\" font-size=\"14.00\">squared_error = 0.1</text>\n<text text-anchor=\"start\" x=\"880\" y=\"-423.8\" font-family=\"Helvetica,sans-Serif\" font-size=\"14.00\">samples = 689523</text>\n<text text-anchor=\"start\" x=\"898.5\" y=\"-408.8\" font-family=\"Helvetica,sans-Serif\" font-size=\"14.00\">value = 0.39</text>\n</g>\n<!-- 4&#45;&gt;6 -->\n<g id=\"edge21\" class=\"edge\">\n<title>4&#45;&gt;6</title>\n<path fill=\"none\" stroke=\"black\" d=\"M936,-504.88C936,-496.78 936,-487.98 936,-479.47\"/>\n<polygon fill=\"black\" stroke=\"black\" points=\"939.5,-479.3 936,-469.3 932.5,-479.3 939.5,-479.3\"/>\n</g>\n<!-- 9 -->\n<g id=\"node6\" class=\"node\">\n<title>9</title>\n<path fill=\"#f2c19e\" stroke=\"black\" d=\"M519,-365C519,-365 407,-365 407,-365 401,-365 395,-359 395,-353 395,-353 395,-309 395,-309 395,-303 401,-297 407,-297 407,-297 519,-297 519,-297 525,-297 531,-303 531,-309 531,-309 531,-353 531,-353 531,-359 525,-365 519,-365\"/>\n<text text-anchor=\"start\" x=\"405\" y=\"-349.8\" font-family=\"Helvetica,sans-Serif\" font-size=\"14.00\">day_of_year ≤ 59.5</text>\n<text text-anchor=\"start\" x=\"403\" y=\"-334.8\" font-family=\"Helvetica,sans-Serif\" font-size=\"14.00\">squared_error = 0.1</text>\n<text text-anchor=\"start\" x=\"407\" y=\"-319.8\" font-family=\"Helvetica,sans-Serif\" font-size=\"14.00\">samples = 575183</text>\n<text text-anchor=\"start\" x=\"425.5\" y=\"-304.8\" font-family=\"Helvetica,sans-Serif\" font-size=\"14.00\">value = 0.37</text>\n</g>\n<!-- 5&#45;&gt;9 -->\n<g id=\"edge5\" class=\"edge\">\n<title>5&#45;&gt;9</title>\n<path fill=\"none\" stroke=\"black\" d=\"M701.85,-410.09C653.47,-394.27 590.12,-373.56 540.82,-357.44\"/>\n<polygon fill=\"black\" stroke=\"black\" points=\"541.75,-354.06 531.15,-354.28 539.57,-360.72 541.75,-354.06\"/>\n</g>\n<!-- 10 -->\n<g id=\"node13\" class=\"node\">\n<title>10</title>\n<path fill=\"#f3c5a4\" stroke=\"black\" d=\"M835,-365C835,-365 719,-365 719,-365 713,-365 707,-359 707,-353 707,-353 707,-309 707,-309 707,-303 713,-297 719,-297 719,-297 835,-297 835,-297 841,-297 847,-303 847,-309 847,-309 847,-353 847,-353 847,-359 841,-365 835,-365\"/>\n<text text-anchor=\"start\" x=\"715\" y=\"-349.8\" font-family=\"Helvetica,sans-Serif\" font-size=\"14.00\">day_of_year ≤ 181.5</text>\n<text text-anchor=\"start\" x=\"717\" y=\"-334.8\" font-family=\"Helvetica,sans-Serif\" font-size=\"14.00\">squared_error = 0.1</text>\n<text text-anchor=\"start\" x=\"721\" y=\"-319.8\" font-family=\"Helvetica,sans-Serif\" font-size=\"14.00\">samples = 930336</text>\n<text text-anchor=\"start\" x=\"739.5\" y=\"-304.8\" font-family=\"Helvetica,sans-Serif\" font-size=\"14.00\">value = 0.35</text>\n</g>\n<!-- 5&#45;&gt;10 -->\n<g id=\"edge12\" class=\"edge\">\n<title>5&#45;&gt;10</title>\n<path fill=\"none\" stroke=\"black\" d=\"M775.65,-400.88C775.81,-392.78 775.98,-383.98 776.15,-375.47\"/>\n<polygon fill=\"black\" stroke=\"black\" points=\"779.65,-375.37 776.35,-365.3 772.65,-375.23 779.65,-375.37\"/>\n</g>\n<!-- 15 -->\n<g id=\"node7\" class=\"node\">\n<title>15</title>\n<path fill=\"#f2c2a0\" stroke=\"black\" d=\"M285.5,-261C285.5,-261 166.5,-261 166.5,-261 160.5,-261 154.5,-255 154.5,-249 154.5,-249 154.5,-205 154.5,-205 154.5,-199 160.5,-193 166.5,-193 166.5,-193 285.5,-193 285.5,-193 291.5,-193 297.5,-199 297.5,-205 297.5,-205 297.5,-249 297.5,-249 297.5,-255 291.5,-261 285.5,-261\"/>\n<text text-anchor=\"start\" x=\"168\" y=\"-245.8\" font-family=\"Helvetica,sans-Serif\" font-size=\"14.00\">day_of_year ≤ 31.5</text>\n<text text-anchor=\"start\" x=\"162.5\" y=\"-230.8\" font-family=\"Helvetica,sans-Serif\" font-size=\"14.00\">squared_error = 0.11</text>\n<text text-anchor=\"start\" x=\"170\" y=\"-215.8\" font-family=\"Helvetica,sans-Serif\" font-size=\"14.00\">samples = 374157</text>\n<text text-anchor=\"start\" x=\"188.5\" y=\"-200.8\" font-family=\"Helvetica,sans-Serif\" font-size=\"14.00\">value = 0.37</text>\n</g>\n<!-- 9&#45;&gt;15 -->\n<g id=\"edge6\" class=\"edge\">\n<title>9&#45;&gt;15</title>\n<path fill=\"none\" stroke=\"black\" d=\"M394.77,-300.63C367.49,-288.9 335.86,-275.28 307.4,-263.03\"/>\n<polygon fill=\"black\" stroke=\"black\" points=\"308.45,-259.67 297.88,-258.93 305.68,-266.1 308.45,-259.67\"/>\n</g>\n<!-- 16 -->\n<g id=\"node10\" class=\"node\">\n<title>16</title>\n<path fill=\"#f2bf9a\" stroke=\"black\" d=\"M519,-261C519,-261 407,-261 407,-261 401,-261 395,-255 395,-249 395,-249 395,-205 395,-205 395,-199 401,-193 407,-193 407,-193 519,-193 519,-193 525,-193 531,-199 531,-205 531,-205 531,-249 531,-249 531,-255 525,-261 519,-261\"/>\n<text text-anchor=\"start\" x=\"405\" y=\"-245.8\" font-family=\"Helvetica,sans-Serif\" font-size=\"14.00\">day_of_year ≤ 90.5</text>\n<text text-anchor=\"start\" x=\"403\" y=\"-230.8\" font-family=\"Helvetica,sans-Serif\" font-size=\"14.00\">squared_error = 0.1</text>\n<text text-anchor=\"start\" x=\"407\" y=\"-215.8\" font-family=\"Helvetica,sans-Serif\" font-size=\"14.00\">samples = 201026</text>\n<text text-anchor=\"start\" x=\"425.5\" y=\"-200.8\" font-family=\"Helvetica,sans-Serif\" font-size=\"14.00\">value = 0.39</text>\n</g>\n<!-- 9&#45;&gt;16 -->\n<g id=\"edge9\" class=\"edge\">\n<title>9&#45;&gt;16</title>\n<path fill=\"none\" stroke=\"black\" d=\"M463,-296.88C463,-288.78 463,-279.98 463,-271.47\"/>\n<polygon fill=\"black\" stroke=\"black\" points=\"466.5,-271.3 463,-261.3 459.5,-271.3 466.5,-271.3\"/>\n</g>\n<!-- 17 -->\n<g id=\"node8\" class=\"node\">\n<title>17</title>\n<path fill=\"#f2c09c\" stroke=\"black\" d=\"M124,-149.5C124,-149.5 12,-149.5 12,-149.5 6,-149.5 0,-143.5 0,-137.5 0,-137.5 0,-108.5 0,-108.5 0,-102.5 6,-96.5 12,-96.5 12,-96.5 124,-96.5 124,-96.5 130,-96.5 136,-102.5 136,-108.5 136,-108.5 136,-137.5 136,-137.5 136,-143.5 130,-149.5 124,-149.5\"/>\n<text text-anchor=\"start\" x=\"8\" y=\"-134.3\" font-family=\"Helvetica,sans-Serif\" font-size=\"14.00\">squared_error = 0.1</text>\n<text text-anchor=\"start\" x=\"12\" y=\"-119.3\" font-family=\"Helvetica,sans-Serif\" font-size=\"14.00\">samples = 192177</text>\n<text text-anchor=\"start\" x=\"30.5\" y=\"-104.3\" font-family=\"Helvetica,sans-Serif\" font-size=\"14.00\">value = 0.38</text>\n</g>\n<!-- 15&#45;&gt;17 -->\n<g id=\"edge7\" class=\"edge\">\n<title>15&#45;&gt;17</title>\n<path fill=\"none\" stroke=\"black\" d=\"M174.7,-192.88C155.88,-180.73 134.65,-167.03 116.11,-155.06\"/>\n<polygon fill=\"black\" stroke=\"black\" points=\"117.83,-152 107.53,-149.52 114.03,-157.88 117.83,-152\"/>\n</g>\n<!-- 18 -->\n<g id=\"node9\" class=\"node\">\n<title>18</title>\n<path fill=\"#f3c5a3\" stroke=\"black\" d=\"M285.5,-149.5C285.5,-149.5 166.5,-149.5 166.5,-149.5 160.5,-149.5 154.5,-143.5 154.5,-137.5 154.5,-137.5 154.5,-108.5 154.5,-108.5 154.5,-102.5 160.5,-96.5 166.5,-96.5 166.5,-96.5 285.5,-96.5 285.5,-96.5 291.5,-96.5 297.5,-102.5 297.5,-108.5 297.5,-108.5 297.5,-137.5 297.5,-137.5 297.5,-143.5 291.5,-149.5 285.5,-149.5\"/>\n<text text-anchor=\"start\" x=\"162.5\" y=\"-134.3\" font-family=\"Helvetica,sans-Serif\" font-size=\"14.00\">squared_error = 0.11</text>\n<text text-anchor=\"start\" x=\"170\" y=\"-119.3\" font-family=\"Helvetica,sans-Serif\" font-size=\"14.00\">samples = 181980</text>\n<text text-anchor=\"start\" x=\"188.5\" y=\"-104.3\" font-family=\"Helvetica,sans-Serif\" font-size=\"14.00\">value = 0.35</text>\n</g>\n<!-- 15&#45;&gt;18 -->\n<g id=\"edge8\" class=\"edge\">\n<title>15&#45;&gt;18</title>\n<path fill=\"none\" stroke=\"black\" d=\"M226,-192.88C226,-182.33 226,-170.6 226,-159.85\"/>\n<polygon fill=\"black\" stroke=\"black\" points=\"229.5,-159.52 226,-149.52 222.5,-159.52 229.5,-159.52\"/>\n</g>\n<!-- 29 -->\n<g id=\"node11\" class=\"node\">\n<title>29</title>\n<path fill=\"#f2bf9a\" stroke=\"black\" d=\"M440,-149.5C440,-149.5 328,-149.5 328,-149.5 322,-149.5 316,-143.5 316,-137.5 316,-137.5 316,-108.5 316,-108.5 316,-102.5 322,-96.5 328,-96.5 328,-96.5 440,-96.5 440,-96.5 446,-96.5 452,-102.5 452,-108.5 452,-108.5 452,-137.5 452,-137.5 452,-143.5 446,-149.5 440,-149.5\"/>\n<text text-anchor=\"start\" x=\"324\" y=\"-134.3\" font-family=\"Helvetica,sans-Serif\" font-size=\"14.00\">squared_error = 0.1</text>\n<text text-anchor=\"start\" x=\"328\" y=\"-119.3\" font-family=\"Helvetica,sans-Serif\" font-size=\"14.00\">samples = 199554</text>\n<text text-anchor=\"start\" x=\"346.5\" y=\"-104.3\" font-family=\"Helvetica,sans-Serif\" font-size=\"14.00\">value = 0.39</text>\n</g>\n<!-- 16&#45;&gt;29 -->\n<g id=\"edge10\" class=\"edge\">\n<title>16&#45;&gt;29</title>\n<path fill=\"none\" stroke=\"black\" d=\"M437.35,-192.88C428.58,-181.56 418.76,-168.88 409.96,-157.52\"/>\n<polygon fill=\"black\" stroke=\"black\" points=\"412.66,-155.28 403.77,-149.52 407.12,-159.57 412.66,-155.28\"/>\n</g>\n<!-- 30 -->\n<g id=\"node12\" class=\"node\">\n<title>30</title>\n<path fill=\"#efb185\" stroke=\"black\" d=\"M601.5,-149.5C601.5,-149.5 482.5,-149.5 482.5,-149.5 476.5,-149.5 470.5,-143.5 470.5,-137.5 470.5,-137.5 470.5,-108.5 470.5,-108.5 470.5,-102.5 476.5,-96.5 482.5,-96.5 482.5,-96.5 601.5,-96.5 601.5,-96.5 607.5,-96.5 613.5,-102.5 613.5,-108.5 613.5,-108.5 613.5,-137.5 613.5,-137.5 613.5,-143.5 607.5,-149.5 601.5,-149.5\"/>\n<text text-anchor=\"start\" x=\"478.5\" y=\"-134.3\" font-family=\"Helvetica,sans-Serif\" font-size=\"14.00\">squared_error = 0.08</text>\n<text text-anchor=\"start\" x=\"493.5\" y=\"-119.3\" font-family=\"Helvetica,sans-Serif\" font-size=\"14.00\">samples = 1472</text>\n<text text-anchor=\"start\" x=\"504.5\" y=\"-104.3\" font-family=\"Helvetica,sans-Serif\" font-size=\"14.00\">value = 0.47</text>\n</g>\n<!-- 16&#45;&gt;30 -->\n<g id=\"edge11\" class=\"edge\">\n<title>16&#45;&gt;30</title>\n<path fill=\"none\" stroke=\"black\" d=\"M488.65,-192.88C497.42,-181.56 507.24,-168.88 516.04,-157.52\"/>\n<polygon fill=\"black\" stroke=\"black\" points=\"518.88,-159.57 522.23,-149.52 513.34,-155.28 518.88,-159.57\"/>\n</g>\n<!-- 11 -->\n<g id=\"node14\" class=\"node\">\n<title>11</title>\n<path fill=\"#f3c7a6\" stroke=\"black\" d=\"M837,-261C837,-261 717,-261 717,-261 711,-261 705,-255 705,-249 705,-249 705,-205 705,-205 705,-199 711,-193 717,-193 717,-193 837,-193 837,-193 843,-193 849,-199 849,-205 849,-205 849,-249 849,-249 849,-255 843,-261 837,-261\"/>\n<text text-anchor=\"start\" x=\"713\" y=\"-245.8\" font-family=\"Helvetica,sans-Serif\" font-size=\"14.00\">day_of_month ≤ 12.5</text>\n<text text-anchor=\"start\" x=\"717\" y=\"-230.8\" font-family=\"Helvetica,sans-Serif\" font-size=\"14.00\">squared_error = 0.1</text>\n<text text-anchor=\"start\" x=\"721\" y=\"-215.8\" font-family=\"Helvetica,sans-Serif\" font-size=\"14.00\">samples = 565584</text>\n<text text-anchor=\"start\" x=\"739.5\" y=\"-200.8\" font-family=\"Helvetica,sans-Serif\" font-size=\"14.00\">value = 0.34</text>\n</g>\n<!-- 10&#45;&gt;11 -->\n<g id=\"edge13\" class=\"edge\">\n<title>10&#45;&gt;11</title>\n<path fill=\"none\" stroke=\"black\" d=\"M777,-296.88C777,-288.78 777,-279.98 777,-271.47\"/>\n<polygon fill=\"black\" stroke=\"black\" points=\"780.5,-271.3 777,-261.3 773.5,-271.3 780.5,-271.3\"/>\n</g>\n<!-- 12 -->\n<g id=\"node19\" class=\"node\">\n<title>12</title>\n<path fill=\"#f2c29f\" stroke=\"black\" d=\"M1068,-261C1068,-261 956,-261 956,-261 950,-261 944,-255 944,-249 944,-249 944,-205 944,-205 944,-199 950,-193 956,-193 956,-193 1068,-193 1068,-193 1074,-193 1080,-199 1080,-205 1080,-205 1080,-249 1080,-249 1080,-255 1074,-261 1068,-261\"/>\n<text text-anchor=\"start\" x=\"975.5\" y=\"-245.8\" font-family=\"Helvetica,sans-Serif\" font-size=\"14.00\">month ≤ 7.5</text>\n<text text-anchor=\"start\" x=\"952\" y=\"-230.8\" font-family=\"Helvetica,sans-Serif\" font-size=\"14.00\">squared_error = 0.1</text>\n<text text-anchor=\"start\" x=\"956\" y=\"-215.8\" font-family=\"Helvetica,sans-Serif\" font-size=\"14.00\">samples = 364752</text>\n<text text-anchor=\"start\" x=\"974.5\" y=\"-200.8\" font-family=\"Helvetica,sans-Serif\" font-size=\"14.00\">value = 0.37</text>\n</g>\n<!-- 10&#45;&gt;12 -->\n<g id=\"edge18\" class=\"edge\">\n<title>10&#45;&gt;12</title>\n<path fill=\"none\" stroke=\"black\" d=\"M847.19,-299.53C874.65,-287.62 906.25,-273.9 934.39,-261.69\"/>\n<polygon fill=\"black\" stroke=\"black\" points=\"936.01,-264.8 943.79,-257.61 933.22,-258.38 936.01,-264.8\"/>\n</g>\n<!-- 21 -->\n<g id=\"node15\" class=\"node\">\n<title>21</title>\n<path fill=\"#f3c5a4\" stroke=\"black\" d=\"M756,-149.5C756,-149.5 644,-149.5 644,-149.5 638,-149.5 632,-143.5 632,-137.5 632,-137.5 632,-108.5 632,-108.5 632,-102.5 638,-96.5 644,-96.5 644,-96.5 756,-96.5 756,-96.5 762,-96.5 768,-102.5 768,-108.5 768,-108.5 768,-137.5 768,-137.5 768,-143.5 762,-149.5 756,-149.5\"/>\n<text text-anchor=\"start\" x=\"640\" y=\"-134.3\" font-family=\"Helvetica,sans-Serif\" font-size=\"14.00\">squared_error = 0.1</text>\n<text text-anchor=\"start\" x=\"644\" y=\"-119.3\" font-family=\"Helvetica,sans-Serif\" font-size=\"14.00\">samples = 225532</text>\n<text text-anchor=\"start\" x=\"662.5\" y=\"-104.3\" font-family=\"Helvetica,sans-Serif\" font-size=\"14.00\">value = 0.35</text>\n</g>\n<!-- 11&#45;&gt;21 -->\n<g id=\"edge14\" class=\"edge\">\n<title>11&#45;&gt;21</title>\n<path fill=\"none\" stroke=\"black\" d=\"M752,-192.88C743.45,-181.56 733.88,-168.88 725.3,-157.52\"/>\n<polygon fill=\"black\" stroke=\"black\" points=\"728.08,-155.39 719.27,-149.52 722.5,-159.61 728.08,-155.39\"/>\n</g>\n<!-- 22 -->\n<g id=\"node16\" class=\"node\">\n<title>22</title>\n<path fill=\"#f4c7a8\" stroke=\"black\" d=\"M914,-157C914,-157 798,-157 798,-157 792,-157 786,-151 786,-145 786,-145 786,-101 786,-101 786,-95 792,-89 798,-89 798,-89 914,-89 914,-89 920,-89 926,-95 926,-101 926,-101 926,-145 926,-145 926,-151 920,-157 914,-157\"/>\n<text text-anchor=\"start\" x=\"794\" y=\"-141.8\" font-family=\"Helvetica,sans-Serif\" font-size=\"14.00\">day_of_year ≤ 151.5</text>\n<text text-anchor=\"start\" x=\"796\" y=\"-126.8\" font-family=\"Helvetica,sans-Serif\" font-size=\"14.00\">squared_error = 0.1</text>\n<text text-anchor=\"start\" x=\"800\" y=\"-111.8\" font-family=\"Helvetica,sans-Serif\" font-size=\"14.00\">samples = 340052</text>\n<text text-anchor=\"start\" x=\"818.5\" y=\"-96.8\" font-family=\"Helvetica,sans-Serif\" font-size=\"14.00\">value = 0.34</text>\n</g>\n<!-- 11&#45;&gt;22 -->\n<g id=\"edge15\" class=\"edge\">\n<title>11&#45;&gt;22</title>\n<path fill=\"none\" stroke=\"black\" d=\"M802.65,-192.88C809.48,-184.07 816.94,-174.43 824.06,-165.24\"/>\n<polygon fill=\"black\" stroke=\"black\" points=\"826.85,-167.35 830.21,-157.3 821.32,-163.06 826.85,-167.35\"/>\n</g>\n<!-- 27 -->\n<g id=\"node17\" class=\"node\">\n<title>27</title>\n<path fill=\"#f4c8a9\" stroke=\"black\" d=\"M835,-53C835,-53 723,-53 723,-53 717,-53 711,-47 711,-41 711,-41 711,-12 711,-12 711,-6 717,0 723,0 723,0 835,0 835,0 841,0 847,-6 847,-12 847,-12 847,-41 847,-41 847,-47 841,-53 835,-53\"/>\n<text text-anchor=\"start\" x=\"719\" y=\"-37.8\" font-family=\"Helvetica,sans-Serif\" font-size=\"14.00\">squared_error = 0.1</text>\n<text text-anchor=\"start\" x=\"723\" y=\"-22.8\" font-family=\"Helvetica,sans-Serif\" font-size=\"14.00\">samples = 222675</text>\n<text text-anchor=\"start\" x=\"741.5\" y=\"-7.8\" font-family=\"Helvetica,sans-Serif\" font-size=\"14.00\">value = 0.33</text>\n</g>\n<!-- 22&#45;&gt;27 -->\n<g id=\"edge16\" class=\"edge\">\n<title>22&#45;&gt;27</title>\n<path fill=\"none\" stroke=\"black\" d=\"M829.07,-88.95C821.76,-79.98 813.85,-70.27 806.51,-61.26\"/>\n<polygon fill=\"black\" stroke=\"black\" points=\"809,-58.78 799.97,-53.24 803.57,-63.2 809,-58.78\"/>\n</g>\n<!-- 28 -->\n<g id=\"node18\" class=\"node\">\n<title>28</title>\n<path fill=\"#f3c6a6\" stroke=\"black\" d=\"M989,-53C989,-53 877,-53 877,-53 871,-53 865,-47 865,-41 865,-41 865,-12 865,-12 865,-6 871,0 877,0 877,0 989,0 989,0 995,0 1001,-6 1001,-12 1001,-12 1001,-41 1001,-41 1001,-47 995,-53 989,-53\"/>\n<text text-anchor=\"start\" x=\"873\" y=\"-37.8\" font-family=\"Helvetica,sans-Serif\" font-size=\"14.00\">squared_error = 0.1</text>\n<text text-anchor=\"start\" x=\"877\" y=\"-22.8\" font-family=\"Helvetica,sans-Serif\" font-size=\"14.00\">samples = 117377</text>\n<text text-anchor=\"start\" x=\"895.5\" y=\"-7.8\" font-family=\"Helvetica,sans-Serif\" font-size=\"14.00\">value = 0.34</text>\n</g>\n<!-- 22&#45;&gt;28 -->\n<g id=\"edge17\" class=\"edge\">\n<title>22&#45;&gt;28</title>\n<path fill=\"none\" stroke=\"black\" d=\"M882.93,-88.95C890.24,-79.98 898.15,-70.27 905.49,-61.26\"/>\n<polygon fill=\"black\" stroke=\"black\" points=\"908.43,-63.2 912.03,-53.24 903,-58.78 908.43,-63.2\"/>\n</g>\n<!-- 13 -->\n<g id=\"node20\" class=\"node\">\n<title>13</title>\n<path fill=\"#f2c09c\" stroke=\"black\" d=\"M1068,-149.5C1068,-149.5 956,-149.5 956,-149.5 950,-149.5 944,-143.5 944,-137.5 944,-137.5 944,-108.5 944,-108.5 944,-102.5 950,-96.5 956,-96.5 956,-96.5 1068,-96.5 1068,-96.5 1074,-96.5 1080,-102.5 1080,-108.5 1080,-108.5 1080,-137.5 1080,-137.5 1080,-143.5 1074,-149.5 1068,-149.5\"/>\n<text text-anchor=\"start\" x=\"952\" y=\"-134.3\" font-family=\"Helvetica,sans-Serif\" font-size=\"14.00\">squared_error = 0.1</text>\n<text text-anchor=\"start\" x=\"956\" y=\"-119.3\" font-family=\"Helvetica,sans-Serif\" font-size=\"14.00\">samples = 185174</text>\n<text text-anchor=\"start\" x=\"974.5\" y=\"-104.3\" font-family=\"Helvetica,sans-Serif\" font-size=\"14.00\">value = 0.38</text>\n</g>\n<!-- 12&#45;&gt;13 -->\n<g id=\"edge19\" class=\"edge\">\n<title>12&#45;&gt;13</title>\n<path fill=\"none\" stroke=\"black\" d=\"M1012,-192.88C1012,-182.33 1012,-170.6 1012,-159.85\"/>\n<polygon fill=\"black\" stroke=\"black\" points=\"1015.5,-159.52 1012,-149.52 1008.5,-159.52 1015.5,-159.52\"/>\n</g>\n<!-- 14 -->\n<g id=\"node21\" class=\"node\">\n<title>14</title>\n<path fill=\"#f3c5a3\" stroke=\"black\" d=\"M1222,-149.5C1222,-149.5 1110,-149.5 1110,-149.5 1104,-149.5 1098,-143.5 1098,-137.5 1098,-137.5 1098,-108.5 1098,-108.5 1098,-102.5 1104,-96.5 1110,-96.5 1110,-96.5 1222,-96.5 1222,-96.5 1228,-96.5 1234,-102.5 1234,-108.5 1234,-108.5 1234,-137.5 1234,-137.5 1234,-143.5 1228,-149.5 1222,-149.5\"/>\n<text text-anchor=\"start\" x=\"1106\" y=\"-134.3\" font-family=\"Helvetica,sans-Serif\" font-size=\"14.00\">squared_error = 0.1</text>\n<text text-anchor=\"start\" x=\"1110\" y=\"-119.3\" font-family=\"Helvetica,sans-Serif\" font-size=\"14.00\">samples = 179578</text>\n<text text-anchor=\"start\" x=\"1128.5\" y=\"-104.3\" font-family=\"Helvetica,sans-Serif\" font-size=\"14.00\">value = 0.35</text>\n</g>\n<!-- 12&#45;&gt;14 -->\n<g id=\"edge20\" class=\"edge\">\n<title>12&#45;&gt;14</title>\n<path fill=\"none\" stroke=\"black\" d=\"M1062,-192.88C1080.26,-180.79 1100.85,-167.15 1118.86,-155.22\"/>\n<polygon fill=\"black\" stroke=\"black\" points=\"1121.07,-157.96 1127.47,-149.52 1117.2,-152.12 1121.07,-157.96\"/>\n</g>\n<!-- 25 -->\n<g id=\"node23\" class=\"node\">\n<title>25</title>\n<path fill=\"#f2bf9a\" stroke=\"black\" d=\"M991,-357.5C991,-357.5 879,-357.5 879,-357.5 873,-357.5 867,-351.5 867,-345.5 867,-345.5 867,-316.5 867,-316.5 867,-310.5 873,-304.5 879,-304.5 879,-304.5 991,-304.5 991,-304.5 997,-304.5 1003,-310.5 1003,-316.5 1003,-316.5 1003,-345.5 1003,-345.5 1003,-351.5 997,-357.5 991,-357.5\"/>\n<text text-anchor=\"start\" x=\"875\" y=\"-342.3\" font-family=\"Helvetica,sans-Serif\" font-size=\"14.00\">squared_error = 0.1</text>\n<text text-anchor=\"start\" x=\"879\" y=\"-327.3\" font-family=\"Helvetica,sans-Serif\" font-size=\"14.00\">samples = 616301</text>\n<text text-anchor=\"start\" x=\"897.5\" y=\"-312.3\" font-family=\"Helvetica,sans-Serif\" font-size=\"14.00\">value = 0.39</text>\n</g>\n<!-- 6&#45;&gt;25 -->\n<g id=\"edge22\" class=\"edge\">\n<title>6&#45;&gt;25</title>\n<path fill=\"none\" stroke=\"black\" d=\"M935.68,-400.88C935.57,-390.33 935.46,-378.6 935.35,-367.85\"/>\n<polygon fill=\"black\" stroke=\"black\" points=\"938.85,-367.49 935.25,-357.52 931.85,-367.55 938.85,-367.49\"/>\n</g>\n<!-- 26 -->\n<g id=\"node24\" class=\"node\">\n<title>26</title>\n<path fill=\"#f1bc96\" stroke=\"black\" d=\"M1145,-357.5C1145,-357.5 1033,-357.5 1033,-357.5 1027,-357.5 1021,-351.5 1021,-345.5 1021,-345.5 1021,-316.5 1021,-316.5 1021,-310.5 1027,-304.5 1033,-304.5 1033,-304.5 1145,-304.5 1145,-304.5 1151,-304.5 1157,-310.5 1157,-316.5 1157,-316.5 1157,-345.5 1157,-345.5 1157,-351.5 1151,-357.5 1145,-357.5\"/>\n<text text-anchor=\"start\" x=\"1029\" y=\"-342.3\" font-family=\"Helvetica,sans-Serif\" font-size=\"14.00\">squared_error = 0.1</text>\n<text text-anchor=\"start\" x=\"1036.5\" y=\"-327.3\" font-family=\"Helvetica,sans-Serif\" font-size=\"14.00\">samples = 73222</text>\n<text text-anchor=\"start\" x=\"1055.5\" y=\"-312.3\" font-family=\"Helvetica,sans-Serif\" font-size=\"14.00\">value = 0.4</text>\n</g>\n<!-- 6&#45;&gt;26 -->\n<g id=\"edge23\" class=\"edge\">\n<title>6&#45;&gt;26</title>\n<path fill=\"none\" stroke=\"black\" d=\"M985.67,-400.88C1003.82,-388.79 1024.27,-375.15 1042.16,-363.22\"/>\n<polygon fill=\"black\" stroke=\"black\" points=\"1044.34,-365.98 1050.72,-357.52 1040.46,-360.15 1044.34,-365.98\"/>\n</g>\n<!-- 7 -->\n<g id=\"node26\" class=\"node\">\n<title>7</title>\n<path fill=\"#e78a47\" stroke=\"black\" d=\"M1232.5,-573C1232.5,-573 1113.5,-573 1113.5,-573 1107.5,-573 1101.5,-567 1101.5,-561 1101.5,-561 1101.5,-517 1101.5,-517 1101.5,-511 1107.5,-505 1113.5,-505 1113.5,-505 1232.5,-505 1232.5,-505 1238.5,-505 1244.5,-511 1244.5,-517 1244.5,-517 1244.5,-561 1244.5,-561 1244.5,-567 1238.5,-573 1232.5,-573\"/>\n<text text-anchor=\"start\" x=\"1118\" y=\"-557.8\" font-family=\"Helvetica,sans-Serif\" font-size=\"14.00\">onpromotion ≤ 1.5</text>\n<text text-anchor=\"start\" x=\"1109.5\" y=\"-542.8\" font-family=\"Helvetica,sans-Serif\" font-size=\"14.00\">squared_error = 0.01</text>\n<text text-anchor=\"start\" x=\"1117\" y=\"-527.8\" font-family=\"Helvetica,sans-Serif\" font-size=\"14.00\">samples = 203126</text>\n<text text-anchor=\"start\" x=\"1139.5\" y=\"-512.8\" font-family=\"Helvetica,sans-Serif\" font-size=\"14.00\">value = 0.7</text>\n</g>\n<!-- 2&#45;&gt;7 -->\n<g id=\"edge25\" class=\"edge\">\n<title>2&#45;&gt;7</title>\n<path fill=\"none\" stroke=\"black\" d=\"M1173,-608.88C1173,-600.78 1173,-591.98 1173,-583.47\"/>\n<polygon fill=\"black\" stroke=\"black\" points=\"1176.5,-583.3 1173,-573.3 1169.5,-583.3 1176.5,-583.3\"/>\n</g>\n<!-- 8 -->\n<g id=\"node29\" class=\"node\">\n<title>8</title>\n<path fill=\"#e5833c\" stroke=\"black\" d=\"M1464,-573C1464,-573 1352,-573 1352,-573 1346,-573 1340,-567 1340,-561 1340,-561 1340,-517 1340,-517 1340,-511 1346,-505 1352,-505 1352,-505 1464,-505 1464,-505 1470,-505 1476,-511 1476,-517 1476,-517 1476,-561 1476,-561 1476,-567 1470,-573 1464,-573\"/>\n<text text-anchor=\"start\" x=\"1349\" y=\"-557.8\" font-family=\"Helvetica,sans-Serif\" font-size=\"14.00\">onpromotion ≤ 14.5</text>\n<text text-anchor=\"start\" x=\"1348\" y=\"-542.8\" font-family=\"Helvetica,sans-Serif\" font-size=\"14.00\">squared_error = 0.0</text>\n<text text-anchor=\"start\" x=\"1352\" y=\"-527.8\" font-family=\"Helvetica,sans-Serif\" font-size=\"14.00\">samples = 235643</text>\n<text text-anchor=\"start\" x=\"1370.5\" y=\"-512.8\" font-family=\"Helvetica,sans-Serif\" font-size=\"14.00\">value = 0.74</text>\n</g>\n<!-- 2&#45;&gt;8 -->\n<g id=\"edge28\" class=\"edge\">\n<title>2&#45;&gt;8</title>\n<path fill=\"none\" stroke=\"black\" d=\"M1241.29,-612.36C1269.29,-600.21 1301.84,-586.08 1330.72,-573.54\"/>\n<polygon fill=\"black\" stroke=\"black\" points=\"1332.17,-576.73 1339.95,-569.54 1329.38,-570.31 1332.17,-576.73\"/>\n</g>\n<!-- 19 -->\n<g id=\"node27\" class=\"node\">\n<title>19</title>\n<path fill=\"#e78b49\" stroke=\"black\" d=\"M1155.5,-461.5C1155.5,-461.5 1036.5,-461.5 1036.5,-461.5 1030.5,-461.5 1024.5,-455.5 1024.5,-449.5 1024.5,-449.5 1024.5,-420.5 1024.5,-420.5 1024.5,-414.5 1030.5,-408.5 1036.5,-408.5 1036.5,-408.5 1155.5,-408.5 1155.5,-408.5 1161.5,-408.5 1167.5,-414.5 1167.5,-420.5 1167.5,-420.5 1167.5,-449.5 1167.5,-449.5 1167.5,-455.5 1161.5,-461.5 1155.5,-461.5\"/>\n<text text-anchor=\"start\" x=\"1032.5\" y=\"-446.3\" font-family=\"Helvetica,sans-Serif\" font-size=\"14.00\">squared_error = 0.01</text>\n<text text-anchor=\"start\" x=\"1040\" y=\"-431.3\" font-family=\"Helvetica,sans-Serif\" font-size=\"14.00\">samples = 142301</text>\n<text text-anchor=\"start\" x=\"1058.5\" y=\"-416.3\" font-family=\"Helvetica,sans-Serif\" font-size=\"14.00\">value = 0.69</text>\n</g>\n<!-- 7&#45;&gt;19 -->\n<g id=\"edge26\" class=\"edge\">\n<title>7&#45;&gt;19</title>\n<path fill=\"none\" stroke=\"black\" d=\"M1148,-504.88C1139.45,-493.56 1129.88,-480.88 1121.3,-469.52\"/>\n<polygon fill=\"black\" stroke=\"black\" points=\"1124.08,-467.39 1115.27,-461.52 1118.5,-471.61 1124.08,-467.39\"/>\n</g>\n<!-- 20 -->\n<g id=\"node28\" class=\"node\">\n<title>20</title>\n<path fill=\"#e68743\" stroke=\"black\" d=\"M1310,-461.5C1310,-461.5 1198,-461.5 1198,-461.5 1192,-461.5 1186,-455.5 1186,-449.5 1186,-449.5 1186,-420.5 1186,-420.5 1186,-414.5 1192,-408.5 1198,-408.5 1198,-408.5 1310,-408.5 1310,-408.5 1316,-408.5 1322,-414.5 1322,-420.5 1322,-420.5 1322,-449.5 1322,-449.5 1322,-455.5 1316,-461.5 1310,-461.5\"/>\n<text text-anchor=\"start\" x=\"1194\" y=\"-446.3\" font-family=\"Helvetica,sans-Serif\" font-size=\"14.00\">squared_error = 0.0</text>\n<text text-anchor=\"start\" x=\"1201.5\" y=\"-431.3\" font-family=\"Helvetica,sans-Serif\" font-size=\"14.00\">samples = 60825</text>\n<text text-anchor=\"start\" x=\"1216.5\" y=\"-416.3\" font-family=\"Helvetica,sans-Serif\" font-size=\"14.00\">value = 0.72</text>\n</g>\n<!-- 7&#45;&gt;20 -->\n<g id=\"edge27\" class=\"edge\">\n<title>7&#45;&gt;20</title>\n<path fill=\"none\" stroke=\"black\" d=\"M1199.3,-504.88C1208.29,-493.56 1218.36,-480.88 1227.38,-469.52\"/>\n<polygon fill=\"black\" stroke=\"black\" points=\"1230.26,-471.53 1233.73,-461.52 1224.77,-467.17 1230.26,-471.53\"/>\n</g>\n<!-- 23 -->\n<g id=\"node30\" class=\"node\">\n<title>23</title>\n<path fill=\"#e6843e\" stroke=\"black\" d=\"M1464,-461.5C1464,-461.5 1352,-461.5 1352,-461.5 1346,-461.5 1340,-455.5 1340,-449.5 1340,-449.5 1340,-420.5 1340,-420.5 1340,-414.5 1346,-408.5 1352,-408.5 1352,-408.5 1464,-408.5 1464,-408.5 1470,-408.5 1476,-414.5 1476,-420.5 1476,-420.5 1476,-449.5 1476,-449.5 1476,-455.5 1470,-461.5 1464,-461.5\"/>\n<text text-anchor=\"start\" x=\"1348\" y=\"-446.3\" font-family=\"Helvetica,sans-Serif\" font-size=\"14.00\">squared_error = 0.0</text>\n<text text-anchor=\"start\" x=\"1352\" y=\"-431.3\" font-family=\"Helvetica,sans-Serif\" font-size=\"14.00\">samples = 150608</text>\n<text text-anchor=\"start\" x=\"1370.5\" y=\"-416.3\" font-family=\"Helvetica,sans-Serif\" font-size=\"14.00\">value = 0.73</text>\n</g>\n<!-- 8&#45;&gt;23 -->\n<g id=\"edge29\" class=\"edge\">\n<title>8&#45;&gt;23</title>\n<path fill=\"none\" stroke=\"black\" d=\"M1408,-504.88C1408,-494.33 1408,-482.6 1408,-471.85\"/>\n<polygon fill=\"black\" stroke=\"black\" points=\"1411.5,-471.52 1408,-461.52 1404.5,-471.52 1411.5,-471.52\"/>\n</g>\n<!-- 24 -->\n<g id=\"node31\" class=\"node\">\n<title>24</title>\n<path fill=\"#e58139\" stroke=\"black\" d=\"M1618,-461.5C1618,-461.5 1506,-461.5 1506,-461.5 1500,-461.5 1494,-455.5 1494,-449.5 1494,-449.5 1494,-420.5 1494,-420.5 1494,-414.5 1500,-408.5 1506,-408.5 1506,-408.5 1618,-408.5 1618,-408.5 1624,-408.5 1630,-414.5 1630,-420.5 1630,-420.5 1630,-449.5 1630,-449.5 1630,-455.5 1624,-461.5 1618,-461.5\"/>\n<text text-anchor=\"start\" x=\"1502\" y=\"-446.3\" font-family=\"Helvetica,sans-Serif\" font-size=\"14.00\">squared_error = 0.0</text>\n<text text-anchor=\"start\" x=\"1509.5\" y=\"-431.3\" font-family=\"Helvetica,sans-Serif\" font-size=\"14.00\">samples = 85035</text>\n<text text-anchor=\"start\" x=\"1524.5\" y=\"-416.3\" font-family=\"Helvetica,sans-Serif\" font-size=\"14.00\">value = 0.75</text>\n</g>\n<!-- 8&#45;&gt;24 -->\n<g id=\"edge30\" class=\"edge\">\n<title>8&#45;&gt;24</title>\n<path fill=\"none\" stroke=\"black\" d=\"M1458,-504.88C1476.26,-492.79 1496.85,-479.15 1514.86,-467.22\"/>\n<polygon fill=\"black\" stroke=\"black\" points=\"1517.07,-469.96 1523.47,-461.52 1513.2,-464.12 1517.07,-469.96\"/>\n</g>\n</g>\n</svg>\n",
            "text/plain": [
              "<graphviz.sources.Source at 0x7cde6f599dd0>"
            ]
          },
          "metadata": {},
          "execution_count": 31
        }
      ]
    },
    {
      "cell_type": "code",
      "source": [
        "y_pred = model.predict(x_val)\n",
        "rmsle = root_mean_squared_log_error(y_val, y_pred)\n",
        "print(f\"RMSLE: {rmsle}\")"
      ],
      "metadata": {
        "colab": {
          "base_uri": "https://localhost:8080/"
        },
        "id": "kCBGQFfie3uJ",
        "outputId": "af1f4d40-1c57-40e7-f9cc-e72b9de38f25"
      },
      "execution_count": 32,
      "outputs": [
        {
          "output_type": "stream",
          "name": "stdout",
          "text": [
            "RMSLE: 0.15705576256151574\n"
          ]
        }
      ]
    },
    {
      "cell_type": "markdown",
      "source": [
        "RMSLE: 0.157 is the lowest score yet."
      ],
      "metadata": {
        "id": "yk1ZFcLGfIlD"
      }
    },
    {
      "cell_type": "code",
      "source": [
        "importances = model.feature_importances_\n",
        "feature_importance_df = pd.DataFrame({'Feature': x_train.columns, 'Importance': importances})\n",
        "feature_importance_df = feature_importance_df.sort_values(by='Importance', ascending=False)\n",
        "print(feature_importance_df)"
      ],
      "metadata": {
        "colab": {
          "base_uri": "https://localhost:8080/"
        },
        "id": "Sup-F0RBfQ5w",
        "outputId": "dab103be-9497-4bc7-b01f-9aa39d812964"
      },
      "execution_count": 35,
      "outputs": [
        {
          "output_type": "stream",
          "name": "stdout",
          "text": [
            "           Feature  Importance\n",
            "0      onpromotion    0.959233\n",
            "3      day_of_year    0.035050\n",
            "4  quarter_of_year    0.003690\n",
            "1            month    0.001527\n",
            "2     day_of_month    0.000501\n"
          ]
        }
      ]
    },
    {
      "cell_type": "code",
      "source": [
        "model.get_n_leaves(), len(x_train)"
      ],
      "metadata": {
        "colab": {
          "base_uri": "https://localhost:8080/"
        },
        "id": "8jheDfPFffk3",
        "outputId": "c0c8064a-f386-4088-a9db-490381361316"
      },
      "execution_count": 36,
      "outputs": [
        {
          "output_type": "execute_result",
          "data": {
            "text/plain": [
              "(16, 2640924)"
            ]
          },
          "metadata": {},
          "execution_count": 36
        }
      ]
    },
    {
      "cell_type": "markdown",
      "source": [
        "### Hypothesis: Need to find the optimal size"
      ],
      "metadata": {
        "id": "3EEH9qCni7mb"
      }
    },
    {
      "cell_type": "markdown",
      "source": [
        "16 nodes got us to RMSLE: 0.15, so how about 32."
      ],
      "metadata": {
        "id": "hT422fOJjY69"
      }
    },
    {
      "cell_type": "code",
      "source": [
        "dep_var = \"sales\"\n",
        "val_df[dep_var] = np.log1p(val_df[dep_var])\n",
        "train_df[dep_var] = np.log1p(train_df[dep_var])\n",
        "\n",
        "y_train = train_df[dep_var]\n",
        "x_train = train_df.drop(columns=[dep_var, \"id\", \"date\", \"family\", \"year\", \"store_nbr\", \"date_event\", \"date_event_locale\", \"day_of_week\", \"is_weekend\"])\n",
        "indep_vars = x_train.columns.tolist()\n",
        "\n",
        "y_val = val_df[dep_var]\n",
        "x_val = val_df.drop(columns=[dep_var, \"id\", \"date\", \"family\", \"year\", \"store_nbr\", \"date_event\", \"date_event_locale\", \"day_of_week\", \"is_weekend\"])\n",
        "\n",
        "model = DecisionTreeRegressor(max_leaf_nodes=32)\n",
        "model.fit(x_train, y_train)\n",
        "\n",
        "y_pred = model.predict(x_val)\n",
        "rmsle = root_mean_squared_log_error(y_val, y_pred)\n",
        "print(f\"RMSLE: {rmsle}\")\n"
      ],
      "metadata": {
        "colab": {
          "base_uri": "https://localhost:8080/"
        },
        "id": "Rw7R5NJjjAoo",
        "outputId": "13de7e71-6ec9-43a6-fcb8-02648e1c8f0d"
      },
      "execution_count": 37,
      "outputs": [
        {
          "output_type": "stream",
          "name": "stderr",
          "text": [
            "<ipython-input-37-a2f699c2e332>:2: SettingWithCopyWarning: \n",
            "A value is trying to be set on a copy of a slice from a DataFrame.\n",
            "Try using .loc[row_indexer,col_indexer] = value instead\n",
            "\n",
            "See the caveats in the documentation: https://pandas.pydata.org/pandas-docs/stable/user_guide/indexing.html#returning-a-view-versus-a-copy\n",
            "  val_df[dep_var] = np.log1p(val_df[dep_var])\n",
            "<ipython-input-37-a2f699c2e332>:3: SettingWithCopyWarning: \n",
            "A value is trying to be set on a copy of a slice from a DataFrame.\n",
            "Try using .loc[row_indexer,col_indexer] = value instead\n",
            "\n",
            "See the caveats in the documentation: https://pandas.pydata.org/pandas-docs/stable/user_guide/indexing.html#returning-a-view-versus-a-copy\n",
            "  train_df[dep_var] = np.log1p(train_df[dep_var])\n"
          ]
        },
        {
          "output_type": "stream",
          "name": "stdout",
          "text": [
            "RMSLE: 0.12796273193840704\n"
          ]
        }
      ]
    },
    {
      "cell_type": "markdown",
      "source": [
        "32 nodes gets us RMSLE 0.12. How about 64."
      ],
      "metadata": {
        "id": "V_jKVwEVjiXn"
      }
    },
    {
      "cell_type": "code",
      "source": [
        "dep_var = \"sales\"\n",
        "val_df[dep_var] = np.log1p(val_df[dep_var])\n",
        "train_df[dep_var] = np.log1p(train_df[dep_var])\n",
        "\n",
        "y_train = train_df[dep_var]\n",
        "x_train = train_df.drop(columns=[dep_var, \"id\", \"date\", \"family\", \"year\", \"store_nbr\", \"date_event\", \"date_event_locale\", \"day_of_week\", \"is_weekend\"])\n",
        "indep_vars = x_train.columns.tolist()\n",
        "\n",
        "y_val = val_df[dep_var]\n",
        "x_val = val_df.drop(columns=[dep_var, \"id\", \"date\", \"family\", \"year\", \"store_nbr\", \"date_event\", \"date_event_locale\", \"day_of_week\", \"is_weekend\"])\n",
        "\n",
        "model = DecisionTreeRegressor(max_leaf_nodes=64)\n",
        "model.fit(x_train, y_train)\n",
        "\n",
        "y_pred = model.predict(x_val)\n",
        "rmsle = root_mean_squared_log_error(y_val, y_pred)\n",
        "print(f\"RMSLE: {rmsle}\")"
      ],
      "metadata": {
        "colab": {
          "base_uri": "https://localhost:8080/"
        },
        "id": "xsNLQCAWjTzl",
        "outputId": "5cf7b133-420b-4405-bd03-b437c039eb15"
      },
      "execution_count": 39,
      "outputs": [
        {
          "output_type": "stream",
          "name": "stderr",
          "text": [
            "<ipython-input-39-23710f9b1273>:2: SettingWithCopyWarning: \n",
            "A value is trying to be set on a copy of a slice from a DataFrame.\n",
            "Try using .loc[row_indexer,col_indexer] = value instead\n",
            "\n",
            "See the caveats in the documentation: https://pandas.pydata.org/pandas-docs/stable/user_guide/indexing.html#returning-a-view-versus-a-copy\n",
            "  val_df[dep_var] = np.log1p(val_df[dep_var])\n",
            "<ipython-input-39-23710f9b1273>:3: SettingWithCopyWarning: \n",
            "A value is trying to be set on a copy of a slice from a DataFrame.\n",
            "Try using .loc[row_indexer,col_indexer] = value instead\n",
            "\n",
            "See the caveats in the documentation: https://pandas.pydata.org/pandas-docs/stable/user_guide/indexing.html#returning-a-view-versus-a-copy\n",
            "  train_df[dep_var] = np.log1p(train_df[dep_var])\n"
          ]
        },
        {
          "output_type": "stream",
          "name": "stdout",
          "text": [
            "RMSLE: 0.09376717695546662\n"
          ]
        }
      ]
    },
    {
      "cell_type": "markdown",
      "source": [
        "64 nodes gets us RMSLE 0.093. How about 128"
      ],
      "metadata": {
        "id": "LdHsSfMDj0OH"
      }
    },
    {
      "cell_type": "code",
      "source": [
        "dep_var = \"sales\"\n",
        "val_df[dep_var] = np.log1p(val_df[dep_var])\n",
        "train_df[dep_var] = np.log1p(train_df[dep_var])\n",
        "\n",
        "y_train = train_df[dep_var]\n",
        "x_train = train_df.drop(columns=[dep_var, \"id\", \"date\", \"family\", \"year\", \"store_nbr\", \"date_event\", \"date_event_locale\", \"day_of_week\", \"is_weekend\"])\n",
        "indep_vars = x_train.columns.tolist()\n",
        "\n",
        "y_val = val_df[dep_var]\n",
        "x_val = val_df.drop(columns=[dep_var, \"id\", \"date\", \"family\", \"year\", \"store_nbr\", \"date_event\", \"date_event_locale\", \"day_of_week\", \"is_weekend\"])\n",
        "\n",
        "model = DecisionTreeRegressor(max_leaf_nodes=128)\n",
        "model.fit(x_train, y_train)\n",
        "\n",
        "y_pred = model.predict(x_val)\n",
        "rmsle = root_mean_squared_log_error(y_val, y_pred)\n",
        "print(f\"RMSLE: {rmsle}\")"
      ],
      "metadata": {
        "colab": {
          "base_uri": "https://localhost:8080/"
        },
        "id": "taI3IiPOj5b1",
        "outputId": "4af42242-9fbc-40f4-8f4c-b897d54384f2"
      },
      "execution_count": 40,
      "outputs": [
        {
          "output_type": "stream",
          "name": "stderr",
          "text": [
            "<ipython-input-40-7deb5f9cb915>:2: SettingWithCopyWarning: \n",
            "A value is trying to be set on a copy of a slice from a DataFrame.\n",
            "Try using .loc[row_indexer,col_indexer] = value instead\n",
            "\n",
            "See the caveats in the documentation: https://pandas.pydata.org/pandas-docs/stable/user_guide/indexing.html#returning-a-view-versus-a-copy\n",
            "  val_df[dep_var] = np.log1p(val_df[dep_var])\n",
            "<ipython-input-40-7deb5f9cb915>:3: SettingWithCopyWarning: \n",
            "A value is trying to be set on a copy of a slice from a DataFrame.\n",
            "Try using .loc[row_indexer,col_indexer] = value instead\n",
            "\n",
            "See the caveats in the documentation: https://pandas.pydata.org/pandas-docs/stable/user_guide/indexing.html#returning-a-view-versus-a-copy\n",
            "  train_df[dep_var] = np.log1p(train_df[dep_var])\n"
          ]
        },
        {
          "output_type": "stream",
          "name": "stdout",
          "text": [
            "RMSLE: 0.08303374256575342\n"
          ]
        }
      ]
    },
    {
      "cell_type": "markdown",
      "source": [
        "128 nodes gets RMSLE: 0.083. Going to stop here because of the fear of overfitting. Submitting to kaggle moves our score from a 4.22 to a 4.16. Mehhh"
      ],
      "metadata": {
        "id": "QQkvS8YTkAxR"
      }
    },
    {
      "cell_type": "code",
      "source": [
        "test_df = pd.read_csv(f\"{COMPETITION_NAME}/test.csv\", low_memory=False)\n",
        "\n",
        "# Add event data\n",
        "prepped_test_df = pd.merge(test_df, holiday_df[[\"date\",\"type\", \"locale_name\"]], on=\"date\", how=\"left\")\n",
        "prepped_test_df[\"type\"] = prepped_test_df[\"type\"].fillna(\"Regular\")\n",
        "prepped_test_df[\"locale_name\"] = prepped_test_df[\"locale_name\"].fillna(\"Regular\")\n",
        "prepped_test_df = prepped_test_df.rename(columns={\"type\": \"date_event\", \"locale_name\": \"date_event_locale\"})\n",
        "\n",
        "# Datepart dates\n",
        "prepped_test_df[\"date\"] = pd.to_datetime(prepped_test_df[\"date\"])\n",
        "prepped_test_df[\"day_of_week\"] = prepped_test_df[\"date\"].dt.dayofweek\n",
        "prepped_test_df[\"month\"] = prepped_test_df[\"date\"].dt.month\n",
        "prepped_test_df[\"year\"] = prepped_test_df[\"date\"].dt.year\n",
        "prepped_test_df[\"day_of_month\"] = prepped_test_df[\"date\"].dt.day\n",
        "prepped_test_df[\"day_of_year\"] = prepped_test_df[\"date\"].dt.dayofyear\n",
        "prepped_test_df[\"quarter_of_year\"] = prepped_test_df[\"date\"].dt.quarter\n",
        "prepped_test_df[\"is_weekend\"] = prepped_test_df[\"day_of_week\"].apply(lambda x: 1 if x in [5, 6] else 0)\n",
        "\n",
        "# Encode categories\n",
        "prepped_test_df[\"date_event\"] = LabelEncoder().fit_transform(prepped_test_df[\"date_event\"])\n",
        "prepped_test_df[\"date_event_locale\"] = LabelEncoder().fit_transform(prepped_test_df[\"date_event_locale\"])\n",
        "prepped_test_df[\"family\"] = LabelEncoder().fit_transform(prepped_test_df[\"family\"])\n",
        "\n",
        "x_test = prepped_test_df.drop(columns=[\"id\", \"date\", \"family\", \"year\", \"store_nbr\", \"date_event\", \"date_event_locale\", \"day_of_week\", \"is_weekend\"])\n",
        "\n",
        "y_pred = model.predict(x_test)\n",
        "\n",
        "test_df[\"sales\"] = np.expm1(y_pred)\n",
        "sub_df = test_df[[\"id\",\"sales\"]]\n",
        "sub_df.to_csv(f'sub-sales-forcasting.csv', index=False)"
      ],
      "metadata": {
        "id": "MkA4daeNkJ2x"
      },
      "execution_count": 41,
      "outputs": []
    },
    {
      "cell_type": "markdown",
      "source": [
        "## Random Forest"
      ],
      "metadata": {
        "id": "CEJ_FW-lnn9f"
      }
    },
    {
      "cell_type": "code",
      "source": [
        "from sklearn.ensemble import RandomForestRegressor\n",
        "\n",
        "dep_var = \"sales\"\n",
        "# val_df[dep_var] = np.log1p(val_df[dep_var])\n",
        "# train_df[dep_var] = np.log1p(train_df[dep_var])\n",
        "\n",
        "y_train = train_df[dep_var]\n",
        "x_train = train_df.drop(columns=[dep_var, \"id\", \"date\", \"family\", \"year\", \"store_nbr\", \"date_event\", \"date_event_locale\", \"day_of_week\", \"is_weekend\"])\n",
        "indep_vars = x_train.columns.tolist()\n",
        "\n",
        "y_val = val_df[dep_var]\n",
        "x_val = val_df.drop(columns=[dep_var, \"id\", \"date\", \"family\", \"year\", \"store_nbr\", \"date_event\", \"date_event_locale\", \"day_of_week\", \"is_weekend\"])\n",
        "\n",
        "model = RandomForestRegressor(n_estimators=100, max_leaf_nodes=128)\n",
        "model.fit(x_train, y_train)\n",
        "\n",
        "y_pred = model.predict(x_val)\n",
        "rmsle = root_mean_squared_log_error(y_val, y_pred)\n",
        "print(f\"RMSLE: {rmsle}\")"
      ],
      "metadata": {
        "colab": {
          "base_uri": "https://localhost:8080/"
        },
        "id": "oUvDe37Qnprz",
        "outputId": "ec49170b-21e4-4a86-9030-227dc3fcc17c"
      },
      "execution_count": 42,
      "outputs": [
        {
          "output_type": "stream",
          "name": "stderr",
          "text": [
            "<ipython-input-42-c250553b241b>:4: SettingWithCopyWarning: \n",
            "A value is trying to be set on a copy of a slice from a DataFrame.\n",
            "Try using .loc[row_indexer,col_indexer] = value instead\n",
            "\n",
            "See the caveats in the documentation: https://pandas.pydata.org/pandas-docs/stable/user_guide/indexing.html#returning-a-view-versus-a-copy\n",
            "  val_df[dep_var] = np.log1p(val_df[dep_var])\n",
            "<ipython-input-42-c250553b241b>:5: SettingWithCopyWarning: \n",
            "A value is trying to be set on a copy of a slice from a DataFrame.\n",
            "Try using .loc[row_indexer,col_indexer] = value instead\n",
            "\n",
            "See the caveats in the documentation: https://pandas.pydata.org/pandas-docs/stable/user_guide/indexing.html#returning-a-view-versus-a-copy\n",
            "  train_df[dep_var] = np.log1p(train_df[dep_var])\n"
          ]
        },
        {
          "output_type": "stream",
          "name": "stdout",
          "text": [
            "RMSLE: 0.07426137513546269\n"
          ]
        }
      ]
    },
    {
      "cell_type": "markdown",
      "source": [
        "That config dropped our RMSLE from 0.08 to 0.074, not bad nor great. Going to ramp it up in the name of science."
      ],
      "metadata": {
        "id": "LloLwdisqf3G"
      }
    },
    {
      "cell_type": "code",
      "source": [
        "from sklearn.ensemble import RandomForestRegressor\n",
        "\n",
        "dep_var = \"sales\"\n",
        "val_df[dep_var] = np.log1p(val_df[dep_var])\n",
        "train_df[dep_var] = np.log1p(train_df[dep_var])\n",
        "\n",
        "y_train = train_df[dep_var]\n",
        "x_train = train_df.drop(columns=[dep_var, \"id\", \"date\", \"family\", \"year\", \"store_nbr\", \"date_event\", \"date_event_locale\", \"day_of_week\", \"is_weekend\"])\n",
        "indep_vars = x_train.columns.tolist()\n",
        "\n",
        "y_val = val_df[dep_var]\n",
        "x_val = val_df.drop(columns=[dep_var, \"id\", \"date\", \"family\", \"year\", \"store_nbr\", \"date_event\", \"date_event_locale\", \"day_of_week\", \"is_weekend\"])\n",
        "\n",
        "model = RandomForestRegressor(\n",
        "    n_estimators=200,          # Increased number of trees\n",
        "    max_depth=20,              # Increased maximum depth\n",
        "    min_samples_split=5,       # Minimum number of samples required to split an internal node\n",
        "    min_samples_leaf=2,        # Minimum number of samples required to be at a leaf node\n",
        "    max_features='sqrt',       # Number of features to consider when looking for the best split\n",
        "    bootstrap=True,            # Whether bootstrap samples are used when building trees\n",
        "    max_leaf_nodes=256         # Increased maximum number of leaf nodes\n",
        ")\n",
        "model.fit(x_train, y_train)\n",
        "\n",
        "y_pred = model.predict(x_val)\n",
        "rmsle = root_mean_squared_log_error(y_val, y_pred)\n",
        "print(f\"RMSLE: {rmsle}\")"
      ],
      "metadata": {
        "colab": {
          "base_uri": "https://localhost:8080/"
        },
        "id": "Luz1xVeNoSCb",
        "outputId": "1197378f-d45a-40e5-cb5d-8cbe31b67009"
      },
      "execution_count": 51,
      "outputs": [
        {
          "output_type": "stream",
          "name": "stderr",
          "text": [
            "<ipython-input-51-568991b39d95>:4: SettingWithCopyWarning: \n",
            "A value is trying to be set on a copy of a slice from a DataFrame.\n",
            "Try using .loc[row_indexer,col_indexer] = value instead\n",
            "\n",
            "See the caveats in the documentation: https://pandas.pydata.org/pandas-docs/stable/user_guide/indexing.html#returning-a-view-versus-a-copy\n",
            "  val_df[dep_var] = np.log1p(val_df[dep_var])\n",
            "<ipython-input-51-568991b39d95>:5: SettingWithCopyWarning: \n",
            "A value is trying to be set on a copy of a slice from a DataFrame.\n",
            "Try using .loc[row_indexer,col_indexer] = value instead\n",
            "\n",
            "See the caveats in the documentation: https://pandas.pydata.org/pandas-docs/stable/user_guide/indexing.html#returning-a-view-versus-a-copy\n",
            "  train_df[dep_var] = np.log1p(train_df[dep_var])\n"
          ]
        },
        {
          "output_type": "stream",
          "name": "stdout",
          "text": [
            "RMSLE: 0.5635257383998276\n"
          ]
        }
      ]
    },
    {
      "cell_type": "code",
      "source": [
        "importances = model.feature_importances_\n",
        "feature_importance_df = pd.DataFrame({'Feature': x_train.columns, 'Importance': importances})\n",
        "feature_importance_df = feature_importance_df.sort_values(by='Importance', ascending=False)\n",
        "print(feature_importance_df)"
      ],
      "metadata": {
        "colab": {
          "base_uri": "https://localhost:8080/"
        },
        "id": "vSGjfGcY0cun",
        "outputId": "2071f761-4cfd-4c6f-af8b-34856b82a5f2"
      },
      "execution_count": 52,
      "outputs": [
        {
          "output_type": "stream",
          "name": "stdout",
          "text": [
            "           Feature  Importance\n",
            "0      onpromotion    0.970248\n",
            "3      day_of_year    0.016776\n",
            "1            month    0.006252\n",
            "2     day_of_month    0.003502\n",
            "4  quarter_of_year    0.003223\n"
          ]
        }
      ]
    },
    {
      "cell_type": "markdown",
      "source": [
        "Not a huge leap, 0.074 to 0.0672. Let's submit to Kaggle"
      ],
      "metadata": {
        "id": "aY1cfLfNuxkz"
      }
    },
    {
      "cell_type": "code",
      "source": [
        "test_df = pd.read_csv(f\"{COMPETITION_NAME}/test.csv\", low_memory=False)\n",
        "\n",
        "# Add event data\n",
        "prepped_test_df = pd.merge(test_df, holiday_df[[\"date\",\"type\", \"locale_name\"]], on=\"date\", how=\"left\")\n",
        "prepped_test_df[\"type\"] = prepped_test_df[\"type\"].fillna(\"Regular\")\n",
        "prepped_test_df[\"locale_name\"] = prepped_test_df[\"locale_name\"].fillna(\"Regular\")\n",
        "prepped_test_df = prepped_test_df.rename(columns={\"type\": \"date_event\", \"locale_name\": \"date_event_locale\"})\n",
        "\n",
        "# Datepart dates\n",
        "prepped_test_df[\"date\"] = pd.to_datetime(prepped_test_df[\"date\"])\n",
        "prepped_test_df[\"day_of_week\"] = prepped_test_df[\"date\"].dt.dayofweek\n",
        "prepped_test_df[\"month\"] = prepped_test_df[\"date\"].dt.month\n",
        "prepped_test_df[\"year\"] = prepped_test_df[\"date\"].dt.year\n",
        "prepped_test_df[\"day_of_month\"] = prepped_test_df[\"date\"].dt.day\n",
        "prepped_test_df[\"day_of_year\"] = prepped_test_df[\"date\"].dt.dayofyear\n",
        "prepped_test_df[\"quarter_of_year\"] = prepped_test_df[\"date\"].dt.quarter\n",
        "prepped_test_df[\"is_weekend\"] = prepped_test_df[\"day_of_week\"].apply(lambda x: 1 if x in [5, 6] else 0)\n",
        "\n",
        "# Encode categories\n",
        "prepped_test_df[\"date_event\"] = LabelEncoder().fit_transform(prepped_test_df[\"date_event\"])\n",
        "prepped_test_df[\"date_event_locale\"] = LabelEncoder().fit_transform(prepped_test_df[\"date_event_locale\"])\n",
        "prepped_test_df[\"family\"] = LabelEncoder().fit_transform(prepped_test_df[\"family\"])\n",
        "\n",
        "x_test = prepped_test_df.drop(columns=[\"id\", \"date\", \"family\", \"year\", \"store_nbr\", \"date_event\", \"date_event_locale\", \"day_of_week\", \"is_weekend\"])\n",
        "\n",
        "y_pred = model.predict(x_test)\n",
        "\n",
        "test_df[\"sales\"] = y_pred\n",
        "sub_df = test_df[[\"id\",\"sales\"]]\n",
        "sub_df.to_csv(f'sub-sales-forcasting-rf.csv', index=False)"
      ],
      "metadata": {
        "id": "YIySkxKxu7Gr"
      },
      "execution_count": 47,
      "outputs": []
    },
    {
      "cell_type": "markdown",
      "source": [
        "Not great. Another 4.2 score. So it seems there needs to be more work in prepping the data."
      ],
      "metadata": {
        "id": "HxL6Pb7EvWl8"
      }
    },
    {
      "cell_type": "code",
      "source": [],
      "metadata": {
        "id": "03VX1YoCvfKm"
      },
      "execution_count": null,
      "outputs": []
    }
  ]
}